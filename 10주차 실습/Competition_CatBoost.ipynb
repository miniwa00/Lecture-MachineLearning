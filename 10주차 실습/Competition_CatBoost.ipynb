{
 "cells": [
  {
   "cell_type": "markdown",
   "metadata": {},
   "source": [
    "<font color=\"#CC3D3D\"><p>\n",
    "# [Competition] Building a `CatBoost` Model with `Pipeline`"
   ]
  },
  {
   "cell_type": "markdown",
   "metadata": {},
   "source": [
    "<font color=\"blue\"><p>\n",
    "#### CatBoost 모형 구축절차\n",
    "1. 수치형 피처\n",
    " - 결측값처리: SimpleImputer(strategy=`???`)\n",
    " - 이상값처리: FunctionTransformer((remove_outlier, kw_args={'q':`???`})))\n",
    " - 스케일링: PowerTransformer()\n",
    "2. 범주형 피처\n",
    " - 결측값처리: SimpleImputer(strategy=\"most_frequent\")\n",
    " - 인코딩: OrdinalEncoder(handle_unknown='use_encoded_value', unknown_value=99999, dtype=np.object)\n",
    "3. 공통\n",
    " - Feature Selection: SelectPercentile(percentile=`???`)\n",
    " - Modeling: CatBoostRegressor() with `dealing categorical features directly and employing early stopping`\n",
    " - Hyperparametor Optimization: `None`\n",
    " - OOP Prediction   "
   ]
  },
  {
   "cell_type": "code",
   "execution_count": 3,
   "metadata": {},
   "outputs": [],
   "source": [
    "CATBOOST_VERSION = 1.0"
   ]
  },
  {
   "cell_type": "code",
   "execution_count": 4,
   "metadata": {},
   "outputs": [],
   "source": [
    "%matplotlib inline\n",
    "import warnings\n",
    "warnings.filterwarnings(\"ignore\")\n",
    "\n",
    "import pandas as pd\n",
    "import numpy as np\n",
    "import matplotlib.pyplot as plt\n",
    "import seaborn as sns\n",
    "from sklearn.pipeline import Pipeline\n",
    "from sklearn.compose import ColumnTransformer\n",
    "from sklearn.preprocessing import FunctionTransformer\n",
    "from sklearn.base import BaseEstimator, TransformerMixin\n",
    "from sklearn.impute import SimpleImputer\n",
    "from sklearn.preprocessing import PowerTransformer \n",
    "from sklearn.preprocessing import OrdinalEncoder\n",
    "from sklearn.feature_selection import SelectPercentile\n",
    "from sklearn.model_selection import train_test_split, KFold\n",
    "from sklearn.metrics import mean_squared_error\n",
    "from sklearn import set_config\n",
    "from catboost import CatBoostRegressor"
   ]
  },
  {
   "cell_type": "markdown",
   "metadata": {},
   "source": [
    "#### Load data"
   ]
  },
  {
   "cell_type": "code",
   "execution_count": 3,
   "metadata": {},
   "outputs": [],
   "source": [
    "X_train = pd.read_csv('X_train.csv', encoding='cp949').drop(columns='ID')\n",
    "y_train = pd.read_csv('y_train.csv', encoding='cp949').Salary\n",
    "\n",
    "X_test = pd.read_csv('X_test.csv', encoding='cp949')\n",
    "test_id = X_test.ID\n",
    "X_test = X_test.drop(columns='ID')"
   ]
  },
  {
   "cell_type": "code",
   "execution_count": 4,
   "metadata": {},
   "outputs": [
    {
     "name": "stdout",
     "output_type": "stream",
     "text": [
      "<class 'pandas.core.frame.DataFrame'>\n",
      "RangeIndex: 16570 entries, 0 to 16569\n",
      "Data columns (total 11 columns):\n",
      " #   Column  Non-Null Count  Dtype  \n",
      "---  ------  --------------  -----  \n",
      " 0   직종      16570 non-null  object \n",
      " 1   세부직종    16570 non-null  object \n",
      " 2   직무태그    14055 non-null  object \n",
      " 3   근무경력    16570 non-null  object \n",
      " 4   근무형태    6661 non-null   object \n",
      " 5   근무지역    16570 non-null  object \n",
      " 6   출신대학    16570 non-null  object \n",
      " 7   대학전공    16570 non-null  object \n",
      " 8   어학시험    4988 non-null   object \n",
      " 9   자격증     16570 non-null  object \n",
      " 10  대학성적    14600 non-null  float64\n",
      "dtypes: float64(1), object(10)\n",
      "memory usage: 1.4+ MB\n"
     ]
    }
   ],
   "source": [
    "X_train.info()"
   ]
  },
  {
   "cell_type": "code",
   "execution_count": 5,
   "metadata": {},
   "outputs": [
    {
     "data": {
      "text/html": [
       "<div>\n",
       "<style scoped>\n",
       "    .dataframe tbody tr th:only-of-type {\n",
       "        vertical-align: middle;\n",
       "    }\n",
       "\n",
       "    .dataframe tbody tr th {\n",
       "        vertical-align: top;\n",
       "    }\n",
       "\n",
       "    .dataframe thead th {\n",
       "        text-align: right;\n",
       "    }\n",
       "</style>\n",
       "<table border=\"1\" class=\"dataframe\">\n",
       "  <thead>\n",
       "    <tr style=\"text-align: right;\">\n",
       "      <th></th>\n",
       "      <th>직종</th>\n",
       "      <th>세부직종</th>\n",
       "      <th>직무태그</th>\n",
       "      <th>근무경력</th>\n",
       "      <th>근무형태</th>\n",
       "      <th>근무지역</th>\n",
       "      <th>출신대학</th>\n",
       "      <th>대학전공</th>\n",
       "      <th>어학시험</th>\n",
       "      <th>자격증</th>\n",
       "      <th>대학성적</th>\n",
       "    </tr>\n",
       "  </thead>\n",
       "  <tbody>\n",
       "    <tr>\n",
       "      <th>0</th>\n",
       "      <td>문화·예술·신문·방송</td>\n",
       "      <td>영상·음향·사진·카메라</td>\n",
       "      <td>취재기자, 편집 기사, 유아 사이트 기획, 시나리오 작성</td>\n",
       "      <td>0개월</td>\n",
       "      <td>NaN</td>\n",
       "      <td>서울,경기,서울</td>\n",
       "      <td>성균관대학교</td>\n",
       "      <td>국문</td>\n",
       "      <td>NaN</td>\n",
       "      <td>無</td>\n",
       "      <td>70.0</td>\n",
       "    </tr>\n",
       "    <tr>\n",
       "      <th>1</th>\n",
       "      <td>경영·기획·회계·사무</td>\n",
       "      <td>사무·총무·법무</td>\n",
       "      <td>NaN</td>\n",
       "      <td>2년 11개월</td>\n",
       "      <td>정규직</td>\n",
       "      <td>부산,서울,일본</td>\n",
       "      <td>신라대학교</td>\n",
       "      <td>관광경영</td>\n",
       "      <td>JLPT</td>\n",
       "      <td>無</td>\n",
       "      <td>NaN</td>\n",
       "    </tr>\n",
       "    <tr>\n",
       "      <th>2</th>\n",
       "      <td>IT·게임</td>\n",
       "      <td>하드웨어설계·개발·관리</td>\n",
       "      <td>하드웨어 , 무선통신 , MICOM , ASM , RF , CDMA , Firm W...</td>\n",
       "      <td>0개월</td>\n",
       "      <td>NaN</td>\n",
       "      <td>서울,경기,</td>\n",
       "      <td>수원대학교</td>\n",
       "      <td>정보통신공</td>\n",
       "      <td>NaN</td>\n",
       "      <td>有</td>\n",
       "      <td>60.0</td>\n",
       "    </tr>\n",
       "    <tr>\n",
       "      <th>3</th>\n",
       "      <td>영업·판매·TM</td>\n",
       "      <td>기술영업</td>\n",
       "      <td>반도체</td>\n",
       "      <td>1년 0개월</td>\n",
       "      <td>정규직</td>\n",
       "      <td>경기,서울,충북</td>\n",
       "      <td>수원대학교</td>\n",
       "      <td>정보통신</td>\n",
       "      <td>NaN</td>\n",
       "      <td>有</td>\n",
       "      <td>70.0</td>\n",
       "    </tr>\n",
       "    <tr>\n",
       "      <th>4</th>\n",
       "      <td>기술·과학·산업</td>\n",
       "      <td>기타 기술·과학·산업</td>\n",
       "      <td>기술직</td>\n",
       "      <td>0개월</td>\n",
       "      <td>NaN</td>\n",
       "      <td>전국,전국,전국</td>\n",
       "      <td>한밭대학교</td>\n",
       "      <td>화학공학과</td>\n",
       "      <td>NaN</td>\n",
       "      <td>無</td>\n",
       "      <td>70.0</td>\n",
       "    </tr>\n",
       "  </tbody>\n",
       "</table>\n",
       "</div>"
      ],
      "text/plain": [
       "            직종          세부직종  \\\n",
       "0  문화·예술·신문·방송  영상·음향·사진·카메라   \n",
       "1  경영·기획·회계·사무      사무·총무·법무   \n",
       "2        IT·게임  하드웨어설계·개발·관리   \n",
       "3     영업·판매·TM          기술영업   \n",
       "4     기술·과학·산업   기타 기술·과학·산업   \n",
       "\n",
       "                                                직무태그     근무경력 근무형태      근무지역  \\\n",
       "0                    취재기자, 편집 기사, 유아 사이트 기획, 시나리오 작성      0개월  NaN  서울,경기,서울   \n",
       "1                                                NaN  2년 11개월  정규직  부산,서울,일본   \n",
       "2  하드웨어 , 무선통신 , MICOM , ASM , RF , CDMA , Firm W...      0개월  NaN    서울,경기,   \n",
       "3                                                반도체   1년 0개월  정규직  경기,서울,충북   \n",
       "4                                                기술직      0개월  NaN  전국,전국,전국   \n",
       "\n",
       "     출신대학   대학전공  어학시험 자격증  대학성적  \n",
       "0  성균관대학교     국문   NaN   無  70.0  \n",
       "1   신라대학교   관광경영  JLPT   無   NaN  \n",
       "2   수원대학교  정보통신공   NaN   有  60.0  \n",
       "3   수원대학교   정보통신   NaN   有  70.0  \n",
       "4   한밭대학교  화학공학과   NaN   無  70.0  "
      ]
     },
     "execution_count": 5,
     "metadata": {},
     "output_type": "execute_result"
    }
   ],
   "source": [
    "X_train.head()"
   ]
  },
  {
   "cell_type": "code",
   "execution_count": 6,
   "metadata": {},
   "outputs": [
    {
     "data": {
      "image/png": "[encoded data removed]",
      "text/plain": [
       "<Figure size 432x288 with 1 Axes>"
      ]
     },
     "metadata": {
      "needs_background": "light"
     },
     "output_type": "display_data"
    }
   ],
   "source": [
    "sns.distplot(y_train); plt.show() "
   ]
  },
  {
   "cell_type": "markdown",
   "metadata": {},
   "source": [
    "#### 수치형/범주형 피처 분리 & 학습/평가 데이터 분할"
   ]
  },
  {
   "cell_type": "code",
   "execution_count": 7,
   "metadata": {},
   "outputs": [],
   "source": [
    "numeric_features = ['대학성적']\n",
    "categorical_features = ['직종','세부직종','직무태그','근무경력','근무형태','근무지역','출신대학','대학전공','어학시험','자격증']\n",
    "\n",
    "X_train = X_train[numeric_features+categorical_features]  # 순서 주의!!!\n",
    "X_test = X_test[numeric_features+categorical_features]"
   ]
  },
  {
   "cell_type": "markdown",
   "metadata": {},
   "source": [
    "####  파이프라인 구축\n",
    "- 단계1) LGBM에서 튜닝한 값으로 전처리 파라미터 설정 (전처리 파이프라인으로만 구성)"
   ]
  },
  {
   "cell_type": "code",
   "execution_count": 8,
   "metadata": {
    "collapsed": true
   },
   "outputs": [
    {
     "data": {
      "text/html": [
       "<style>#sk-87d80894-fb3e-4ebd-ac83-f6758f73afa0 {color: black;background-color: white;}#sk-87d80894-fb3e-4ebd-ac83-f6758f73afa0 pre{padding: 0;}#sk-87d80894-fb3e-4ebd-ac83-f6758f73afa0 div.sk-toggleable {background-color: white;}#sk-87d80894-fb3e-4ebd-ac83-f6758f73afa0 label.sk-toggleable__label {cursor: pointer;display: block;width: 100%;margin-bottom: 0;padding: 0.3em;box-sizing: border-box;text-align: center;}#sk-87d80894-fb3e-4ebd-ac83-f6758f73afa0 label.sk-toggleable__label-arrow:before {content: \"▸\";float: left;margin-right: 0.25em;color: #696969;}#sk-87d80894-fb3e-4ebd-ac83-f6758f73afa0 label.sk-toggleable__label-arrow:hover:before {color: black;}#sk-87d80894-fb3e-4ebd-ac83-f6758f73afa0 div.sk-estimator:hover label.sk-toggleable__label-arrow:before {color: black;}#sk-87d80894-fb3e-4ebd-ac83-f6758f73afa0 div.sk-toggleable__content {max-height: 0;max-width: 0;overflow: hidden;text-align: left;background-color: #f0f8ff;}#sk-87d80894-fb3e-4ebd-ac83-f6758f73afa0 div.sk-toggleable__content pre {margin: 0.2em;color: black;border-radius: 0.25em;background-color: #f0f8ff;}#sk-87d80894-fb3e-4ebd-ac83-f6758f73afa0 input.sk-toggleable__control:checked~div.sk-toggleable__content {max-height: 200px;max-width: 100%;overflow: auto;}#sk-87d80894-fb3e-4ebd-ac83-f6758f73afa0 input.sk-toggleable__control:checked~label.sk-toggleable__label-arrow:before {content: \"▾\";}#sk-87d80894-fb3e-4ebd-ac83-f6758f73afa0 div.sk-estimator input.sk-toggleable__control:checked~label.sk-toggleable__label {background-color: #d4ebff;}#sk-87d80894-fb3e-4ebd-ac83-f6758f73afa0 div.sk-label input.sk-toggleable__control:checked~label.sk-toggleable__label {background-color: #d4ebff;}#sk-87d80894-fb3e-4ebd-ac83-f6758f73afa0 input.sk-hidden--visually {border: 0;clip: rect(1px 1px 1px 1px);clip: rect(1px, 1px, 1px, 1px);height: 1px;margin: -1px;overflow: hidden;padding: 0;position: absolute;width: 1px;}#sk-87d80894-fb3e-4ebd-ac83-f6758f73afa0 div.sk-estimator {font-family: monospace;background-color: #f0f8ff;border: 1px dotted black;border-radius: 0.25em;box-sizing: border-box;margin-bottom: 0.5em;}#sk-87d80894-fb3e-4ebd-ac83-f6758f73afa0 div.sk-estimator:hover {background-color: #d4ebff;}#sk-87d80894-fb3e-4ebd-ac83-f6758f73afa0 div.sk-parallel-item::after {content: \"\";width: 100%;border-bottom: 1px solid gray;flex-grow: 1;}#sk-87d80894-fb3e-4ebd-ac83-f6758f73afa0 div.sk-label:hover label.sk-toggleable__label {background-color: #d4ebff;}#sk-87d80894-fb3e-4ebd-ac83-f6758f73afa0 div.sk-serial::before {content: \"\";position: absolute;border-left: 1px solid gray;box-sizing: border-box;top: 2em;bottom: 0;left: 50%;}#sk-87d80894-fb3e-4ebd-ac83-f6758f73afa0 div.sk-serial {display: flex;flex-direction: column;align-items: center;background-color: white;padding-right: 0.2em;padding-left: 0.2em;}#sk-87d80894-fb3e-4ebd-ac83-f6758f73afa0 div.sk-item {z-index: 1;}#sk-87d80894-fb3e-4ebd-ac83-f6758f73afa0 div.sk-parallel {display: flex;align-items: stretch;justify-content: center;background-color: white;}#sk-87d80894-fb3e-4ebd-ac83-f6758f73afa0 div.sk-parallel::before {content: \"\";position: absolute;border-left: 1px solid gray;box-sizing: border-box;top: 2em;bottom: 0;left: 50%;}#sk-87d80894-fb3e-4ebd-ac83-f6758f73afa0 div.sk-parallel-item {display: flex;flex-direction: column;position: relative;background-color: white;}#sk-87d80894-fb3e-4ebd-ac83-f6758f73afa0 div.sk-parallel-item:first-child::after {align-self: flex-end;width: 50%;}#sk-87d80894-fb3e-4ebd-ac83-f6758f73afa0 div.sk-parallel-item:last-child::after {align-self: flex-start;width: 50%;}#sk-87d80894-fb3e-4ebd-ac83-f6758f73afa0 div.sk-parallel-item:only-child::after {width: 0;}#sk-87d80894-fb3e-4ebd-ac83-f6758f73afa0 div.sk-dashed-wrapped {border: 1px dashed gray;margin: 0 0.4em 0.5em 0.4em;box-sizing: border-box;padding-bottom: 0.4em;background-color: white;position: relative;}#sk-87d80894-fb3e-4ebd-ac83-f6758f73afa0 div.sk-label label {font-family: monospace;font-weight: bold;background-color: white;display: inline-block;line-height: 1.2em;}#sk-87d80894-fb3e-4ebd-ac83-f6758f73afa0 div.sk-label-container {position: relative;z-index: 2;text-align: center;}#sk-87d80894-fb3e-4ebd-ac83-f6758f73afa0 div.sk-container {/* jupyter's `normalize.less` sets `[hidden] { display: none; }` but bootstrap.min.css set `[hidden] { display: none !important; }` so we also need the `!important` here to be able to override the default hidden behavior on the sphinx rendered scikit-learn.org. See: https://github.com/scikit-learn/scikit-learn/issues/21755 */display: inline-block !important;position: relative;}#sk-87d80894-fb3e-4ebd-ac83-f6758f73afa0 div.sk-text-repr-fallback {display: none;}</style><div id=\"sk-87d80894-fb3e-4ebd-ac83-f6758f73afa0\" class=\"sk-top-container\"><div class=\"sk-text-repr-fallback\"><pre>Pipeline(steps=[(&#x27;column&#x27;,\n",
       "                 ColumnTransformer(transformers=[(&#x27;num&#x27;,\n",
       "                                                  Pipeline(steps=[(&#x27;imputer&#x27;,\n",
       "                                                                   SimpleImputer()),\n",
       "                                                                  (&#x27;outlier&#x27;,\n",
       "                                                                   FunctionTransformer(func=&lt;function remove_outlier at 0x7f58f12df040&gt;,\n",
       "                                                                                       kw_args={&#x27;q&#x27;: 0.05})),\n",
       "                                                                  (&#x27;scaler&#x27;,\n",
       "                                                                   PowerTransformer())]),\n",
       "                                                  [&#x27;대학성적&#x27;]),\n",
       "                                                 (&#x27;cat&#x27;,\n",
       "                                                  Pipeline(steps=[(&#x27;imputer&#x27;,\n",
       "                                                                   SimpleImputer(strategy=&#x27;most_frequent&#x27;)),\n",
       "                                                                  (&#x27;encoder&#x27;,\n",
       "                                                                   OrdinalEncoder(dtype=&lt;class &#x27;object&#x27;&gt;,\n",
       "                                                                                  handle_unknown=&#x27;use_encoded_value&#x27;,\n",
       "                                                                                  unknown_value=99999))]),\n",
       "                                                  [&#x27;직종&#x27;, &#x27;세부직종&#x27;, &#x27;직무태그&#x27;, &#x27;근무경력&#x27;,\n",
       "                                                   &#x27;근무형태&#x27;, &#x27;근무지역&#x27;, &#x27;출신대학&#x27;,\n",
       "                                                   &#x27;대학전공&#x27;, &#x27;어학시험&#x27;, &#x27;자격증&#x27;])])),\n",
       "                (&#x27;selector&#x27;, SelectPercentile(percentile=100))])</pre><b>Please rerun this cell to show the HTML repr or trust the notebook.</b></div><div class=\"sk-container\" hidden><div class=\"sk-item sk-dashed-wrapped\"><div class=\"sk-label-container\"><div class=\"sk-label sk-toggleable\"><input class=\"sk-toggleable__control sk-hidden--visually\" id=\"4fbefd0e-9a37-45f7-bdf7-47f5cec77647\" type=\"checkbox\" ><label for=\"4fbefd0e-9a37-45f7-bdf7-47f5cec77647\" class=\"sk-toggleable__label sk-toggleable__label-arrow\">Pipeline</label><div class=\"sk-toggleable__content\"><pre>Pipeline(steps=[(&#x27;column&#x27;,\n",
       "                 ColumnTransformer(transformers=[(&#x27;num&#x27;,\n",
       "                                                  Pipeline(steps=[(&#x27;imputer&#x27;,\n",
       "                                                                   SimpleImputer()),\n",
       "                                                                  (&#x27;outlier&#x27;,\n",
       "                                                                   FunctionTransformer(func=&lt;function remove_outlier at 0x7f58f12df040&gt;,\n",
       "                                                                                       kw_args={&#x27;q&#x27;: 0.05})),\n",
       "                                                                  (&#x27;scaler&#x27;,\n",
       "                                                                   PowerTransformer())]),\n",
       "                                                  [&#x27;대학성적&#x27;]),\n",
       "                                                 (&#x27;cat&#x27;,\n",
       "                                                  Pipeline(steps=[(&#x27;imputer&#x27;,\n",
       "                                                                   SimpleImputer(strategy=&#x27;most_frequent&#x27;)),\n",
       "                                                                  (&#x27;encoder&#x27;,\n",
       "                                                                   OrdinalEncoder(dtype=&lt;class &#x27;object&#x27;&gt;,\n",
       "                                                                                  handle_unknown=&#x27;use_encoded_value&#x27;,\n",
       "                                                                                  unknown_value=99999))]),\n",
       "                                                  [&#x27;직종&#x27;, &#x27;세부직종&#x27;, &#x27;직무태그&#x27;, &#x27;근무경력&#x27;,\n",
       "                                                   &#x27;근무형태&#x27;, &#x27;근무지역&#x27;, &#x27;출신대학&#x27;,\n",
       "                                                   &#x27;대학전공&#x27;, &#x27;어학시험&#x27;, &#x27;자격증&#x27;])])),\n",
       "                (&#x27;selector&#x27;, SelectPercentile(percentile=100))])</pre></div></div></div><div class=\"sk-serial\"><div class=\"sk-item sk-dashed-wrapped\"><div class=\"sk-label-container\"><div class=\"sk-label sk-toggleable\"><input class=\"sk-toggleable__control sk-hidden--visually\" id=\"9529d409-7aa4-483a-8d1d-059335d49b42\" type=\"checkbox\" ><label for=\"9529d409-7aa4-483a-8d1d-059335d49b42\" class=\"sk-toggleable__label sk-toggleable__label-arrow\">column: ColumnTransformer</label><div class=\"sk-toggleable__content\"><pre>ColumnTransformer(transformers=[(&#x27;num&#x27;,\n",
       "                                 Pipeline(steps=[(&#x27;imputer&#x27;, SimpleImputer()),\n",
       "                                                 (&#x27;outlier&#x27;,\n",
       "                                                  FunctionTransformer(func=&lt;function remove_outlier at 0x7f58f12df040&gt;,\n",
       "                                                                      kw_args={&#x27;q&#x27;: 0.05})),\n",
       "                                                 (&#x27;scaler&#x27;,\n",
       "                                                  PowerTransformer())]),\n",
       "                                 [&#x27;대학성적&#x27;]),\n",
       "                                (&#x27;cat&#x27;,\n",
       "                                 Pipeline(steps=[(&#x27;imputer&#x27;,\n",
       "                                                  SimpleImputer(strategy=&#x27;most_frequent&#x27;)),\n",
       "                                                 (&#x27;encoder&#x27;,\n",
       "                                                  OrdinalEncoder(dtype=&lt;class &#x27;object&#x27;&gt;,\n",
       "                                                                 handle_unknown=&#x27;use_encoded_value&#x27;,\n",
       "                                                                 unknown_value=99999))]),\n",
       "                                 [&#x27;직종&#x27;, &#x27;세부직종&#x27;, &#x27;직무태그&#x27;, &#x27;근무경력&#x27;, &#x27;근무형태&#x27;, &#x27;근무지역&#x27;,\n",
       "                                  &#x27;출신대학&#x27;, &#x27;대학전공&#x27;, &#x27;어학시험&#x27;, &#x27;자격증&#x27;])])</pre></div></div></div><div class=\"sk-parallel\"><div class=\"sk-parallel-item\"><div class=\"sk-item\"><div class=\"sk-label-container\"><div class=\"sk-label sk-toggleable\"><input class=\"sk-toggleable__control sk-hidden--visually\" id=\"182b20fb-6cb1-4c00-adb7-073da014d2a5\" type=\"checkbox\" ><label for=\"182b20fb-6cb1-4c00-adb7-073da014d2a5\" class=\"sk-toggleable__label sk-toggleable__label-arrow\">num</label><div class=\"sk-toggleable__content\"><pre>[&#x27;대학성적&#x27;]</pre></div></div></div><div class=\"sk-serial\"><div class=\"sk-item\"><div class=\"sk-serial\"><div class=\"sk-item\"><div class=\"sk-estimator sk-toggleable\"><input class=\"sk-toggleable__control sk-hidden--visually\" id=\"17cbc418-73f2-4113-9cbf-e9f87721f658\" type=\"checkbox\" ><label for=\"17cbc418-73f2-4113-9cbf-e9f87721f658\" class=\"sk-toggleable__label sk-toggleable__label-arrow\">SimpleImputer</label><div class=\"sk-toggleable__content\"><pre>SimpleImputer()</pre></div></div></div><div class=\"sk-item\"><div class=\"sk-estimator sk-toggleable\"><input class=\"sk-toggleable__control sk-hidden--visually\" id=\"bdbd7348-4a66-4764-9166-0302c3b8ac9a\" type=\"checkbox\" ><label for=\"bdbd7348-4a66-4764-9166-0302c3b8ac9a\" class=\"sk-toggleable__label sk-toggleable__label-arrow\">FunctionTransformer</label><div class=\"sk-toggleable__content\"><pre>FunctionTransformer(func=&lt;function remove_outlier at 0x7f58f12df040&gt;,\n",
       "                    kw_args={&#x27;q&#x27;: 0.05})</pre></div></div></div><div class=\"sk-item\"><div class=\"sk-estimator sk-toggleable\"><input class=\"sk-toggleable__control sk-hidden--visually\" id=\"aa93fa2c-463a-4c47-bef4-2f0c693afc8c\" type=\"checkbox\" ><label for=\"aa93fa2c-463a-4c47-bef4-2f0c693afc8c\" class=\"sk-toggleable__label sk-toggleable__label-arrow\">PowerTransformer</label><div class=\"sk-toggleable__content\"><pre>PowerTransformer()</pre></div></div></div></div></div></div></div></div><div class=\"sk-parallel-item\"><div class=\"sk-item\"><div class=\"sk-label-container\"><div class=\"sk-label sk-toggleable\"><input class=\"sk-toggleable__control sk-hidden--visually\" id=\"e114559f-f802-4ce6-924d-75506a22bbba\" type=\"checkbox\" ><label for=\"e114559f-f802-4ce6-924d-75506a22bbba\" class=\"sk-toggleable__label sk-toggleable__label-arrow\">cat</label><div class=\"sk-toggleable__content\"><pre>[&#x27;직종&#x27;, &#x27;세부직종&#x27;, &#x27;직무태그&#x27;, &#x27;근무경력&#x27;, &#x27;근무형태&#x27;, &#x27;근무지역&#x27;, &#x27;출신대학&#x27;, &#x27;대학전공&#x27;, &#x27;어학시험&#x27;, &#x27;자격증&#x27;]</pre></div></div></div><div class=\"sk-serial\"><div class=\"sk-item\"><div class=\"sk-serial\"><div class=\"sk-item\"><div class=\"sk-estimator sk-toggleable\"><input class=\"sk-toggleable__control sk-hidden--visually\" id=\"97849415-bdfb-41c2-a30f-99ff3863026d\" type=\"checkbox\" ><label for=\"97849415-bdfb-41c2-a30f-99ff3863026d\" class=\"sk-toggleable__label sk-toggleable__label-arrow\">SimpleImputer</label><div class=\"sk-toggleable__content\"><pre>SimpleImputer(strategy=&#x27;most_frequent&#x27;)</pre></div></div></div><div class=\"sk-item\"><div class=\"sk-estimator sk-toggleable\"><input class=\"sk-toggleable__control sk-hidden--visually\" id=\"78e06aa2-4d1d-4641-99bd-77de3dac4943\" type=\"checkbox\" ><label for=\"78e06aa2-4d1d-4641-99bd-77de3dac4943\" class=\"sk-toggleable__label sk-toggleable__label-arrow\">OrdinalEncoder</label><div class=\"sk-toggleable__content\"><pre>OrdinalEncoder(dtype=&lt;class &#x27;object&#x27;&gt;, handle_unknown=&#x27;use_encoded_value&#x27;,\n",
       "               unknown_value=99999)</pre></div></div></div></div></div></div></div></div></div></div><div class=\"sk-item\"><div class=\"sk-estimator sk-toggleable\"><input class=\"sk-toggleable__control sk-hidden--visually\" id=\"57e8d7a6-51b7-465a-817d-ff145d0ea16c\" type=\"checkbox\" ><label for=\"57e8d7a6-51b7-465a-817d-ff145d0ea16c\" class=\"sk-toggleable__label sk-toggleable__label-arrow\">SelectPercentile</label><div class=\"sk-toggleable__content\"><pre>SelectPercentile(percentile=100)</pre></div></div></div></div></div></div></div>"
      ],
      "text/plain": [
       "Pipeline(steps=[('column',\n",
       "                 ColumnTransformer(transformers=[('num',\n",
       "                                                  Pipeline(steps=[('imputer',\n",
       "                                                                   SimpleImputer()),\n",
       "                                                                  ('outlier',\n",
       "                                                                   FunctionTransformer(func=<function remove_outlier at 0x7f58f12df040>,\n",
       "                                                                                       kw_args={'q': 0.05})),\n",
       "                                                                  ('scaler',\n",
       "                                                                   PowerTransformer())]),\n",
       "                                                  ['대학성적']),\n",
       "                                                 ('cat',\n",
       "                                                  Pipeline(steps=[('imputer',\n",
       "                                                                   SimpleImputer(strategy='most_frequent')),\n",
       "                                                                  ('encoder',\n",
       "                                                                   OrdinalEncoder(dtype=<class 'object'>,\n",
       "                                                                                  handle_unknown='use_encoded_value',\n",
       "                                                                                  unknown_value=99999))]),\n",
       "                                                  ['직종', '세부직종', '직무태그', '근무경력',\n",
       "                                                   '근무형태', '근무지역', '출신대학',\n",
       "                                                   '대학전공', '어학시험', '자격증'])])),\n",
       "                ('selector', SelectPercentile(percentile=100))])"
      ]
     },
     "execution_count": 8,
     "metadata": {},
     "output_type": "execute_result"
    }
   ],
   "source": [
    "def remove_outlier(X, q=0.05):  \n",
    "    df = pd.DataFrame(X)\n",
    "    return df.apply(lambda x: x.clip(x.quantile(q), x.quantile(1-q)), axis=0).values\n",
    "\n",
    "numeric_transformer = Pipeline(\n",
    "    steps=[\n",
    "        (\"imputer\", SimpleImputer(strategy=\"mean\")),\n",
    "        (\"outlier\", FunctionTransformer(remove_outlier, kw_args={'q':0.05})), # 함수를 전처리기로 변환하여 sklearn에 없는 새로운 전처리기를 만듬\n",
    "        (\"scaler\", PowerTransformer()),\n",
    "    ]\n",
    ")\n",
    "\n",
    "categorical_transformer = Pipeline(\n",
    "    steps=[\n",
    "        (\"imputer\", SimpleImputer(strategy=\"most_frequent\")), \n",
    "        (\"encoder\", OrdinalEncoder(handle_unknown='use_encoded_value', unknown_value=99999, dtype=np.object)),\n",
    "    ]\n",
    ")\n",
    "\n",
    "column_transformer = ColumnTransformer(\n",
    "    transformers=[\n",
    "        (\"num\", numeric_transformer, numeric_features),\n",
    "        (\"cat\", categorical_transformer, categorical_features),\n",
    "    ]\n",
    ")\n",
    "\n",
    "preprocessor = Pipeline(\n",
    "    steps=[\n",
    "        (\"column\", column_transformer), \n",
    "        (\"selector\", SelectPercentile(percentile=100)),\n",
    "#        (\"dataframe\", FunctionTransformer(lambda x: pd.DataFrame(x, columns=numeric_features+categorical_features))),\n",
    "    ]\n",
    ")\n",
    "\n",
    "set_config(display=\"diagram\")  # To view the text pipeline, change to display='text'.\n",
    "preprocessor"
   ]
  },
  {
   "cell_type": "markdown",
   "metadata": {},
   "source": [
    "- 단계2) 전처리 파이프라인 실행 & Output을 데이터프레임으로 변환"
   ]
  },
  {
   "cell_type": "code",
   "execution_count": 9,
   "metadata": {},
   "outputs": [],
   "source": [
    "preprocessor.fit(X_train, y_train)\n",
    "mask = preprocessor.steps[-1][-1].get_support()\n",
    "new_features = X_train.columns[mask]\n",
    "#피처 셀렉션된 피처를 새로운 피처로 지정\n",
    "\n",
    "X_train = pd.DataFrame(preprocessor.transform(X_train), columns=new_features)\n",
    "X_test = pd.DataFrame(preprocessor.transform(X_test), columns=new_features)\n",
    "\n",
    "numeric_features = list(set(numeric_features) & set(new_features))\n",
    "categorical_features = list(set(categorical_features) & set(new_features))"
   ]
  },
  {
   "cell_type": "markdown",
   "metadata": {},
   "source": [
    "#### CatBoost 모형 생성\n",
    "- No tuning, early_stopping 사용 (tuning한 모델에 비해 성능이 떨어지지 않음)"
   ]
  },
  {
   "cell_type": "code",
   "execution_count": 10,
   "metadata": {},
   "outputs": [],
   "source": [
    "scores = []  # CV 결과 저장\n",
    "oof_pred = np.zeros(X_test.shape[0])  # OOF 저장\n",
    "kfold = KFold(n_splits=5, shuffle=True, random_state=0) # K-Folds cross-validator\n",
    "\n",
    "for train_index, valid_index in kfold.split(X_train, y_train): \n",
    "    # 학습/검증 데이터 분할\n",
    "    train_x, valid_x = X_train.iloc[train_index], X_train.iloc[valid_index]\n",
    "    train_y, valid_y = y_train.iloc[train_index], y_train.iloc[valid_index]\n",
    "\n",
    "    # 범주형피처 직접 처리와 Early stopping을 사용하여 CatBoost 모델링\n",
    "    model = CatBoostRegressor(cat_features=categorical_features, verbose=False, random_state=0)\n",
    "    model.fit(train_x, train_y,\n",
    "              eval_set=[(valid_x,valid_y)],\n",
    "              early_stopping_rounds=100,\n",
    "             )\n",
    "\n",
    "    # CV 스코어 계산 및 저장\n",
    "    rmse = np.sqrt(mean_squared_error(valid_y, model.predict(valid_x)))\n",
    "    scores.append(rmse)\n",
    "\n",
    "    # OOF 예측값 저장\n",
    "    oof_pred += model.predict(X_test) / kfold.get_n_splits() "
   ]
  },
  {
   "cell_type": "code",
   "execution_count": 11,
   "metadata": {},
   "outputs": [
    {
     "name": "stdout",
     "output_type": "stream",
     "text": [
      "CV scores:  [883.65649032 867.53189167 900.43806899 843.0257103  856.94896156]\n",
      "CV mean = 870.32 with std = 20.08\n"
     ]
    }
   ],
   "source": [
    "scores = np.array(scores) \n",
    "print(\"CV scores: \", scores)\n",
    "print(\"CV mean = %.2f\" % scores.mean(), \"with std = %.2f\" % scores.std())"
   ]
  },
  {
   "cell_type": "code",
   "execution_count": 12,
   "metadata": {},
   "outputs": [],
   "source": [
    "# submission 화일 생성\n",
    "filename = f'catboost_{CATBOOST_VERSION}_{scores.mean():.2f}.csv'\n",
    "pd.DataFrame({'ID':test_id, 'Salary':oof_pred}).to_csv(filename, index=False)"
   ]
  },
  {
   "cell_type": "markdown",
   "metadata": {},
   "source": [
    "<font color=\"#CC3D3D\"><p>\n",
    "# End"
   ]
  }
 ],
 "metadata": {
  "kernelspec": {
   "display_name": "Python 3 (ipykernel)",
   "language": "python",
   "name": "python3"
  },
  "language_info": {
   "codemirror_mode": {
    "name": "ipython",
    "version": 3
   },
   "file_extension": ".py",
   "mimetype": "text/x-python",
   "name": "python",
   "nbconvert_exporter": "python",
   "pygments_lexer": "ipython3",
   "version": "3.9.12"
  }
 },
 "nbformat": 4,
 "nbformat_minor": 1
}
