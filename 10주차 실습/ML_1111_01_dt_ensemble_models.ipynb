{
 "cells": [
  {
   "cell_type": "markdown",
   "metadata": {},
   "source": [
    "<font color=\"#CC3D3D\"><p>\n",
    "# Decision Tree based Ensemble Models"
   ]
  },
  {
   "cell_type": "markdown",
   "metadata": {},
   "source": [
    "<img align='left' src=\"https://cdn-images-1.medium.com/max/1000/1*QJZ6W-Pck_W7RlIDwUIN9Q.jpeg\" width=700, height=500>"
   ]
  },
  {
   "cell_type": "markdown",
   "metadata": {
    "colab": {
     "autoexec": {
      "startup": false,
      "wait_interval": 0
     }
    },
    "colab_type": "code",
    "id": "stensr9MN5hb"
   },
   "source": [
    "##### Data Preparation"
   ]
  },
  {
   "cell_type": "code",
   "execution_count": null,
   "metadata": {
    "colab": {
     "autoexec": {
      "startup": false,
      "wait_interval": 0
     }
    },
    "colab_type": "code",
    "id": "stensr9MN5hb"
   },
   "outputs": [],
   "source": [
    "import pandas as pd\n",
    "import numpy as np\n",
    "import matplotlib.pylab as plt\n",
    "%matplotlib inline\n",
    "import warnings\n",
    "warnings.filterwarnings(\"ignore\")"
   ]
  },
  {
   "cell_type": "code",
   "execution_count": null,
   "metadata": {},
   "outputs": [],
   "source": [
    "%%time\n",
    "\n",
    "# California Housing dataset (20640 samples, 8 numeric features)\n",
    "from sklearn.datasets import fetch_california_housing\n",
    "\n",
    "X, y = fetch_california_housing(return_X_y=True)"
   ]
  },
  {
   "cell_type": "code",
   "execution_count": null,
   "metadata": {},
   "outputs": [],
   "source": [
    "from sklearn.model_selection import train_test_split\n",
    "\n",
    "X_train, X_test, y_train, y_test = train_test_split(X, y, test_size=0.5, random_state=0)\n",
    "X_train.shape"
   ]
  },
  {
   "cell_type": "code",
   "execution_count": null,
   "metadata": {},
   "outputs": [],
   "source": [
    "# 동일한 조건의 실험을 위해 모든 알고리즘에 아래와 같은 파라미터 설정\n",
    "hyperparam = {'n_estimators': 200, 'random_state': 0}"
   ]
  },
  {
   "cell_type": "markdown",
   "metadata": {},
   "source": [
    "<font color=\"blue\"><p>\n",
    "### Bagging\n",
    "<img align='left' src=\"http://drive.google.com/uc?export=view&id=1px4nXiYkoRZrPpnHlkYn0hWfGih9SHpB\" width=650, height=500>"
   ]
  },
  {
   "cell_type": "code",
   "execution_count": null,
   "metadata": {},
   "outputs": [],
   "source": [
    "%%time\n",
    "\n",
    "from sklearn.ensemble import BaggingRegressor\n",
    "\n",
    "bagging = BaggingRegressor(**hyperparam)\n",
    "bagging.fit(X_train, y_train).score(X_test, y_test)"
   ]
  },
  {
   "cell_type": "markdown",
   "metadata": {},
   "source": [
    "<font color=\"blue\"><p>\n",
    "### Random Forest (RF)\n",
    "<img align='left' src=\"https://c.mql5.com/2/33/image1__1.png\">"
   ]
  },
  {
   "cell_type": "code",
   "execution_count": null,
   "metadata": {},
   "outputs": [],
   "source": [
    "%%time\n",
    "\n",
    "from sklearn.ensemble import RandomForestRegressor\n",
    "\n",
    "rf = RandomForestRegressor(**hyperparam)\n",
    "rf.fit(X_train, y_train).score(X_test, y_test)"
   ]
  },
  {
   "cell_type": "markdown",
   "metadata": {},
   "source": [
    "<font color=\"blue\"><p>\n",
    "### Gradient Boosting (GBM) #####   \n",
    "<br/><img src=\"https://explained.ai/gradient-boosting/images/golf-dir-vector.png\" width=800, height=600>   \n",
    "<img src='http://drive.google.com/uc?export=view&id=1IPejYVq077Z1HZLkl3_DpSgtjwXzcGAf' width=550, height=400>"
   ]
  },
  {
   "cell_type": "code",
   "execution_count": null,
   "metadata": {},
   "outputs": [],
   "source": [
    "%%time\n",
    "\n",
    "from sklearn.ensemble import GradientBoostingRegressor\n",
    "\n",
    "gbm = GradientBoostingRegressor(**hyperparam)\n",
    "gbm.fit(X_train, y_train).score(X_test, y_test)"
   ]
  },
  {
   "cell_type": "markdown",
   "metadata": {},
   "source": [
    "<font color=\"blue\"><p>\n",
    "### eXtreme Gradient Boosting (XGBoost) #####   \n",
    "<img align='left' src='https://dzone.com/storage/temp/13069535-xgboost-features.png'>"
   ]
  },
  {
   "cell_type": "markdown",
   "metadata": {},
   "source": [
    "**XGBoost**의 성능에 가장 큰 영향을 미치는 하이퍼파라미터는 다음과 같다:\n",
    "\n",
    "| 파라미터 이름 | 파라미터 유형 | 권장 범위 |\n",
    "|---|:---:|---:|\n",
    "|**reg_alpha**|Continuous|**0 ~ 1000**|\n",
    "|colsample_bytree|Continuous|0.5 ~ 1|\n",
    "|**learning_rate**|Continuous|**0.1 ~ 0.5**|\n",
    "|gamma|Continuous|0 ~ 5|\n",
    "|reg_lambda|Continuous|0 ~ 1000|\n",
    "|max_depth|Integer|0 ~ 10|\n",
    "|**min_child_weight**|Continuous|**0 ~ 120**|\n",
    "|**num_round**|Continuous|**1 ~ 4000**|\n",
    "|**subsample**|Continuous|**0.5 ~ 1**|"
   ]
  },
  {
   "cell_type": "code",
   "execution_count": null,
   "metadata": {},
   "outputs": [],
   "source": [
    "#!pip install xgboost, lightgbm, catboost"
   ]
  },
  {
   "cell_type": "code",
   "execution_count": null,
   "metadata": {},
   "outputs": [],
   "source": [
    "%%time\n",
    "\n",
    "from xgboost import XGBRegressor\n",
    "\n",
    "xgb =  XGBRegressor(**hyperparam)\n",
    "xgb.fit(X_train, y_train).score(X_test, y_test)"
   ]
  },
  {
   "cell_type": "markdown",
   "metadata": {},
   "source": [
    "<font color=\"blue\"><p>\n",
    "### LightGBM #####   \n",
    "<img align='left' src='https://www.researchgate.net/publication/348936955/figure/fig2/AS:986417228431363@1612191602872/Gradient-based-One-Side-Sampling-GOSS-along-with-Exclusive-Feature-Bundling-EFB.ppm' width=700>"
   ]
  },
  {
   "cell_type": "code",
   "execution_count": null,
   "metadata": {},
   "outputs": [],
   "source": [
    "%%time\n",
    "\n",
    "from lightgbm import LGBMRegressor\n",
    "\n",
    "lgbm =  LGBMRegressor(**hyperparam)\n",
    "lgbm.fit(X_train, y_train).score(X_test, y_test)"
   ]
  },
  {
   "cell_type": "markdown",
   "metadata": {},
   "source": [
    "<font color=\"blue\"><p>\n",
    "### CatBoost #####   \n",
    "<img align='left' src='https://i.imgur.com/E7tcz7Q.png'>"
   ]
  },
  {
   "cell_type": "code",
   "execution_count": null,
   "metadata": {},
   "outputs": [],
   "source": [
    "%%time\n",
    "\n",
    "from catboost import CatBoostRegressor\n",
    "\n",
    "cboost =  CatBoostRegressor(**hyperparam, verbose=False)\n",
    "cboost.fit(X_train, y_train).score(X_test, y_test)"
   ]
  },
  {
   "cell_type": "markdown",
   "metadata": {},
   "source": [
    "### Performance Comparison Between Ensemble Models"
   ]
  },
  {
   "cell_type": "code",
   "execution_count": null,
   "metadata": {},
   "outputs": [],
   "source": [
    "%%time\n",
    "\n",
    "from sklearn.model_selection import cross_val_score\n",
    "import time\n",
    "\n",
    "mean = []\n",
    "r2_score = []\n",
    "std = []\n",
    "elapsed = []\n",
    "classifiers = ['Bagging', 'RandomForest', 'Gradient Boosting', 'XGBoost', 'LightGBM', 'CatBoost']\n",
    "models = [bagging, rf, gbm, xgb, lgbm, cboost]\n",
    "\n",
    "for model in models:\n",
    "    start = time.time()\n",
    "    cv_result = cross_val_score(model, X_train, y_train, cv=10)\n",
    "    end = time.time()\n",
    "    elapsed.append(end - start)\n",
    "    mean.append(cv_result.mean())\n",
    "    std.append(cv_result.std())\n",
    "    r2_score.append(cv_result)\n",
    "\n",
    "models_dataframe = pd.DataFrame({'CV Mean':mean,'Std':std, 'Execution Time':elapsed}, index=classifiers) \n",
    "print(models_dataframe)\n",
    "plt.subplots(figsize=(12,6))\n",
    "box = pd.DataFrame(r2_score, index=classifiers)\n",
    "box.T.boxplot()\n",
    "plt.show()"
   ]
  },
  {
   "cell_type": "markdown",
   "metadata": {},
   "source": [
    "<font color=\"#CC3D3D\"><p>\n",
    "# End"
   ]
  }
 ],
 "metadata": {
  "colab": {
   "default_view": {},
   "name": "M3_code_02.ipynb",
   "provenance": [],
   "version": "0.3.2",
   "views": {}
  },
  "kernelspec": {
   "display_name": "TensorFlow 2.8 on Python 3.8 (CUDA 11.2)",
   "language": "python",
   "name": "python3"
  },
  "language_info": {
   "codemirror_mode": {
    "name": "ipython",
    "version": 3
   },
   "file_extension": ".py",
   "mimetype": "text/x-python",
   "name": "python",
   "nbconvert_exporter": "python",
   "pygments_lexer": "ipython3",
   "version": "3.8.10"
  }
 },
 "nbformat": 4,
 "nbformat_minor": 4
}
