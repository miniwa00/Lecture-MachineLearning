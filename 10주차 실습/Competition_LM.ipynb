{
 "cells": [
  {
   "cell_type": "markdown",
   "metadata": {},
   "source": [
    "<font color=\"#CC3D3D\"><p>\n",
    "# [Competition] Building a `Linear Model` with `Pipeline+Optuna`"
   ]
  },
  {
   "cell_type": "markdown",
   "metadata": {},
   "source": [
    "<font color=\"blue\"><p>\n",
    "#### LM 모형 구축절차\n",
    "1. 수치형 피처\n",
    " - 결측값처리: SimpleImputer(strategy=`???`)\n",
    " - 이상값처리: FunctionTransformer((remove_outlier, kw_args={'q':`???`})))\n",
    " - 스케일링: PowerTransformer()\n",
    "2. 범주형 피처\n",
    " - 결측값처리: SimpleImputer(strategy=\"most_frequent\")\n",
    " - 인코딩: OneHotEncoder(handle_unknown=\"ignore\", sparse=True)\n",
    "3. 공통\n",
    " - Feature Selection: SelectPercentile(percentile=`???`)\n",
    " - Modeling: Ridge(alpha=`???`)\n",
    " - Hyperparametor Optimization: `OptunaSearchCV`\n",
    " - OOF Prediction   "
   ]
  },
  {
   "cell_type": "code",
   "execution_count": 1,
   "metadata": {},
   "outputs": [],
   "source": [
    "LM_VERSION = 1.0"
   ]
  },
  {
   "cell_type": "code",
   "execution_count": 2,
   "metadata": {},
   "outputs": [],
   "source": [
    "%matplotlib inline\n",
    "import warnings\n",
    "warnings.filterwarnings(\"ignore\")\n",
    "\n",
    "import pandas as pd\n",
    "import numpy as np\n",
    "import matplotlib.pyplot as plt\n",
    "import seaborn as sns\n",
    "from sklearn.pipeline import Pipeline\n",
    "from sklearn.compose import ColumnTransformer\n",
    "from sklearn.preprocessing import FunctionTransformer\n",
    "from sklearn.base import BaseEstimator, TransformerMixin\n",
    "from sklearn.impute import SimpleImputer\n",
    "from sklearn.preprocessing import PowerTransformer \n",
    "from sklearn.preprocessing import OrdinalEncoder, OneHotEncoder\n",
    "from category_encoders import TargetEncoder, BinaryEncoder\n",
    "from sklearn.feature_selection import SelectPercentile\n",
    "from sklearn.model_selection import train_test_split, cross_val_score, cross_validate\n",
    "from sklearn.metrics import mean_squared_error\n",
    "from sklearn import set_config\n",
    "from sklearn.linear_model import LinearRegression, Ridge, Lasso\n",
    "import optuna\n",
    "from optuna.distributions import CategoricalDistribution, IntDistribution, FloatDistribution\n",
    "from optuna.integration import OptunaSearchCV, ShapleyImportanceEvaluator"
   ]
  },
  {
   "cell_type": "markdown",
   "metadata": {},
   "source": [
    "#### Load data"
   ]
  },
  {
   "cell_type": "code",
   "execution_count": 3,
   "metadata": {},
   "outputs": [],
   "source": [
    "X_train = pd.read_csv('X_train.csv', encoding='cp949').drop(columns='ID')\n",
    "y_train = pd.read_csv('y_train.csv', encoding='cp949').Salary\n",
    "\n",
    "X_test = pd.read_csv('X_test.csv', encoding='cp949')\n",
    "test_id = X_test.ID\n",
    "X_test = X_test.drop(columns='ID')"
   ]
  },
  {
   "cell_type": "markdown",
   "metadata": {},
   "source": [
    "#### 수치형/범주형 피처 분리 & 학습/평가 데이터 분할"
   ]
  },
  {
   "cell_type": "code",
   "execution_count": 7,
   "metadata": {},
   "outputs": [],
   "source": [
    "numeric_features = ['대학성적']\n",
    "categorical_features = ['직종','세부직종','직무태그','근무경력','근무형태','근무지역','출신대학','대학전공','어학시험','자격증']\n",
    "\n",
    "X_train = X_train[numeric_features+categorical_features]  # 순서 주의!!!\n",
    "X_test = X_test[numeric_features+categorical_features]"
   ]
  },
  {
   "cell_type": "markdown",
   "metadata": {},
   "source": [
    "####  파이프라인 구축"
   ]
  },
  {
   "cell_type": "code",
   "execution_count": 8,
   "metadata": {},
   "outputs": [
    {
     "data": {
      "text/html": [
       "<style>#sk-container-id-1 {color: black;background-color: white;}#sk-container-id-1 pre{padding: 0;}#sk-container-id-1 div.sk-toggleable {background-color: white;}#sk-container-id-1 label.sk-toggleable__label {cursor: pointer;display: block;width: 100%;margin-bottom: 0;padding: 0.3em;box-sizing: border-box;text-align: center;}#sk-container-id-1 label.sk-toggleable__label-arrow:before {content: \"▸\";float: left;margin-right: 0.25em;color: #696969;}#sk-container-id-1 label.sk-toggleable__label-arrow:hover:before {color: black;}#sk-container-id-1 div.sk-estimator:hover label.sk-toggleable__label-arrow:before {color: black;}#sk-container-id-1 div.sk-toggleable__content {max-height: 0;max-width: 0;overflow: hidden;text-align: left;background-color: #f0f8ff;}#sk-container-id-1 div.sk-toggleable__content pre {margin: 0.2em;color: black;border-radius: 0.25em;background-color: #f0f8ff;}#sk-container-id-1 input.sk-toggleable__control:checked~div.sk-toggleable__content {max-height: 200px;max-width: 100%;overflow: auto;}#sk-container-id-1 input.sk-toggleable__control:checked~label.sk-toggleable__label-arrow:before {content: \"▾\";}#sk-container-id-1 div.sk-estimator input.sk-toggleable__control:checked~label.sk-toggleable__label {background-color: #d4ebff;}#sk-container-id-1 div.sk-label input.sk-toggleable__control:checked~label.sk-toggleable__label {background-color: #d4ebff;}#sk-container-id-1 input.sk-hidden--visually {border: 0;clip: rect(1px 1px 1px 1px);clip: rect(1px, 1px, 1px, 1px);height: 1px;margin: -1px;overflow: hidden;padding: 0;position: absolute;width: 1px;}#sk-container-id-1 div.sk-estimator {font-family: monospace;background-color: #f0f8ff;border: 1px dotted black;border-radius: 0.25em;box-sizing: border-box;margin-bottom: 0.5em;}#sk-container-id-1 div.sk-estimator:hover {background-color: #d4ebff;}#sk-container-id-1 div.sk-parallel-item::after {content: \"\";width: 100%;border-bottom: 1px solid gray;flex-grow: 1;}#sk-container-id-1 div.sk-label:hover label.sk-toggleable__label {background-color: #d4ebff;}#sk-container-id-1 div.sk-serial::before {content: \"\";position: absolute;border-left: 1px solid gray;box-sizing: border-box;top: 0;bottom: 0;left: 50%;z-index: 0;}#sk-container-id-1 div.sk-serial {display: flex;flex-direction: column;align-items: center;background-color: white;padding-right: 0.2em;padding-left: 0.2em;position: relative;}#sk-container-id-1 div.sk-item {position: relative;z-index: 1;}#sk-container-id-1 div.sk-parallel {display: flex;align-items: stretch;justify-content: center;background-color: white;position: relative;}#sk-container-id-1 div.sk-item::before, #sk-container-id-1 div.sk-parallel-item::before {content: \"\";position: absolute;border-left: 1px solid gray;box-sizing: border-box;top: 0;bottom: 0;left: 50%;z-index: -1;}#sk-container-id-1 div.sk-parallel-item {display: flex;flex-direction: column;z-index: 1;position: relative;background-color: white;}#sk-container-id-1 div.sk-parallel-item:first-child::after {align-self: flex-end;width: 50%;}#sk-container-id-1 div.sk-parallel-item:last-child::after {align-self: flex-start;width: 50%;}#sk-container-id-1 div.sk-parallel-item:only-child::after {width: 0;}#sk-container-id-1 div.sk-dashed-wrapped {border: 1px dashed gray;margin: 0 0.4em 0.5em 0.4em;box-sizing: border-box;padding-bottom: 0.4em;background-color: white;}#sk-container-id-1 div.sk-label label {font-family: monospace;font-weight: bold;display: inline-block;line-height: 1.2em;}#sk-container-id-1 div.sk-label-container {text-align: center;}#sk-container-id-1 div.sk-container {/* jupyter's `normalize.less` sets `[hidden] { display: none; }` but bootstrap.min.css set `[hidden] { display: none !important; }` so we also need the `!important` here to be able to override the default hidden behavior on the sphinx rendered scikit-learn.org. See: https://github.com/scikit-learn/scikit-learn/issues/21755 */display: inline-block !important;position: relative;}#sk-container-id-1 div.sk-text-repr-fallback {display: none;}</style><div id=\"sk-container-id-1\" class=\"sk-top-container\"><div class=\"sk-text-repr-fallback\"><pre>Pipeline(steps=[(&#x27;preprocessor&#x27;,\n",
       "                 Pipeline(steps=[(&#x27;column&#x27;,\n",
       "                                  ColumnTransformer(transformers=[(&#x27;num&#x27;,\n",
       "                                                                   Pipeline(steps=[(&#x27;imputer&#x27;,\n",
       "                                                                                    SimpleImputer(strategy=&#x27;median&#x27;)),\n",
       "                                                                                   (&#x27;outlier&#x27;,\n",
       "                                                                                    FunctionTransformer(func=&lt;function remove_outlier at 0x000002F5E77471F0&gt;,\n",
       "                                                                                                        kw_args={&#x27;q&#x27;: 0.05})),\n",
       "                                                                                   (&#x27;scaler&#x27;,\n",
       "                                                                                    PowerTransformer())]),\n",
       "                                                                   [&#x27;대학성적&#x27;]),\n",
       "                                                                  (&#x27;cat&#x27;,\n",
       "                                                                   Pipeline(steps=[(&#x27;imputer&#x27;,\n",
       "                                                                                    SimpleImputer(strategy=&#x27;most_frequent&#x27;)),\n",
       "                                                                                   (&#x27;encoder&#x27;,\n",
       "                                                                                    OneHotEncoder(handle_unknown=&#x27;ignore&#x27;))]),\n",
       "                                                                   [&#x27;직종&#x27;,\n",
       "                                                                    &#x27;세부직종&#x27;,\n",
       "                                                                    &#x27;직무태그&#x27;,\n",
       "                                                                    &#x27;근무경력&#x27;,\n",
       "                                                                    &#x27;근무형태&#x27;,\n",
       "                                                                    &#x27;근무지역&#x27;,\n",
       "                                                                    &#x27;출신대학&#x27;,\n",
       "                                                                    &#x27;대학전공&#x27;,\n",
       "                                                                    &#x27;어학시험&#x27;,\n",
       "                                                                    &#x27;자격증&#x27;])])),\n",
       "                                 (&#x27;selector&#x27;,\n",
       "                                  SelectPercentile(percentile=100))])),\n",
       "                (&#x27;classifier&#x27;, Ridge())])</pre><b>In a Jupyter environment, please rerun this cell to show the HTML representation or trust the notebook. <br />On GitHub, the HTML representation is unable to render, please try loading this page with nbviewer.org.</b></div><div class=\"sk-container\" hidden><div class=\"sk-item sk-dashed-wrapped\"><div class=\"sk-label-container\"><div class=\"sk-label sk-toggleable\"><input class=\"sk-toggleable__control sk-hidden--visually\" id=\"sk-estimator-id-1\" type=\"checkbox\" ><label for=\"sk-estimator-id-1\" class=\"sk-toggleable__label sk-toggleable__label-arrow\">Pipeline</label><div class=\"sk-toggleable__content\"><pre>Pipeline(steps=[(&#x27;preprocessor&#x27;,\n",
       "                 Pipeline(steps=[(&#x27;column&#x27;,\n",
       "                                  ColumnTransformer(transformers=[(&#x27;num&#x27;,\n",
       "                                                                   Pipeline(steps=[(&#x27;imputer&#x27;,\n",
       "                                                                                    SimpleImputer(strategy=&#x27;median&#x27;)),\n",
       "                                                                                   (&#x27;outlier&#x27;,\n",
       "                                                                                    FunctionTransformer(func=&lt;function remove_outlier at 0x000002F5E77471F0&gt;,\n",
       "                                                                                                        kw_args={&#x27;q&#x27;: 0.05})),\n",
       "                                                                                   (&#x27;scaler&#x27;,\n",
       "                                                                                    PowerTransformer())]),\n",
       "                                                                   [&#x27;대학성적&#x27;]),\n",
       "                                                                  (&#x27;cat&#x27;,\n",
       "                                                                   Pipeline(steps=[(&#x27;imputer&#x27;,\n",
       "                                                                                    SimpleImputer(strategy=&#x27;most_frequent&#x27;)),\n",
       "                                                                                   (&#x27;encoder&#x27;,\n",
       "                                                                                    OneHotEncoder(handle_unknown=&#x27;ignore&#x27;))]),\n",
       "                                                                   [&#x27;직종&#x27;,\n",
       "                                                                    &#x27;세부직종&#x27;,\n",
       "                                                                    &#x27;직무태그&#x27;,\n",
       "                                                                    &#x27;근무경력&#x27;,\n",
       "                                                                    &#x27;근무형태&#x27;,\n",
       "                                                                    &#x27;근무지역&#x27;,\n",
       "                                                                    &#x27;출신대학&#x27;,\n",
       "                                                                    &#x27;대학전공&#x27;,\n",
       "                                                                    &#x27;어학시험&#x27;,\n",
       "                                                                    &#x27;자격증&#x27;])])),\n",
       "                                 (&#x27;selector&#x27;,\n",
       "                                  SelectPercentile(percentile=100))])),\n",
       "                (&#x27;classifier&#x27;, Ridge())])</pre></div></div></div><div class=\"sk-serial\"><div class=\"sk-item\"><div class=\"sk-label-container\"><div class=\"sk-label sk-toggleable\"><input class=\"sk-toggleable__control sk-hidden--visually\" id=\"sk-estimator-id-2\" type=\"checkbox\" ><label for=\"sk-estimator-id-2\" class=\"sk-toggleable__label sk-toggleable__label-arrow\">preprocessor: Pipeline</label><div class=\"sk-toggleable__content\"><pre>Pipeline(steps=[(&#x27;column&#x27;,\n",
       "                 ColumnTransformer(transformers=[(&#x27;num&#x27;,\n",
       "                                                  Pipeline(steps=[(&#x27;imputer&#x27;,\n",
       "                                                                   SimpleImputer(strategy=&#x27;median&#x27;)),\n",
       "                                                                  (&#x27;outlier&#x27;,\n",
       "                                                                   FunctionTransformer(func=&lt;function remove_outlier at 0x000002F5E77471F0&gt;,\n",
       "                                                                                       kw_args={&#x27;q&#x27;: 0.05})),\n",
       "                                                                  (&#x27;scaler&#x27;,\n",
       "                                                                   PowerTransformer())]),\n",
       "                                                  [&#x27;대학성적&#x27;]),\n",
       "                                                 (&#x27;cat&#x27;,\n",
       "                                                  Pipeline(steps=[(&#x27;imputer&#x27;,\n",
       "                                                                   SimpleImputer(strategy=&#x27;most_frequent&#x27;)),\n",
       "                                                                  (&#x27;encoder&#x27;,\n",
       "                                                                   OneHotEncoder(handle_unknown=&#x27;ignore&#x27;))]),\n",
       "                                                  [&#x27;직종&#x27;, &#x27;세부직종&#x27;, &#x27;직무태그&#x27;, &#x27;근무경력&#x27;,\n",
       "                                                   &#x27;근무형태&#x27;, &#x27;근무지역&#x27;, &#x27;출신대학&#x27;,\n",
       "                                                   &#x27;대학전공&#x27;, &#x27;어학시험&#x27;, &#x27;자격증&#x27;])])),\n",
       "                (&#x27;selector&#x27;, SelectPercentile(percentile=100))])</pre></div></div></div><div class=\"sk-serial\"><div class=\"sk-item sk-dashed-wrapped\"><div class=\"sk-label-container\"><div class=\"sk-label sk-toggleable\"><input class=\"sk-toggleable__control sk-hidden--visually\" id=\"sk-estimator-id-3\" type=\"checkbox\" ><label for=\"sk-estimator-id-3\" class=\"sk-toggleable__label sk-toggleable__label-arrow\">column: ColumnTransformer</label><div class=\"sk-toggleable__content\"><pre>ColumnTransformer(transformers=[(&#x27;num&#x27;,\n",
       "                                 Pipeline(steps=[(&#x27;imputer&#x27;,\n",
       "                                                  SimpleImputer(strategy=&#x27;median&#x27;)),\n",
       "                                                 (&#x27;outlier&#x27;,\n",
       "                                                  FunctionTransformer(func=&lt;function remove_outlier at 0x000002F5E77471F0&gt;,\n",
       "                                                                      kw_args={&#x27;q&#x27;: 0.05})),\n",
       "                                                 (&#x27;scaler&#x27;,\n",
       "                                                  PowerTransformer())]),\n",
       "                                 [&#x27;대학성적&#x27;]),\n",
       "                                (&#x27;cat&#x27;,\n",
       "                                 Pipeline(steps=[(&#x27;imputer&#x27;,\n",
       "                                                  SimpleImputer(strategy=&#x27;most_frequent&#x27;)),\n",
       "                                                 (&#x27;encoder&#x27;,\n",
       "                                                  OneHotEncoder(handle_unknown=&#x27;ignore&#x27;))]),\n",
       "                                 [&#x27;직종&#x27;, &#x27;세부직종&#x27;, &#x27;직무태그&#x27;, &#x27;근무경력&#x27;, &#x27;근무형태&#x27;, &#x27;근무지역&#x27;,\n",
       "                                  &#x27;출신대학&#x27;, &#x27;대학전공&#x27;, &#x27;어학시험&#x27;, &#x27;자격증&#x27;])])</pre></div></div></div><div class=\"sk-parallel\"><div class=\"sk-parallel-item\"><div class=\"sk-item\"><div class=\"sk-label-container\"><div class=\"sk-label sk-toggleable\"><input class=\"sk-toggleable__control sk-hidden--visually\" id=\"sk-estimator-id-4\" type=\"checkbox\" ><label for=\"sk-estimator-id-4\" class=\"sk-toggleable__label sk-toggleable__label-arrow\">num</label><div class=\"sk-toggleable__content\"><pre>[&#x27;대학성적&#x27;]</pre></div></div></div><div class=\"sk-serial\"><div class=\"sk-item\"><div class=\"sk-serial\"><div class=\"sk-item\"><div class=\"sk-estimator sk-toggleable\"><input class=\"sk-toggleable__control sk-hidden--visually\" id=\"sk-estimator-id-5\" type=\"checkbox\" ><label for=\"sk-estimator-id-5\" class=\"sk-toggleable__label sk-toggleable__label-arrow\">SimpleImputer</label><div class=\"sk-toggleable__content\"><pre>SimpleImputer(strategy=&#x27;median&#x27;)</pre></div></div></div><div class=\"sk-item\"><div class=\"sk-estimator sk-toggleable\"><input class=\"sk-toggleable__control sk-hidden--visually\" id=\"sk-estimator-id-6\" type=\"checkbox\" ><label for=\"sk-estimator-id-6\" class=\"sk-toggleable__label sk-toggleable__label-arrow\">FunctionTransformer</label><div class=\"sk-toggleable__content\"><pre>FunctionTransformer(func=&lt;function remove_outlier at 0x000002F5E77471F0&gt;,\n",
       "                    kw_args={&#x27;q&#x27;: 0.05})</pre></div></div></div><div class=\"sk-item\"><div class=\"sk-estimator sk-toggleable\"><input class=\"sk-toggleable__control sk-hidden--visually\" id=\"sk-estimator-id-7\" type=\"checkbox\" ><label for=\"sk-estimator-id-7\" class=\"sk-toggleable__label sk-toggleable__label-arrow\">PowerTransformer</label><div class=\"sk-toggleable__content\"><pre>PowerTransformer()</pre></div></div></div></div></div></div></div></div><div class=\"sk-parallel-item\"><div class=\"sk-item\"><div class=\"sk-label-container\"><div class=\"sk-label sk-toggleable\"><input class=\"sk-toggleable__control sk-hidden--visually\" id=\"sk-estimator-id-8\" type=\"checkbox\" ><label for=\"sk-estimator-id-8\" class=\"sk-toggleable__label sk-toggleable__label-arrow\">cat</label><div class=\"sk-toggleable__content\"><pre>[&#x27;직종&#x27;, &#x27;세부직종&#x27;, &#x27;직무태그&#x27;, &#x27;근무경력&#x27;, &#x27;근무형태&#x27;, &#x27;근무지역&#x27;, &#x27;출신대학&#x27;, &#x27;대학전공&#x27;, &#x27;어학시험&#x27;, &#x27;자격증&#x27;]</pre></div></div></div><div class=\"sk-serial\"><div class=\"sk-item\"><div class=\"sk-serial\"><div class=\"sk-item\"><div class=\"sk-estimator sk-toggleable\"><input class=\"sk-toggleable__control sk-hidden--visually\" id=\"sk-estimator-id-9\" type=\"checkbox\" ><label for=\"sk-estimator-id-9\" class=\"sk-toggleable__label sk-toggleable__label-arrow\">SimpleImputer</label><div class=\"sk-toggleable__content\"><pre>SimpleImputer(strategy=&#x27;most_frequent&#x27;)</pre></div></div></div><div class=\"sk-item\"><div class=\"sk-estimator sk-toggleable\"><input class=\"sk-toggleable__control sk-hidden--visually\" id=\"sk-estimator-id-10\" type=\"checkbox\" ><label for=\"sk-estimator-id-10\" class=\"sk-toggleable__label sk-toggleable__label-arrow\">OneHotEncoder</label><div class=\"sk-toggleable__content\"><pre>OneHotEncoder(handle_unknown=&#x27;ignore&#x27;)</pre></div></div></div></div></div></div></div></div></div></div><div class=\"sk-item\"><div class=\"sk-estimator sk-toggleable\"><input class=\"sk-toggleable__control sk-hidden--visually\" id=\"sk-estimator-id-11\" type=\"checkbox\" ><label for=\"sk-estimator-id-11\" class=\"sk-toggleable__label sk-toggleable__label-arrow\">SelectPercentile</label><div class=\"sk-toggleable__content\"><pre>SelectPercentile(percentile=100)</pre></div></div></div></div></div><div class=\"sk-item\"><div class=\"sk-estimator sk-toggleable\"><input class=\"sk-toggleable__control sk-hidden--visually\" id=\"sk-estimator-id-12\" type=\"checkbox\" ><label for=\"sk-estimator-id-12\" class=\"sk-toggleable__label sk-toggleable__label-arrow\">Ridge</label><div class=\"sk-toggleable__content\"><pre>Ridge()</pre></div></div></div></div></div></div></div>"
      ],
      "text/plain": [
       "Pipeline(steps=[('preprocessor',\n",
       "                 Pipeline(steps=[('column',\n",
       "                                  ColumnTransformer(transformers=[('num',\n",
       "                                                                   Pipeline(steps=[('imputer',\n",
       "                                                                                    SimpleImputer(strategy='median')),\n",
       "                                                                                   ('outlier',\n",
       "                                                                                    FunctionTransformer(func=<function remove_outlier at 0x000002F5E77471F0>,\n",
       "                                                                                                        kw_args={'q': 0.05})),\n",
       "                                                                                   ('scaler',\n",
       "                                                                                    PowerTransformer())]),\n",
       "                                                                   ['대학성적']),\n",
       "                                                                  ('cat',\n",
       "                                                                   Pipeline(steps=[('imputer',\n",
       "                                                                                    SimpleImputer(strategy='most_frequent')),\n",
       "                                                                                   ('encoder',\n",
       "                                                                                    OneHotEncoder(handle_unknown='ignore'))]),\n",
       "                                                                   ['직종',\n",
       "                                                                    '세부직종',\n",
       "                                                                    '직무태그',\n",
       "                                                                    '근무경력',\n",
       "                                                                    '근무형태',\n",
       "                                                                    '근무지역',\n",
       "                                                                    '출신대학',\n",
       "                                                                    '대학전공',\n",
       "                                                                    '어학시험',\n",
       "                                                                    '자격증'])])),\n",
       "                                 ('selector',\n",
       "                                  SelectPercentile(percentile=100))])),\n",
       "                ('classifier', Ridge())])"
      ]
     },
     "execution_count": 8,
     "metadata": {},
     "output_type": "execute_result"
    }
   ],
   "source": [
    "def remove_outlier(X, q=0.05):  \n",
    "    df = pd.DataFrame(X)\n",
    "    return df.apply(lambda x: x.clip(x.quantile(q), x.quantile(1-q)), axis=0).values\n",
    "\n",
    "numeric_transformer = Pipeline(\n",
    "    steps=[\n",
    "        (\"imputer\", SimpleImputer(strategy=\"median\")),\n",
    "        (\"outlier\", FunctionTransformer(remove_outlier, kw_args={'q':0.05})),\n",
    "        (\"scaler\", PowerTransformer()),\n",
    "    ]\n",
    ")\n",
    "\n",
    "categorical_transformer = Pipeline(\n",
    "    steps=[\n",
    "        (\"imputer\", SimpleImputer(strategy=\"most_frequent\")), \n",
    "        (\"encoder\", OneHotEncoder(handle_unknown=\"ignore\", sparse=True)),\n",
    "    ]\n",
    ")\n",
    "\n",
    "column_transformer = ColumnTransformer(\n",
    "    transformers=[\n",
    "        (\"num\", numeric_transformer, numeric_features),\n",
    "        (\"cat\", categorical_transformer, categorical_features),\n",
    "    ]\n",
    ")\n",
    "\n",
    "preprocessor = Pipeline(\n",
    "    steps=[\n",
    "        (\"column\", column_transformer), \n",
    "        (\"selector\", SelectPercentile(percentile=100)),\n",
    "    ]\n",
    ")\n",
    "\n",
    "model = Pipeline(\n",
    "    steps=[\n",
    "        (\"preprocessor\", preprocessor), \n",
    "        (\"classifier\", Ridge(alpha=1.0)),  #작으면 작을수록 과적합이 커진다. 적정값은 튜닝을 통해 알아내야한다.\n",
    "    ]\n",
    ")\n",
    "\n",
    "set_config(display=\"diagram\")  # To view the text pipeline, change to display='text'.\n",
    "model"
   ]
  },
  {
   "cell_type": "markdown",
   "metadata": {},
   "source": [
    "#### LM Baseline 성능 확인"
   ]
  },
  {
   "cell_type": "code",
   "execution_count": 9,
   "metadata": {},
   "outputs": [
    {
     "name": "stdout",
     "output_type": "stream",
     "text": [
      "Default LM CV scores:  [ 839.62243134  808.81131592  905.52429483  945.10484123 1101.38882215]\n",
      "Default LM CV mean = 925.79 with std = 443.66\n"
     ]
    }
   ],
   "source": [
    "scores = cross_val_score(model, X_train, y_train, scoring='neg_mean_squared_error', cv=5) #사이킷런 rmse 제공 x -> mse를 돌리고 neg_으로 -1을 곱해준다 \n",
    "\n",
    "print(\"Default LM CV scores: \", np.sqrt(-1*scores))\n",
    "print(\"Default LM CV mean = %.2f\" % np.sqrt(-1*scores.mean()), \"with std = %.2f\" % np.sqrt(scores.std()))\n",
    "\n",
    "#데이터가 작으면 cv때 편차가 크면 리더보드에 쐈을때 이상한 결과가 나올수있다"
   ]
  },
  {
   "cell_type": "markdown",
   "metadata": {},
   "source": [
    "#### `파이프라인+Optuna`를 통한 LM 하이퍼파라미터 최적화"
   ]
  },
  {
   "cell_type": "code",
   "execution_count": 10,
   "metadata": {},
   "outputs": [
    {
     "name": "stdout",
     "output_type": "stream",
     "text": [
      "CPU times: total: 1min 12s\n",
      "Wall time: 12.2 s\n"
     ]
    },
    {
     "data": {
      "text/html": [
       "<style>#sk-container-id-2 {color: black;background-color: white;}#sk-container-id-2 pre{padding: 0;}#sk-container-id-2 div.sk-toggleable {background-color: white;}#sk-container-id-2 label.sk-toggleable__label {cursor: pointer;display: block;width: 100%;margin-bottom: 0;padding: 0.3em;box-sizing: border-box;text-align: center;}#sk-container-id-2 label.sk-toggleable__label-arrow:before {content: \"▸\";float: left;margin-right: 0.25em;color: #696969;}#sk-container-id-2 label.sk-toggleable__label-arrow:hover:before {color: black;}#sk-container-id-2 div.sk-estimator:hover label.sk-toggleable__label-arrow:before {color: black;}#sk-container-id-2 div.sk-toggleable__content {max-height: 0;max-width: 0;overflow: hidden;text-align: left;background-color: #f0f8ff;}#sk-container-id-2 div.sk-toggleable__content pre {margin: 0.2em;color: black;border-radius: 0.25em;background-color: #f0f8ff;}#sk-container-id-2 input.sk-toggleable__control:checked~div.sk-toggleable__content {max-height: 200px;max-width: 100%;overflow: auto;}#sk-container-id-2 input.sk-toggleable__control:checked~label.sk-toggleable__label-arrow:before {content: \"▾\";}#sk-container-id-2 div.sk-estimator input.sk-toggleable__control:checked~label.sk-toggleable__label {background-color: #d4ebff;}#sk-container-id-2 div.sk-label input.sk-toggleable__control:checked~label.sk-toggleable__label {background-color: #d4ebff;}#sk-container-id-2 input.sk-hidden--visually {border: 0;clip: rect(1px 1px 1px 1px);clip: rect(1px, 1px, 1px, 1px);height: 1px;margin: -1px;overflow: hidden;padding: 0;position: absolute;width: 1px;}#sk-container-id-2 div.sk-estimator {font-family: monospace;background-color: #f0f8ff;border: 1px dotted black;border-radius: 0.25em;box-sizing: border-box;margin-bottom: 0.5em;}#sk-container-id-2 div.sk-estimator:hover {background-color: #d4ebff;}#sk-container-id-2 div.sk-parallel-item::after {content: \"\";width: 100%;border-bottom: 1px solid gray;flex-grow: 1;}#sk-container-id-2 div.sk-label:hover label.sk-toggleable__label {background-color: #d4ebff;}#sk-container-id-2 div.sk-serial::before {content: \"\";position: absolute;border-left: 1px solid gray;box-sizing: border-box;top: 0;bottom: 0;left: 50%;z-index: 0;}#sk-container-id-2 div.sk-serial {display: flex;flex-direction: column;align-items: center;background-color: white;padding-right: 0.2em;padding-left: 0.2em;position: relative;}#sk-container-id-2 div.sk-item {position: relative;z-index: 1;}#sk-container-id-2 div.sk-parallel {display: flex;align-items: stretch;justify-content: center;background-color: white;position: relative;}#sk-container-id-2 div.sk-item::before, #sk-container-id-2 div.sk-parallel-item::before {content: \"\";position: absolute;border-left: 1px solid gray;box-sizing: border-box;top: 0;bottom: 0;left: 50%;z-index: -1;}#sk-container-id-2 div.sk-parallel-item {display: flex;flex-direction: column;z-index: 1;position: relative;background-color: white;}#sk-container-id-2 div.sk-parallel-item:first-child::after {align-self: flex-end;width: 50%;}#sk-container-id-2 div.sk-parallel-item:last-child::after {align-self: flex-start;width: 50%;}#sk-container-id-2 div.sk-parallel-item:only-child::after {width: 0;}#sk-container-id-2 div.sk-dashed-wrapped {border: 1px dashed gray;margin: 0 0.4em 0.5em 0.4em;box-sizing: border-box;padding-bottom: 0.4em;background-color: white;}#sk-container-id-2 div.sk-label label {font-family: monospace;font-weight: bold;display: inline-block;line-height: 1.2em;}#sk-container-id-2 div.sk-label-container {text-align: center;}#sk-container-id-2 div.sk-container {/* jupyter's `normalize.less` sets `[hidden] { display: none; }` but bootstrap.min.css set `[hidden] { display: none !important; }` so we also need the `!important` here to be able to override the default hidden behavior on the sphinx rendered scikit-learn.org. See: https://github.com/scikit-learn/scikit-learn/issues/21755 */display: inline-block !important;position: relative;}#sk-container-id-2 div.sk-text-repr-fallback {display: none;}</style><div id=\"sk-container-id-2\" class=\"sk-top-container\"><div class=\"sk-text-repr-fallback\"><pre>OptunaSearchCV(estimator=Pipeline(steps=[(&#x27;preprocessor&#x27;,\n",
       "                                          Pipeline(steps=[(&#x27;column&#x27;,\n",
       "                                                           ColumnTransformer(transformers=[(&#x27;num&#x27;,\n",
       "                                                                                            Pipeline(steps=[(&#x27;imputer&#x27;,\n",
       "                                                                                                             SimpleImputer(strategy=&#x27;median&#x27;)),\n",
       "                                                                                                            (&#x27;outlier&#x27;,\n",
       "                                                                                                             FunctionTransformer(func=&lt;function remove_outlier at 0x000002F5E77471F0&gt;,\n",
       "                                                                                                                                 kw_args={&#x27;q&#x27;: 0.05})),\n",
       "                                                                                                            (&#x27;scaler&#x27;,\n",
       "                                                                                                             PowerTransformer())]),\n",
       "                                                                                            [&#x27;대학성적&#x27;]),\n",
       "                                                                                           (&#x27;cat&#x27;,\n",
       "                                                                                            Pipeline(steps=[...\n",
       "                                    &#x27;preprocessor__column__num__imputer__strategy&#x27;: CategoricalDistribution(choices=(&#x27;mean&#x27;, &#x27;median&#x27;)),\n",
       "                                    &#x27;preprocessor__column__num__outlier__kw_args&#x27;: CategoricalDistribution(choices=({&#x27;q&#x27;: 0.01}, {&#x27;q&#x27;: 0.05}, {&#x27;q&#x27;: 0.1})),\n",
       "                                    &#x27;preprocessor__selector__percentile&#x27;: IntDistribution(high=100, log=False, low=50, step=10)},\n",
       "               scoring=&#x27;neg_mean_squared_error&#x27;,\n",
       "               study=&lt;optuna.study.study.Study object at 0x000002F5E775B400&gt;)</pre><b>In a Jupyter environment, please rerun this cell to show the HTML representation or trust the notebook. <br />On GitHub, the HTML representation is unable to render, please try loading this page with nbviewer.org.</b></div><div class=\"sk-container\" hidden><div class=\"sk-item sk-dashed-wrapped\"><div class=\"sk-label-container\"><div class=\"sk-label sk-toggleable\"><input class=\"sk-toggleable__control sk-hidden--visually\" id=\"sk-estimator-id-13\" type=\"checkbox\" ><label for=\"sk-estimator-id-13\" class=\"sk-toggleable__label sk-toggleable__label-arrow\">OptunaSearchCV</label><div class=\"sk-toggleable__content\"><pre>OptunaSearchCV(estimator=Pipeline(steps=[(&#x27;preprocessor&#x27;,\n",
       "                                          Pipeline(steps=[(&#x27;column&#x27;,\n",
       "                                                           ColumnTransformer(transformers=[(&#x27;num&#x27;,\n",
       "                                                                                            Pipeline(steps=[(&#x27;imputer&#x27;,\n",
       "                                                                                                             SimpleImputer(strategy=&#x27;median&#x27;)),\n",
       "                                                                                                            (&#x27;outlier&#x27;,\n",
       "                                                                                                             FunctionTransformer(func=&lt;function remove_outlier at 0x000002F5E77471F0&gt;,\n",
       "                                                                                                                                 kw_args={&#x27;q&#x27;: 0.05})),\n",
       "                                                                                                            (&#x27;scaler&#x27;,\n",
       "                                                                                                             PowerTransformer())]),\n",
       "                                                                                            [&#x27;대학성적&#x27;]),\n",
       "                                                                                           (&#x27;cat&#x27;,\n",
       "                                                                                            Pipeline(steps=[...\n",
       "                                    &#x27;preprocessor__column__num__imputer__strategy&#x27;: CategoricalDistribution(choices=(&#x27;mean&#x27;, &#x27;median&#x27;)),\n",
       "                                    &#x27;preprocessor__column__num__outlier__kw_args&#x27;: CategoricalDistribution(choices=({&#x27;q&#x27;: 0.01}, {&#x27;q&#x27;: 0.05}, {&#x27;q&#x27;: 0.1})),\n",
       "                                    &#x27;preprocessor__selector__percentile&#x27;: IntDistribution(high=100, log=False, low=50, step=10)},\n",
       "               scoring=&#x27;neg_mean_squared_error&#x27;,\n",
       "               study=&lt;optuna.study.study.Study object at 0x000002F5E775B400&gt;)</pre></div></div></div><div class=\"sk-parallel\"><div class=\"sk-parallel-item\"><div class=\"sk-item\"><div class=\"sk-label-container\"><div class=\"sk-label sk-toggleable\"><input class=\"sk-toggleable__control sk-hidden--visually\" id=\"sk-estimator-id-14\" type=\"checkbox\" ><label for=\"sk-estimator-id-14\" class=\"sk-toggleable__label sk-toggleable__label-arrow\">estimator: Pipeline</label><div class=\"sk-toggleable__content\"><pre>Pipeline(steps=[(&#x27;preprocessor&#x27;,\n",
       "                 Pipeline(steps=[(&#x27;column&#x27;,\n",
       "                                  ColumnTransformer(transformers=[(&#x27;num&#x27;,\n",
       "                                                                   Pipeline(steps=[(&#x27;imputer&#x27;,\n",
       "                                                                                    SimpleImputer(strategy=&#x27;median&#x27;)),\n",
       "                                                                                   (&#x27;outlier&#x27;,\n",
       "                                                                                    FunctionTransformer(func=&lt;function remove_outlier at 0x000002F5E77471F0&gt;,\n",
       "                                                                                                        kw_args={&#x27;q&#x27;: 0.05})),\n",
       "                                                                                   (&#x27;scaler&#x27;,\n",
       "                                                                                    PowerTransformer())]),\n",
       "                                                                   [&#x27;대학성적&#x27;]),\n",
       "                                                                  (&#x27;cat&#x27;,\n",
       "                                                                   Pipeline(steps=[(&#x27;imputer&#x27;,\n",
       "                                                                                    SimpleImputer(strategy=&#x27;most_frequent&#x27;)),\n",
       "                                                                                   (&#x27;encoder&#x27;,\n",
       "                                                                                    OneHotEncoder(handle_unknown=&#x27;ignore&#x27;))]),\n",
       "                                                                   [&#x27;직종&#x27;,\n",
       "                                                                    &#x27;세부직종&#x27;,\n",
       "                                                                    &#x27;직무태그&#x27;,\n",
       "                                                                    &#x27;근무경력&#x27;,\n",
       "                                                                    &#x27;근무형태&#x27;,\n",
       "                                                                    &#x27;근무지역&#x27;,\n",
       "                                                                    &#x27;출신대학&#x27;,\n",
       "                                                                    &#x27;대학전공&#x27;,\n",
       "                                                                    &#x27;어학시험&#x27;,\n",
       "                                                                    &#x27;자격증&#x27;])])),\n",
       "                                 (&#x27;selector&#x27;,\n",
       "                                  SelectPercentile(percentile=100))])),\n",
       "                (&#x27;classifier&#x27;, Ridge())])</pre></div></div></div><div class=\"sk-serial\"><div class=\"sk-item\"><div class=\"sk-serial\"><div class=\"sk-item\"><div class=\"sk-label-container\"><div class=\"sk-label sk-toggleable\"><input class=\"sk-toggleable__control sk-hidden--visually\" id=\"sk-estimator-id-15\" type=\"checkbox\" ><label for=\"sk-estimator-id-15\" class=\"sk-toggleable__label sk-toggleable__label-arrow\">preprocessor: Pipeline</label><div class=\"sk-toggleable__content\"><pre>Pipeline(steps=[(&#x27;column&#x27;,\n",
       "                 ColumnTransformer(transformers=[(&#x27;num&#x27;,\n",
       "                                                  Pipeline(steps=[(&#x27;imputer&#x27;,\n",
       "                                                                   SimpleImputer(strategy=&#x27;median&#x27;)),\n",
       "                                                                  (&#x27;outlier&#x27;,\n",
       "                                                                   FunctionTransformer(func=&lt;function remove_outlier at 0x000002F5E77471F0&gt;,\n",
       "                                                                                       kw_args={&#x27;q&#x27;: 0.05})),\n",
       "                                                                  (&#x27;scaler&#x27;,\n",
       "                                                                   PowerTransformer())]),\n",
       "                                                  [&#x27;대학성적&#x27;]),\n",
       "                                                 (&#x27;cat&#x27;,\n",
       "                                                  Pipeline(steps=[(&#x27;imputer&#x27;,\n",
       "                                                                   SimpleImputer(strategy=&#x27;most_frequent&#x27;)),\n",
       "                                                                  (&#x27;encoder&#x27;,\n",
       "                                                                   OneHotEncoder(handle_unknown=&#x27;ignore&#x27;))]),\n",
       "                                                  [&#x27;직종&#x27;, &#x27;세부직종&#x27;, &#x27;직무태그&#x27;, &#x27;근무경력&#x27;,\n",
       "                                                   &#x27;근무형태&#x27;, &#x27;근무지역&#x27;, &#x27;출신대학&#x27;,\n",
       "                                                   &#x27;대학전공&#x27;, &#x27;어학시험&#x27;, &#x27;자격증&#x27;])])),\n",
       "                (&#x27;selector&#x27;, SelectPercentile(percentile=100))])</pre></div></div></div><div class=\"sk-serial\"><div class=\"sk-item sk-dashed-wrapped\"><div class=\"sk-label-container\"><div class=\"sk-label sk-toggleable\"><input class=\"sk-toggleable__control sk-hidden--visually\" id=\"sk-estimator-id-16\" type=\"checkbox\" ><label for=\"sk-estimator-id-16\" class=\"sk-toggleable__label sk-toggleable__label-arrow\">column: ColumnTransformer</label><div class=\"sk-toggleable__content\"><pre>ColumnTransformer(transformers=[(&#x27;num&#x27;,\n",
       "                                 Pipeline(steps=[(&#x27;imputer&#x27;,\n",
       "                                                  SimpleImputer(strategy=&#x27;median&#x27;)),\n",
       "                                                 (&#x27;outlier&#x27;,\n",
       "                                                  FunctionTransformer(func=&lt;function remove_outlier at 0x000002F5E77471F0&gt;,\n",
       "                                                                      kw_args={&#x27;q&#x27;: 0.05})),\n",
       "                                                 (&#x27;scaler&#x27;,\n",
       "                                                  PowerTransformer())]),\n",
       "                                 [&#x27;대학성적&#x27;]),\n",
       "                                (&#x27;cat&#x27;,\n",
       "                                 Pipeline(steps=[(&#x27;imputer&#x27;,\n",
       "                                                  SimpleImputer(strategy=&#x27;most_frequent&#x27;)),\n",
       "                                                 (&#x27;encoder&#x27;,\n",
       "                                                  OneHotEncoder(handle_unknown=&#x27;ignore&#x27;))]),\n",
       "                                 [&#x27;직종&#x27;, &#x27;세부직종&#x27;, &#x27;직무태그&#x27;, &#x27;근무경력&#x27;, &#x27;근무형태&#x27;, &#x27;근무지역&#x27;,\n",
       "                                  &#x27;출신대학&#x27;, &#x27;대학전공&#x27;, &#x27;어학시험&#x27;, &#x27;자격증&#x27;])])</pre></div></div></div><div class=\"sk-parallel\"><div class=\"sk-parallel-item\"><div class=\"sk-item\"><div class=\"sk-label-container\"><div class=\"sk-label sk-toggleable\"><input class=\"sk-toggleable__control sk-hidden--visually\" id=\"sk-estimator-id-17\" type=\"checkbox\" ><label for=\"sk-estimator-id-17\" class=\"sk-toggleable__label sk-toggleable__label-arrow\">num</label><div class=\"sk-toggleable__content\"><pre>[&#x27;대학성적&#x27;]</pre></div></div></div><div class=\"sk-serial\"><div class=\"sk-item\"><div class=\"sk-serial\"><div class=\"sk-item\"><div class=\"sk-estimator sk-toggleable\"><input class=\"sk-toggleable__control sk-hidden--visually\" id=\"sk-estimator-id-18\" type=\"checkbox\" ><label for=\"sk-estimator-id-18\" class=\"sk-toggleable__label sk-toggleable__label-arrow\">SimpleImputer</label><div class=\"sk-toggleable__content\"><pre>SimpleImputer(strategy=&#x27;median&#x27;)</pre></div></div></div><div class=\"sk-item\"><div class=\"sk-estimator sk-toggleable\"><input class=\"sk-toggleable__control sk-hidden--visually\" id=\"sk-estimator-id-19\" type=\"checkbox\" ><label for=\"sk-estimator-id-19\" class=\"sk-toggleable__label sk-toggleable__label-arrow\">FunctionTransformer</label><div class=\"sk-toggleable__content\"><pre>FunctionTransformer(func=&lt;function remove_outlier at 0x000002F5E77471F0&gt;,\n",
       "                    kw_args={&#x27;q&#x27;: 0.05})</pre></div></div></div><div class=\"sk-item\"><div class=\"sk-estimator sk-toggleable\"><input class=\"sk-toggleable__control sk-hidden--visually\" id=\"sk-estimator-id-20\" type=\"checkbox\" ><label for=\"sk-estimator-id-20\" class=\"sk-toggleable__label sk-toggleable__label-arrow\">PowerTransformer</label><div class=\"sk-toggleable__content\"><pre>PowerTransformer()</pre></div></div></div></div></div></div></div></div><div class=\"sk-parallel-item\"><div class=\"sk-item\"><div class=\"sk-label-container\"><div class=\"sk-label sk-toggleable\"><input class=\"sk-toggleable__control sk-hidden--visually\" id=\"sk-estimator-id-21\" type=\"checkbox\" ><label for=\"sk-estimator-id-21\" class=\"sk-toggleable__label sk-toggleable__label-arrow\">cat</label><div class=\"sk-toggleable__content\"><pre>[&#x27;직종&#x27;, &#x27;세부직종&#x27;, &#x27;직무태그&#x27;, &#x27;근무경력&#x27;, &#x27;근무형태&#x27;, &#x27;근무지역&#x27;, &#x27;출신대학&#x27;, &#x27;대학전공&#x27;, &#x27;어학시험&#x27;, &#x27;자격증&#x27;]</pre></div></div></div><div class=\"sk-serial\"><div class=\"sk-item\"><div class=\"sk-serial\"><div class=\"sk-item\"><div class=\"sk-estimator sk-toggleable\"><input class=\"sk-toggleable__control sk-hidden--visually\" id=\"sk-estimator-id-22\" type=\"checkbox\" ><label for=\"sk-estimator-id-22\" class=\"sk-toggleable__label sk-toggleable__label-arrow\">SimpleImputer</label><div class=\"sk-toggleable__content\"><pre>SimpleImputer(strategy=&#x27;most_frequent&#x27;)</pre></div></div></div><div class=\"sk-item\"><div class=\"sk-estimator sk-toggleable\"><input class=\"sk-toggleable__control sk-hidden--visually\" id=\"sk-estimator-id-23\" type=\"checkbox\" ><label for=\"sk-estimator-id-23\" class=\"sk-toggleable__label sk-toggleable__label-arrow\">OneHotEncoder</label><div class=\"sk-toggleable__content\"><pre>OneHotEncoder(handle_unknown=&#x27;ignore&#x27;)</pre></div></div></div></div></div></div></div></div></div></div><div class=\"sk-item\"><div class=\"sk-estimator sk-toggleable\"><input class=\"sk-toggleable__control sk-hidden--visually\" id=\"sk-estimator-id-24\" type=\"checkbox\" ><label for=\"sk-estimator-id-24\" class=\"sk-toggleable__label sk-toggleable__label-arrow\">SelectPercentile</label><div class=\"sk-toggleable__content\"><pre>SelectPercentile(percentile=100)</pre></div></div></div></div></div><div class=\"sk-item\"><div class=\"sk-estimator sk-toggleable\"><input class=\"sk-toggleable__control sk-hidden--visually\" id=\"sk-estimator-id-25\" type=\"checkbox\" ><label for=\"sk-estimator-id-25\" class=\"sk-toggleable__label sk-toggleable__label-arrow\">Ridge</label><div class=\"sk-toggleable__content\"><pre>Ridge()</pre></div></div></div></div></div></div></div></div></div></div></div></div>"
      ],
      "text/plain": [
       "OptunaSearchCV(estimator=Pipeline(steps=[('preprocessor',\n",
       "                                          Pipeline(steps=[('column',\n",
       "                                                           ColumnTransformer(transformers=[('num',\n",
       "                                                                                            Pipeline(steps=[('imputer',\n",
       "                                                                                                             SimpleImputer(strategy='median')),\n",
       "                                                                                                            ('outlier',\n",
       "                                                                                                             FunctionTransformer(func=<function remove_outlier at 0x000002F5E77471F0>,\n",
       "                                                                                                                                 kw_args={'q': 0.05})),\n",
       "                                                                                                            ('scaler',\n",
       "                                                                                                             PowerTransformer())]),\n",
       "                                                                                            ['대학성적']),\n",
       "                                                                                           ('cat',\n",
       "                                                                                            Pipeline(steps=[...\n",
       "                                    'preprocessor__column__num__imputer__strategy': CategoricalDistribution(choices=('mean', 'median')),\n",
       "                                    'preprocessor__column__num__outlier__kw_args': CategoricalDistribution(choices=({'q': 0.01}, {'q': 0.05}, {'q': 0.1})),\n",
       "                                    'preprocessor__selector__percentile': IntDistribution(high=100, log=False, low=50, step=10)},\n",
       "               scoring='neg_mean_squared_error',\n",
       "               study=<optuna.study.study.Study object at 0x000002F5E775B400>)"
      ]
     },
     "execution_count": 10,
     "metadata": {},
     "output_type": "execute_result"
    }
   ],
   "source": [
    "%%time\n",
    "\n",
    "param_distributions = {\n",
    "    \"preprocessor__column__num__imputer__strategy\": CategoricalDistribution([\"mean\",\"median\"]),\n",
    "    \"preprocessor__column__num__outlier__kw_args\": CategoricalDistribution([{'q':0.01},{'q':0.05},{'q':0.1}]),  \n",
    "    \"preprocessor__selector__percentile\": IntDistribution(50,100,step=10), \n",
    "    \"classifier__alpha\": IntDistribution(1,10),\n",
    "}\n",
    "\n",
    "optuna.logging.set_verbosity(optuna.logging.WARNING)\n",
    "optuna_search = OptunaSearchCV(model, param_distributions, cv=5, \n",
    "                               scoring='neg_mean_squared_error', n_trials=20,\n",
    "                               study=optuna.create_study(sampler=optuna.samplers.TPESampler(seed=100), direction='maximize'))\n",
    "optuna_search.fit(X_train, y_train)"
   ]
  },
  {
   "cell_type": "code",
   "execution_count": 11,
   "metadata": {},
   "outputs": [
    {
     "name": "stdout",
     "output_type": "stream",
     "text": [
      "\n",
      "Best params: {'preprocessor__column__num__imputer__strategy': 'median', 'preprocessor__column__num__outlier__kw_args': {'q': 0.01}, 'preprocessor__selector__percentile': 90, 'classifier__alpha': 4}\n",
      "\n",
      "Best score: 915.65\n"
     ]
    }
   ],
   "source": [
    "print(f\"\\nBest params: {optuna_search.best_params_}\")\n",
    "print(f\"\\nBest score: {np.sqrt(-1*optuna_search.best_score_):.2f}\")"
   ]
  },
  {
   "cell_type": "markdown",
   "metadata": {},
   "source": [
    "#### Submission 생성"
   ]
  },
  {
   "cell_type": "code",
   "execution_count": 12,
   "metadata": {},
   "outputs": [
    {
     "name": "stdout",
     "output_type": "stream",
     "text": [
      "\n",
      "Tuned LM CV scores:  [ 819.9454163   792.65524928  890.39230139  942.4883535  1100.17731068]\n",
      "Tuned LM CV mean = 915.65 with std = 455.20\n"
     ]
    }
   ],
   "source": [
    "# 옵튜나는 다시 모델링을 해야한다.\n",
    "# 최적화된 하이퍼파라미터로 파이프라인 재설정\n",
    "\n",
    "model.set_params(**optuna_search.best_params_)\n",
    "\n",
    "# OOF Prediction\n",
    "models = cross_validate(model, \n",
    "                        X_train, y_train, \n",
    "                        cv=5, \n",
    "                        scoring='neg_mean_squared_error', \n",
    "                        return_estimator=True)\n",
    "oof_pred = np.array([m.predict(X_test) for m in models['estimator']]).mean(axis=0)\n",
    "\n",
    "#5번의 cv를 통해서 얻은 값들을 평균냄\n",
    "\n",
    "scores = models['test_score']\n",
    "print(\"\\nTuned LM CV scores: \", np.sqrt(-1*scores))\n",
    "print(\"Tuned LM CV mean = %.2f\" % np.sqrt(-1*scores.mean()), \"with std = %.2f\" % np.sqrt(scores.std()))"
   ]
  },
  {
   "cell_type": "code",
   "execution_count": 13,
   "metadata": {},
   "outputs": [],
   "source": [
    "# submission 화일 생성\n",
    "filename = f'LM_{LM_VERSION}_{np.sqrt(-1*scores.mean()):.2f}.csv'\n",
    "pd.DataFrame({'ID':test_id, 'Salary':oof_pred}).to_csv(filename, index=False)"
   ]
  },
  {
   "cell_type": "markdown",
   "metadata": {},
   "source": [
    "<font color=\"#CC3D3D\"><p>\n",
    "# End"
   ]
  }
 ],
 "metadata": {
  "kernelspec": {
   "display_name": "Python 3 (ipykernel)",
   "language": "python",
   "name": "python3"
  },
  "language_info": {
   "codemirror_mode": {
    "name": "ipython",
    "version": 3
   },
   "file_extension": ".py",
   "mimetype": "text/x-python",
   "name": "python",
   "nbconvert_exporter": "python",
   "pygments_lexer": "ipython3",
   "version": "3.9.12"
  }
 },
 "nbformat": 4,
 "nbformat_minor": 1
}
