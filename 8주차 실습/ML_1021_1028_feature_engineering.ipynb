{
 "cells": [
  {
   "cell_type": "markdown",
   "metadata": {
    "colab_type": "text",
    "id": "9G90gssa6Htj"
   },
   "source": [
    "<font color=\"#CC3D3D\"><p>\n",
    "# Feature Engineering"
   ]
  },
  {
   "cell_type": "markdown",
   "metadata": {},
   "source": [
    "Coming up with features is difficult, time-consuming, requires expert knowledge. \"Applied machine learning\" is basically feature engineering.    \n",
    "*- Andrew Ng, Machine Learning and AI via brain simulations -*\n",
    "<img align=\"left\" src=\"http://drive.google.com/uc?export=view&id=1DxffnM22lRGsrf1wI28QLgd6YG9yOa3n\" width=800 height=600>"
   ]
  },
  {
   "cell_type": "markdown",
   "metadata": {},
   "source": [
    "<font color=\"darkgreen\"><p>   \n",
    "#### Scikit-Learn Preprocessor Interface      \n",
    "① Import the preprocessor   \n",
    "② Instantiate the preprocessor   \n",
    "③ Fit the data to the preprocessor: .fit()   \n",
    "④ Generate the preprocessed data: .transform()   "
   ]
  },
  {
   "cell_type": "markdown",
   "metadata": {},
   "source": [
    "1. [Missing Data Hadling](#1.-Missing-Data-Hadling)\n",
    "2. [Categorical Feature Transformation](#2.-Categorical-Feature-Transformation)\n",
    "3. [Numerical Feature Transformation](#3.-Numerical-Feature-Transformation)\n",
    "4. [Feature Selection](#4.-Feature-Selection)\n",
    "5. [Dimensionality Reduction](#5.-Dimensionality-Reduction)\n",
    "6. [Feature Generation](#6.-Feature-Generation)"
   ]
  },
  {
   "cell_type": "code",
   "execution_count": 1,
   "metadata": {},
   "outputs": [
    {
     "data": {
      "text/plain": [
       "'1.1.3'"
      ]
     },
     "execution_count": 1,
     "metadata": {},
     "output_type": "execute_result"
    }
   ],
   "source": [
    "import sklearn; sklearn.__version__"
   ]
  },
  {
   "cell_type": "code",
   "execution_count": 2,
   "metadata": {
    "colab": {
     "autoexec": {
      "startup": false,
      "wait_interval": 0
     }
    },
    "colab_type": "code",
    "id": "--DI-teF6Htl"
   },
   "outputs": [],
   "source": [
    "import pandas as pd\n",
    "import numpy as np\n",
    "import matplotlib.pyplot as plt\n",
    "%matplotlib inline\n",
    "import warnings\n",
    "warnings.filterwarnings(\"ignore\")\n",
    "\n",
    "pd.set_option(\"display.max_columns\", 30)"
   ]
  },
  {
   "cell_type": "markdown",
   "metadata": {},
   "source": [
    "**[Allstate Purchase Prediction Challenge](https://www.kaggle.com/c/allstate-purchase-prediction-challenge/data)**\n",
    "- 고객이 자동차 보험상품을 구매하기까지의 transaction 기록 \n",
    "- 각 customer ID 별로 quote history 포함\n",
    "- 각 customer ID 별 마지막 행이 구매 포인트 (record_type=1)"
   ]
  },
  {
   "cell_type": "markdown",
   "metadata": {},
   "source": [
    "*Variable Descriptions*\n",
    "- customer_ID\n",
    "- shopping_pt - Unique identifier for the shopping point of a given customer\n",
    "- record_type - 0=shopping point, 1=purchase point\n",
    "- day - Day of the week (0-6, 0=Monday)\n",
    "- time - Time of day (HH:MM)\n",
    "- state - State where shopping point occurred\n",
    "- location - Location ID where shopping point occurred\n",
    "- group_size - How many people will be covered under the policy (1, 2, 3 or 4)\n",
    "- homeowner - Whether the customer owns a home or not (0=no, 1=yes)\n",
    "- car_age - Age of the customer’s car\n",
    "- car_value - How valuable was the customer’s car when new\n",
    "- risk_factor - An ordinal assessment of how risky the customer is (1, 2, 3, 4)\n",
    "- age_oldest - Age of the oldest person in customer's group\n",
    "- age_youngest - Age of the youngest person in customer’s group\n",
    "- married_couple - Does the customer group contain a married couple (0=no, 1=yes)\n",
    "- C_previous - What the customer formerly had or currently has for product option C (0=nothing, 1, 2, 3,4)\n",
    "- duration_previous -  how long (in years) the customer was covered by their previous issuer\n",
    "- A,B,C,D,E,F,G - the coverage options\n",
    "- cost - cost of the quoted coverage options"
   ]
  },
  {
   "cell_type": "code",
   "execution_count": 3,
   "metadata": {
    "colab": {
     "autoexec": {
      "startup": false,
      "wait_interval": 0
     }
    },
    "colab_type": "code",
    "id": "--DI-teF6Htl"
   },
   "outputs": [
    {
     "data": {
      "text/html": [
       "<div>\n",
       "<style scoped>\n",
       "    .dataframe tbody tr th:only-of-type {\n",
       "        vertical-align: middle;\n",
       "    }\n",
       "\n",
       "    .dataframe tbody tr th {\n",
       "        vertical-align: top;\n",
       "    }\n",
       "\n",
       "    .dataframe thead th {\n",
       "        text-align: right;\n",
       "    }\n",
       "</style>\n",
       "<table border=\"1\" class=\"dataframe\">\n",
       "  <thead>\n",
       "    <tr style=\"text-align: right;\">\n",
       "      <th></th>\n",
       "      <th>customer_ID</th>\n",
       "      <th>shopping_pt</th>\n",
       "      <th>record_type</th>\n",
       "      <th>day</th>\n",
       "      <th>time</th>\n",
       "      <th>state</th>\n",
       "      <th>location</th>\n",
       "      <th>group_size</th>\n",
       "      <th>homeowner</th>\n",
       "      <th>car_age</th>\n",
       "      <th>car_value</th>\n",
       "      <th>risk_factor</th>\n",
       "      <th>age_oldest</th>\n",
       "      <th>age_youngest</th>\n",
       "      <th>married_couple</th>\n",
       "      <th>C_previous</th>\n",
       "      <th>duration_previous</th>\n",
       "      <th>A</th>\n",
       "      <th>B</th>\n",
       "      <th>C</th>\n",
       "      <th>D</th>\n",
       "      <th>E</th>\n",
       "      <th>F</th>\n",
       "      <th>G</th>\n",
       "      <th>cost</th>\n",
       "    </tr>\n",
       "  </thead>\n",
       "  <tbody>\n",
       "    <tr>\n",
       "      <th>0</th>\n",
       "      <td>10000000</td>\n",
       "      <td>1</td>\n",
       "      <td>0</td>\n",
       "      <td>0</td>\n",
       "      <td>08:35</td>\n",
       "      <td>IN</td>\n",
       "      <td>10001</td>\n",
       "      <td>2</td>\n",
       "      <td>0</td>\n",
       "      <td>2</td>\n",
       "      <td>g</td>\n",
       "      <td>3.0</td>\n",
       "      <td>46</td>\n",
       "      <td>42</td>\n",
       "      <td>1</td>\n",
       "      <td>1.0</td>\n",
       "      <td>2.0</td>\n",
       "      <td>1</td>\n",
       "      <td>0</td>\n",
       "      <td>2</td>\n",
       "      <td>2</td>\n",
       "      <td>1</td>\n",
       "      <td>2</td>\n",
       "      <td>2</td>\n",
       "      <td>633</td>\n",
       "    </tr>\n",
       "    <tr>\n",
       "      <th>1</th>\n",
       "      <td>10000000</td>\n",
       "      <td>2</td>\n",
       "      <td>0</td>\n",
       "      <td>0</td>\n",
       "      <td>08:38</td>\n",
       "      <td>IN</td>\n",
       "      <td>10001</td>\n",
       "      <td>2</td>\n",
       "      <td>0</td>\n",
       "      <td>2</td>\n",
       "      <td>g</td>\n",
       "      <td>3.0</td>\n",
       "      <td>46</td>\n",
       "      <td>42</td>\n",
       "      <td>1</td>\n",
       "      <td>1.0</td>\n",
       "      <td>2.0</td>\n",
       "      <td>1</td>\n",
       "      <td>0</td>\n",
       "      <td>2</td>\n",
       "      <td>2</td>\n",
       "      <td>1</td>\n",
       "      <td>2</td>\n",
       "      <td>1</td>\n",
       "      <td>630</td>\n",
       "    </tr>\n",
       "    <tr>\n",
       "      <th>2</th>\n",
       "      <td>10000000</td>\n",
       "      <td>3</td>\n",
       "      <td>0</td>\n",
       "      <td>0</td>\n",
       "      <td>08:38</td>\n",
       "      <td>IN</td>\n",
       "      <td>10001</td>\n",
       "      <td>2</td>\n",
       "      <td>0</td>\n",
       "      <td>2</td>\n",
       "      <td>g</td>\n",
       "      <td>3.0</td>\n",
       "      <td>46</td>\n",
       "      <td>42</td>\n",
       "      <td>1</td>\n",
       "      <td>1.0</td>\n",
       "      <td>2.0</td>\n",
       "      <td>1</td>\n",
       "      <td>0</td>\n",
       "      <td>2</td>\n",
       "      <td>2</td>\n",
       "      <td>1</td>\n",
       "      <td>2</td>\n",
       "      <td>1</td>\n",
       "      <td>630</td>\n",
       "    </tr>\n",
       "    <tr>\n",
       "      <th>3</th>\n",
       "      <td>10000000</td>\n",
       "      <td>4</td>\n",
       "      <td>0</td>\n",
       "      <td>0</td>\n",
       "      <td>08:39</td>\n",
       "      <td>IN</td>\n",
       "      <td>10001</td>\n",
       "      <td>2</td>\n",
       "      <td>0</td>\n",
       "      <td>2</td>\n",
       "      <td>g</td>\n",
       "      <td>3.0</td>\n",
       "      <td>46</td>\n",
       "      <td>42</td>\n",
       "      <td>1</td>\n",
       "      <td>1.0</td>\n",
       "      <td>2.0</td>\n",
       "      <td>1</td>\n",
       "      <td>0</td>\n",
       "      <td>2</td>\n",
       "      <td>2</td>\n",
       "      <td>1</td>\n",
       "      <td>2</td>\n",
       "      <td>1</td>\n",
       "      <td>630</td>\n",
       "    </tr>\n",
       "    <tr>\n",
       "      <th>4</th>\n",
       "      <td>10000000</td>\n",
       "      <td>5</td>\n",
       "      <td>0</td>\n",
       "      <td>0</td>\n",
       "      <td>11:55</td>\n",
       "      <td>IN</td>\n",
       "      <td>10001</td>\n",
       "      <td>2</td>\n",
       "      <td>0</td>\n",
       "      <td>2</td>\n",
       "      <td>g</td>\n",
       "      <td>3.0</td>\n",
       "      <td>46</td>\n",
       "      <td>42</td>\n",
       "      <td>1</td>\n",
       "      <td>1.0</td>\n",
       "      <td>2.0</td>\n",
       "      <td>1</td>\n",
       "      <td>0</td>\n",
       "      <td>2</td>\n",
       "      <td>2</td>\n",
       "      <td>1</td>\n",
       "      <td>2</td>\n",
       "      <td>1</td>\n",
       "      <td>630</td>\n",
       "    </tr>\n",
       "  </tbody>\n",
       "</table>\n",
       "</div>"
      ],
      "text/plain": [
       "   customer_ID  shopping_pt  record_type  day   time state  location  \\\n",
       "0     10000000            1            0    0  08:35    IN     10001   \n",
       "1     10000000            2            0    0  08:38    IN     10001   \n",
       "2     10000000            3            0    0  08:38    IN     10001   \n",
       "3     10000000            4            0    0  08:39    IN     10001   \n",
       "4     10000000            5            0    0  11:55    IN     10001   \n",
       "\n",
       "   group_size  homeowner  car_age car_value  risk_factor  age_oldest  \\\n",
       "0           2          0        2         g          3.0          46   \n",
       "1           2          0        2         g          3.0          46   \n",
       "2           2          0        2         g          3.0          46   \n",
       "3           2          0        2         g          3.0          46   \n",
       "4           2          0        2         g          3.0          46   \n",
       "\n",
       "   age_youngest  married_couple  C_previous  duration_previous  A  B  C  D  E  \\\n",
       "0            42               1         1.0                2.0  1  0  2  2  1   \n",
       "1            42               1         1.0                2.0  1  0  2  2  1   \n",
       "2            42               1         1.0                2.0  1  0  2  2  1   \n",
       "3            42               1         1.0                2.0  1  0  2  2  1   \n",
       "4            42               1         1.0                2.0  1  0  2  2  1   \n",
       "\n",
       "   F  G  cost  \n",
       "0  2  2   633  \n",
       "1  2  1   630  \n",
       "2  2  1   630  \n",
       "3  2  1   630  \n",
       "4  2  1   630  "
      ]
     },
     "execution_count": 3,
     "metadata": {},
     "output_type": "execute_result"
    }
   ],
   "source": [
    "data = pd.read_csv('allstate_train.csv')\n",
    "data.head()"
   ]
  },
  {
   "cell_type": "code",
   "execution_count": 4,
   "metadata": {},
   "outputs": [
    {
     "data": {
      "text/html": [
       "<div>\n",
       "<style scoped>\n",
       "    .dataframe tbody tr th:only-of-type {\n",
       "        vertical-align: middle;\n",
       "    }\n",
       "\n",
       "    .dataframe tbody tr th {\n",
       "        vertical-align: top;\n",
       "    }\n",
       "\n",
       "    .dataframe thead th {\n",
       "        text-align: right;\n",
       "    }\n",
       "</style>\n",
       "<table border=\"1\" class=\"dataframe\">\n",
       "  <thead>\n",
       "    <tr style=\"text-align: right;\">\n",
       "      <th></th>\n",
       "      <th>customer_ID</th>\n",
       "      <th>shopping_pt</th>\n",
       "      <th>record_type</th>\n",
       "      <th>day</th>\n",
       "      <th>time</th>\n",
       "      <th>state</th>\n",
       "      <th>location</th>\n",
       "      <th>group_size</th>\n",
       "      <th>homeowner</th>\n",
       "      <th>car_age</th>\n",
       "      <th>car_value</th>\n",
       "      <th>risk_factor</th>\n",
       "      <th>age_oldest</th>\n",
       "      <th>age_youngest</th>\n",
       "      <th>married_couple</th>\n",
       "      <th>C_previous</th>\n",
       "      <th>duration_previous</th>\n",
       "      <th>A</th>\n",
       "      <th>B</th>\n",
       "      <th>C</th>\n",
       "      <th>D</th>\n",
       "      <th>E</th>\n",
       "      <th>F</th>\n",
       "      <th>G</th>\n",
       "      <th>cost</th>\n",
       "    </tr>\n",
       "  </thead>\n",
       "  <tbody>\n",
       "    <tr>\n",
       "      <th>665243</th>\n",
       "      <td>10152724</td>\n",
       "      <td>1</td>\n",
       "      <td>0</td>\n",
       "      <td>3</td>\n",
       "      <td>13:42</td>\n",
       "      <td>KY</td>\n",
       "      <td>10204</td>\n",
       "      <td>1</td>\n",
       "      <td>1</td>\n",
       "      <td>1</td>\n",
       "      <td>e</td>\n",
       "      <td>NaN</td>\n",
       "      <td>20</td>\n",
       "      <td>20</td>\n",
       "      <td>0</td>\n",
       "      <td>1.0</td>\n",
       "      <td>4.0</td>\n",
       "      <td>0</td>\n",
       "      <td>0</td>\n",
       "      <td>3</td>\n",
       "      <td>3</td>\n",
       "      <td>0</td>\n",
       "      <td>0</td>\n",
       "      <td>2</td>\n",
       "      <td>642</td>\n",
       "    </tr>\n",
       "    <tr>\n",
       "      <th>665244</th>\n",
       "      <td>10152724</td>\n",
       "      <td>2</td>\n",
       "      <td>0</td>\n",
       "      <td>3</td>\n",
       "      <td>13:43</td>\n",
       "      <td>KY</td>\n",
       "      <td>10204</td>\n",
       "      <td>1</td>\n",
       "      <td>1</td>\n",
       "      <td>1</td>\n",
       "      <td>e</td>\n",
       "      <td>NaN</td>\n",
       "      <td>20</td>\n",
       "      <td>20</td>\n",
       "      <td>0</td>\n",
       "      <td>1.0</td>\n",
       "      <td>4.0</td>\n",
       "      <td>1</td>\n",
       "      <td>0</td>\n",
       "      <td>2</td>\n",
       "      <td>3</td>\n",
       "      <td>0</td>\n",
       "      <td>2</td>\n",
       "      <td>2</td>\n",
       "      <td>677</td>\n",
       "    </tr>\n",
       "    <tr>\n",
       "      <th>665245</th>\n",
       "      <td>10152724</td>\n",
       "      <td>3</td>\n",
       "      <td>0</td>\n",
       "      <td>3</td>\n",
       "      <td>13:43</td>\n",
       "      <td>KY</td>\n",
       "      <td>10204</td>\n",
       "      <td>1</td>\n",
       "      <td>1</td>\n",
       "      <td>1</td>\n",
       "      <td>e</td>\n",
       "      <td>NaN</td>\n",
       "      <td>20</td>\n",
       "      <td>20</td>\n",
       "      <td>0</td>\n",
       "      <td>1.0</td>\n",
       "      <td>4.0</td>\n",
       "      <td>1</td>\n",
       "      <td>0</td>\n",
       "      <td>2</td>\n",
       "      <td>3</td>\n",
       "      <td>0</td>\n",
       "      <td>2</td>\n",
       "      <td>2</td>\n",
       "      <td>677</td>\n",
       "    </tr>\n",
       "    <tr>\n",
       "      <th>665246</th>\n",
       "      <td>10152724</td>\n",
       "      <td>4</td>\n",
       "      <td>0</td>\n",
       "      <td>3</td>\n",
       "      <td>13:44</td>\n",
       "      <td>KY</td>\n",
       "      <td>10204</td>\n",
       "      <td>1</td>\n",
       "      <td>1</td>\n",
       "      <td>1</td>\n",
       "      <td>e</td>\n",
       "      <td>NaN</td>\n",
       "      <td>20</td>\n",
       "      <td>20</td>\n",
       "      <td>0</td>\n",
       "      <td>1.0</td>\n",
       "      <td>4.0</td>\n",
       "      <td>1</td>\n",
       "      <td>0</td>\n",
       "      <td>2</td>\n",
       "      <td>3</td>\n",
       "      <td>0</td>\n",
       "      <td>2</td>\n",
       "      <td>2</td>\n",
       "      <td>677</td>\n",
       "    </tr>\n",
       "    <tr>\n",
       "      <th>665247</th>\n",
       "      <td>10152724</td>\n",
       "      <td>5</td>\n",
       "      <td>0</td>\n",
       "      <td>3</td>\n",
       "      <td>13:46</td>\n",
       "      <td>KY</td>\n",
       "      <td>10204</td>\n",
       "      <td>1</td>\n",
       "      <td>1</td>\n",
       "      <td>1</td>\n",
       "      <td>e</td>\n",
       "      <td>NaN</td>\n",
       "      <td>20</td>\n",
       "      <td>20</td>\n",
       "      <td>0</td>\n",
       "      <td>1.0</td>\n",
       "      <td>4.0</td>\n",
       "      <td>1</td>\n",
       "      <td>0</td>\n",
       "      <td>2</td>\n",
       "      <td>3</td>\n",
       "      <td>0</td>\n",
       "      <td>2</td>\n",
       "      <td>2</td>\n",
       "      <td>685</td>\n",
       "    </tr>\n",
       "    <tr>\n",
       "      <th>665248</th>\n",
       "      <td>10152724</td>\n",
       "      <td>6</td>\n",
       "      <td>1</td>\n",
       "      <td>1</td>\n",
       "      <td>15:14</td>\n",
       "      <td>KY</td>\n",
       "      <td>10204</td>\n",
       "      <td>1</td>\n",
       "      <td>1</td>\n",
       "      <td>1</td>\n",
       "      <td>d</td>\n",
       "      <td>NaN</td>\n",
       "      <td>20</td>\n",
       "      <td>20</td>\n",
       "      <td>0</td>\n",
       "      <td>4.0</td>\n",
       "      <td>4.0</td>\n",
       "      <td>1</td>\n",
       "      <td>0</td>\n",
       "      <td>3</td>\n",
       "      <td>3</td>\n",
       "      <td>0</td>\n",
       "      <td>2</td>\n",
       "      <td>2</td>\n",
       "      <td>681</td>\n",
       "    </tr>\n",
       "  </tbody>\n",
       "</table>\n",
       "</div>"
      ],
      "text/plain": [
       "        customer_ID  shopping_pt  record_type  day   time state  location  \\\n",
       "665243     10152724            1            0    3  13:42    KY     10204   \n",
       "665244     10152724            2            0    3  13:43    KY     10204   \n",
       "665245     10152724            3            0    3  13:43    KY     10204   \n",
       "665246     10152724            4            0    3  13:44    KY     10204   \n",
       "665247     10152724            5            0    3  13:46    KY     10204   \n",
       "665248     10152724            6            1    1  15:14    KY     10204   \n",
       "\n",
       "        group_size  homeowner  car_age car_value  risk_factor  age_oldest  \\\n",
       "665243           1          1        1         e          NaN          20   \n",
       "665244           1          1        1         e          NaN          20   \n",
       "665245           1          1        1         e          NaN          20   \n",
       "665246           1          1        1         e          NaN          20   \n",
       "665247           1          1        1         e          NaN          20   \n",
       "665248           1          1        1         d          NaN          20   \n",
       "\n",
       "        age_youngest  married_couple  C_previous  duration_previous  A  B  C  \\\n",
       "665243            20               0         1.0                4.0  0  0  3   \n",
       "665244            20               0         1.0                4.0  1  0  2   \n",
       "665245            20               0         1.0                4.0  1  0  2   \n",
       "665246            20               0         1.0                4.0  1  0  2   \n",
       "665247            20               0         1.0                4.0  1  0  2   \n",
       "665248            20               0         4.0                4.0  1  0  3   \n",
       "\n",
       "        D  E  F  G  cost  \n",
       "665243  3  0  0  2   642  \n",
       "665244  3  0  2  2   677  \n",
       "665245  3  0  2  2   677  \n",
       "665246  3  0  2  2   677  \n",
       "665247  3  0  2  2   685  \n",
       "665248  3  0  2  2   681  "
      ]
     },
     "execution_count": 4,
     "metadata": {},
     "output_type": "execute_result"
    }
   ],
   "source": [
    "data.query('customer_ID == 10152724')"
   ]
  },
  {
   "cell_type": "code",
   "execution_count": 5,
   "metadata": {
    "colab": {
     "autoexec": {
      "startup": false,
      "wait_interval": 0
     }
    },
    "colab_type": "code",
    "id": "LTvUrK1l6Hts"
   },
   "outputs": [
    {
     "data": {
      "text/html": [
       "<div>\n",
       "<style scoped>\n",
       "    .dataframe tbody tr th:only-of-type {\n",
       "        vertical-align: middle;\n",
       "    }\n",
       "\n",
       "    .dataframe tbody tr th {\n",
       "        vertical-align: top;\n",
       "    }\n",
       "\n",
       "    .dataframe thead th {\n",
       "        text-align: right;\n",
       "    }\n",
       "</style>\n",
       "<table border=\"1\" class=\"dataframe\">\n",
       "  <thead>\n",
       "    <tr style=\"text-align: right;\">\n",
       "      <th></th>\n",
       "      <th>group_size</th>\n",
       "      <th>car_age</th>\n",
       "      <th>age_oldest</th>\n",
       "      <th>age_youngest</th>\n",
       "      <th>duration_previous</th>\n",
       "      <th>cost</th>\n",
       "      <th>day</th>\n",
       "      <th>homeowner</th>\n",
       "      <th>car_value</th>\n",
       "      <th>risk_factor</th>\n",
       "      <th>married_couple</th>\n",
       "      <th>C_previous</th>\n",
       "      <th>state</th>\n",
       "      <th>shopping_pt</th>\n",
       "    </tr>\n",
       "  </thead>\n",
       "  <tbody>\n",
       "    <tr>\n",
       "      <th>0</th>\n",
       "      <td>2</td>\n",
       "      <td>2</td>\n",
       "      <td>46</td>\n",
       "      <td>42</td>\n",
       "      <td>2.0</td>\n",
       "      <td>633</td>\n",
       "      <td>0</td>\n",
       "      <td>0</td>\n",
       "      <td>g</td>\n",
       "      <td>3.0</td>\n",
       "      <td>1</td>\n",
       "      <td>1.0</td>\n",
       "      <td>IN</td>\n",
       "      <td>1</td>\n",
       "    </tr>\n",
       "    <tr>\n",
       "      <th>1</th>\n",
       "      <td>2</td>\n",
       "      <td>2</td>\n",
       "      <td>46</td>\n",
       "      <td>42</td>\n",
       "      <td>2.0</td>\n",
       "      <td>630</td>\n",
       "      <td>0</td>\n",
       "      <td>0</td>\n",
       "      <td>g</td>\n",
       "      <td>3.0</td>\n",
       "      <td>1</td>\n",
       "      <td>1.0</td>\n",
       "      <td>IN</td>\n",
       "      <td>2</td>\n",
       "    </tr>\n",
       "    <tr>\n",
       "      <th>2</th>\n",
       "      <td>2</td>\n",
       "      <td>2</td>\n",
       "      <td>46</td>\n",
       "      <td>42</td>\n",
       "      <td>2.0</td>\n",
       "      <td>630</td>\n",
       "      <td>0</td>\n",
       "      <td>0</td>\n",
       "      <td>g</td>\n",
       "      <td>3.0</td>\n",
       "      <td>1</td>\n",
       "      <td>1.0</td>\n",
       "      <td>IN</td>\n",
       "      <td>3</td>\n",
       "    </tr>\n",
       "    <tr>\n",
       "      <th>3</th>\n",
       "      <td>2</td>\n",
       "      <td>2</td>\n",
       "      <td>46</td>\n",
       "      <td>42</td>\n",
       "      <td>2.0</td>\n",
       "      <td>630</td>\n",
       "      <td>0</td>\n",
       "      <td>0</td>\n",
       "      <td>g</td>\n",
       "      <td>3.0</td>\n",
       "      <td>1</td>\n",
       "      <td>1.0</td>\n",
       "      <td>IN</td>\n",
       "      <td>4</td>\n",
       "    </tr>\n",
       "    <tr>\n",
       "      <th>4</th>\n",
       "      <td>2</td>\n",
       "      <td>2</td>\n",
       "      <td>46</td>\n",
       "      <td>42</td>\n",
       "      <td>2.0</td>\n",
       "      <td>630</td>\n",
       "      <td>0</td>\n",
       "      <td>0</td>\n",
       "      <td>g</td>\n",
       "      <td>3.0</td>\n",
       "      <td>1</td>\n",
       "      <td>1.0</td>\n",
       "      <td>IN</td>\n",
       "      <td>5</td>\n",
       "    </tr>\n",
       "  </tbody>\n",
       "</table>\n",
       "</div>"
      ],
      "text/plain": [
       "   group_size  car_age  age_oldest  age_youngest  duration_previous  cost  \\\n",
       "0           2        2          46            42                2.0   633   \n",
       "1           2        2          46            42                2.0   630   \n",
       "2           2        2          46            42                2.0   630   \n",
       "3           2        2          46            42                2.0   630   \n",
       "4           2        2          46            42                2.0   630   \n",
       "\n",
       "   day  homeowner car_value  risk_factor  married_couple  C_previous state  \\\n",
       "0    0          0         g          3.0               1         1.0    IN   \n",
       "1    0          0         g          3.0               1         1.0    IN   \n",
       "2    0          0         g          3.0               1         1.0    IN   \n",
       "3    0          0         g          3.0               1         1.0    IN   \n",
       "4    0          0         g          3.0               1         1.0    IN   \n",
       "\n",
       "   shopping_pt  \n",
       "0            1  \n",
       "1            2  \n",
       "2            3  \n",
       "3            4  \n",
       "4            5  "
      ]
     },
     "execution_count": 5,
     "metadata": {},
     "output_type": "execute_result"
    }
   ],
   "source": [
    "# 분석의 편의를 위해 사용할 Feature을 범주형과 연속형으로 구분\n",
    "con = ['group_size','car_age','age_oldest','age_youngest','duration_previous','cost'] #수치형\n",
    "cat = ['day','homeowner','car_value','risk_factor','married_couple','C_previous','state','shopping_pt'] #범주형\n",
    "X = data[con+cat]\n",
    "X.head()"
   ]
  },
  {
   "cell_type": "code",
   "execution_count": 6,
   "metadata": {},
   "outputs": [
    {
     "data": {
      "text/plain": [
       "0         0\n",
       "1         0\n",
       "2         0\n",
       "3         0\n",
       "4         0\n",
       "         ..\n",
       "665244    0\n",
       "665245    0\n",
       "665246    0\n",
       "665247    0\n",
       "665248    1\n",
       "Name: record_type, Length: 665249, dtype: int64"
      ]
     },
     "execution_count": 6,
     "metadata": {},
     "output_type": "execute_result"
    }
   ],
   "source": [
    "y = data['record_type']\n",
    "y"
   ]
  },
  {
   "cell_type": "code",
   "execution_count": 7,
   "metadata": {},
   "outputs": [],
   "source": [
    "from sklearn.model_selection import train_test_split\n",
    "\n",
    "X_train, X_test, y_train, y_test = train_test_split(X, y, test_size=0.5, random_state=0) "
   ]
  },
  {
   "cell_type": "markdown",
   "metadata": {
    "colab_type": "text",
    "id": "a5l5uI_86Hty"
   },
   "source": [
    "## 1. Missing Data Hadling"
   ]
  },
  {
   "cell_type": "markdown",
   "metadata": {
    "colab_type": "text",
    "id": "ntZwZjJF6Ht0"
   },
   "source": [
    "##### Check missing values"
   ]
  },
  {
   "cell_type": "code",
   "execution_count": 8,
   "metadata": {
    "colab": {
     "autoexec": {
      "startup": false,
      "wait_interval": 0
     }
    },
    "colab_type": "code",
    "id": "DA6XSglS6Ht1",
    "outputId": "45cf247b-75c4-42b7-e4e8-03339c727f48",
    "scrolled": false
   },
   "outputs": [
    {
     "name": "stdout",
     "output_type": "stream",
     "text": [
      "group_size                0\n",
      "car_age                   0\n",
      "age_oldest                0\n",
      "age_youngest              0\n",
      "duration_previous      9318\n",
      "cost                      0\n",
      "day                       0\n",
      "homeowner                 0\n",
      "car_value              1002\n",
      "risk_factor          120320\n",
      "married_couple            0\n",
      "C_previous             9318\n",
      "state                   537\n",
      "shopping_pt               0\n",
      "dtype: int64 \n",
      "\n",
      "group_size                0\n",
      "car_age                   0\n",
      "age_oldest                0\n",
      "age_youngest              0\n",
      "duration_previous      9393\n",
      "cost                      0\n",
      "day                       0\n",
      "homeowner                 0\n",
      "car_value               961\n",
      "risk_factor          120098\n",
      "married_couple            0\n",
      "C_previous             9393\n",
      "state                   482\n",
      "shopping_pt               0\n",
      "dtype: int64\n"
     ]
    }
   ],
   "source": [
    "print(X_train.isnull().sum(), '\\n')\n",
    "print(X_test.isnull().sum())"
   ]
  },
  {
   "cell_type": "markdown",
   "metadata": {
    "colab_type": "text",
    "id": "o3uPhSNZ6HuA"
   },
   "source": [
    "### Dropping"
   ]
  },
  {
   "cell_type": "code",
   "execution_count": 9,
   "metadata": {
    "colab": {
     "autoexec": {
      "startup": false,
      "wait_interval": 0
     }
    },
    "colab_type": "code",
    "id": "oq61Q2E36HuC",
    "outputId": "e59fc2a0-a6fb-4b6b-d396-9766632b4c9f"
   },
   "outputs": [
    {
     "data": {
      "text/plain": [
       "((332624, 14), (332625, 14))"
      ]
     },
     "execution_count": 9,
     "metadata": {},
     "output_type": "execute_result"
    }
   ],
   "source": [
    "X_train.shape, X_test.shape"
   ]
  },
  {
   "cell_type": "code",
   "execution_count": 10,
   "metadata": {
    "colab": {
     "autoexec": {
      "startup": false,
      "wait_interval": 0
     }
    },
    "colab_type": "code",
    "id": "oq61Q2E36HuC",
    "outputId": "e59fc2a0-a6fb-4b6b-d396-9766632b4c9f"
   },
   "outputs": [
    {
     "data": {
      "text/plain": [
       "(208135, 14)"
      ]
     },
     "execution_count": 10,
     "metadata": {},
     "output_type": "execute_result"
    }
   ],
   "source": [
    "X_train_drop = X_train.dropna(subset=['state','car_value','risk_factor','C_previous','duration_previous'])\n",
    "X_test_drop = X_test.dropna(subset=['state','car_value','risk_factor','C_previous','duration_previous'])\n",
    "\n",
    "X_train_drop.shape"
   ]
  },
  {
   "cell_type": "code",
   "execution_count": 11,
   "metadata": {},
   "outputs": [],
   "source": [
    "#결측값이 하나라도 있는 feature를 자동으로 없애고 싶을 때 아래 코드 사용:\n",
    "#X_train.dropna(subset=X_train.isnull().sum()[X_train.isnull().sum().gt(0)].index.values)"
   ]
  },
  {
   "cell_type": "code",
   "execution_count": 12,
   "metadata": {
    "colab": {
     "autoexec": {
      "startup": false,
      "wait_interval": 0
     }
    },
    "colab_type": "code",
    "id": "jZQ8nO276HuR",
    "outputId": "6d9f0a79-c9eb-45a5-cb0d-6b62c3aff9da"
   },
   "outputs": [
    {
     "data": {
      "text/plain": [
       "group_size           0\n",
       "car_age              0\n",
       "age_oldest           0\n",
       "age_youngest         0\n",
       "duration_previous    0\n",
       "cost                 0\n",
       "day                  0\n",
       "homeowner            0\n",
       "car_value            0\n",
       "risk_factor          0\n",
       "married_couple       0\n",
       "C_previous           0\n",
       "state                0\n",
       "shopping_pt          0\n",
       "dtype: int64"
      ]
     },
     "execution_count": 12,
     "metadata": {},
     "output_type": "execute_result"
    }
   ],
   "source": [
    "X_train_drop.isnull().sum()"
   ]
  },
  {
   "cell_type": "markdown",
   "metadata": {
    "colab_type": "text",
    "id": "QZYe1ijJ6HuX"
   },
   "source": [
    "### Imputation"
   ]
  },
  {
   "cell_type": "markdown",
   "metadata": {
    "colab_type": "text",
    "id": "O7aXg5Fb6HuZ"
   },
   "source": [
    "##### Continuous feature의 결측값 대체"
   ]
  },
  {
   "cell_type": "code",
   "execution_count": 13,
   "metadata": {},
   "outputs": [
    {
     "name": "stdout",
     "output_type": "stream",
     "text": [
      "group_size              0\n",
      "car_age                 0\n",
      "age_oldest              0\n",
      "age_youngest            0\n",
      "duration_previous    9318\n",
      "cost                    0\n",
      "dtype: int64 \n",
      "\n",
      "group_size              0\n",
      "car_age                 0\n",
      "age_oldest              0\n",
      "age_youngest            0\n",
      "duration_previous    9393\n",
      "cost                    0\n",
      "dtype: int64\n"
     ]
    }
   ],
   "source": [
    "print(X_train[con].isnull().sum(), '\\n')\n",
    "print(X_test[con].isnull().sum())"
   ]
  },
  {
   "cell_type": "code",
   "execution_count": 14,
   "metadata": {},
   "outputs": [
    {
     "data": {
      "text/plain": [
       "272391   NaN\n",
       "214948   NaN\n",
       "585757   NaN\n",
       "408639   NaN\n",
       "396837   NaN\n",
       "          ..\n",
       "298367   NaN\n",
       "538112   NaN\n",
       "468967   NaN\n",
       "441898   NaN\n",
       "101261   NaN\n",
       "Name: duration_previous, Length: 9318, dtype: float64"
      ]
     },
     "execution_count": 14,
     "metadata": {},
     "output_type": "execute_result"
    }
   ],
   "source": [
    "X_train[X_train['duration_previous'].isna()]['duration_previous']"
   ]
  },
  {
   "cell_type": "markdown",
   "metadata": {},
   "source": [
    "*Method-1: Univariate Imputation*"
   ]
  },
  {
   "cell_type": "code",
   "execution_count": 15,
   "metadata": {
    "colab": {
     "autoexec": {
      "startup": false,
      "wait_interval": 0
     }
    },
    "colab_type": "code",
    "id": "2tvn_evS6Hui",
    "outputId": "b9ab6683-9bf2-4d14-ffb3-9b7378df4275"
   },
   "outputs": [
    {
     "data": {
      "text/html": [
       "<style>#sk-container-id-1 {color: black;background-color: white;}#sk-container-id-1 pre{padding: 0;}#sk-container-id-1 div.sk-toggleable {background-color: white;}#sk-container-id-1 label.sk-toggleable__label {cursor: pointer;display: block;width: 100%;margin-bottom: 0;padding: 0.3em;box-sizing: border-box;text-align: center;}#sk-container-id-1 label.sk-toggleable__label-arrow:before {content: \"▸\";float: left;margin-right: 0.25em;color: #696969;}#sk-container-id-1 label.sk-toggleable__label-arrow:hover:before {color: black;}#sk-container-id-1 div.sk-estimator:hover label.sk-toggleable__label-arrow:before {color: black;}#sk-container-id-1 div.sk-toggleable__content {max-height: 0;max-width: 0;overflow: hidden;text-align: left;background-color: #f0f8ff;}#sk-container-id-1 div.sk-toggleable__content pre {margin: 0.2em;color: black;border-radius: 0.25em;background-color: #f0f8ff;}#sk-container-id-1 input.sk-toggleable__control:checked~div.sk-toggleable__content {max-height: 200px;max-width: 100%;overflow: auto;}#sk-container-id-1 input.sk-toggleable__control:checked~label.sk-toggleable__label-arrow:before {content: \"▾\";}#sk-container-id-1 div.sk-estimator input.sk-toggleable__control:checked~label.sk-toggleable__label {background-color: #d4ebff;}#sk-container-id-1 div.sk-label input.sk-toggleable__control:checked~label.sk-toggleable__label {background-color: #d4ebff;}#sk-container-id-1 input.sk-hidden--visually {border: 0;clip: rect(1px 1px 1px 1px);clip: rect(1px, 1px, 1px, 1px);height: 1px;margin: -1px;overflow: hidden;padding: 0;position: absolute;width: 1px;}#sk-container-id-1 div.sk-estimator {font-family: monospace;background-color: #f0f8ff;border: 1px dotted black;border-radius: 0.25em;box-sizing: border-box;margin-bottom: 0.5em;}#sk-container-id-1 div.sk-estimator:hover {background-color: #d4ebff;}#sk-container-id-1 div.sk-parallel-item::after {content: \"\";width: 100%;border-bottom: 1px solid gray;flex-grow: 1;}#sk-container-id-1 div.sk-label:hover label.sk-toggleable__label {background-color: #d4ebff;}#sk-container-id-1 div.sk-serial::before {content: \"\";position: absolute;border-left: 1px solid gray;box-sizing: border-box;top: 0;bottom: 0;left: 50%;z-index: 0;}#sk-container-id-1 div.sk-serial {display: flex;flex-direction: column;align-items: center;background-color: white;padding-right: 0.2em;padding-left: 0.2em;position: relative;}#sk-container-id-1 div.sk-item {position: relative;z-index: 1;}#sk-container-id-1 div.sk-parallel {display: flex;align-items: stretch;justify-content: center;background-color: white;position: relative;}#sk-container-id-1 div.sk-item::before, #sk-container-id-1 div.sk-parallel-item::before {content: \"\";position: absolute;border-left: 1px solid gray;box-sizing: border-box;top: 0;bottom: 0;left: 50%;z-index: -1;}#sk-container-id-1 div.sk-parallel-item {display: flex;flex-direction: column;z-index: 1;position: relative;background-color: white;}#sk-container-id-1 div.sk-parallel-item:first-child::after {align-self: flex-end;width: 50%;}#sk-container-id-1 div.sk-parallel-item:last-child::after {align-self: flex-start;width: 50%;}#sk-container-id-1 div.sk-parallel-item:only-child::after {width: 0;}#sk-container-id-1 div.sk-dashed-wrapped {border: 1px dashed gray;margin: 0 0.4em 0.5em 0.4em;box-sizing: border-box;padding-bottom: 0.4em;background-color: white;}#sk-container-id-1 div.sk-label label {font-family: monospace;font-weight: bold;display: inline-block;line-height: 1.2em;}#sk-container-id-1 div.sk-label-container {text-align: center;}#sk-container-id-1 div.sk-container {/* jupyter's `normalize.less` sets `[hidden] { display: none; }` but bootstrap.min.css set `[hidden] { display: none !important; }` so we also need the `!important` here to be able to override the default hidden behavior on the sphinx rendered scikit-learn.org. See: https://github.com/scikit-learn/scikit-learn/issues/21755 */display: inline-block !important;position: relative;}#sk-container-id-1 div.sk-text-repr-fallback {display: none;}</style><div id=\"sk-container-id-1\" class=\"sk-top-container\"><div class=\"sk-text-repr-fallback\"><pre>SimpleImputer(strategy=&#x27;median&#x27;)</pre><b>In a Jupyter environment, please rerun this cell to show the HTML representation or trust the notebook. <br />On GitHub, the HTML representation is unable to render, please try loading this page with nbviewer.org.</b></div><div class=\"sk-container\" hidden><div class=\"sk-item\"><div class=\"sk-estimator sk-toggleable\"><input class=\"sk-toggleable__control sk-hidden--visually\" id=\"sk-estimator-id-1\" type=\"checkbox\" checked><label for=\"sk-estimator-id-1\" class=\"sk-toggleable__label sk-toggleable__label-arrow\">SimpleImputer</label><div class=\"sk-toggleable__content\"><pre>SimpleImputer(strategy=&#x27;median&#x27;)</pre></div></div></div></div></div>"
      ],
      "text/plain": [
       "SimpleImputer(strategy='median')"
      ]
     },
     "execution_count": 15,
     "metadata": {},
     "output_type": "execute_result"
    }
   ],
   "source": [
    "from sklearn.impute import SimpleImputer \n",
    "\n",
    "imputer_con = SimpleImputer(strategy=\"median\")\n",
    "imputer_con.fit(X_train[con]) #수치형 데이터에 중앙값 임퓨터 피팅"
   ]
  },
  {
   "cell_type": "markdown",
   "metadata": {
    "colab_type": "text",
    "id": "VBRVJ8lf6Hus"
   },
   "source": [
    "- strategy=\"mean\": 평균 대체\n",
    "- strategy=\"median\": 중위수 대체\n",
    "- strategy=\"most_frequent\":최빈값 대체"
   ]
  },
  {
   "cell_type": "code",
   "execution_count": 16,
   "metadata": {},
   "outputs": [
    {
     "data": {
      "text/plain": [
       "5.0"
      ]
     },
     "execution_count": 16,
     "metadata": {},
     "output_type": "execute_result"
    }
   ],
   "source": [
    "X_train['duration_previous'].median()"
   ]
  },
  {
   "cell_type": "code",
   "execution_count": 17,
   "metadata": {},
   "outputs": [
    {
     "data": {
      "text/plain": [
       "array([[  1.,   9.,  75.,  75.,  15., 609.],\n",
       "       [  1.,  13.,  42.,  42.,   0., 661.],\n",
       "       [  1.,   3.,  52.,  52.,   1., 634.],\n",
       "       ...,\n",
       "       [  1.,   9.,  27.,  27.,  10., 678.],\n",
       "       [  1.,   8.,  30.,  30.,   7., 649.],\n",
       "       [  1.,   6.,  63.,  63.,  10., 570.]])"
      ]
     },
     "execution_count": 17,
     "metadata": {},
     "output_type": "execute_result"
    }
   ],
   "source": [
    "imputer_con.transform(X_train[con])"
   ]
  },
  {
   "cell_type": "code",
   "execution_count": 18,
   "metadata": {},
   "outputs": [],
   "source": [
    "X_train_imp = X_train.copy()\n",
    "X_train_imp[con] = imputer_con.transform(X_train[con])"
   ]
  },
  {
   "cell_type": "code",
   "execution_count": 19,
   "metadata": {
    "colab": {
     "autoexec": {
      "startup": false,
      "wait_interval": 0
     }
    },
    "colab_type": "code",
    "id": "llIuBZPL6Hu_"
   },
   "outputs": [
    {
     "data": {
      "text/plain": [
       "272391    5.0\n",
       "214948    5.0\n",
       "585757    5.0\n",
       "408639    5.0\n",
       "396837    5.0\n",
       "         ... \n",
       "298367    5.0\n",
       "538112    5.0\n",
       "468967    5.0\n",
       "441898    5.0\n",
       "101261    5.0\n",
       "Name: duration_previous, Length: 9318, dtype: float64"
      ]
     },
     "execution_count": 19,
     "metadata": {},
     "output_type": "execute_result"
    }
   ],
   "source": [
    "# 결측값이 중위값으로 바뀐 것 확인 \n",
    "X_train_imp.loc[X_train[X_train['duration_previous'].isna()].index]['duration_previous']"
   ]
  },
  {
   "cell_type": "code",
   "execution_count": 20,
   "metadata": {},
   "outputs": [
    {
     "name": "stdout",
     "output_type": "stream",
     "text": [
      "group_size           0\n",
      "car_age              0\n",
      "age_oldest           0\n",
      "age_youngest         0\n",
      "duration_previous    0\n",
      "cost                 0\n",
      "dtype: int64\n"
     ]
    }
   ],
   "source": [
    "# 테스트 데이터에 imputer 적용\n",
    "X_test_imp = X_test.copy()\n",
    "X_test_imp[con] = imputer_con.transform(X_test[con])\n",
    "\n",
    "print(X_test_imp[con].isnull().sum())\n",
    "#학습데이터는 피팅과 트랜스폼 다하지만 평가데이터는 트랜스폼만 함 -> 답지를 보는꼴"
   ]
  },
  {
   "cell_type": "markdown",
   "metadata": {},
   "source": [
    "*Method-2: Multivariate Imputation* </br>  \n",
    "*(참고문헌: \"데이터가 뛰어노는 AI 놀이터, 캐글\", 한빛미디어, 2021)*   \n",
    "<img align='left' src='http://drive.google.com/uc?export=view&id=1EKe_8kw4vEWdkxduCM7VislSLAxzu6On' width=600 height=400/>"
   ]
  },
  {
   "cell_type": "code",
   "execution_count": 21,
   "metadata": {},
   "outputs": [],
   "source": [
    "from sklearn.experimental import enable_iterative_imputer  # still experimental \n",
    "from sklearn.impute import IterativeImputer\n",
    "\n",
    "X_train_imp, X_test_imp = X_train.copy(), X_test.copy()\n",
    "\n",
    "imp = IterativeImputer(max_iter=10)\n",
    "X_train_imp[con] = imp.fit_transform(X_train[con])\n",
    "X_test_imp[con] = imp.transform(X_test[con])"
   ]
  },
  {
   "cell_type": "code",
   "execution_count": 22,
   "metadata": {},
   "outputs": [
    {
     "data": {
      "text/plain": [
       "272391    3.892071\n",
       "214948    5.778013\n",
       "585757    3.959476\n",
       "408639    3.092878\n",
       "396837    6.086603\n",
       "            ...   \n",
       "298367    5.899791\n",
       "538112    3.443403\n",
       "468967    7.571974\n",
       "441898    8.153841\n",
       "101261    5.004479\n",
       "Name: duration_previous, Length: 9318, dtype: float64"
      ]
     },
     "execution_count": 22,
     "metadata": {},
     "output_type": "execute_result"
    }
   ],
   "source": [
    "X_train_imp.loc[X_train[X_train['duration_previous'].isna()].index]['duration_previous']"
   ]
  },
  {
   "cell_type": "markdown",
   "metadata": {
    "colab_type": "text",
    "id": "JJ8Ek6516HvJ"
   },
   "source": [
    "##### Categorical feature 의 결측값 대체 -최빈값으로 대체"
   ]
  },
  {
   "cell_type": "code",
   "execution_count": 23,
   "metadata": {
    "colab": {
     "autoexec": {
      "startup": false,
      "wait_interval": 0
     }
    },
    "colab_type": "code",
    "id": "d6Hl87I26HvM",
    "outputId": "99c35826-1bdb-4115-9e55-c41492898fd4"
   },
   "outputs": [
    {
     "name": "stdout",
     "output_type": "stream",
     "text": [
      "<class 'pandas.core.frame.DataFrame'>\n",
      "Int64Index: 332624 entries, 150823 to 305711\n",
      "Data columns (total 8 columns):\n",
      " #   Column          Non-Null Count   Dtype  \n",
      "---  ------          --------------   -----  \n",
      " 0   day             332624 non-null  int64  \n",
      " 1   homeowner       332624 non-null  int64  \n",
      " 2   car_value       331622 non-null  object \n",
      " 3   risk_factor     212304 non-null  float64\n",
      " 4   married_couple  332624 non-null  int64  \n",
      " 5   C_previous      323306 non-null  float64\n",
      " 6   state           332087 non-null  object \n",
      " 7   shopping_pt     332624 non-null  int64  \n",
      "dtypes: float64(2), int64(4), object(2)\n",
      "memory usage: 30.9+ MB\n"
     ]
    }
   ],
   "source": [
    "X_train_imp[cat].info()"
   ]
  },
  {
   "cell_type": "code",
   "execution_count": 24,
   "metadata": {},
   "outputs": [],
   "source": [
    "imp = SimpleImputer(strategy=\"most_frequent\")\n",
    "X_train_imp[cat] = imp.fit_transform(X_train_imp[cat])\n",
    "X_test_imp[cat] = imp.transform(X_test_imp[cat])"
   ]
  },
  {
   "cell_type": "code",
   "execution_count": 25,
   "metadata": {},
   "outputs": [
    {
     "name": "stdout",
     "output_type": "stream",
     "text": [
      "<class 'pandas.core.frame.DataFrame'>\n",
      "Int64Index: 332624 entries, 150823 to 305711\n",
      "Data columns (total 8 columns):\n",
      " #   Column          Non-Null Count   Dtype \n",
      "---  ------          --------------   ----- \n",
      " 0   day             332624 non-null  object\n",
      " 1   homeowner       332624 non-null  object\n",
      " 2   car_value       332624 non-null  object\n",
      " 3   risk_factor     332624 non-null  object\n",
      " 4   married_couple  332624 non-null  object\n",
      " 5   C_previous      332624 non-null  object\n",
      " 6   state           332624 non-null  object\n",
      " 7   shopping_pt     332624 non-null  object\n",
      "dtypes: object(8)\n",
      "memory usage: 30.9+ MB\n"
     ]
    }
   ],
   "source": [
    "X_train_imp[cat].info()"
   ]
  },
  {
   "cell_type": "code",
   "execution_count": 26,
   "metadata": {},
   "outputs": [
    {
     "name": "stdout",
     "output_type": "stream",
     "text": [
      "e    109510\n",
      "f     88546\n",
      "d     56336\n",
      "g     49240\n",
      "h     14436\n",
      "c     10464\n",
      "i      1831\n",
      "b       687\n",
      "a       572\n",
      "Name: car_value, dtype: int64\n"
     ]
    },
    {
     "data": {
      "text/plain": [
       "138413    e\n",
       "286990    e\n",
       "518512    e\n",
       "263808    e\n",
       "606994    e\n",
       "         ..\n",
       "545922    e\n",
       "154908    e\n",
       "290795    e\n",
       "604271    e\n",
       "274278    e\n",
       "Name: car_value, Length: 1002, dtype: object"
      ]
     },
     "execution_count": 26,
     "metadata": {},
     "output_type": "execute_result"
    }
   ],
   "source": [
    "print(X_train['car_value'].value_counts())\n",
    "X_train_imp.loc[X_train[X_train['car_value'].isna()].index]['car_value']"
   ]
  },
  {
   "cell_type": "markdown",
   "metadata": {},
   "source": [
    "<font color='blue'><p>\n",
    "**기타 다른 결측값 처리 방법:**      \n",
    "<font color='black'><p>    \n",
    "- 결측값인 채 처리하기(Ex: -9999 등 쉽게 얻을 수 없는 값 대입)\n",
    "- 전체 데이터의 평균을 대입하는 대신 범주형 feature로 그룹을 만든 뒤 해당 그룹별 평균을 대입\n",
    "- 결측값으로 새로운 feature 만들기(Ex: 행 데이터마다 결측값이 있는 feature의 수를 카운팅)"
   ]
  },
  {
   "cell_type": "markdown",
   "metadata": {
    "colab_type": "text",
    "id": "DZsbeKtz6Hv2"
   },
   "source": [
    "## 2. Categorical Feature Transformation"
   ]
  },
  {
   "cell_type": "code",
   "execution_count": 27,
   "metadata": {},
   "outputs": [
    {
     "data": {
      "text/html": [
       "<div>\n",
       "<style scoped>\n",
       "    .dataframe tbody tr th:only-of-type {\n",
       "        vertical-align: middle;\n",
       "    }\n",
       "\n",
       "    .dataframe tbody tr th {\n",
       "        vertical-align: top;\n",
       "    }\n",
       "\n",
       "    .dataframe thead th {\n",
       "        text-align: right;\n",
       "    }\n",
       "</style>\n",
       "<table border=\"1\" class=\"dataframe\">\n",
       "  <thead>\n",
       "    <tr style=\"text-align: right;\">\n",
       "      <th></th>\n",
       "      <th>day</th>\n",
       "      <th>homeowner</th>\n",
       "      <th>car_value</th>\n",
       "      <th>risk_factor</th>\n",
       "      <th>married_couple</th>\n",
       "      <th>C_previous</th>\n",
       "      <th>state</th>\n",
       "      <th>shopping_pt</th>\n",
       "    </tr>\n",
       "  </thead>\n",
       "  <tbody>\n",
       "    <tr>\n",
       "      <th>150823</th>\n",
       "      <td>4</td>\n",
       "      <td>1</td>\n",
       "      <td>f</td>\n",
       "      <td>3.0</td>\n",
       "      <td>1</td>\n",
       "      <td>2.0</td>\n",
       "      <td>WA</td>\n",
       "      <td>7</td>\n",
       "    </tr>\n",
       "    <tr>\n",
       "      <th>146112</th>\n",
       "      <td>3</td>\n",
       "      <td>0</td>\n",
       "      <td>f</td>\n",
       "      <td>3.0</td>\n",
       "      <td>0</td>\n",
       "      <td>2.0</td>\n",
       "      <td>WA</td>\n",
       "      <td>3</td>\n",
       "    </tr>\n",
       "    <tr>\n",
       "      <th>261430</th>\n",
       "      <td>3</td>\n",
       "      <td>1</td>\n",
       "      <td>e</td>\n",
       "      <td>3.0</td>\n",
       "      <td>0</td>\n",
       "      <td>3.0</td>\n",
       "      <td>OH</td>\n",
       "      <td>6</td>\n",
       "    </tr>\n",
       "    <tr>\n",
       "      <th>396128</th>\n",
       "      <td>1</td>\n",
       "      <td>0</td>\n",
       "      <td>d</td>\n",
       "      <td>4.0</td>\n",
       "      <td>0</td>\n",
       "      <td>1.0</td>\n",
       "      <td>NY</td>\n",
       "      <td>11</td>\n",
       "    </tr>\n",
       "    <tr>\n",
       "      <th>217607</th>\n",
       "      <td>2</td>\n",
       "      <td>1</td>\n",
       "      <td>d</td>\n",
       "      <td>3.0</td>\n",
       "      <td>0</td>\n",
       "      <td>2.0</td>\n",
       "      <td>MO</td>\n",
       "      <td>7</td>\n",
       "    </tr>\n",
       "  </tbody>\n",
       "</table>\n",
       "</div>"
      ],
      "text/plain": [
       "       day homeowner car_value risk_factor married_couple C_previous state  \\\n",
       "150823   4         1         f         3.0              1        2.0    WA   \n",
       "146112   3         0         f         3.0              0        2.0    WA   \n",
       "261430   3         1         e         3.0              0        3.0    OH   \n",
       "396128   1         0         d         4.0              0        1.0    NY   \n",
       "217607   2         1         d         3.0              0        2.0    MO   \n",
       "\n",
       "       shopping_pt  \n",
       "150823           7  \n",
       "146112           3  \n",
       "261430           6  \n",
       "396128          11  \n",
       "217607           7  "
      ]
     },
     "execution_count": 27,
     "metadata": {},
     "output_type": "execute_result"
    }
   ],
   "source": [
    "X_train_imp[cat].head()"
   ]
  },
  {
   "cell_type": "code",
   "execution_count": 28,
   "metadata": {},
   "outputs": [
    {
     "data": {
      "text/plain": [
       "150823    f\n",
       "146112    f\n",
       "261430    e\n",
       "396128    d\n",
       "217607    d\n",
       "         ..\n",
       "359783    g\n",
       "152315    e\n",
       "117952    d\n",
       "435829    d\n",
       "305711    e\n",
       "Name: car_value, Length: 332624, dtype: object"
      ]
     },
     "execution_count": 28,
     "metadata": {},
     "output_type": "execute_result"
    }
   ],
   "source": [
    "X_train_imp['car_value']"
   ]
  },
  {
   "cell_type": "markdown",
   "metadata": {
    "colab_type": "text",
    "id": "gXUiyWe96HwD"
   },
   "source": [
    "### One-Hot Encoding"
   ]
  },
  {
   "cell_type": "markdown",
   "metadata": {},
   "source": [
    "##### pd.get_dummies()를 사용하는 방법"
   ]
  },
  {
   "cell_type": "code",
   "execution_count": 29,
   "metadata": {
    "colab": {
     "autoexec": {
      "startup": false,
      "wait_interval": 0
     }
    },
    "colab_type": "code",
    "id": "sUvfMbMa6HwE"
   },
   "outputs": [],
   "source": [
    "# 학습 데이터와 평가 데이터를 결합한 후, get_dummies를 통한 OHE 수행\n",
    "X_all_imp = pd.concat([X_train_imp, X_test_imp])\n",
    "X_all_imp_ohe = pd.get_dummies(X_all_imp, columns=cat)\n",
    "#colums 옵션 -> cat형 컬럼만 겟더미함"
   ]
  },
  {
   "cell_type": "code",
   "execution_count": 30,
   "metadata": {
    "colab": {
     "autoexec": {
      "startup": false,
      "wait_interval": 0
     }
    },
    "colab_type": "code",
    "id": "b5byLV5N6HwH",
    "outputId": "1a48eaf0-10ea-4a34-b765-a7a54828cf79"
   },
   "outputs": [
    {
     "name": "stdout",
     "output_type": "stream",
     "text": [
      "<class 'pandas.core.frame.DataFrame'>\n",
      "Int64Index: 665249 entries, 150823 to 552504\n",
      "Data columns (total 83 columns):\n",
      " #   Column             Non-Null Count   Dtype  \n",
      "---  ------             --------------   -----  \n",
      " 0   group_size         665249 non-null  float64\n",
      " 1   car_age            665249 non-null  float64\n",
      " 2   age_oldest         665249 non-null  float64\n",
      " 3   age_youngest       665249 non-null  float64\n",
      " 4   duration_previous  665249 non-null  float64\n",
      " 5   cost               665249 non-null  float64\n",
      " 6   day_0              665249 non-null  uint8  \n",
      " 7   day_1              665249 non-null  uint8  \n",
      " 8   day_2              665249 non-null  uint8  \n",
      " 9   day_3              665249 non-null  uint8  \n",
      " 10  day_4              665249 non-null  uint8  \n",
      " 11  day_5              665249 non-null  uint8  \n",
      " 12  day_6              665249 non-null  uint8  \n",
      " 13  homeowner_0        665249 non-null  uint8  \n",
      " 14  homeowner_1        665249 non-null  uint8  \n",
      " 15  car_value_a        665249 non-null  uint8  \n",
      " 16  car_value_b        665249 non-null  uint8  \n",
      " 17  car_value_c        665249 non-null  uint8  \n",
      " 18  car_value_d        665249 non-null  uint8  \n",
      " 19  car_value_e        665249 non-null  uint8  \n",
      " 20  car_value_f        665249 non-null  uint8  \n",
      " 21  car_value_g        665249 non-null  uint8  \n",
      " 22  car_value_h        665249 non-null  uint8  \n",
      " 23  car_value_i        665249 non-null  uint8  \n",
      " 24  risk_factor_1.0    665249 non-null  uint8  \n",
      " 25  risk_factor_2.0    665249 non-null  uint8  \n",
      " 26  risk_factor_3.0    665249 non-null  uint8  \n",
      " 27  risk_factor_4.0    665249 non-null  uint8  \n",
      " 28  married_couple_0   665249 non-null  uint8  \n",
      " 29  married_couple_1   665249 non-null  uint8  \n",
      " 30  C_previous_1.0     665249 non-null  uint8  \n",
      " 31  C_previous_2.0     665249 non-null  uint8  \n",
      " 32  C_previous_3.0     665249 non-null  uint8  \n",
      " 33  C_previous_4.0     665249 non-null  uint8  \n",
      " 34  state_AL           665249 non-null  uint8  \n",
      " 35  state_AR           665249 non-null  uint8  \n",
      " 36  state_CO           665249 non-null  uint8  \n",
      " 37  state_CT           665249 non-null  uint8  \n",
      " 38  state_DC           665249 non-null  uint8  \n",
      " 39  state_DE           665249 non-null  uint8  \n",
      " 40  state_FL           665249 non-null  uint8  \n",
      " 41  state_GA           665249 non-null  uint8  \n",
      " 42  state_IA           665249 non-null  uint8  \n",
      " 43  state_ID           665249 non-null  uint8  \n",
      " 44  state_IN           665249 non-null  uint8  \n",
      " 45  state_KS           665249 non-null  uint8  \n",
      " 46  state_KY           665249 non-null  uint8  \n",
      " 47  state_MD           665249 non-null  uint8  \n",
      " 48  state_ME           665249 non-null  uint8  \n",
      " 49  state_MO           665249 non-null  uint8  \n",
      " 50  state_MS           665249 non-null  uint8  \n",
      " 51  state_MT           665249 non-null  uint8  \n",
      " 52  state_ND           665249 non-null  uint8  \n",
      " 53  state_NE           665249 non-null  uint8  \n",
      " 54  state_NH           665249 non-null  uint8  \n",
      " 55  state_NM           665249 non-null  uint8  \n",
      " 56  state_NV           665249 non-null  uint8  \n",
      " 57  state_NY           665249 non-null  uint8  \n",
      " 58  state_OH           665249 non-null  uint8  \n",
      " 59  state_OK           665249 non-null  uint8  \n",
      " 60  state_OR           665249 non-null  uint8  \n",
      " 61  state_PA           665249 non-null  uint8  \n",
      " 62  state_RI           665249 non-null  uint8  \n",
      " 63  state_SD           665249 non-null  uint8  \n",
      " 64  state_TN           665249 non-null  uint8  \n",
      " 65  state_UT           665249 non-null  uint8  \n",
      " 66  state_WA           665249 non-null  uint8  \n",
      " 67  state_WI           665249 non-null  uint8  \n",
      " 68  state_WV           665249 non-null  uint8  \n",
      " 69  state_WY           665249 non-null  uint8  \n",
      " 70  shopping_pt_1      665249 non-null  uint8  \n",
      " 71  shopping_pt_2      665249 non-null  uint8  \n",
      " 72  shopping_pt_3      665249 non-null  uint8  \n",
      " 73  shopping_pt_4      665249 non-null  uint8  \n",
      " 74  shopping_pt_5      665249 non-null  uint8  \n",
      " 75  shopping_pt_6      665249 non-null  uint8  \n",
      " 76  shopping_pt_7      665249 non-null  uint8  \n",
      " 77  shopping_pt_8      665249 non-null  uint8  \n",
      " 78  shopping_pt_9      665249 non-null  uint8  \n",
      " 79  shopping_pt_10     665249 non-null  uint8  \n",
      " 80  shopping_pt_11     665249 non-null  uint8  \n",
      " 81  shopping_pt_12     665249 non-null  uint8  \n",
      " 82  shopping_pt_13     665249 non-null  uint8  \n",
      "dtypes: float64(6), uint8(77)\n",
      "memory usage: 84.4 MB\n"
     ]
    }
   ],
   "source": [
    "X_all_imp_ohe.info()"
   ]
  },
  {
   "cell_type": "code",
   "execution_count": 31,
   "metadata": {
    "colab": {
     "autoexec": {
      "startup": false,
      "wait_interval": 0
     }
    },
    "colab_type": "code",
    "id": "UVobaQB36HwL",
    "outputId": "492360cd-6b9e-4d14-c9ce-8748932d74e4"
   },
   "outputs": [
    {
     "data": {
      "text/html": [
       "<div>\n",
       "<style scoped>\n",
       "    .dataframe tbody tr th:only-of-type {\n",
       "        vertical-align: middle;\n",
       "    }\n",
       "\n",
       "    .dataframe tbody tr th {\n",
       "        vertical-align: top;\n",
       "    }\n",
       "\n",
       "    .dataframe thead th {\n",
       "        text-align: right;\n",
       "    }\n",
       "</style>\n",
       "<table border=\"1\" class=\"dataframe\">\n",
       "  <thead>\n",
       "    <tr style=\"text-align: right;\">\n",
       "      <th></th>\n",
       "      <th>car_age</th>\n",
       "      <th>car_value_a</th>\n",
       "      <th>car_value_b</th>\n",
       "      <th>car_value_c</th>\n",
       "      <th>car_value_d</th>\n",
       "      <th>car_value_e</th>\n",
       "      <th>car_value_f</th>\n",
       "      <th>car_value_g</th>\n",
       "      <th>car_value_h</th>\n",
       "      <th>car_value_i</th>\n",
       "    </tr>\n",
       "  </thead>\n",
       "  <tbody>\n",
       "    <tr>\n",
       "      <th>150823</th>\n",
       "      <td>9.0</td>\n",
       "      <td>0</td>\n",
       "      <td>0</td>\n",
       "      <td>0</td>\n",
       "      <td>0</td>\n",
       "      <td>0</td>\n",
       "      <td>1</td>\n",
       "      <td>0</td>\n",
       "      <td>0</td>\n",
       "      <td>0</td>\n",
       "    </tr>\n",
       "    <tr>\n",
       "      <th>146112</th>\n",
       "      <td>13.0</td>\n",
       "      <td>0</td>\n",
       "      <td>0</td>\n",
       "      <td>0</td>\n",
       "      <td>0</td>\n",
       "      <td>0</td>\n",
       "      <td>1</td>\n",
       "      <td>0</td>\n",
       "      <td>0</td>\n",
       "      <td>0</td>\n",
       "    </tr>\n",
       "    <tr>\n",
       "      <th>261430</th>\n",
       "      <td>3.0</td>\n",
       "      <td>0</td>\n",
       "      <td>0</td>\n",
       "      <td>0</td>\n",
       "      <td>0</td>\n",
       "      <td>1</td>\n",
       "      <td>0</td>\n",
       "      <td>0</td>\n",
       "      <td>0</td>\n",
       "      <td>0</td>\n",
       "    </tr>\n",
       "    <tr>\n",
       "      <th>396128</th>\n",
       "      <td>6.0</td>\n",
       "      <td>0</td>\n",
       "      <td>0</td>\n",
       "      <td>0</td>\n",
       "      <td>1</td>\n",
       "      <td>0</td>\n",
       "      <td>0</td>\n",
       "      <td>0</td>\n",
       "      <td>0</td>\n",
       "      <td>0</td>\n",
       "    </tr>\n",
       "    <tr>\n",
       "      <th>217607</th>\n",
       "      <td>9.0</td>\n",
       "      <td>0</td>\n",
       "      <td>0</td>\n",
       "      <td>0</td>\n",
       "      <td>1</td>\n",
       "      <td>0</td>\n",
       "      <td>0</td>\n",
       "      <td>0</td>\n",
       "      <td>0</td>\n",
       "      <td>0</td>\n",
       "    </tr>\n",
       "  </tbody>\n",
       "</table>\n",
       "</div>"
      ],
      "text/plain": [
       "        car_age  car_value_a  car_value_b  car_value_c  car_value_d  \\\n",
       "150823      9.0            0            0            0            0   \n",
       "146112     13.0            0            0            0            0   \n",
       "261430      3.0            0            0            0            0   \n",
       "396128      6.0            0            0            0            1   \n",
       "217607      9.0            0            0            0            1   \n",
       "\n",
       "        car_value_e  car_value_f  car_value_g  car_value_h  car_value_i  \n",
       "150823            0            1            0            0            0  \n",
       "146112            0            1            0            0            0  \n",
       "261430            1            0            0            0            0  \n",
       "396128            0            0            0            0            0  \n",
       "217607            0            0            0            0            0  "
      ]
     },
     "execution_count": 31,
     "metadata": {},
     "output_type": "execute_result"
    }
   ],
   "source": [
    "X_all_imp_ohe.filter(like='car').head()"
   ]
  },
  {
   "cell_type": "code",
   "execution_count": 32,
   "metadata": {},
   "outputs": [],
   "source": [
    "# 학습 데이터와 평가 데이터로 재분할\n",
    "X_train_imp_ohe = X_all_imp_ohe.iloc[:X_train_imp.shape[0],:].reset_index(drop=True)\n",
    "X_test_imp_ohe = X_all_imp_ohe.iloc[X_train_imp.shape[0]:,:].reset_index(drop=True)"
   ]
  },
  {
   "cell_type": "markdown",
   "metadata": {},
   "source": [
    "##### OneHotEncoder를 사용하는 방법"
   ]
  },
  {
   "cell_type": "code",
   "execution_count": 33,
   "metadata": {},
   "outputs": [
    {
     "name": "stdout",
     "output_type": "stream",
     "text": [
      "[array([0, 1, 2, 3, 4, 5, 6], dtype=object), array([0, 1], dtype=object), array(['a', 'b', 'c', 'd', 'e', 'f', 'g', 'h', 'i'], dtype=object), array([1.0, 2.0, 3.0, 4.0], dtype=object), array([0, 1], dtype=object), array([1.0, 2.0, 3.0, 4.0], dtype=object), array(['AL', 'AR', 'CO', 'CT', 'DC', 'DE', 'FL', 'GA', 'IA', 'ID', 'IN',\n",
      "       'KS', 'KY', 'MD', 'ME', 'MO', 'MS', 'MT', 'ND', 'NE', 'NH', 'NM',\n",
      "       'NV', 'NY', 'OH', 'OK', 'OR', 'PA', 'RI', 'SD', 'TN', 'UT', 'WA',\n",
      "       'WI', 'WV', 'WY'], dtype=object), array([1, 2, 3, 4, 5, 6, 7, 8, 9, 10, 11, 12, 13], dtype=object)]\n"
     ]
    }
   ],
   "source": [
    "from sklearn.preprocessing import OneHotEncoder\n",
    "\n",
    "ohe = OneHotEncoder(handle_unknown='ignore', sparse=False)\n",
    "ohe.fit(X_train_imp[cat]) #[]를 더 감싼 이유는 인자로 2차원 배열을 받기 때문.\n",
    "print(ohe.categories_)  # enc.get_feature_names() ??"
   ]
  },
  {
   "cell_type": "code",
   "execution_count": 34,
   "metadata": {},
   "outputs": [
    {
     "data": {
      "text/html": [
       "<div>\n",
       "<style scoped>\n",
       "    .dataframe tbody tr th:only-of-type {\n",
       "        vertical-align: middle;\n",
       "    }\n",
       "\n",
       "    .dataframe tbody tr th {\n",
       "        vertical-align: top;\n",
       "    }\n",
       "\n",
       "    .dataframe thead th {\n",
       "        text-align: right;\n",
       "    }\n",
       "</style>\n",
       "<table border=\"1\" class=\"dataframe\">\n",
       "  <thead>\n",
       "    <tr style=\"text-align: right;\">\n",
       "      <th></th>\n",
       "      <th>group_size</th>\n",
       "      <th>car_age</th>\n",
       "      <th>age_oldest</th>\n",
       "      <th>age_youngest</th>\n",
       "      <th>duration_previous</th>\n",
       "      <th>cost</th>\n",
       "      <th>day_0</th>\n",
       "      <th>day_1</th>\n",
       "      <th>day_2</th>\n",
       "      <th>day_3</th>\n",
       "      <th>day_4</th>\n",
       "      <th>day_5</th>\n",
       "      <th>day_6</th>\n",
       "      <th>homeowner_0</th>\n",
       "      <th>homeowner_1</th>\n",
       "      <th>...</th>\n",
       "      <th>state_WV</th>\n",
       "      <th>state_WY</th>\n",
       "      <th>shopping_pt_1</th>\n",
       "      <th>shopping_pt_2</th>\n",
       "      <th>shopping_pt_3</th>\n",
       "      <th>shopping_pt_4</th>\n",
       "      <th>shopping_pt_5</th>\n",
       "      <th>shopping_pt_6</th>\n",
       "      <th>shopping_pt_7</th>\n",
       "      <th>shopping_pt_8</th>\n",
       "      <th>shopping_pt_9</th>\n",
       "      <th>shopping_pt_10</th>\n",
       "      <th>shopping_pt_11</th>\n",
       "      <th>shopping_pt_12</th>\n",
       "      <th>shopping_pt_13</th>\n",
       "    </tr>\n",
       "  </thead>\n",
       "  <tbody>\n",
       "    <tr>\n",
       "      <th>0</th>\n",
       "      <td>1.0</td>\n",
       "      <td>9.0</td>\n",
       "      <td>75.0</td>\n",
       "      <td>75.0</td>\n",
       "      <td>15.0</td>\n",
       "      <td>609.0</td>\n",
       "      <td>0.0</td>\n",
       "      <td>0.0</td>\n",
       "      <td>0.0</td>\n",
       "      <td>0.0</td>\n",
       "      <td>1.0</td>\n",
       "      <td>0.0</td>\n",
       "      <td>0.0</td>\n",
       "      <td>0.0</td>\n",
       "      <td>1.0</td>\n",
       "      <td>...</td>\n",
       "      <td>0.0</td>\n",
       "      <td>0.0</td>\n",
       "      <td>0.0</td>\n",
       "      <td>0.0</td>\n",
       "      <td>0.0</td>\n",
       "      <td>0.0</td>\n",
       "      <td>0.0</td>\n",
       "      <td>0.0</td>\n",
       "      <td>1.0</td>\n",
       "      <td>0.0</td>\n",
       "      <td>0.0</td>\n",
       "      <td>0.0</td>\n",
       "      <td>0.0</td>\n",
       "      <td>0.0</td>\n",
       "      <td>0.0</td>\n",
       "    </tr>\n",
       "    <tr>\n",
       "      <th>1</th>\n",
       "      <td>1.0</td>\n",
       "      <td>13.0</td>\n",
       "      <td>42.0</td>\n",
       "      <td>42.0</td>\n",
       "      <td>0.0</td>\n",
       "      <td>661.0</td>\n",
       "      <td>0.0</td>\n",
       "      <td>0.0</td>\n",
       "      <td>0.0</td>\n",
       "      <td>1.0</td>\n",
       "      <td>0.0</td>\n",
       "      <td>0.0</td>\n",
       "      <td>0.0</td>\n",
       "      <td>1.0</td>\n",
       "      <td>0.0</td>\n",
       "      <td>...</td>\n",
       "      <td>0.0</td>\n",
       "      <td>0.0</td>\n",
       "      <td>0.0</td>\n",
       "      <td>0.0</td>\n",
       "      <td>1.0</td>\n",
       "      <td>0.0</td>\n",
       "      <td>0.0</td>\n",
       "      <td>0.0</td>\n",
       "      <td>0.0</td>\n",
       "      <td>0.0</td>\n",
       "      <td>0.0</td>\n",
       "      <td>0.0</td>\n",
       "      <td>0.0</td>\n",
       "      <td>0.0</td>\n",
       "      <td>0.0</td>\n",
       "    </tr>\n",
       "    <tr>\n",
       "      <th>2</th>\n",
       "      <td>1.0</td>\n",
       "      <td>3.0</td>\n",
       "      <td>52.0</td>\n",
       "      <td>52.0</td>\n",
       "      <td>1.0</td>\n",
       "      <td>634.0</td>\n",
       "      <td>0.0</td>\n",
       "      <td>0.0</td>\n",
       "      <td>0.0</td>\n",
       "      <td>1.0</td>\n",
       "      <td>0.0</td>\n",
       "      <td>0.0</td>\n",
       "      <td>0.0</td>\n",
       "      <td>0.0</td>\n",
       "      <td>1.0</td>\n",
       "      <td>...</td>\n",
       "      <td>0.0</td>\n",
       "      <td>0.0</td>\n",
       "      <td>0.0</td>\n",
       "      <td>0.0</td>\n",
       "      <td>0.0</td>\n",
       "      <td>0.0</td>\n",
       "      <td>0.0</td>\n",
       "      <td>1.0</td>\n",
       "      <td>0.0</td>\n",
       "      <td>0.0</td>\n",
       "      <td>0.0</td>\n",
       "      <td>0.0</td>\n",
       "      <td>0.0</td>\n",
       "      <td>0.0</td>\n",
       "      <td>0.0</td>\n",
       "    </tr>\n",
       "    <tr>\n",
       "      <th>3</th>\n",
       "      <td>1.0</td>\n",
       "      <td>6.0</td>\n",
       "      <td>43.0</td>\n",
       "      <td>43.0</td>\n",
       "      <td>1.0</td>\n",
       "      <td>687.0</td>\n",
       "      <td>0.0</td>\n",
       "      <td>1.0</td>\n",
       "      <td>0.0</td>\n",
       "      <td>0.0</td>\n",
       "      <td>0.0</td>\n",
       "      <td>0.0</td>\n",
       "      <td>0.0</td>\n",
       "      <td>1.0</td>\n",
       "      <td>0.0</td>\n",
       "      <td>...</td>\n",
       "      <td>0.0</td>\n",
       "      <td>0.0</td>\n",
       "      <td>0.0</td>\n",
       "      <td>0.0</td>\n",
       "      <td>0.0</td>\n",
       "      <td>0.0</td>\n",
       "      <td>0.0</td>\n",
       "      <td>0.0</td>\n",
       "      <td>0.0</td>\n",
       "      <td>0.0</td>\n",
       "      <td>0.0</td>\n",
       "      <td>0.0</td>\n",
       "      <td>1.0</td>\n",
       "      <td>0.0</td>\n",
       "      <td>0.0</td>\n",
       "    </tr>\n",
       "    <tr>\n",
       "      <th>4</th>\n",
       "      <td>1.0</td>\n",
       "      <td>9.0</td>\n",
       "      <td>32.0</td>\n",
       "      <td>32.0</td>\n",
       "      <td>1.0</td>\n",
       "      <td>580.0</td>\n",
       "      <td>0.0</td>\n",
       "      <td>0.0</td>\n",
       "      <td>1.0</td>\n",
       "      <td>0.0</td>\n",
       "      <td>0.0</td>\n",
       "      <td>0.0</td>\n",
       "      <td>0.0</td>\n",
       "      <td>0.0</td>\n",
       "      <td>1.0</td>\n",
       "      <td>...</td>\n",
       "      <td>0.0</td>\n",
       "      <td>0.0</td>\n",
       "      <td>0.0</td>\n",
       "      <td>0.0</td>\n",
       "      <td>0.0</td>\n",
       "      <td>0.0</td>\n",
       "      <td>0.0</td>\n",
       "      <td>0.0</td>\n",
       "      <td>1.0</td>\n",
       "      <td>0.0</td>\n",
       "      <td>0.0</td>\n",
       "      <td>0.0</td>\n",
       "      <td>0.0</td>\n",
       "      <td>0.0</td>\n",
       "      <td>0.0</td>\n",
       "    </tr>\n",
       "    <tr>\n",
       "      <th>...</th>\n",
       "      <td>...</td>\n",
       "      <td>...</td>\n",
       "      <td>...</td>\n",
       "      <td>...</td>\n",
       "      <td>...</td>\n",
       "      <td>...</td>\n",
       "      <td>...</td>\n",
       "      <td>...</td>\n",
       "      <td>...</td>\n",
       "      <td>...</td>\n",
       "      <td>...</td>\n",
       "      <td>...</td>\n",
       "      <td>...</td>\n",
       "      <td>...</td>\n",
       "      <td>...</td>\n",
       "      <td>...</td>\n",
       "      <td>...</td>\n",
       "      <td>...</td>\n",
       "      <td>...</td>\n",
       "      <td>...</td>\n",
       "      <td>...</td>\n",
       "      <td>...</td>\n",
       "      <td>...</td>\n",
       "      <td>...</td>\n",
       "      <td>...</td>\n",
       "      <td>...</td>\n",
       "      <td>...</td>\n",
       "      <td>...</td>\n",
       "      <td>...</td>\n",
       "      <td>...</td>\n",
       "      <td>...</td>\n",
       "    </tr>\n",
       "    <tr>\n",
       "      <th>332619</th>\n",
       "      <td>2.0</td>\n",
       "      <td>6.0</td>\n",
       "      <td>43.0</td>\n",
       "      <td>42.0</td>\n",
       "      <td>1.0</td>\n",
       "      <td>677.0</td>\n",
       "      <td>0.0</td>\n",
       "      <td>0.0</td>\n",
       "      <td>0.0</td>\n",
       "      <td>0.0</td>\n",
       "      <td>1.0</td>\n",
       "      <td>0.0</td>\n",
       "      <td>0.0</td>\n",
       "      <td>1.0</td>\n",
       "      <td>0.0</td>\n",
       "      <td>...</td>\n",
       "      <td>0.0</td>\n",
       "      <td>0.0</td>\n",
       "      <td>1.0</td>\n",
       "      <td>0.0</td>\n",
       "      <td>0.0</td>\n",
       "      <td>0.0</td>\n",
       "      <td>0.0</td>\n",
       "      <td>0.0</td>\n",
       "      <td>0.0</td>\n",
       "      <td>0.0</td>\n",
       "      <td>0.0</td>\n",
       "      <td>0.0</td>\n",
       "      <td>0.0</td>\n",
       "      <td>0.0</td>\n",
       "      <td>0.0</td>\n",
       "    </tr>\n",
       "    <tr>\n",
       "      <th>332620</th>\n",
       "      <td>1.0</td>\n",
       "      <td>13.0</td>\n",
       "      <td>65.0</td>\n",
       "      <td>65.0</td>\n",
       "      <td>7.0</td>\n",
       "      <td>627.0</td>\n",
       "      <td>0.0</td>\n",
       "      <td>0.0</td>\n",
       "      <td>0.0</td>\n",
       "      <td>0.0</td>\n",
       "      <td>1.0</td>\n",
       "      <td>0.0</td>\n",
       "      <td>0.0</td>\n",
       "      <td>1.0</td>\n",
       "      <td>0.0</td>\n",
       "      <td>...</td>\n",
       "      <td>0.0</td>\n",
       "      <td>0.0</td>\n",
       "      <td>0.0</td>\n",
       "      <td>0.0</td>\n",
       "      <td>0.0</td>\n",
       "      <td>0.0</td>\n",
       "      <td>0.0</td>\n",
       "      <td>0.0</td>\n",
       "      <td>0.0</td>\n",
       "      <td>0.0</td>\n",
       "      <td>1.0</td>\n",
       "      <td>0.0</td>\n",
       "      <td>0.0</td>\n",
       "      <td>0.0</td>\n",
       "      <td>0.0</td>\n",
       "    </tr>\n",
       "    <tr>\n",
       "      <th>332621</th>\n",
       "      <td>1.0</td>\n",
       "      <td>9.0</td>\n",
       "      <td>27.0</td>\n",
       "      <td>27.0</td>\n",
       "      <td>10.0</td>\n",
       "      <td>678.0</td>\n",
       "      <td>0.0</td>\n",
       "      <td>0.0</td>\n",
       "      <td>0.0</td>\n",
       "      <td>0.0</td>\n",
       "      <td>0.0</td>\n",
       "      <td>1.0</td>\n",
       "      <td>0.0</td>\n",
       "      <td>1.0</td>\n",
       "      <td>0.0</td>\n",
       "      <td>...</td>\n",
       "      <td>0.0</td>\n",
       "      <td>0.0</td>\n",
       "      <td>0.0</td>\n",
       "      <td>0.0</td>\n",
       "      <td>0.0</td>\n",
       "      <td>0.0</td>\n",
       "      <td>0.0</td>\n",
       "      <td>1.0</td>\n",
       "      <td>0.0</td>\n",
       "      <td>0.0</td>\n",
       "      <td>0.0</td>\n",
       "      <td>0.0</td>\n",
       "      <td>0.0</td>\n",
       "      <td>0.0</td>\n",
       "      <td>0.0</td>\n",
       "    </tr>\n",
       "    <tr>\n",
       "      <th>332622</th>\n",
       "      <td>1.0</td>\n",
       "      <td>8.0</td>\n",
       "      <td>30.0</td>\n",
       "      <td>30.0</td>\n",
       "      <td>7.0</td>\n",
       "      <td>649.0</td>\n",
       "      <td>0.0</td>\n",
       "      <td>0.0</td>\n",
       "      <td>0.0</td>\n",
       "      <td>0.0</td>\n",
       "      <td>1.0</td>\n",
       "      <td>0.0</td>\n",
       "      <td>0.0</td>\n",
       "      <td>0.0</td>\n",
       "      <td>1.0</td>\n",
       "      <td>...</td>\n",
       "      <td>0.0</td>\n",
       "      <td>0.0</td>\n",
       "      <td>0.0</td>\n",
       "      <td>0.0</td>\n",
       "      <td>1.0</td>\n",
       "      <td>0.0</td>\n",
       "      <td>0.0</td>\n",
       "      <td>0.0</td>\n",
       "      <td>0.0</td>\n",
       "      <td>0.0</td>\n",
       "      <td>0.0</td>\n",
       "      <td>0.0</td>\n",
       "      <td>0.0</td>\n",
       "      <td>0.0</td>\n",
       "      <td>0.0</td>\n",
       "    </tr>\n",
       "    <tr>\n",
       "      <th>332623</th>\n",
       "      <td>1.0</td>\n",
       "      <td>6.0</td>\n",
       "      <td>63.0</td>\n",
       "      <td>63.0</td>\n",
       "      <td>10.0</td>\n",
       "      <td>570.0</td>\n",
       "      <td>0.0</td>\n",
       "      <td>0.0</td>\n",
       "      <td>1.0</td>\n",
       "      <td>0.0</td>\n",
       "      <td>0.0</td>\n",
       "      <td>0.0</td>\n",
       "      <td>0.0</td>\n",
       "      <td>0.0</td>\n",
       "      <td>1.0</td>\n",
       "      <td>...</td>\n",
       "      <td>0.0</td>\n",
       "      <td>0.0</td>\n",
       "      <td>0.0</td>\n",
       "      <td>0.0</td>\n",
       "      <td>0.0</td>\n",
       "      <td>1.0</td>\n",
       "      <td>0.0</td>\n",
       "      <td>0.0</td>\n",
       "      <td>0.0</td>\n",
       "      <td>0.0</td>\n",
       "      <td>0.0</td>\n",
       "      <td>0.0</td>\n",
       "      <td>0.0</td>\n",
       "      <td>0.0</td>\n",
       "      <td>0.0</td>\n",
       "    </tr>\n",
       "  </tbody>\n",
       "</table>\n",
       "<p>332624 rows × 83 columns</p>\n",
       "</div>"
      ],
      "text/plain": [
       "        group_size  car_age  age_oldest  age_youngest  duration_previous  \\\n",
       "0              1.0      9.0        75.0          75.0               15.0   \n",
       "1              1.0     13.0        42.0          42.0                0.0   \n",
       "2              1.0      3.0        52.0          52.0                1.0   \n",
       "3              1.0      6.0        43.0          43.0                1.0   \n",
       "4              1.0      9.0        32.0          32.0                1.0   \n",
       "...            ...      ...         ...           ...                ...   \n",
       "332619         2.0      6.0        43.0          42.0                1.0   \n",
       "332620         1.0     13.0        65.0          65.0                7.0   \n",
       "332621         1.0      9.0        27.0          27.0               10.0   \n",
       "332622         1.0      8.0        30.0          30.0                7.0   \n",
       "332623         1.0      6.0        63.0          63.0               10.0   \n",
       "\n",
       "         cost  day_0  day_1  day_2  day_3  day_4  day_5  day_6  homeowner_0  \\\n",
       "0       609.0    0.0    0.0    0.0    0.0    1.0    0.0    0.0          0.0   \n",
       "1       661.0    0.0    0.0    0.0    1.0    0.0    0.0    0.0          1.0   \n",
       "2       634.0    0.0    0.0    0.0    1.0    0.0    0.0    0.0          0.0   \n",
       "3       687.0    0.0    1.0    0.0    0.0    0.0    0.0    0.0          1.0   \n",
       "4       580.0    0.0    0.0    1.0    0.0    0.0    0.0    0.0          0.0   \n",
       "...       ...    ...    ...    ...    ...    ...    ...    ...          ...   \n",
       "332619  677.0    0.0    0.0    0.0    0.0    1.0    0.0    0.0          1.0   \n",
       "332620  627.0    0.0    0.0    0.0    0.0    1.0    0.0    0.0          1.0   \n",
       "332621  678.0    0.0    0.0    0.0    0.0    0.0    1.0    0.0          1.0   \n",
       "332622  649.0    0.0    0.0    0.0    0.0    1.0    0.0    0.0          0.0   \n",
       "332623  570.0    0.0    0.0    1.0    0.0    0.0    0.0    0.0          0.0   \n",
       "\n",
       "        homeowner_1  ...  state_WV  state_WY  shopping_pt_1  shopping_pt_2  \\\n",
       "0               1.0  ...       0.0       0.0            0.0            0.0   \n",
       "1               0.0  ...       0.0       0.0            0.0            0.0   \n",
       "2               1.0  ...       0.0       0.0            0.0            0.0   \n",
       "3               0.0  ...       0.0       0.0            0.0            0.0   \n",
       "4               1.0  ...       0.0       0.0            0.0            0.0   \n",
       "...             ...  ...       ...       ...            ...            ...   \n",
       "332619          0.0  ...       0.0       0.0            1.0            0.0   \n",
       "332620          0.0  ...       0.0       0.0            0.0            0.0   \n",
       "332621          0.0  ...       0.0       0.0            0.0            0.0   \n",
       "332622          1.0  ...       0.0       0.0            0.0            0.0   \n",
       "332623          1.0  ...       0.0       0.0            0.0            0.0   \n",
       "\n",
       "        shopping_pt_3  shopping_pt_4  shopping_pt_5  shopping_pt_6  \\\n",
       "0                 0.0            0.0            0.0            0.0   \n",
       "1                 1.0            0.0            0.0            0.0   \n",
       "2                 0.0            0.0            0.0            1.0   \n",
       "3                 0.0            0.0            0.0            0.0   \n",
       "4                 0.0            0.0            0.0            0.0   \n",
       "...               ...            ...            ...            ...   \n",
       "332619            0.0            0.0            0.0            0.0   \n",
       "332620            0.0            0.0            0.0            0.0   \n",
       "332621            0.0            0.0            0.0            1.0   \n",
       "332622            1.0            0.0            0.0            0.0   \n",
       "332623            0.0            1.0            0.0            0.0   \n",
       "\n",
       "        shopping_pt_7  shopping_pt_8  shopping_pt_9  shopping_pt_10  \\\n",
       "0                 1.0            0.0            0.0             0.0   \n",
       "1                 0.0            0.0            0.0             0.0   \n",
       "2                 0.0            0.0            0.0             0.0   \n",
       "3                 0.0            0.0            0.0             0.0   \n",
       "4                 1.0            0.0            0.0             0.0   \n",
       "...               ...            ...            ...             ...   \n",
       "332619            0.0            0.0            0.0             0.0   \n",
       "332620            0.0            0.0            1.0             0.0   \n",
       "332621            0.0            0.0            0.0             0.0   \n",
       "332622            0.0            0.0            0.0             0.0   \n",
       "332623            0.0            0.0            0.0             0.0   \n",
       "\n",
       "        shopping_pt_11  shopping_pt_12  shopping_pt_13  \n",
       "0                  0.0             0.0             0.0  \n",
       "1                  0.0             0.0             0.0  \n",
       "2                  0.0             0.0             0.0  \n",
       "3                  1.0             0.0             0.0  \n",
       "4                  0.0             0.0             0.0  \n",
       "...                ...             ...             ...  \n",
       "332619             0.0             0.0             0.0  \n",
       "332620             0.0             0.0             0.0  \n",
       "332621             0.0             0.0             0.0  \n",
       "332622             0.0             0.0             0.0  \n",
       "332623             0.0             0.0             0.0  \n",
       "\n",
       "[332624 rows x 83 columns]"
      ]
     },
     "execution_count": 34,
     "metadata": {},
     "output_type": "execute_result"
    }
   ],
   "source": [
    "# OHE 결과를 DataFrame 형식으로 만들어 사용할 경우: \n",
    "\n",
    "# dummy에 대한 컬럼명 생성 \n",
    "columns = []\n",
    "for i, c in enumerate(cat):\n",
    "    columns += [f'{c}_{v}' for v in ohe.categories_[i]]\n",
    "# 생성된 dummy를 DataFrame으로 변환 \n",
    "ohe_train = pd.DataFrame(ohe.transform(X_train_imp[cat]), columns=columns)\n",
    "ohe_test = pd.DataFrame(ohe.transform(X_test_imp[cat]), columns=columns)\n",
    "# 인코딩한 feature는 제거하고 나머지 feature와 결합 \n",
    "X_train_imp_ohe = pd.concat([X_train_imp.drop(columns=cat).reset_index(drop=True), ohe_train], axis=1) # 원래 피처 삭제 후 OHE된 feature 병합\n",
    "X_test_imp_ohe = pd.concat([X_test_imp.drop(columns=cat).reset_index(drop=True), ohe_test], axis=1) # 원래 피처 삭제 후 OHE된 feature 병합\n",
    "\n",
    "X_train_imp_ohe"
   ]
  },
  {
   "cell_type": "code",
   "execution_count": 35,
   "metadata": {},
   "outputs": [
    {
     "data": {
      "text/plain": [
       "array([[ 1.,  9., 75., ...,  0.,  0.,  0.],\n",
       "       [ 1., 13., 42., ...,  0.,  0.,  0.],\n",
       "       [ 1.,  3., 52., ...,  0.,  0.,  0.],\n",
       "       ...,\n",
       "       [ 1.,  9., 27., ...,  0.,  0.,  0.],\n",
       "       [ 1.,  8., 30., ...,  0.,  0.,  0.],\n",
       "       [ 1.,  6., 63., ...,  0.,  0.,  0.]])"
      ]
     },
     "execution_count": 35,
     "metadata": {},
     "output_type": "execute_result"
    }
   ],
   "source": [
    "# OHE 결과를 Array 형식으로 만들어 사용할 경우:  \n",
    "\n",
    "X_train_imp_ohe = X_train_imp.drop(cat, axis=1) \n",
    "X_test_imp_ohe = X_test_imp.drop(cat, axis=1) \n",
    "X_train_imp_ohe = np.c_[X_train_imp.drop(cat, axis=1),\n",
    "                        ohe.transform(X_train_imp[cat])]\n",
    "X_test_imp_ohe = np.c_[X_test_imp.drop(cat, axis=1),\n",
    "                        ohe.transform(X_test_imp[cat])]\n",
    "X_train_imp_ohe"
   ]
  },
  {
   "cell_type": "markdown",
   "metadata": {},
   "source": [
    "##### pd.get_dummies() vs. OneHotEncoder() \n",
    "- 학습데이터와 평가데이터를 구분하지 않고 전체 데이터를 OHE할 경우 => pd.get_dummies()\n",
    "- 학습데이터와 평가데이터를 구분하여 각각 OHE할 경우 => OneHotEncoder()  \n",
    "<img align=\"left\" src=\"https://miro.medium.com/max/720/1*jsz9HJS8TW6DadZKEXOAhA.png\" width=600 height=400>\n",
    "<img align=\"left\" src=\"https://miro.medium.com/max/720/1*WeFzWwmeAyRqXuBY4h5OLw.png\" width=600 height=400>  "
   ]
  },
  {
   "cell_type": "code",
   "execution_count": 36,
   "metadata": {},
   "outputs": [
    {
     "name": "stdout",
     "output_type": "stream",
     "text": [
      "Requirement already satisfied: category_encoders in c:\\users\\user\\anaconda3\\lib\\site-packages (2.5.1.post0)\n",
      "Requirement already satisfied: scipy>=1.0.0 in c:\\users\\user\\anaconda3\\lib\\site-packages (from category_encoders) (1.7.3)\n",
      "Requirement already satisfied: pandas>=1.0.5 in c:\\users\\user\\anaconda3\\lib\\site-packages (from category_encoders) (1.4.2)\n",
      "Requirement already satisfied: statsmodels>=0.9.0 in c:\\users\\user\\anaconda3\\lib\\site-packages (from category_encoders) (0.13.2)\n",
      "Requirement already satisfied: scikit-learn>=0.20.0 in c:\\users\\user\\appdata\\roaming\\python\\python39\\site-packages (from category_encoders) (1.1.3)\n",
      "Requirement already satisfied: patsy>=0.5.1 in c:\\users\\user\\anaconda3\\lib\\site-packages (from category_encoders) (0.5.2)\n",
      "Requirement already satisfied: numpy>=1.14.0 in c:\\users\\user\\anaconda3\\lib\\site-packages (from category_encoders) (1.21.5)\n",
      "Requirement already satisfied: pytz>=2020.1 in c:\\users\\user\\anaconda3\\lib\\site-packages (from pandas>=1.0.5->category_encoders) (2021.3)\n",
      "Requirement already satisfied: python-dateutil>=2.8.1 in c:\\users\\user\\anaconda3\\lib\\site-packages (from pandas>=1.0.5->category_encoders) (2.8.2)\n",
      "Requirement already satisfied: six in c:\\users\\user\\anaconda3\\lib\\site-packages (from patsy>=0.5.1->category_encoders) (1.16.0)\n",
      "Requirement already satisfied: joblib>=1.0.0 in c:\\users\\user\\anaconda3\\lib\\site-packages (from scikit-learn>=0.20.0->category_encoders) (1.1.0)\n",
      "Requirement already satisfied: threadpoolctl>=2.0.0 in c:\\users\\user\\anaconda3\\lib\\site-packages (from scikit-learn>=0.20.0->category_encoders) (2.2.0)\n",
      "Requirement already satisfied: packaging>=21.3 in c:\\users\\user\\anaconda3\\lib\\site-packages (from statsmodels>=0.9.0->category_encoders) (21.3)\n",
      "Requirement already satisfied: pyparsing!=3.0.5,>=2.0.2 in c:\\users\\user\\anaconda3\\lib\\site-packages (from packaging>=21.3->statsmodels>=0.9.0->category_encoders) (3.0.4)\n"
     ]
    }
   ],
   "source": [
    "!pip install category_encoders"
   ]
  },
  {
   "cell_type": "markdown",
   "metadata": {
    "colab_type": "text",
    "id": "wsmxYY4s6HwN"
   },
   "source": [
    "### Label Encoding"
   ]
  },
  {
   "cell_type": "code",
   "execution_count": 37,
   "metadata": {},
   "outputs": [],
   "source": [
    "from sklearn.preprocessing import LabelEncoder\n",
    "\n",
    "X_train_imp_le, X_test_imp_le, = X_train_imp.copy(), X_test_imp.copy()\n",
    "\n",
    "le = LabelEncoder()\n",
    "for c in cat:\n",
    "    X_train_imp_le[c] = le.fit_transform(X_train_imp[c])\n",
    "    X_test_imp_le[c] = le.transform(X_test_imp[c])"
   ]
  },
  {
   "cell_type": "code",
   "execution_count": 38,
   "metadata": {},
   "outputs": [
    {
     "data": {
      "text/html": [
       "<div>\n",
       "<style scoped>\n",
       "    .dataframe tbody tr th:only-of-type {\n",
       "        vertical-align: middle;\n",
       "    }\n",
       "\n",
       "    .dataframe tbody tr th {\n",
       "        vertical-align: top;\n",
       "    }\n",
       "\n",
       "    .dataframe thead th {\n",
       "        text-align: right;\n",
       "    }\n",
       "</style>\n",
       "<table border=\"1\" class=\"dataframe\">\n",
       "  <thead>\n",
       "    <tr style=\"text-align: right;\">\n",
       "      <th></th>\n",
       "      <th>day</th>\n",
       "      <th>homeowner</th>\n",
       "      <th>car_value</th>\n",
       "      <th>risk_factor</th>\n",
       "      <th>married_couple</th>\n",
       "      <th>C_previous</th>\n",
       "      <th>state</th>\n",
       "      <th>shopping_pt</th>\n",
       "    </tr>\n",
       "  </thead>\n",
       "  <tbody>\n",
       "    <tr>\n",
       "      <th>150823</th>\n",
       "      <td>4</td>\n",
       "      <td>1</td>\n",
       "      <td>5</td>\n",
       "      <td>2</td>\n",
       "      <td>1</td>\n",
       "      <td>1</td>\n",
       "      <td>32</td>\n",
       "      <td>6</td>\n",
       "    </tr>\n",
       "    <tr>\n",
       "      <th>146112</th>\n",
       "      <td>3</td>\n",
       "      <td>0</td>\n",
       "      <td>5</td>\n",
       "      <td>2</td>\n",
       "      <td>0</td>\n",
       "      <td>1</td>\n",
       "      <td>32</td>\n",
       "      <td>2</td>\n",
       "    </tr>\n",
       "    <tr>\n",
       "      <th>261430</th>\n",
       "      <td>3</td>\n",
       "      <td>1</td>\n",
       "      <td>4</td>\n",
       "      <td>2</td>\n",
       "      <td>0</td>\n",
       "      <td>2</td>\n",
       "      <td>24</td>\n",
       "      <td>5</td>\n",
       "    </tr>\n",
       "    <tr>\n",
       "      <th>396128</th>\n",
       "      <td>1</td>\n",
       "      <td>0</td>\n",
       "      <td>3</td>\n",
       "      <td>3</td>\n",
       "      <td>0</td>\n",
       "      <td>0</td>\n",
       "      <td>23</td>\n",
       "      <td>10</td>\n",
       "    </tr>\n",
       "    <tr>\n",
       "      <th>217607</th>\n",
       "      <td>2</td>\n",
       "      <td>1</td>\n",
       "      <td>3</td>\n",
       "      <td>2</td>\n",
       "      <td>0</td>\n",
       "      <td>1</td>\n",
       "      <td>15</td>\n",
       "      <td>6</td>\n",
       "    </tr>\n",
       "    <tr>\n",
       "      <th>...</th>\n",
       "      <td>...</td>\n",
       "      <td>...</td>\n",
       "      <td>...</td>\n",
       "      <td>...</td>\n",
       "      <td>...</td>\n",
       "      <td>...</td>\n",
       "      <td>...</td>\n",
       "      <td>...</td>\n",
       "    </tr>\n",
       "    <tr>\n",
       "      <th>359783</th>\n",
       "      <td>4</td>\n",
       "      <td>0</td>\n",
       "      <td>6</td>\n",
       "      <td>2</td>\n",
       "      <td>1</td>\n",
       "      <td>0</td>\n",
       "      <td>0</td>\n",
       "      <td>0</td>\n",
       "    </tr>\n",
       "    <tr>\n",
       "      <th>152315</th>\n",
       "      <td>4</td>\n",
       "      <td>0</td>\n",
       "      <td>4</td>\n",
       "      <td>1</td>\n",
       "      <td>0</td>\n",
       "      <td>0</td>\n",
       "      <td>6</td>\n",
       "      <td>8</td>\n",
       "    </tr>\n",
       "    <tr>\n",
       "      <th>117952</th>\n",
       "      <td>5</td>\n",
       "      <td>0</td>\n",
       "      <td>3</td>\n",
       "      <td>2</td>\n",
       "      <td>0</td>\n",
       "      <td>2</td>\n",
       "      <td>28</td>\n",
       "      <td>5</td>\n",
       "    </tr>\n",
       "    <tr>\n",
       "      <th>435829</th>\n",
       "      <td>4</td>\n",
       "      <td>1</td>\n",
       "      <td>3</td>\n",
       "      <td>3</td>\n",
       "      <td>0</td>\n",
       "      <td>0</td>\n",
       "      <td>27</td>\n",
       "      <td>2</td>\n",
       "    </tr>\n",
       "    <tr>\n",
       "      <th>305711</th>\n",
       "      <td>2</td>\n",
       "      <td>1</td>\n",
       "      <td>4</td>\n",
       "      <td>1</td>\n",
       "      <td>0</td>\n",
       "      <td>0</td>\n",
       "      <td>6</td>\n",
       "      <td>3</td>\n",
       "    </tr>\n",
       "  </tbody>\n",
       "</table>\n",
       "<p>332624 rows × 8 columns</p>\n",
       "</div>"
      ],
      "text/plain": [
       "        day  homeowner  car_value  risk_factor  married_couple  C_previous  \\\n",
       "150823    4          1          5            2               1           1   \n",
       "146112    3          0          5            2               0           1   \n",
       "261430    3          1          4            2               0           2   \n",
       "396128    1          0          3            3               0           0   \n",
       "217607    2          1          3            2               0           1   \n",
       "...     ...        ...        ...          ...             ...         ...   \n",
       "359783    4          0          6            2               1           0   \n",
       "152315    4          0          4            1               0           0   \n",
       "117952    5          0          3            2               0           2   \n",
       "435829    4          1          3            3               0           0   \n",
       "305711    2          1          4            1               0           0   \n",
       "\n",
       "        state  shopping_pt  \n",
       "150823     32            6  \n",
       "146112     32            2  \n",
       "261430     24            5  \n",
       "396128     23           10  \n",
       "217607     15            6  \n",
       "...       ...          ...  \n",
       "359783      0            0  \n",
       "152315      6            8  \n",
       "117952     28            5  \n",
       "435829     27            2  \n",
       "305711      6            3  \n",
       "\n",
       "[332624 rows x 8 columns]"
      ]
     },
     "execution_count": 38,
     "metadata": {},
     "output_type": "execute_result"
    }
   ],
   "source": [
    "###\n",
    "### 코드 추가: OrdinalEncoder (LabelEncoder 대체)\n",
    "###\n",
    "\n",
    "from sklearn.preprocessing import OrdinalEncoder\n",
    "\n",
    "X_train_imp_le, X_test_imp_le, = X_train_imp.copy(), X_test_imp.copy()\n",
    "\n",
    "le = OrdinalEncoder(handle_unknown='use_encoded_value', unknown_value=-1, dtype=int)\n",
    "X_train_imp_le[cat] = le.fit_transform(X_train_imp[cat])\n",
    "X_test_imp_le[cat] = le.transform(X_test_imp[cat])\n",
    "\n",
    "X_train_imp_le[cat]\n",
    "\n",
    "# 경진대회에서는 학습데이터와 평가데이터를 콘캣해서 인코딩하는 방법이 더 좋을떄도있다\n",
    "# 트리는 라벨인코딩\n",
    "# 로지스틱 회귀는 원핫 -> 숫자로 라벨링해버리면 순위가 생겨버린다\n",
    "# 타겟인코딩 -> y값에 가깝게 인코딩하기 때문에 고도의 인코딩기법 but 데이터유출, 과적합 문제 발생 가능성"
   ]
  },
  {
   "cell_type": "code",
   "execution_count": 39,
   "metadata": {},
   "outputs": [
    {
     "data": {
      "text/html": [
       "<div>\n",
       "<style scoped>\n",
       "    .dataframe tbody tr th:only-of-type {\n",
       "        vertical-align: middle;\n",
       "    }\n",
       "\n",
       "    .dataframe tbody tr th {\n",
       "        vertical-align: top;\n",
       "    }\n",
       "\n",
       "    .dataframe thead th {\n",
       "        text-align: right;\n",
       "    }\n",
       "</style>\n",
       "<table border=\"1\" class=\"dataframe\">\n",
       "  <thead>\n",
       "    <tr style=\"text-align: right;\">\n",
       "      <th></th>\n",
       "      <th>day</th>\n",
       "      <th>homeowner</th>\n",
       "      <th>car_value</th>\n",
       "      <th>risk_factor</th>\n",
       "      <th>married_couple</th>\n",
       "      <th>C_previous</th>\n",
       "      <th>state</th>\n",
       "      <th>shopping_pt</th>\n",
       "    </tr>\n",
       "  </thead>\n",
       "  <tbody>\n",
       "    <tr>\n",
       "      <th>150823</th>\n",
       "      <td>0.169895</td>\n",
       "      <td>0.149055</td>\n",
       "      <td>0.146432</td>\n",
       "      <td>0.144266</td>\n",
       "      <td>0.147760</td>\n",
       "      <td>0.150376</td>\n",
       "      <td>0.137450</td>\n",
       "      <td>0.328236</td>\n",
       "    </tr>\n",
       "    <tr>\n",
       "      <th>146112</th>\n",
       "      <td>0.148013</td>\n",
       "      <td>0.144354</td>\n",
       "      <td>0.146432</td>\n",
       "      <td>0.144266</td>\n",
       "      <td>0.146636</td>\n",
       "      <td>0.150376</td>\n",
       "      <td>0.137450</td>\n",
       "      <td>0.058454</td>\n",
       "    </tr>\n",
       "    <tr>\n",
       "      <th>261430</th>\n",
       "      <td>0.148013</td>\n",
       "      <td>0.149055</td>\n",
       "      <td>0.148409</td>\n",
       "      <td>0.144266</td>\n",
       "      <td>0.146636</td>\n",
       "      <td>0.144137</td>\n",
       "      <td>0.148617</td>\n",
       "      <td>0.219065</td>\n",
       "    </tr>\n",
       "    <tr>\n",
       "      <th>396128</th>\n",
       "      <td>0.141208</td>\n",
       "      <td>0.144354</td>\n",
       "      <td>0.145289</td>\n",
       "      <td>0.148868</td>\n",
       "      <td>0.146636</td>\n",
       "      <td>0.146600</td>\n",
       "      <td>0.149698</td>\n",
       "      <td>0.812643</td>\n",
       "    </tr>\n",
       "    <tr>\n",
       "      <th>217607</th>\n",
       "      <td>0.142377</td>\n",
       "      <td>0.149055</td>\n",
       "      <td>0.145289</td>\n",
       "      <td>0.144266</td>\n",
       "      <td>0.146636</td>\n",
       "      <td>0.150376</td>\n",
       "      <td>0.146088</td>\n",
       "      <td>0.328236</td>\n",
       "    </tr>\n",
       "    <tr>\n",
       "      <th>...</th>\n",
       "      <td>...</td>\n",
       "      <td>...</td>\n",
       "      <td>...</td>\n",
       "      <td>...</td>\n",
       "      <td>...</td>\n",
       "      <td>...</td>\n",
       "      <td>...</td>\n",
       "      <td>...</td>\n",
       "    </tr>\n",
       "    <tr>\n",
       "      <th>359783</th>\n",
       "      <td>0.169895</td>\n",
       "      <td>0.144354</td>\n",
       "      <td>0.146507</td>\n",
       "      <td>0.144266</td>\n",
       "      <td>0.147760</td>\n",
       "      <td>0.146600</td>\n",
       "      <td>0.150937</td>\n",
       "      <td>0.000000</td>\n",
       "    </tr>\n",
       "    <tr>\n",
       "      <th>152315</th>\n",
       "      <td>0.169895</td>\n",
       "      <td>0.144354</td>\n",
       "      <td>0.148409</td>\n",
       "      <td>0.150409</td>\n",
       "      <td>0.146636</td>\n",
       "      <td>0.146600</td>\n",
       "      <td>0.147277</td>\n",
       "      <td>0.583508</td>\n",
       "    </tr>\n",
       "    <tr>\n",
       "      <th>117952</th>\n",
       "      <td>0.177419</td>\n",
       "      <td>0.144354</td>\n",
       "      <td>0.145289</td>\n",
       "      <td>0.144266</td>\n",
       "      <td>0.146636</td>\n",
       "      <td>0.144137</td>\n",
       "      <td>0.145970</td>\n",
       "      <td>0.219065</td>\n",
       "    </tr>\n",
       "    <tr>\n",
       "      <th>435829</th>\n",
       "      <td>0.169895</td>\n",
       "      <td>0.149055</td>\n",
       "      <td>0.145289</td>\n",
       "      <td>0.148868</td>\n",
       "      <td>0.146636</td>\n",
       "      <td>0.146600</td>\n",
       "      <td>0.148369</td>\n",
       "      <td>0.058454</td>\n",
       "    </tr>\n",
       "    <tr>\n",
       "      <th>305711</th>\n",
       "      <td>0.142377</td>\n",
       "      <td>0.149055</td>\n",
       "      <td>0.148409</td>\n",
       "      <td>0.150409</td>\n",
       "      <td>0.146636</td>\n",
       "      <td>0.146600</td>\n",
       "      <td>0.147277</td>\n",
       "      <td>0.089593</td>\n",
       "    </tr>\n",
       "  </tbody>\n",
       "</table>\n",
       "<p>332624 rows × 8 columns</p>\n",
       "</div>"
      ],
      "text/plain": [
       "             day  homeowner  car_value  risk_factor  married_couple  \\\n",
       "150823  0.169895   0.149055   0.146432     0.144266        0.147760   \n",
       "146112  0.148013   0.144354   0.146432     0.144266        0.146636   \n",
       "261430  0.148013   0.149055   0.148409     0.144266        0.146636   \n",
       "396128  0.141208   0.144354   0.145289     0.148868        0.146636   \n",
       "217607  0.142377   0.149055   0.145289     0.144266        0.146636   \n",
       "...          ...        ...        ...          ...             ...   \n",
       "359783  0.169895   0.144354   0.146507     0.144266        0.147760   \n",
       "152315  0.169895   0.144354   0.148409     0.150409        0.146636   \n",
       "117952  0.177419   0.144354   0.145289     0.144266        0.146636   \n",
       "435829  0.169895   0.149055   0.145289     0.148868        0.146636   \n",
       "305711  0.142377   0.149055   0.148409     0.150409        0.146636   \n",
       "\n",
       "        C_previous     state  shopping_pt  \n",
       "150823    0.150376  0.137450     0.328236  \n",
       "146112    0.150376  0.137450     0.058454  \n",
       "261430    0.144137  0.148617     0.219065  \n",
       "396128    0.146600  0.149698     0.812643  \n",
       "217607    0.150376  0.146088     0.328236  \n",
       "...            ...       ...          ...  \n",
       "359783    0.146600  0.150937     0.000000  \n",
       "152315    0.146600  0.147277     0.583508  \n",
       "117952    0.144137  0.145970     0.219065  \n",
       "435829    0.146600  0.148369     0.058454  \n",
       "305711    0.146600  0.147277     0.089593  \n",
       "\n",
       "[332624 rows x 8 columns]"
      ]
     },
     "execution_count": 39,
     "metadata": {},
     "output_type": "execute_result"
    }
   ],
   "source": [
    "###\n",
    "### 코드 추가: Target Encoding\n",
    "###\n",
    "\n",
    "from category_encoders import TargetEncoder\n",
    "\n",
    "X_train_imp_te, X_test_imp_te, = X_train_imp.copy(), X_test_imp.copy()\n",
    "te = TargetEncoder(cols=cat, min_samples_leaf=5, smoothing=50)\n",
    "# 민 샘플 리프 : 범주의 개수가 5개가 안되면 전체평균하라\n",
    "X_train_imp_te[cat] = te.fit_transform(X_train_imp[cat], y_train)\n",
    "X_test_imp_te[cat] = te.transform(X_test_imp[cat])\n",
    "X_train_imp_te[cat]"
   ]
  },
  {
   "cell_type": "code",
   "execution_count": 42,
   "metadata": {},
   "outputs": [
    {
     "data": {
      "text/plain": [
       "day\n",
       "0.133714    0.133714\n",
       "0.141208    0.141208\n",
       "0.142377    0.142377\n",
       "0.148013    0.148013\n",
       "0.152344    0.152344\n",
       "0.169895    0.169895\n",
       "0.177419    0.177419\n",
       "Name: record_type, dtype: float64"
      ]
     },
     "execution_count": 42,
     "metadata": {},
     "output_type": "execute_result"
    }
   ],
   "source": [
    "pd.concat([X_train_imp_te[cat],y_train],axis=1).groupby('day')['record_type'].mean()"
   ]
  },
  {
   "cell_type": "code",
   "execution_count": 43,
   "metadata": {},
   "outputs": [
    {
     "name": "stdout",
     "output_type": "stream",
     "text": [
      "<class 'pandas.core.frame.DataFrame'>\n",
      "Int64Index: 332624 entries, 150823 to 305711\n",
      "Data columns (total 14 columns):\n",
      " #   Column             Non-Null Count   Dtype  \n",
      "---  ------             --------------   -----  \n",
      " 0   group_size         332624 non-null  float64\n",
      " 1   car_age            332624 non-null  float64\n",
      " 2   age_oldest         332624 non-null  float64\n",
      " 3   age_youngest       332624 non-null  float64\n",
      " 4   duration_previous  332624 non-null  float64\n",
      " 5   cost               332624 non-null  float64\n",
      " 6   day                332624 non-null  int32  \n",
      " 7   homeowner          332624 non-null  int32  \n",
      " 8   car_value          332624 non-null  int32  \n",
      " 9   risk_factor        332624 non-null  int32  \n",
      " 10  married_couple     332624 non-null  int32  \n",
      " 11  C_previous         332624 non-null  int32  \n",
      " 12  state              332624 non-null  int32  \n",
      " 13  shopping_pt        332624 non-null  int32  \n",
      "dtypes: float64(6), int32(8)\n",
      "memory usage: 36.0 MB\n",
      "None\n"
     ]
    },
    {
     "data": {
      "text/html": [
       "<div>\n",
       "<style scoped>\n",
       "    .dataframe tbody tr th:only-of-type {\n",
       "        vertical-align: middle;\n",
       "    }\n",
       "\n",
       "    .dataframe tbody tr th {\n",
       "        vertical-align: top;\n",
       "    }\n",
       "\n",
       "    .dataframe thead th {\n",
       "        text-align: right;\n",
       "    }\n",
       "</style>\n",
       "<table border=\"1\" class=\"dataframe\">\n",
       "  <thead>\n",
       "    <tr style=\"text-align: right;\">\n",
       "      <th></th>\n",
       "      <th>car_value</th>\n",
       "    </tr>\n",
       "  </thead>\n",
       "  <tbody>\n",
       "    <tr>\n",
       "      <th>150823</th>\n",
       "      <td>5</td>\n",
       "    </tr>\n",
       "    <tr>\n",
       "      <th>146112</th>\n",
       "      <td>5</td>\n",
       "    </tr>\n",
       "    <tr>\n",
       "      <th>261430</th>\n",
       "      <td>4</td>\n",
       "    </tr>\n",
       "    <tr>\n",
       "      <th>396128</th>\n",
       "      <td>3</td>\n",
       "    </tr>\n",
       "    <tr>\n",
       "      <th>217607</th>\n",
       "      <td>3</td>\n",
       "    </tr>\n",
       "  </tbody>\n",
       "</table>\n",
       "</div>"
      ],
      "text/plain": [
       "        car_value\n",
       "150823          5\n",
       "146112          5\n",
       "261430          4\n",
       "396128          3\n",
       "217607          3"
      ]
     },
     "execution_count": 43,
     "metadata": {},
     "output_type": "execute_result"
    }
   ],
   "source": [
    "print(X_train_imp_le.info())   \n",
    "X_train_imp_le.filter(like='car_value').head()"
   ]
  },
  {
   "cell_type": "markdown",
   "metadata": {},
   "source": [
    "<font color='blue'><p>\n",
    "**기타 다른 인코딩 방법 (아래 참조):**   \n",
    "<font color='black'><p>    \n",
    "- [All about Categorical Variable Encoding](https://towardsdatascience.com/all-about-categorical-variable-encoding-305f3361fd02)\n",
    "- [Mean Encoding 설명](https://dailyheumsi.tistory.com/120)\n",
    "- [Category Encoders](https://github.com/scikit-learn-contrib/categorical-encoding)"
   ]
  },
  {
   "cell_type": "markdown",
   "metadata": {
    "colab_type": "text",
    "id": "nAyJs-Sq6HxA"
   },
   "source": [
    "## 3. Numerical Feature Transformation"
   ]
  },
  {
   "cell_type": "markdown",
   "metadata": {
    "colab_type": "text",
    "id": "cZxv6Ehz6HxA"
   },
   "source": [
    "### Feature Scaling"
   ]
  },
  {
   "cell_type": "markdown",
   "metadata": {},
   "source": [
    "<font color='darkgreen'><p>\n",
    "### *The effect of preprocessing on supervised learning* #####\n",
    "<img align='left' src='http://drive.google.com/uc?export=view&id=1BLGzg0t4WqgBo8BjQMGTymW1cTisLTlU'>   "
   ]
  },
  {
   "cell_type": "markdown",
   "metadata": {},
   "source": [
    "- Neural network와 SVM 같은 알고리즘은 feature의 scale에 매우 민감하기 때문에 모델링 전에 scale을 조정하는 전처리 작업이 필요 \n",
    "- scikit-learn은 아래와 같은 다양한 scale 변환 방법을 제공\n",
    "<img align='left' src='http://drive.google.com/uc?export=view&id=1dtzf-czC-Yt_PVKgsl7jOMSchS9XT7Id' style=\"max-width: 70%; height: auto;\"/>"
   ]
  },
  {
   "cell_type": "code",
   "execution_count": 44,
   "metadata": {},
   "outputs": [],
   "source": [
    "# Allstate 데이터는 SVM 학습하는데 시간이 많이 소요되어 지금부터는 유방암 데이터를 사용하여 실습\n",
    "\n",
    "from sklearn.datasets import load_breast_cancer\n",
    "\n",
    "cancer = load_breast_cancer()\n",
    "X_train, X_test, y_train, y_test = train_test_split(cancer.data, cancer.target, random_state=0) "
   ]
  },
  {
   "cell_type": "code",
   "execution_count": 45,
   "metadata": {},
   "outputs": [
    {
     "data": {
      "image/png": "[encoded data removed]",
      "text/plain": [
       "<Figure size 432x288 with 1 Axes>"
      ]
     },
     "metadata": {
      "needs_background": "light"
     },
     "output_type": "display_data"
    }
   ],
   "source": [
    "# Scaling 적용 전 시긱화\n",
    "plt.xlim(-500, 500); plt.ylim(-500, 500)\n",
    "plt.scatter(X_train[:,1], X_train[:,3], c=y_train, s=2)\n",
    "plt.show()"
   ]
  },
  {
   "cell_type": "code",
   "execution_count": 46,
   "metadata": {},
   "outputs": [
    {
     "data": {
      "text/plain": [
       "0.9370629370629371"
      ]
     },
     "execution_count": 46,
     "metadata": {},
     "output_type": "execute_result"
    }
   ],
   "source": [
    "from sklearn.svm import SVC\n",
    "\n",
    "svm = SVC(random_state=0)\n",
    "svm.fit(X_train, y_train).score(X_test, y_test)"
   ]
  },
  {
   "cell_type": "code",
   "execution_count": 47,
   "metadata": {},
   "outputs": [
    {
     "data": {
      "text/plain": [
       "0.9370629370629371"
      ]
     },
     "execution_count": 47,
     "metadata": {},
     "output_type": "execute_result"
    }
   ],
   "source": [
    "from sklearn.tree import DecisionTreeClassifier\n",
    "\n",
    "dt = DecisionTreeClassifier(max_depth=3, random_state=0)\n",
    "dt.fit(X_train, y_train).score(X_test, y_test)"
   ]
  },
  {
   "cell_type": "markdown",
   "metadata": {
    "colab_type": "text",
    "id": "cZxv6Ehz6HxA"
   },
   "source": [
    "#### Standardization"
   ]
  },
  {
   "cell_type": "code",
   "execution_count": 48,
   "metadata": {},
   "outputs": [],
   "source": [
    "# preprocessing using zero mean and unit variance scaling\n",
    "from sklearn.preprocessing import StandardScaler\n",
    "\n",
    "scaler = StandardScaler()\n",
    "X_train_sc1 = scaler.fit_transform(X_train)\n",
    "X_test_sc1 = scaler.transform(X_test) # Scaling training and test data the same way"
   ]
  },
  {
   "cell_type": "code",
   "execution_count": 49,
   "metadata": {},
   "outputs": [
    {
     "data": {
      "image/png": "[encoded data removed]",
      "text/plain": [
       "<Figure size 432x288 with 1 Axes>"
      ]
     },
     "metadata": {
      "needs_background": "light"
     },
     "output_type": "display_data"
    }
   ],
   "source": [
    "# Standardization 적용 후 시긱화\n",
    "plt.xlim(-500, 500); plt.ylim(-500, 500)\n",
    "plt.scatter(X_train_sc1[:,1], X_train_sc1[:,3], c=y_train)\n",
    "plt.show()"
   ]
  },
  {
   "cell_type": "code",
   "execution_count": 50,
   "metadata": {},
   "outputs": [
    {
     "data": {
      "text/plain": [
       "0.965034965034965"
      ]
     },
     "execution_count": 50,
     "metadata": {},
     "output_type": "execute_result"
    }
   ],
   "source": [
    "svm.fit(X_train_sc1, y_train).score(X_test_sc1, y_test)"
   ]
  },
  {
   "cell_type": "code",
   "execution_count": 51,
   "metadata": {},
   "outputs": [
    {
     "data": {
      "text/plain": [
       "0.9370629370629371"
      ]
     },
     "execution_count": 51,
     "metadata": {},
     "output_type": "execute_result"
    }
   ],
   "source": [
    "# Decision Tree를 기반으로 하는 모델은 Scaing에 거의 영향을 받지 않는다.\n",
    "dt.fit(X_train_sc1, y_train).score(X_test_sc1, y_test)"
   ]
  },
  {
   "cell_type": "markdown",
   "metadata": {
    "colab_type": "text",
    "id": "HzQJTlBt6HxS"
   },
   "source": [
    "#### Min-max scaling"
   ]
  },
  {
   "cell_type": "code",
   "execution_count": 52,
   "metadata": {},
   "outputs": [],
   "source": [
    "# preprocessing using 0-1 scaling\n",
    "from sklearn.preprocessing import MinMaxScaler\n",
    "\n",
    "scaler = MinMaxScaler()\n",
    "X_train_sc2 = scaler.fit(X_train).transform(X_train)\n",
    "X_test_sc2 = scaler.transform(X_test) "
   ]
  },
  {
   "cell_type": "code",
   "execution_count": 53,
   "metadata": {},
   "outputs": [
    {
     "data": {
      "image/png": "[encoded data removed]",
      "text/plain": [
       "<Figure size 432x288 with 1 Axes>"
      ]
     },
     "metadata": {
      "needs_background": "light"
     },
     "output_type": "display_data"
    }
   ],
   "source": [
    "# Min-max scaling 적용 후 시긱화\n",
    "plt.xlim(-500, 500); plt.ylim(-500, 500)\n",
    "plt.scatter(X_train_sc2[:,1], X_train_sc2[:,3], c=y_train)\n",
    "plt.show()"
   ]
  },
  {
   "cell_type": "code",
   "execution_count": 54,
   "metadata": {},
   "outputs": [
    {
     "data": {
      "text/plain": [
       "0.972027972027972"
      ]
     },
     "execution_count": 54,
     "metadata": {},
     "output_type": "execute_result"
    }
   ],
   "source": [
    "svm.fit(X_train_sc2, y_train).score(X_test_sc2, y_test)"
   ]
  },
  {
   "cell_type": "markdown",
   "metadata": {},
   "source": [
    "<font color='blue'><p>\n",
    "Feature Scaling에 대해 더 많은 내용을 알고 싶으면 아래 자료를 참조:  \n",
    "- [All about Feature Scaling](https://towardsdatascience.com/all-about-feature-scaling-bcc0ad75cb35)"
   ]
  },
  {
   "cell_type": "markdown",
   "metadata": {},
   "source": [
    "### Feature Transformation"
   ]
  },
  {
   "cell_type": "markdown",
   "metadata": {},
   "source": [
    "#### Power Transformation"
   ]
  },
  {
   "cell_type": "code",
   "execution_count": 55,
   "metadata": {},
   "outputs": [
    {
     "data": {
      "image/png": "[encoded data removed]",
      "text/plain": [
       "<Figure size 432x288 with 1 Axes>"
      ]
     },
     "metadata": {
      "needs_background": "light"
     },
     "output_type": "display_data"
    }
   ],
   "source": [
    "import seaborn as sns\n",
    "\n",
    "sns.distplot(pd.DataFrame(X_train[:,12]))\n",
    "plt.show()"
   ]
  },
  {
   "cell_type": "code",
   "execution_count": 56,
   "metadata": {},
   "outputs": [],
   "source": [
    "# making data more Gaussian-like\n",
    "from sklearn.preprocessing import PowerTransformer\n",
    "\n",
    "scaler = PowerTransformer(standardize=True)\n",
    "X_train_sc3 = scaler.fit(X_train).transform(X_train)\n",
    "X_test_sc3 = scaler.transform(X_test) \n",
    "\n",
    "# 정규화와 스케일링 동시에 : powertransformer"
   ]
  },
  {
   "cell_type": "code",
   "execution_count": 57,
   "metadata": {},
   "outputs": [
    {
     "data": {
      "image/png": "[encoded data removed]",
      "text/plain": [
       "<Figure size 432x288 with 1 Axes>"
      ]
     },
     "metadata": {
      "needs_background": "light"
     },
     "output_type": "display_data"
    }
   ],
   "source": [
    "sns.distplot(pd.DataFrame(X_train_sc3[:,12]))\n",
    "plt.show()"
   ]
  },
  {
   "cell_type": "code",
   "execution_count": 58,
   "metadata": {},
   "outputs": [
    {
     "data": {
      "text/plain": [
       "0.986013986013986"
      ]
     },
     "execution_count": 58,
     "metadata": {},
     "output_type": "execute_result"
    }
   ],
   "source": [
    "svm.fit(X_train_sc3, y_train).score(X_test_sc3, y_test)"
   ]
  },
  {
   "cell_type": "markdown",
   "metadata": {},
   "source": [
    "###  Binning"
   ]
  },
  {
   "cell_type": "markdown",
   "metadata": {},
   "source": [
    "- 구간분할(Binning 또는 Discretization)은 수치형 feature를 구간별로 나누어 범주형 feature로 변환하는 방법\n",
    "- 결과가 순서가 있는 범주형 feature가 되므로 순서 그대로를 수치화 하거나 OHE를 적용할 수도 있음\n",
    "- 이상치 완화, 결측값처리 용이, 과적합 완화, 결과에 대한 해석 용이 등의 장점이 있으나 근본적으로는 정보손실을 초래할 수 있음.\n",
    "- 연속형 변수일때 일정 구간을 정해서 범주형으로 조져버림 -> 정규분포 형태로 조질수있음"
   ]
  },
  {
   "cell_type": "code",
   "execution_count": 59,
   "metadata": {},
   "outputs": [
    {
     "data": {
      "image/png": "[encoded data removed]",
      "text/plain": [
       "<Figure size 432x288 with 1 Axes>"
      ]
     },
     "metadata": {
      "needs_background": "light"
     },
     "output_type": "display_data"
    }
   ],
   "source": [
    "sns.kdeplot(X_train_sc3[:,7])\n",
    "plt.show()"
   ]
  },
  {
   "cell_type": "code",
   "execution_count": 63,
   "metadata": {},
   "outputs": [
    {
     "data": {
      "text/plain": [
       "array([array([-1.89375698, -1.08996257, -0.28616817,  0.51762624,  1.32142065,\n",
       "               2.12521506])                                                   ],\n",
       "      dtype=object)"
      ]
     },
     "execution_count": 63,
     "metadata": {},
     "output_type": "execute_result"
    }
   ],
   "source": [
    "from sklearn.preprocessing import KBinsDiscretizer\n",
    "\n",
    "bin_cols = [7]\n",
    "\n",
    "X_train_sc3_bin = X_train_sc3.copy()\n",
    "X_test_sc3_bin = X_test_sc3.copy()\n",
    "\n",
    "### K-bins discretization\n",
    "# - encode: 'onehot', 'onehot-dense', 'ordinal'\n",
    "# - strategy: 'uniform', 'quantile' , 'kmeans'\n",
    "\n",
    "# 순서 그대로를 수치화\n",
    "bin = KBinsDiscretizer(n_bins=5, encode='ordinal', strategy='uniform')\n",
    "X_train_sc3_bin[:,bin_cols] = bin.fit_transform(X_train_sc3[:,bin_cols])\n",
    "X_test_sc3_bin[:,bin_cols] = bin.transform(X_test_sc3[:,bin_cols])\n",
    "\n",
    "bin.bin_edges_"
   ]
  },
  {
   "cell_type": "code",
   "execution_count": 64,
   "metadata": {},
   "outputs": [
    {
     "data": {
      "text/plain": [
       "((426, 34), (426, 30))"
      ]
     },
     "execution_count": 64,
     "metadata": {},
     "output_type": "execute_result"
    }
   ],
   "source": [
    "X_train_sc3_bin = X_train_sc3.copy()\n",
    "X_test_sc3_bin = X_test_sc3.copy()\n",
    "\n",
    "# OHE 적용\n",
    "bin = KBinsDiscretizer(n_bins=5, encode='onehot-dense', strategy='uniform')\n",
    "X_train_sc3_bin = np.c_[np.delete(X_train_sc3,bin_cols,axis=1), bin.fit_transform(X_train_sc3[:,bin_cols])]\n",
    "X_test_sc3_bin = np.c_[np.delete(X_test_sc3,bin_cols,axis=1), bin.transform(X_test_sc3[:,bin_cols])]\n",
    "\n",
    "X_train_sc3_bin.shape, X_train_sc3.shape"
   ]
  },
  {
   "cell_type": "code",
   "execution_count": 65,
   "metadata": {},
   "outputs": [
    {
     "data": {
      "text/plain": [
       "0.986013986013986"
      ]
     },
     "execution_count": 65,
     "metadata": {},
     "output_type": "execute_result"
    }
   ],
   "source": [
    "svm.fit(X_train_sc3_bin, y_train).score(X_test_sc3_bin, y_test)"
   ]
  },
  {
   "cell_type": "code",
   "execution_count": 66,
   "metadata": {},
   "outputs": [
    {
     "data": {
      "image/png": "[encoded data removed]",
      "text/plain": [
       "<Figure size 432x288 with 1 Axes>"
      ]
     },
     "metadata": {
      "needs_background": "light"
     },
     "output_type": "display_data"
    }
   ],
   "source": [
    "sns.kdeplot(X_train_sc3_bin[:,7])\n",
    "plt.show()"
   ]
  },
  {
   "cell_type": "markdown",
   "metadata": {},
   "source": [
    "## 4. Feature Selection ###"
   ]
  },
  {
   "cell_type": "markdown",
   "metadata": {},
   "source": [
    "### Model based feature selection #####\n",
    "- 피처에 비해 샘플이 충분히 많으면 피처셀렉션 조지지마\n",
    "- 컴피티션은 샘플에 비해 피처가 많다... 셀렉션 조질것"
   ]
  },
  {
   "cell_type": "code",
   "execution_count": 67,
   "metadata": {},
   "outputs": [],
   "source": [
    "from sklearn.feature_selection import SelectFromModel\n",
    "from sklearn.ensemble import RandomForestClassifier\n",
    "# 트리기반 모델\n",
    "\n",
    "select1 = SelectFromModel(RandomForestClassifier(random_state=0), threshold=None)\n"
   ]
  },
  {
   "cell_type": "code",
   "execution_count": 68,
   "metadata": {},
   "outputs": [
    {
     "name": "stdout",
     "output_type": "stream",
     "text": [
      "X_train_sc3.shape: (426, 30), X_train_sc3_fs1.shape: (426, 10)\n"
     ]
    }
   ],
   "source": [
    "X_train_sc3_fs1 = select1.fit(X_train_sc3, y_train).transform(X_train_sc3)\n",
    "X_test_sc3_fs1 = select1.transform(X_test_sc3)\n",
    "# 트리계열에서 중요한 루트만 뽑아냄\n",
    "\n",
    "print(\"X_train_sc3.shape: {}, X_train_sc3_fs1.shape: {}\".format(X_train_sc3.shape, X_train_sc3_fs1.shape))"
   ]
  },
  {
   "cell_type": "code",
   "execution_count": 69,
   "metadata": {},
   "outputs": [
    {
     "data": {
      "image/png": "[encoded data removed]",
      "text/plain": [
       "<Figure size 1152x144 with 1 Axes>"
      ]
     },
     "metadata": {
      "needs_background": "light"
     },
     "output_type": "display_data"
    }
   ],
   "source": [
    "mask = select1.get_support()\n",
    "plt.matshow(mask.reshape(1,-1), cmap=\"gray_r\")\n",
    "plt.show()\n",
    "\n",
    "# 까만것만 중요하다 생각해서 뽑아낸 것들\n",
    "# 경험상 별로 좋지 않다~\n",
    "# 인포메이션 로스의 발생가능성 올라간다"
   ]
  },
  {
   "cell_type": "code",
   "execution_count": 70,
   "metadata": {},
   "outputs": [
    {
     "data": {
      "text/plain": [
       "0.9370629370629371"
      ]
     },
     "execution_count": 70,
     "metadata": {},
     "output_type": "execute_result"
    }
   ],
   "source": [
    "svm.fit(X_train_sc3_fs1, y_train).score(X_test_sc3_fs1, y_test)"
   ]
  },
  {
   "cell_type": "markdown",
   "metadata": {},
   "source": [
    "### Univariate feature selection"
   ]
  },
  {
   "cell_type": "code",
   "execution_count": 71,
   "metadata": {},
   "outputs": [
    {
     "data": {
      "text/plain": [
       "(426, 10)"
      ]
     },
     "execution_count": 71,
     "metadata": {},
     "output_type": "execute_result"
    }
   ],
   "source": [
    "from sklearn.feature_selection import SelectKBest\n",
    "# y에 영향을 가장 많이 미칠수있는 것을 k개만 골라라\n",
    "# 10가 맞는지 20개가 맞는지...? 모른다\n",
    "\n",
    "select2 = SelectKBest(k=10)\n",
    "X_train_sc3_fs2 = select2.fit_transform(X_train_sc3, y_train)\n",
    "X_test_sc3_fs2 = select2.transform(X_test_sc3)\n",
    "\n",
    "X_train_sc3_fs2.shape"
   ]
  },
  {
   "cell_type": "code",
   "execution_count": 72,
   "metadata": {},
   "outputs": [
    {
     "data": {
      "image/png": "[encoded data removed]",
      "text/plain": [
       "<Figure size 1152x144 with 1 Axes>"
      ]
     },
     "metadata": {
      "needs_background": "light"
     },
     "output_type": "display_data"
    }
   ],
   "source": [
    "mask = select2.get_support()\n",
    "plt.matshow(mask.reshape(1,-1), cmap=\"gray_r\")\n",
    "plt.show()"
   ]
  },
  {
   "cell_type": "code",
   "execution_count": 73,
   "metadata": {},
   "outputs": [
    {
     "data": {
      "text/plain": [
       "0.951048951048951"
      ]
     },
     "execution_count": 73,
     "metadata": {},
     "output_type": "execute_result"
    }
   ],
   "source": [
    "svm.fit(X_train_sc3_fs2, y_train).score(X_test_sc3_fs2, y_test)"
   ]
  },
  {
   "cell_type": "code",
   "execution_count": 74,
   "metadata": {},
   "outputs": [
    {
     "data": {
      "application/vnd.jupyter.widget-view+json": {
       "model_id": "9a84f901aee648a3bb7491f02588915c",
       "version_major": 2,
       "version_minor": 0
      },
      "text/plain": [
       "  0%|          | 0/95 [00:00<?, ?it/s]"
      ]
     },
     "metadata": {},
     "output_type": "display_data"
    },
    {
     "name": "stdout",
     "output_type": "stream",
     "text": [
      "(90, 0.983568075117371)\n"
     ]
    },
    {
     "data": {
      "image/png": "[encoded data removed]",
      "text/plain": [
       "<Figure size 432x288 with 1 Axes>"
      ]
     },
     "metadata": {
      "needs_background": "light"
     },
     "output_type": "display_data"
    },
    {
     "name": "stdout",
     "output_type": "stream",
     "text": [
      "(426, 27)\n"
     ]
    }
   ],
   "source": [
    "# 최적점: 학습 데이터에 대한 최적점 -> 오버피팅\n",
    "# Univariate feature selection을 통해 자동으로 feature를 선택하는 방법 예시 (단, 과적합 주의)\n",
    "# 데이터가 크면 시간이 너무걸림\n",
    "# 데이터가 충분해야 좋다\n",
    "\n",
    "from sklearn.linear_model import LogisticRegression\n",
    "from sklearn.feature_selection import SelectPercentile\n",
    "from sklearn.model_selection import cross_val_score\n",
    "from tqdm import tqdm_notebook\n",
    "\n",
    "# 사용할 모델 설정 (성능이 떨어지지 않으면서 가능한 속도가 빠른 모델 사용 권장)\n",
    "model = LogisticRegression(random_state=0)\n",
    "\n",
    "# SelectPercentile()의 p(feature의 비율)값을 변화시키면서 최적의 p를 결정\n",
    "cv_scores = []\n",
    "for p in tqdm_notebook(range(5,100,1)):\n",
    "    X_new = SelectPercentile(percentile=p).fit_transform(X_train_sc3, y_train)    \n",
    "    cv_score = cross_val_score(model, X_new, y_train, cv=3).mean()\n",
    "    cv_scores.append((p, cv_score))\n",
    "\n",
    "# Print the best percentile\n",
    "best_score = cv_scores[np.argmax([score for _, score in cv_scores])]\n",
    "print(best_score)\n",
    "\n",
    "# Plot the performance change with p\n",
    "plt.plot([k for k, _ in cv_scores], [score for _, score in cv_scores])\n",
    "plt.xlabel('Percent of features')\n",
    "plt.grid()\n",
    "plt.show()\n",
    "\n",
    "# 과적합을 피하기 위해 최적의 p값 주변의 값을 선택하는게 더 나은 결과를 얻을 수 있다. \n",
    "fs = SelectPercentile(percentile=best_score[0]).fit(X_train_sc3, y_train)\n",
    "X_train_sc3_fs2p = fs.transform(X_train_sc3)\n",
    "X_test_sc3_fs2p = fs.transform(X_test_sc3)\n",
    "\n",
    "print(X_train_sc3_fs2p.shape)"
   ]
  },
  {
   "cell_type": "code",
   "execution_count": 75,
   "metadata": {},
   "outputs": [
    {
     "data": {
      "text/plain": [
       "0.972027972027972"
      ]
     },
     "execution_count": 75,
     "metadata": {},
     "output_type": "execute_result"
    }
   ],
   "source": [
    "svm.fit(X_train_sc3_fs2p, y_train).score(X_test_sc3_fs2p, y_test)"
   ]
  },
  {
   "cell_type": "markdown",
   "metadata": {},
   "source": [
    "### Recursive feature elimination"
   ]
  },
  {
   "cell_type": "code",
   "execution_count": 76,
   "metadata": {},
   "outputs": [
    {
     "data": {
      "text/plain": [
       "(426, 10)"
      ]
     },
     "execution_count": 76,
     "metadata": {},
     "output_type": "execute_result"
    }
   ],
   "source": [
    "from sklearn.feature_selection import RFE\n",
    "#데이터가 많으면 못돌린다\n",
    "\n",
    "select3 = RFE(estimator=RandomForestClassifier(random_state=0), n_features_to_select=10, step=1)\n",
    "X_train_sc3_fs3 = select3.fit_transform(X_train_sc3, y_train)\n",
    "X_test_sc3_fs3 = select3.transform(X_test_sc3)\n",
    "\n",
    "X_train_sc3_fs3.shape"
   ]
  },
  {
   "cell_type": "code",
   "execution_count": 77,
   "metadata": {},
   "outputs": [
    {
     "data": {
      "text/plain": [
       "0.972027972027972"
      ]
     },
     "execution_count": 77,
     "metadata": {},
     "output_type": "execute_result"
    }
   ],
   "source": [
    "svm.fit(X_train_sc3_fs3, y_train).score(X_test_sc3_fs3, y_test)"
   ]
  },
  {
   "cell_type": "markdown",
   "metadata": {},
   "source": [
    "### Feature selection using SHAP(SHapley Additive exPlanations)"
   ]
  },
  {
   "cell_type": "code",
   "execution_count": 78,
   "metadata": {},
   "outputs": [
    {
     "name": "stdout",
     "output_type": "stream",
     "text": [
      "Collecting shap\n",
      "  Downloading shap-0.41.0-cp39-cp39-win_amd64.whl (435 kB)\n",
      "Requirement already satisfied: pandas in c:\\users\\user\\anaconda3\\lib\\site-packages (from shap) (1.4.2)\n",
      "Requirement already satisfied: packaging>20.9 in c:\\users\\user\\anaconda3\\lib\\site-packages (from shap) (21.3)\n",
      "Requirement already satisfied: numba in c:\\users\\user\\anaconda3\\lib\\site-packages (from shap) (0.55.1)\n",
      "Requirement already satisfied: tqdm>4.25.0 in c:\\users\\user\\anaconda3\\lib\\site-packages (from shap) (4.64.0)\n",
      "Requirement already satisfied: scipy in c:\\users\\user\\anaconda3\\lib\\site-packages (from shap) (1.7.3)\n",
      "Requirement already satisfied: numpy in c:\\users\\user\\anaconda3\\lib\\site-packages (from shap) (1.21.5)\n",
      "Requirement already satisfied: cloudpickle in c:\\users\\user\\anaconda3\\lib\\site-packages (from shap) (2.0.0)\n",
      "Requirement already satisfied: scikit-learn in c:\\users\\user\\appdata\\roaming\\python\\python39\\site-packages (from shap) (1.1.3)\n",
      "Collecting slicer==0.0.7\n",
      "  Downloading slicer-0.0.7-py3-none-any.whl (14 kB)\n",
      "Requirement already satisfied: pyparsing!=3.0.5,>=2.0.2 in c:\\users\\user\\anaconda3\\lib\\site-packages (from packaging>20.9->shap) (3.0.4)\n",
      "Requirement already satisfied: colorama in c:\\users\\user\\anaconda3\\lib\\site-packages (from tqdm>4.25.0->shap) (0.4.4)\n",
      "Requirement already satisfied: setuptools in c:\\users\\user\\anaconda3\\lib\\site-packages (from numba->shap) (61.2.0)\n",
      "Requirement already satisfied: llvmlite<0.39,>=0.38.0rc1 in c:\\users\\user\\anaconda3\\lib\\site-packages (from numba->shap) (0.38.0)\n",
      "Requirement already satisfied: pytz>=2020.1 in c:\\users\\user\\anaconda3\\lib\\site-packages (from pandas->shap) (2021.3)\n",
      "Requirement already satisfied: python-dateutil>=2.8.1 in c:\\users\\user\\anaconda3\\lib\\site-packages (from pandas->shap) (2.8.2)\n",
      "Requirement already satisfied: six>=1.5 in c:\\users\\user\\anaconda3\\lib\\site-packages (from python-dateutil>=2.8.1->pandas->shap) (1.16.0)\n",
      "Requirement already satisfied: threadpoolctl>=2.0.0 in c:\\users\\user\\anaconda3\\lib\\site-packages (from scikit-learn->shap) (2.2.0)\n",
      "Requirement already satisfied: joblib>=1.0.0 in c:\\users\\user\\anaconda3\\lib\\site-packages (from scikit-learn->shap) (1.1.0)\n",
      "Installing collected packages: slicer, shap\n",
      "Successfully installed shap-0.41.0 slicer-0.0.7\n"
     ]
    }
   ],
   "source": [
    "!pip install shap"
   ]
  },
  {
   "cell_type": "code",
   "execution_count": 79,
   "metadata": {},
   "outputs": [
    {
     "data": {
      "image/png": "[encoded data removed]",
      "text/plain": [
       "<Figure size 576x684 with 1 Axes>"
      ]
     },
     "metadata": {
      "needs_background": "light"
     },
     "output_type": "display_data"
    },
    {
     "data": {
      "text/html": [
       "<div>\n",
       "<style scoped>\n",
       "    .dataframe tbody tr th:only-of-type {\n",
       "        vertical-align: middle;\n",
       "    }\n",
       "\n",
       "    .dataframe tbody tr th {\n",
       "        vertical-align: top;\n",
       "    }\n",
       "\n",
       "    .dataframe thead th {\n",
       "        text-align: right;\n",
       "    }\n",
       "</style>\n",
       "<table border=\"1\" class=\"dataframe\">\n",
       "  <thead>\n",
       "    <tr style=\"text-align: right;\">\n",
       "      <th></th>\n",
       "      <th>feature_name</th>\n",
       "      <th>shap_importance</th>\n",
       "    </tr>\n",
       "  </thead>\n",
       "  <tbody>\n",
       "    <tr>\n",
       "      <th>22</th>\n",
       "      <td>worst perimeter</td>\n",
       "      <td>0.075618</td>\n",
       "    </tr>\n",
       "    <tr>\n",
       "      <th>27</th>\n",
       "      <td>worst concave points</td>\n",
       "      <td>0.057271</td>\n",
       "    </tr>\n",
       "    <tr>\n",
       "      <th>20</th>\n",
       "      <td>worst radius</td>\n",
       "      <td>0.056786</td>\n",
       "    </tr>\n",
       "    <tr>\n",
       "      <th>7</th>\n",
       "      <td>mean concave points</td>\n",
       "      <td>0.052158</td>\n",
       "    </tr>\n",
       "    <tr>\n",
       "      <th>23</th>\n",
       "      <td>worst area</td>\n",
       "      <td>0.041022</td>\n",
       "    </tr>\n",
       "    <tr>\n",
       "      <th>26</th>\n",
       "      <td>worst concavity</td>\n",
       "      <td>0.030308</td>\n",
       "    </tr>\n",
       "    <tr>\n",
       "      <th>6</th>\n",
       "      <td>mean concavity</td>\n",
       "      <td>0.023455</td>\n",
       "    </tr>\n",
       "    <tr>\n",
       "      <th>3</th>\n",
       "      <td>mean area</td>\n",
       "      <td>0.020757</td>\n",
       "    </tr>\n",
       "    <tr>\n",
       "      <th>13</th>\n",
       "      <td>area error</td>\n",
       "      <td>0.019991</td>\n",
       "    </tr>\n",
       "    <tr>\n",
       "      <th>2</th>\n",
       "      <td>mean perimeter</td>\n",
       "      <td>0.019761</td>\n",
       "    </tr>\n",
       "    <tr>\n",
       "      <th>1</th>\n",
       "      <td>mean texture</td>\n",
       "      <td>0.016106</td>\n",
       "    </tr>\n",
       "    <tr>\n",
       "      <th>21</th>\n",
       "      <td>worst texture</td>\n",
       "      <td>0.014452</td>\n",
       "    </tr>\n",
       "    <tr>\n",
       "      <th>0</th>\n",
       "      <td>mean radius</td>\n",
       "      <td>0.012875</td>\n",
       "    </tr>\n",
       "    <tr>\n",
       "      <th>10</th>\n",
       "      <td>radius error</td>\n",
       "      <td>0.012575</td>\n",
       "    </tr>\n",
       "    <tr>\n",
       "      <th>25</th>\n",
       "      <td>worst compactness</td>\n",
       "      <td>0.008517</td>\n",
       "    </tr>\n",
       "    <tr>\n",
       "      <th>12</th>\n",
       "      <td>perimeter error</td>\n",
       "      <td>0.007699</td>\n",
       "    </tr>\n",
       "    <tr>\n",
       "      <th>24</th>\n",
       "      <td>worst smoothness</td>\n",
       "      <td>0.00738</td>\n",
       "    </tr>\n",
       "    <tr>\n",
       "      <th>28</th>\n",
       "      <td>worst symmetry</td>\n",
       "      <td>0.005508</td>\n",
       "    </tr>\n",
       "    <tr>\n",
       "      <th>29</th>\n",
       "      <td>worst fractal dimension</td>\n",
       "      <td>0.003979</td>\n",
       "    </tr>\n",
       "    <tr>\n",
       "      <th>5</th>\n",
       "      <td>mean compactness</td>\n",
       "      <td>0.003551</td>\n",
       "    </tr>\n",
       "    <tr>\n",
       "      <th>4</th>\n",
       "      <td>mean smoothness</td>\n",
       "      <td>0.003398</td>\n",
       "    </tr>\n",
       "    <tr>\n",
       "      <th>15</th>\n",
       "      <td>compactness error</td>\n",
       "      <td>0.003145</td>\n",
       "    </tr>\n",
       "    <tr>\n",
       "      <th>19</th>\n",
       "      <td>fractal dimension error</td>\n",
       "      <td>0.002436</td>\n",
       "    </tr>\n",
       "    <tr>\n",
       "      <th>8</th>\n",
       "      <td>mean symmetry</td>\n",
       "      <td>0.002402</td>\n",
       "    </tr>\n",
       "    <tr>\n",
       "      <th>17</th>\n",
       "      <td>concave points error</td>\n",
       "      <td>0.002271</td>\n",
       "    </tr>\n",
       "    <tr>\n",
       "      <th>11</th>\n",
       "      <td>texture error</td>\n",
       "      <td>0.00225</td>\n",
       "    </tr>\n",
       "    <tr>\n",
       "      <th>18</th>\n",
       "      <td>symmetry error</td>\n",
       "      <td>0.001805</td>\n",
       "    </tr>\n",
       "    <tr>\n",
       "      <th>16</th>\n",
       "      <td>concavity error</td>\n",
       "      <td>0.001757</td>\n",
       "    </tr>\n",
       "    <tr>\n",
       "      <th>14</th>\n",
       "      <td>smoothness error</td>\n",
       "      <td>0.001605</td>\n",
       "    </tr>\n",
       "    <tr>\n",
       "      <th>9</th>\n",
       "      <td>mean fractal dimension</td>\n",
       "      <td>0.000921</td>\n",
       "    </tr>\n",
       "  </tbody>\n",
       "</table>\n",
       "</div>"
      ],
      "text/plain": [
       "               feature_name shap_importance\n",
       "22          worst perimeter        0.075618\n",
       "27     worst concave points        0.057271\n",
       "20             worst radius        0.056786\n",
       "7       mean concave points        0.052158\n",
       "23               worst area        0.041022\n",
       "26          worst concavity        0.030308\n",
       "6            mean concavity        0.023455\n",
       "3                 mean area        0.020757\n",
       "13               area error        0.019991\n",
       "2            mean perimeter        0.019761\n",
       "1              mean texture        0.016106\n",
       "21            worst texture        0.014452\n",
       "0               mean radius        0.012875\n",
       "10             radius error        0.012575\n",
       "25        worst compactness        0.008517\n",
       "12          perimeter error        0.007699\n",
       "24         worst smoothness         0.00738\n",
       "28           worst symmetry        0.005508\n",
       "29  worst fractal dimension        0.003979\n",
       "5          mean compactness        0.003551\n",
       "4           mean smoothness        0.003398\n",
       "15        compactness error        0.003145\n",
       "19  fractal dimension error        0.002436\n",
       "8             mean symmetry        0.002402\n",
       "17     concave points error        0.002271\n",
       "11            texture error         0.00225\n",
       "18           symmetry error        0.001805\n",
       "16          concavity error        0.001757\n",
       "14         smoothness error        0.001605\n",
       "9    mean fractal dimension        0.000921"
      ]
     },
     "execution_count": 79,
     "metadata": {},
     "output_type": "execute_result"
    }
   ],
   "source": [
    "import shap\n",
    "\n",
    "# Data, based on which importance is checked\n",
    "model = RandomForestClassifier(random_state=0).fit(X_train_sc3, y_train)\n",
    "X_importance = X_test_sc3\n",
    "\n",
    "# Explain model predictions using shap library:\n",
    "explainer = shap.TreeExplainer(model)\n",
    "shap_values = explainer.shap_values(X_importance)\n",
    "\n",
    "# Plot summary_plot\n",
    "shap.summary_plot(shap_values[1], X_importance, feature_names=cancer.feature_names, plot_type='bar')\n",
    "\n",
    "# Disply feature importance in a table\n",
    "shap_sum = np.abs(shap_values).mean(axis=1)\n",
    "importance_df = pd.DataFrame([cancer.feature_names, shap_sum[1]]).T\n",
    "importance_df.columns = ['feature_name', 'shap_importance']\n",
    "importance_df = importance_df.sort_values('shap_importance', ascending=False)\n",
    "importance_df"
   ]
  },
  {
   "cell_type": "code",
   "execution_count": 80,
   "metadata": {},
   "outputs": [
    {
     "data": {
      "text/plain": [
       "(426, 29)"
      ]
     },
     "execution_count": 80,
     "metadata": {},
     "output_type": "execute_result"
    }
   ],
   "source": [
    "features_selected = importance_df.iloc[:29].index\n",
    "#features_selected = importance_df.query('shap_importance > 0').index\n",
    "X_train_sc3_fs4 = X_train_sc3[:,features_selected]\n",
    "X_test_sc3_fs4 =X_test_sc3[:,features_selected]\n",
    "\n",
    "X_train_sc3_fs4.shape"
   ]
  },
  {
   "cell_type": "code",
   "execution_count": 81,
   "metadata": {},
   "outputs": [
    {
     "data": {
      "text/plain": [
       "0.993006993006993"
      ]
     },
     "execution_count": 81,
     "metadata": {},
     "output_type": "execute_result"
    }
   ],
   "source": [
    "svm.fit(X_train_sc3_fs4, y_train).score(X_test_sc3_fs4, y_test)"
   ]
  },
  {
   "cell_type": "markdown",
   "metadata": {},
   "source": [
    "## 5. Dimensionality Reduction"
   ]
  },
  {
   "cell_type": "markdown",
   "metadata": {},
   "source": [
    "### PCA(Principal Component Analysis, 주성분분석)\n",
    "원 데이터의 분포를 최대한 보존하면서 고차원 공간의 데이터들을 저차원 공간으로 변환하는 기법  \n",
    "<img align=\"left\" src=\"https://miro.medium.com/max/1400/1*ba0XpZtJrgh7UpzWcIgZ1Q.jpeg\" width=600 height=400>\n",
    "<img align=\"left\" src=\"https://t1.daumcdn.net/cfile/tistory/232FCB42527C51481B\" width=600 height=400>"
   ]
  },
  {
   "cell_type": "code",
   "execution_count": 82,
   "metadata": {},
   "outputs": [
    {
     "name": "stdout",
     "output_type": "stream",
     "text": [
      "(426, 10)\n"
     ]
    },
    {
     "data": {
      "text/plain": [
       "0.9790209790209791"
      ]
     },
     "execution_count": 82,
     "metadata": {},
     "output_type": "execute_result"
    }
   ],
   "source": [
    "from sklearn.decomposition import PCA\n",
    "\n",
    "pca = PCA(n_components=10)\n",
    "X_train_pca = pca.fit_transform(X_train_sc3)\n",
    "X_test_pca = pca.transform(X_test_sc3)\n",
    "\n",
    "print(X_train_pca.shape)\n",
    "svm.fit(X_train_pca, y_train).score(X_test_pca, y_test)"
   ]
  },
  {
   "cell_type": "code",
   "execution_count": 83,
   "metadata": {},
   "outputs": [
    {
     "data": {
      "text/plain": [
       "<BarContainer object of 10 artists>"
      ]
     },
     "execution_count": 83,
     "metadata": {},
     "output_type": "execute_result"
    },
    {
     "data": {
      "image/png": "[encoded data removed]",
      "text/plain": [
       "<Figure size 432x288 with 1 Axes>"
      ]
     },
     "metadata": {
      "needs_background": "light"
     },
     "output_type": "display_data"
    }
   ],
   "source": [
    "# 각 주성분에 의해 설명되는 분산의 비율\n",
    "# 몇차원으로 줄여야해?\n",
    "# pca를 하면할수록 인포메이션 로스가커진다\n",
    "# 1. 뉴메릭 피처가 다닥다닥 붙어있는데서는 쓰면안됨 -> 값이 빽빽하게 채워진 피처는 피씨에이 금지\n",
    "# 2. 원핫인코딩을 한 다음에 피처들을 피씨에이 돌려라 -> 피씨에이 돌려서 피처를 줄임\n",
    "\n",
    "plt.bar(range(len(pca.explained_variance_ratio_)), pca.explained_variance_ratio_)"
   ]
  },
  {
   "cell_type": "code",
   "execution_count": 84,
   "metadata": {},
   "outputs": [
    {
     "name": "stdout",
     "output_type": "stream",
     "text": [
      "(426, 15)\n"
     ]
    },
    {
     "data": {
      "text/plain": [
       "0.986013986013986"
      ]
     },
     "execution_count": 84,
     "metadata": {},
     "output_type": "execute_result"
    }
   ],
   "source": [
    "# 적절한 주성분의 갯수를 결정하는 방법 중 하나\n",
    "max_d = num_d = X_train.shape[1]\n",
    "pca = PCA(n_components=max_d).fit(X_train_sc3)\n",
    "cumsum = np.cumsum(pca.explained_variance_ratio_) #분산의 설명량을 누적합\n",
    "num_d = np.argmax(cumsum >= 0.99) + 1             #분산의 설명량이 99%이상 되는 차원의 수\n",
    "if num_d == 1: num_d = max_d\n",
    "pca = PCA(n_components=num_d, random_state=0)  \n",
    "X_train_pca = pca.fit_transform(X_train_sc3)\n",
    "X_test_pca = pca.transform(X_test_sc3)\n",
    "\n",
    "print(X_train_pca.shape)\n",
    "svm.fit(X_train_pca, y_train).score(X_test_pca, y_test)"
   ]
  },
  {
   "cell_type": "markdown",
   "metadata": {},
   "source": [
    "## 6. Feature Generation ###\n",
    "- 그룹별 summary: Ex) state는 고객이 위치한 36개 주를 나타냄 => 주별로 평균 cost를 계산하여 새로운 feature 생성\n",
    "- 기존 feature 간의 결합: Ex) 1인당 견적을 계산\n",
    "- 개별 feature 의 함수적 변환: Ex) np.log, np.sqrt, np.square 등을 사용\n",
    "- 상호작용과 다항식 추가: 아래 참조"
   ]
  },
  {
   "cell_type": "markdown",
   "metadata": {},
   "source": [
    "### Automatic generating polynomial and interaction features\n",
    "입력값  x 를 다항식으로 변환한다.\n",
    "$$ x →[1,x,x^2,x^3,⋯] $$\n",
    "\n",
    "만약 열의 갯수가 두 개이고 2차 다항식으로 변환하는 경우에는 다음처럼 변환한다.\n",
    "$$ [x_1,x_2]→[1,x_1,x_2,x_1^2,x_1x_2,x_2^2] $$\n",
    "\n",
    "다음과 같은 파라미터를 가진다.\n",
    "- degree : 차수\n",
    "- interaction_only: <font color=\"#CC3D3D\">서로 다른 피처들 간의 곱만 생성할지 여부<p>\n",
    "- include_bias : 상수항 생성 여부"
   ]
  },
  {
   "cell_type": "code",
   "execution_count": 85,
   "metadata": {},
   "outputs": [],
   "source": [
    "# 이전에 배우고 실행했던 코드\n",
    "import pandas as pd\n",
    "import numpy as np\n",
    "from sklearn.datasets import load_breast_cancer\n",
    "from sklearn.model_selection import train_test_split\n",
    "from sklearn.svm import SVC\n",
    "from sklearn.preprocessing import PowerTransformer\n",
    "from sklearn.feature_selection import SelectKBest\n",
    "\n",
    "cancer = load_breast_cancer()\n",
    "X_train, X_test, y_train, y_test = train_test_split(cancer.data, cancer.target, random_state=0) \n",
    "scaler = PowerTransformer(standardize=True)\n",
    "X_train_sc3 = scaler.fit(X_train).transform(X_train)\n",
    "X_test_sc3 = scaler.transform(X_test) \n",
    "svm = SVC(random_state=0)"
   ]
  },
  {
   "cell_type": "code",
   "execution_count": 86,
   "metadata": {},
   "outputs": [
    {
     "data": {
      "text/plain": [
       "array([[1, 2],\n",
       "       [3, 4],\n",
       "       [5, 6]])"
      ]
     },
     "execution_count": 86,
     "metadata": {},
     "output_type": "execute_result"
    }
   ],
   "source": [
    "from sklearn.preprocessing import PolynomialFeatures\n",
    "\n",
    "X = np.arange(1,7).reshape(3, 2); X"
   ]
  },
  {
   "cell_type": "code",
   "execution_count": 87,
   "metadata": {},
   "outputs": [
    {
     "data": {
      "text/plain": [
       "array([[  1.,   1.,   2.,   1.,   2.,   4.,   1.,   2.,   4.,   8.],\n",
       "       [  1.,   3.,   4.,   9.,  12.,  16.,  27.,  36.,  48.,  64.],\n",
       "       [  1.,   5.,   6.,  25.,  30.,  36., 125., 150., 180., 216.]])"
      ]
     },
     "execution_count": 87,
     "metadata": {},
     "output_type": "execute_result"
    }
   ],
   "source": [
    "poly = PolynomialFeatures(3)\n",
    "poly.fit_transform(X)"
   ]
  },
  {
   "cell_type": "code",
   "execution_count": 88,
   "metadata": {},
   "outputs": [
    {
     "data": {
      "text/html": [
       "<div>\n",
       "<style scoped>\n",
       "    .dataframe tbody tr th:only-of-type {\n",
       "        vertical-align: middle;\n",
       "    }\n",
       "\n",
       "    .dataframe tbody tr th {\n",
       "        vertical-align: top;\n",
       "    }\n",
       "\n",
       "    .dataframe thead th {\n",
       "        text-align: right;\n",
       "    }\n",
       "</style>\n",
       "<table border=\"1\" class=\"dataframe\">\n",
       "  <thead>\n",
       "    <tr style=\"text-align: right;\">\n",
       "      <th></th>\n",
       "      <th>1</th>\n",
       "      <th>x0</th>\n",
       "      <th>x1</th>\n",
       "      <th>x0^2</th>\n",
       "      <th>x0 x1</th>\n",
       "      <th>x1^2</th>\n",
       "      <th>x0^3</th>\n",
       "      <th>x0^2 x1</th>\n",
       "      <th>x0 x1^2</th>\n",
       "      <th>x1^3</th>\n",
       "    </tr>\n",
       "  </thead>\n",
       "  <tbody>\n",
       "    <tr>\n",
       "      <th>0</th>\n",
       "      <td>1.0</td>\n",
       "      <td>1.0</td>\n",
       "      <td>2.0</td>\n",
       "      <td>1.0</td>\n",
       "      <td>2.0</td>\n",
       "      <td>4.0</td>\n",
       "      <td>1.0</td>\n",
       "      <td>2.0</td>\n",
       "      <td>4.0</td>\n",
       "      <td>8.0</td>\n",
       "    </tr>\n",
       "    <tr>\n",
       "      <th>1</th>\n",
       "      <td>1.0</td>\n",
       "      <td>3.0</td>\n",
       "      <td>4.0</td>\n",
       "      <td>9.0</td>\n",
       "      <td>12.0</td>\n",
       "      <td>16.0</td>\n",
       "      <td>27.0</td>\n",
       "      <td>36.0</td>\n",
       "      <td>48.0</td>\n",
       "      <td>64.0</td>\n",
       "    </tr>\n",
       "    <tr>\n",
       "      <th>2</th>\n",
       "      <td>1.0</td>\n",
       "      <td>5.0</td>\n",
       "      <td>6.0</td>\n",
       "      <td>25.0</td>\n",
       "      <td>30.0</td>\n",
       "      <td>36.0</td>\n",
       "      <td>125.0</td>\n",
       "      <td>150.0</td>\n",
       "      <td>180.0</td>\n",
       "      <td>216.0</td>\n",
       "    </tr>\n",
       "  </tbody>\n",
       "</table>\n",
       "</div>"
      ],
      "text/plain": [
       "     1   x0   x1  x0^2  x0 x1  x1^2   x0^3  x0^2 x1  x0 x1^2   x1^3\n",
       "0  1.0  1.0  2.0   1.0    2.0   4.0    1.0      2.0      4.0    8.0\n",
       "1  1.0  3.0  4.0   9.0   12.0  16.0   27.0     36.0     48.0   64.0\n",
       "2  1.0  5.0  6.0  25.0   30.0  36.0  125.0    150.0    180.0  216.0"
      ]
     },
     "execution_count": 88,
     "metadata": {},
     "output_type": "execute_result"
    }
   ],
   "source": [
    "# 코드 추가\n",
    "df = pd.DataFrame(poly.fit_transform(X)); df.columns=poly.get_feature_names()\n",
    "df"
   ]
  },
  {
   "cell_type": "code",
   "execution_count": 89,
   "metadata": {},
   "outputs": [
    {
     "data": {
      "text/plain": [
       "array([[ 1.,  2.,  2.],\n",
       "       [ 3.,  4., 12.],\n",
       "       [ 5.,  6., 30.]])"
      ]
     },
     "execution_count": 89,
     "metadata": {},
     "output_type": "execute_result"
    }
   ],
   "source": [
    "# 코드 변경\n",
    "poly = PolynomialFeatures(interaction_only=True, include_bias=False)\n",
    "poly.fit_transform(X)"
   ]
  },
  {
   "cell_type": "code",
   "execution_count": 90,
   "metadata": {},
   "outputs": [
    {
     "data": {
      "text/plain": [
       "['x0', 'x1', 'x0 x1']"
      ]
     },
     "execution_count": 90,
     "metadata": {},
     "output_type": "execute_result"
    }
   ],
   "source": [
    "poly.get_feature_names()"
   ]
  },
  {
   "cell_type": "code",
   "execution_count": 91,
   "metadata": {},
   "outputs": [
    {
     "name": "stdout",
     "output_type": "stream",
     "text": [
      "(426, 30)\n",
      "(426, 495) (143, 495)\n"
     ]
    },
    {
     "data": {
      "text/plain": [
       "0.9370629370629371"
      ]
     },
     "execution_count": 91,
     "metadata": {},
     "output_type": "execute_result"
    }
   ],
   "source": [
    "# 코드 수정\n",
    "print(X_train_sc3.shape)\n",
    "\n",
    "poly = PolynomialFeatures(2, include_bias=False)\n",
    "X_train_sc3_poly = poly.fit_transform(X_train_sc3)\n",
    "X_test_sc3_poly = poly.transform(X_test_sc3)\n",
    "print(X_train_sc3_poly.shape, X_test_sc3_poly.shape)\n",
    "\n",
    "svm.fit(X_train_sc3_poly, y_train).score(X_test_sc3_poly, y_test)"
   ]
  },
  {
   "cell_type": "markdown",
   "metadata": {},
   "source": [
    "#### feature generation + feature selection"
   ]
  },
  {
   "cell_type": "code",
   "execution_count": 92,
   "metadata": {},
   "outputs": [
    {
     "name": "stdout",
     "output_type": "stream",
     "text": [
      "(426, 20)\n"
     ]
    },
    {
     "data": {
      "text/plain": [
       "0.993006993006993"
      ]
     },
     "execution_count": 92,
     "metadata": {},
     "output_type": "execute_result"
    }
   ],
   "source": [
    "select2 = SelectKBest(k=20)\n",
    "X_train_sc3_poly_fs2 = select2.fit(X_train_sc3_poly, y_train).transform(X_train_sc3_poly)\n",
    "X_test_sc3_poly_fs2 = select2.transform(X_test_sc3_poly)\n",
    "print(X_train_sc3_poly_fs2.shape)\n",
    "\n",
    "svm.fit(X_train_sc3_poly_fs2, y_train).score(X_test_sc3_poly_fs2, y_test)"
   ]
  },
  {
   "cell_type": "code",
   "execution_count": 93,
   "metadata": {},
   "outputs": [
    {
     "data": {
      "text/plain": [
       "array(['x0', 'x1', 'x2', 'x3', 'x5', 'x6', 'x7', 'x10', 'x12', 'x13',\n",
       "       'x17', 'x20', 'x21', 'x22', 'x23', 'x24', 'x25', 'x26', 'x27',\n",
       "       'x3 x10'], dtype='<U7')"
      ]
     },
     "execution_count": 93,
     "metadata": {},
     "output_type": "execute_result"
    }
   ],
   "source": [
    "mask = select2.get_support()\n",
    "np.array(poly.get_feature_names())[mask]"
   ]
  },
  {
   "cell_type": "markdown",
   "metadata": {},
   "source": [
    "## Etc."
   ]
  },
  {
   "cell_type": "markdown",
   "metadata": {},
   "source": [
    "<font color='blue'><p>\n",
    "#### Kaggle Competition에서 자주 사용되는 feature 생성방법(아래 pdf 참조)\n",
    "<font color='black'><p>    \n",
    "- https://drive.google.com/open?id=1HDZc1mDvtmpjg9YPpUN0koHeAiqTAHRw\n",
    "\n",
    "<font color='blue'><p>      \n",
    "#### Automated Feature Engineering\n",
    "<font color='black'><p>    \n",
    "- Feature Engineering의 자동화는 머신러닝 분야에서 급부상 하고 있는 연구주제\n",
    "- MIT는 Deep Feature Synthesis라는 알고리즘을 발표 (2015)\n",
    "    - 온라인 데이터 과학 대회에서 906개 참가팀 중 615개 팀을 이김으로써 그 효과를 입증 \n",
    "    - [Featuretools](https://www.featuretools.com/)라는 오픈 소스 라이브러리로 제공"
   ]
  },
  {
   "cell_type": "markdown",
   "metadata": {},
   "source": [
    "<font color=\"#CC3D3D\"><p>\n",
    "# End"
   ]
  }
 ],
 "metadata": {
  "colab": {
   "default_view": {},
   "name": "M4T2_Feature_Engineering_0921.ipynb",
   "provenance": [],
   "version": "0.3.2",
   "views": {}
  },
  "kernelspec": {
   "display_name": "Python 3 (ipykernel)",
   "language": "python",
   "name": "python3"
  },
  "language_info": {
   "codemirror_mode": {
    "name": "ipython",
    "version": 3
   },
   "file_extension": ".py",
   "mimetype": "text/x-python",
   "name": "python",
   "nbconvert_exporter": "python",
   "pygments_lexer": "ipython3",
   "version": "3.9.12"
  }
 },
 "nbformat": 4,
 "nbformat_minor": 4
}
