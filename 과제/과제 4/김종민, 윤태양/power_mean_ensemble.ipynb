{
 "cells": [
  {
   "cell_type": "markdown",
   "metadata": {},
   "source": [
    "## Creating mean ensembles from submission files"
   ]
  },
  {
   "cell_type": "code",
   "execution_count": 1,
   "metadata": {
    "tags": [
     "parameters"
    ]
   },
   "outputs": [],
   "source": [
    "# 사용법: \n",
    "# 1) 스크립트를 실행하기 전에 submissions 폴더를 먼저 만듭니다. \n",
    "# 2) 앙상블할 submission 화일을 submissions 폴더에 저장합니다.\n",
    "# 3) 실행하면 현재 폴더에 앙상블한 submission 화일이 생성됩니다.\n",
    "\n",
    "P = 1             # 이 값에 따라 성능이 달라짐 (P=1: 산술평균, P>1: 멱평균)\n",
    "USE_RANK = False    # 확률을 순위로 변경하여 앙상블 하는가 여부\n",
    "WEIGHT = [] #[0.79909, 0.80767, 0.80108, 0.80711]  # 가중치 지정안할 경우: WEIGHT = []"
   ]
  },
  {
   "cell_type": "code",
   "execution_count": 2,
   "metadata": {},
   "outputs": [
    {
     "name": "stdout",
     "output_type": "stream",
     "text": [
      "'p1mean_submission_1125_1145.csv' is ready to submit.\n"
     ]
    },
    {
     "data": {
      "image/png": "[encoded data removed]",
      "text/plain": [
       "<Figure size 432x288 with 1 Axes>"
      ]
     },
     "metadata": {
      "needs_background": "light"
     },
     "output_type": "display_data"
    }
   ],
   "source": [
    "import pandas as pd\n",
    "import numpy as np\n",
    "import seaborn as sns\n",
    "import os\n",
    "import warnings\n",
    "warnings.filterwarnings(\"ignore\")\n",
    "\n",
    "# 아래 폴더가 있다는 가정 하에 수행\n",
    "folder = 'submissions'\n",
    "nf = 0\n",
    "for f in os.listdir(folder):\n",
    "    ext = os.path.splitext(f)[-1]\n",
    "    if ext == '.csv': \n",
    "        s = pd.read_csv(folder+\"/\"+f)\n",
    "        if USE_RANK: \n",
    "            s.iloc[:,1] = s.iloc[:,1].rank() / s.shape[0]\n",
    "        if len(WEIGHT) > 0:\n",
    "            s.iloc[:,1] = s.iloc[:,1] * (WEIGHT[nf] / sum(WEIGHT))       \n",
    "    else: \n",
    "        continue\n",
    "    if nf == 0: \n",
    "        slist = s\n",
    "    else: \n",
    "        slist = pd.merge(slist, s, on=\"ID\")\n",
    "    nf += 1\n",
    "    \n",
    "if nf >= 2:\n",
    "    pred = 0\n",
    "    for j in range(nf):\n",
    "        pred = pred + slist.iloc[:,j+1]**P \n",
    "    pred = pred / nf    \n",
    "    pred = pred**(1/P)  \n",
    "    t = pd.Timestamp.now()\n",
    "    fname = f\"p{P}mean_submission_{t.month:02}{t.day:02}_{t.hour:02}{t.minute:02}.csv\"\n",
    "    pd.DataFrame({'ID': slist.ID, 'Salary': pred}).to_csv(fname, index=False)\n",
    "    print(f\"'{fname}' is ready to submit.\") \n",
    "    \n",
    "    sns.distplot(pd.DataFrame(pred))       "
   ]
  },
  {
   "cell_type": "markdown",
   "metadata": {},
   "source": [
    "### End"
   ]
  }
 ],
 "metadata": {
  "celltoolbar": "Tags",
  "kernelspec": {
   "display_name": "Python 3 (ipykernel)",
   "language": "python",
   "name": "python3"
  },
  "language_info": {
   "codemirror_mode": {
    "name": "ipython",
    "version": 3
   },
   "file_extension": ".py",
   "mimetype": "text/x-python",
   "name": "python",
   "nbconvert_exporter": "python",
   "pygments_lexer": "ipython3",
   "version": "3.9.12"
  }
 },
 "nbformat": 4,
 "nbformat_minor": 4
}
