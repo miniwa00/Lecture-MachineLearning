{
 "cells": [
  {
   "cell_type": "code",
   "execution_count": 6,
   "id": "04cceb36",
   "metadata": {},
   "outputs": [
    {
     "ename": "ModuleNotFoundError",
     "evalue": "No module named 'category_encoders'",
     "output_type": "error",
     "traceback": [
      "\u001b[1;31m---------------------------------------------------------------------------\u001b[0m",
      "\u001b[1;31mModuleNotFoundError\u001b[0m                       Traceback (most recent call last)",
      "\u001b[1;32m~\\AppData\\Local\\Temp\\ipykernel_5296\\3098455109.py\u001b[0m in \u001b[0;36m<module>\u001b[1;34m\u001b[0m\n\u001b[1;32m----> 1\u001b[1;33m \u001b[1;32mfrom\u001b[0m \u001b[0mcategory_encoders\u001b[0m\u001b[1;33m.\u001b[0m\u001b[0mordinal\u001b[0m \u001b[1;32mimport\u001b[0m \u001b[0mOrdinalEncoder\u001b[0m\u001b[1;33m\u001b[0m\u001b[1;33m\u001b[0m\u001b[0m\n\u001b[0m\u001b[0;32m      2\u001b[0m \u001b[1;32mfrom\u001b[0m \u001b[0mcategory_encoders\u001b[0m\u001b[1;33m.\u001b[0m\u001b[0mwoe\u001b[0m \u001b[1;32mimport\u001b[0m \u001b[0mWOEEncoder\u001b[0m\u001b[1;33m\u001b[0m\u001b[1;33m\u001b[0m\u001b[0m\n\u001b[0;32m      3\u001b[0m \u001b[1;32mfrom\u001b[0m \u001b[0mcategory_encoders\u001b[0m\u001b[1;33m.\u001b[0m\u001b[0mtarget_encoder\u001b[0m \u001b[1;32mimport\u001b[0m \u001b[0mTargetEncoder\u001b[0m\u001b[1;33m\u001b[0m\u001b[1;33m\u001b[0m\u001b[0m\n\u001b[0;32m      4\u001b[0m \u001b[1;32mfrom\u001b[0m \u001b[0mcategory_encoders\u001b[0m\u001b[1;33m.\u001b[0m\u001b[0msum_coding\u001b[0m \u001b[1;32mimport\u001b[0m \u001b[0mSumEncoder\u001b[0m\u001b[1;33m\u001b[0m\u001b[1;33m\u001b[0m\u001b[0m\n\u001b[0;32m      5\u001b[0m \u001b[1;32mfrom\u001b[0m \u001b[0mcategory_encoders\u001b[0m\u001b[1;33m.\u001b[0m\u001b[0mm_estimate\u001b[0m \u001b[1;32mimport\u001b[0m \u001b[0mMEstimateEncoder\u001b[0m\u001b[1;33m\u001b[0m\u001b[1;33m\u001b[0m\u001b[0m\n",
      "\u001b[1;31mModuleNotFoundError\u001b[0m: No module named 'category_encoders'"
     ]
    }
   ],
   "source": [
    "from category_encoders.ordinal import OrdinalEncoder\n",
    "from category_encoders.woe import WOEEncoder\n",
    "from category_encoders.target_encoder import TargetEncoder\n",
    "from category_encoders.sum_coding import SumEncoder\n",
    "from category_encoders.m_estimate import MEstimateEncoder\n",
    "from category_encoders.leave_one_out import LeaveOneOutEncoder\n",
    "from category_encoders.helmert import HelmertEncoder\n",
    "from category_encoders.cat_boost import CatBoostEncoder\n",
    "from category_encoders.james_stein import JamesSteinEncoder\n",
    "from category_encoders.one_hot import OneHotEncoder\n",
    "\n",
    "import pandas as pd\n",
    "import numpy as np\n",
    "import matplotlib.pyplot as plt\n",
    "%matplotlib inline\n",
    "import warnings\n",
    "warnings.filterwarnings(\"ignore\")\n",
    "import seaborn as sns\n",
    "\n",
    "pd.set_option(\"display.max_columns\", 30)"
   ]
  },
  {
   "cell_type": "code",
   "execution_count": null,
   "id": "00b2cf3a",
   "metadata": {},
   "outputs": [],
   "source": [
    "train = pd.read_csv('train.csv')\n",
    "test = pd.read_csv('test.csv')"
   ]
  },
  {
   "cell_type": "code",
   "execution_count": null,
   "id": "39d27231",
   "metadata": {},
   "outputs": [],
   "source": [
    "bin = ['bin_0', 'bin_1', 'bin_2', 'bin_3', 'bin_4']"
   ]
  },
  {
   "cell_type": "code",
   "execution_count": null,
   "id": "d6b4d86b",
   "metadata": {},
   "outputs": [],
   "source": [
    "from sklearn.impute import SimpleImputer \n",
    "\n",
    "imputer_bin = SimpleImputer(missing_values=np.nan, strategy=\"most_frequent\")\n",
    "imputer_bin.fit(train[bin])"
   ]
  },
  {
   "cell_type": "code",
   "execution_count": null,
   "id": "c9226c8e",
   "metadata": {},
   "outputs": [],
   "source": [
    "train_imp = train.copy()\n",
    "train_imp[bin] = imputer_bin.transform(train[bin])\n",
    "\n",
    "test_imp = test.copy()\n",
    "test_imp[bin] = imputer_bin.transform(test[bin])"
   ]
  },
  {
   "cell_type": "code",
   "execution_count": null,
   "id": "d8cc01f0",
   "metadata": {},
   "outputs": [],
   "source": [
    "train_imp['nom_0'] = train_imp['nom_0'].fillna(train_imp['nom_0'].mode()[0])\n",
    "train_imp['nom_1'] = train_imp['nom_1'].fillna(train_imp['nom_1'].mode()[0])\n",
    "train_imp['nom_2'] = train_imp['nom_2'].fillna(train_imp['nom_2'].mode()[0])\n",
    "train_imp['nom_3'] = train_imp['nom_3'].fillna(train_imp['nom_3'].mode()[0])\n",
    "train_imp['nom_4'] = train_imp['nom_4'].fillna(train_imp['nom_4'].mode()[0])\n",
    "train_imp['nom_5'] = train_imp['nom_5'].fillna(-1)\n",
    "train_imp['nom_6'] = train_imp['nom_6'].fillna(-1)\n",
    "train_imp['nom_7'] = train_imp['nom_7'].fillna(-1)\n",
    "train_imp['nom_8'] = train_imp['nom_8'].fillna(-1)\n",
    "train_imp['nom_9'] = train_imp['nom_9'].fillna(-1)"
   ]
  },
  {
   "cell_type": "code",
   "execution_count": null,
   "id": "1ce99acc",
   "metadata": {},
   "outputs": [],
   "source": [
    "test_imp['nom_0'] = test_imp['nom_0'].fillna(test_imp['nom_0'].mode()[0])\n",
    "test_imp['nom_1'] = test_imp['nom_1'].fillna(test_imp['nom_1'].mode()[0])\n",
    "test_imp['nom_2'] = test_imp['nom_2'].fillna(test_imp['nom_2'].mode()[0])\n",
    "test_imp['nom_3'] = test_imp['nom_3'].fillna(test_imp['nom_3'].mode()[0])\n",
    "test_imp['nom_4'] = test_imp['nom_4'].fillna(test_imp['nom_4'].mode()[0])\n",
    "test_imp['nom_5'] = test_imp['nom_5'].fillna(-1)\n",
    "test_imp['nom_6'] = test_imp['nom_6'].fillna(-1)\n",
    "test_imp['nom_7'] = test_imp['nom_7'].fillna(-1)\n",
    "test_imp['nom_8'] = test_imp['nom_8'].fillna(-1)\n",
    "test_imp['nom_9'] = test_imp['nom_9'].fillna(-1)"
   ]
  },
  {
   "cell_type": "code",
   "execution_count": null,
   "id": "69f92a90",
   "metadata": {},
   "outputs": [],
   "source": [
    "train_imp['ord_0'] = train_imp['ord_0'].fillna(train_imp['ord_0'].mode()[0])\n",
    "train_imp['ord_1'] = train_imp['ord_1'].fillna(train_imp['ord_1'].mode()[0])\n",
    "train_imp['ord_2'] = train_imp['ord_2'].fillna(train_imp['ord_2'].mode()[0])\n",
    "train_imp['ord_3'] = train_imp['ord_3'].fillna('결측치')\n",
    "train_imp['ord_4'] = train_imp['ord_4'].fillna('결측치')\n",
    "train_imp['ord_5'] = train_imp['ord_5'].fillna('결측치')"
   ]
  },
  {
   "cell_type": "code",
   "execution_count": null,
   "id": "84417d82",
   "metadata": {},
   "outputs": [],
   "source": [
    "test_imp['ord_0'] = test_imp['ord_0'].fillna(test_imp['ord_0'].mode()[0])\n",
    "test_imp['ord_1'] = test_imp['ord_1'].fillna(test_imp['ord_1'].mode()[0])\n",
    "test_imp['ord_2'] = test_imp['ord_2'].fillna(test_imp['ord_2'].mode()[0])\n",
    "test_imp['ord_3'] = test_imp['ord_3'].fillna('결측치')\n",
    "test_imp['ord_4'] = test_imp['ord_4'].fillna('결측치')\n",
    "test_imp['ord_5'] = test_imp['ord_5'].fillna('결측치')"
   ]
  },
  {
   "cell_type": "code",
   "execution_count": null,
   "id": "2c75563c",
   "metadata": {},
   "outputs": [],
   "source": [
    "train_imp['day'] = train_imp['day'].fillna(train_imp['day'].mode()[0])\n",
    "train_imp['month'] = train_imp['month'].fillna(train_imp['month'].mode()[0])"
   ]
  },
  {
   "cell_type": "code",
   "execution_count": null,
   "id": "dc3d4202",
   "metadata": {},
   "outputs": [],
   "source": [
    "test_imp['day'] = test_imp['day'].fillna(test_imp['day'].mode()[0])\n",
    "test_imp['month'] = test_imp['month'].fillna(test_imp['month'].mode()[0])"
   ]
  },
  {
   "cell_type": "code",
   "execution_count": null,
   "id": "727200e3",
   "metadata": {},
   "outputs": [],
   "source": [
    "all_data = pd.concat([train_imp, test_imp], ignore_index = True)\n",
    "all_data.drop(columns = ['target', 'id'], axis = 1, inplace = True)\n",
    "\n",
    "train_target = train['target']\n",
    "all_data.T"
   ]
  },
  {
   "cell_type": "code",
   "execution_count": null,
   "id": "1dee0391",
   "metadata": {},
   "outputs": [],
   "source": [
    "train_new = all_data[:len(train)]\n",
    "test_new  = all_data[len(train):]\n",
    "print(train_new.shape, test_new.shape)"
   ]
  },
  {
   "cell_type": "code",
   "execution_count": null,
   "id": "7fb7b851",
   "metadata": {},
   "outputs": [],
   "source": [
    "enc = CatBoostEncoder()\n",
    "train_encoded = enc.fit_transform(train_new, train_target)\n",
    "test_encoded = enc.transform(test_new)\n",
    "train_encoded"
   ]
  },
  {
   "cell_type": "code",
   "execution_count": null,
   "id": "5f517791",
   "metadata": {},
   "outputs": [],
   "source": [
    "train_target = train['target']"
   ]
  },
  {
   "cell_type": "code",
   "execution_count": null,
   "id": "04c8890d",
   "metadata": {},
   "outputs": [],
   "source": [
    "from sklearn.model_selection import train_test_split\n",
    "\n",
    "X_train, X_val, y_train, y_val = train_test_split(train_encoded, train_target, stratify = train_target, random_state = 99)"
   ]
  },
  {
   "cell_type": "code",
   "execution_count": null,
   "id": "f3cef256",
   "metadata": {},
   "outputs": [],
   "source": [
    "from sklearn.linear_model import LogisticRegression\n",
    "\n",
    "model = LogisticRegression(random_state = 99)\n",
    "model.fit(X_train, y_train)\n",
    "y_pred = model.predict_proba(X_val)[:, 1]\n",
    "\n",
    "from sklearn.metrics import roc_auc_score\n",
    "roc_auc_score(y_val, y_pred)"
   ]
  },
  {
   "cell_type": "code",
   "execution_count": null,
   "id": "98b0f0e9",
   "metadata": {},
   "outputs": [],
   "source": [
    "sub = pd.read_csv('sample_submission.csv')\n",
    "\n",
    "# 전체 데이터로 학습\n",
    "model = LogisticRegression(random_state = 99)\n",
    "model.fit(train_encoded, train_target)\n",
    "\n",
    "# test data에 대해 예측 \n",
    "y_pred = model.predict_proba(test_encoded)\n",
    "del sub['target']\n",
    "sub['target'] = y_pred[:, 1]\n",
    "\n",
    "sub.to_csv('LR_ce.csv', index = False)"
   ]
  },
  {
   "cell_type": "code",
   "execution_count": null,
   "id": "1e21e5fa",
   "metadata": {},
   "outputs": [],
   "source": [
    "from sklearn.tree import DecisionTreeClassifier\n",
    "\n",
    "model = DecisionTreeClassifier(max_depth = 9, random_state = 99)\n",
    "model.fit(X_train, y_train)\n",
    "y_pred = model.predict_proba(X_val)[:, 1]\n",
    "\n",
    "from sklearn.metrics import roc_auc_score\n",
    "roc_auc_score(y_val, y_pred)"
   ]
  },
  {
   "cell_type": "code",
   "execution_count": null,
   "id": "40d0026c",
   "metadata": {},
   "outputs": [],
   "source": [
    "sub = pd.read_csv('sample_submission.csv')\n",
    "\n",
    "# 전체 데이터로 학습\n",
    "model = DecisionTreeClassifier(max_depth = 9, random_state = 99)\n",
    "model.fit(train_encoded, train_target)\n",
    "\n",
    "# test data에 대해 예측 \n",
    "y_pred = model.predict_proba(test_encoded)\n",
    "del sub['target']\n",
    "sub['target'] = y_pred[:, 1]\n",
    "\n",
    "sub.to_csv('DT_ce.csv', index = False)"
   ]
  },
  {
   "cell_type": "code",
   "execution_count": null,
   "id": "756a80c8",
   "metadata": {},
   "outputs": [],
   "source": [
    "from sklearn.neural_network import MLPClassifier\n",
    "\n",
    "model = MLPClassifier(hidden_layer_sizes=(10,10), random_state = 99)\n",
    "model.fit(X_train, y_train)\n",
    "y_pred = model.predict_proba(X_val)[:, 1]\n",
    "\n",
    "from sklearn.metrics import roc_auc_score\n",
    "roc_auc_score(y_val, y_pred)"
   ]
  },
  {
   "cell_type": "code",
   "execution_count": null,
   "id": "69006a42",
   "metadata": {},
   "outputs": [],
   "source": [
    "sub = pd.read_csv('sample_submission.csv')\n",
    "\n",
    "# 전체 데이터로 학습\n",
    "model = MLPClassifier(hidden_layer_sizes=(10,10), random_state = 99)\n",
    "model.fit(train_encoded, train_target)\n",
    "\n",
    "# test data에 대해 예측 \n",
    "y_pred = model.predict_proba(test_encoded)\n",
    "del sub['target']\n",
    "sub['target'] = y_pred[:, 1]\n",
    "\n",
    "sub.to_csv('MLP_ce.csv', index = False)"
   ]
  }
 ],
 "metadata": {
  "kernelspec": {
   "display_name": "Python 3 (ipykernel)",
   "language": "python",
   "name": "python3"
  },
  "language_info": {
   "codemirror_mode": {
    "name": "ipython",
    "version": 3
   },
   "file_extension": ".py",
   "mimetype": "text/x-python",
   "name": "python",
   "nbconvert_exporter": "python",
   "pygments_lexer": "ipython3",
   "version": "3.9.13"
  }
 },
 "nbformat": 4,
 "nbformat_minor": 5
}
