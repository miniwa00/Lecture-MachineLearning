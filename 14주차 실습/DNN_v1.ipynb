{
 "cells": [
  {
   "cell_type": "markdown",
   "id": "5da7e746",
   "metadata": {},
   "source": [
    "<font color=\"#CC3D3D\"><p>\n",
    "# [Competition] Building a `DNN` Model with `Pipeline`"
   ]
  },
  {
   "cell_type": "markdown",
   "id": "56d30296",
   "metadata": {},
   "source": [
    "####  전역변수 설정"
   ]
  },
  {
   "cell_type": "code",
   "execution_count": 1,
   "id": "fdd241e7",
   "metadata": {},
   "outputs": [],
   "source": [
    "DNN_VERSION = 1.0  # submission 화일명에 사용\n",
    "SEED = 0           # random_state 지정\n",
    "NCOMP = 50         # 축소할 차원수\n",
    "K = 10             # KMeans의 군집수"
   ]
  },
  {
   "cell_type": "code",
   "execution_count": 2,
   "id": "753b3348",
   "metadata": {},
   "outputs": [],
   "source": [
    "#!pip install tensorflow"
   ]
  },
  {
   "cell_type": "code",
   "execution_count": 3,
   "id": "b30716da",
   "metadata": {},
   "outputs": [
    {
     "name": "stdout",
     "output_type": "stream",
     "text": [
      "2.10.0\n"
     ]
    }
   ],
   "source": [
    "%matplotlib inline\n",
    "import warnings\n",
    "warnings.filterwarnings(\"ignore\")\n",
    "\n",
    "import pandas as pd\n",
    "import numpy as np\n",
    "import matplotlib.pyplot as plt\n",
    "import seaborn as sns\n",
    "from sklearn.pipeline import Pipeline, make_pipeline\n",
    "from sklearn.compose import ColumnTransformer\n",
    "from sklearn.preprocessing import FunctionTransformer\n",
    "from sklearn.base import BaseEstimator, TransformerMixin\n",
    "from sklearn.impute import SimpleImputer\n",
    "from sklearn.preprocessing import PowerTransformer, StandardScaler, MinMaxScaler \n",
    "from sklearn.preprocessing import OrdinalEncoder, OneHotEncoder\n",
    "from sklearn.feature_extraction.text import CountVectorizer\n",
    "from sklearn.decomposition import PCA, TruncatedSVD\n",
    "from sklearn.metrics import mean_squared_error\n",
    "from sklearn.cluster import KMeans  \n",
    "from sklearn import set_config\n",
    "from catboost import CatBoostRegressor\n",
    "from lightgbm import LGBMRegressor\n",
    "import shap\n",
    "import re\n",
    "import random\n",
    "\n",
    "import tensorflow as tf\n",
    "from tensorflow import keras\n",
    "print(tf.__version__)"
   ]
  },
  {
   "cell_type": "code",
   "execution_count": 4,
   "id": "57bb9d53",
   "metadata": {},
   "outputs": [
    {
     "name": "stdout",
     "output_type": "stream",
     "text": [
      "RANDOM SEEDS RESET\n"
     ]
    }
   ],
   "source": [
    "# 매번 모델링을 할 때마다 동일한 결과를 얻으려면 아래 코드를 실행해야 함.\n",
    "\n",
    "def reset_seeds(reset_graph_with_backend=None):\n",
    "    if reset_graph_with_backend is not None:\n",
    "        K = reset_graph_with_backend\n",
    "        K.clear_session()\n",
    "        tf.compat.v1.reset_default_graph()\n",
    "        print(\"KERAS AND TENSORFLOW GRAPHS RESET\")  # optional\n",
    "\n",
    "    np.random.seed(SEED)\n",
    "    random.seed(SEED)\n",
    "    tf.compat.v1.set_random_seed(SEED)\n",
    "#    os.environ['CUDA_VISIBLE_DEVICES'] = ''  # for GPU\n",
    "    print(\"RANDOM SEEDS RESET\")  # optional\n",
    "   \n",
    "reset_seeds()"
   ]
  },
  {
   "cell_type": "markdown",
   "id": "ba99e2ab",
   "metadata": {},
   "source": [
    "#### 데이터 로딩"
   ]
  },
  {
   "cell_type": "code",
   "execution_count": 5,
   "id": "66e6b3f0",
   "metadata": {},
   "outputs": [],
   "source": [
    "X_train = pd.read_csv('X_train.csv', encoding='cp949').drop(columns='ID')\n",
    "y_train = pd.read_csv('y_train.csv', encoding='cp949').Salary\n",
    "\n",
    "X_test = pd.read_csv('X_test.csv', encoding='cp949')\n",
    "test_id = X_test.ID\n",
    "X_test = X_test.drop(columns='ID')"
   ]
  },
  {
   "cell_type": "markdown",
   "id": "7faaa941",
   "metadata": {},
   "source": [
    "#### 데이터 클린징"
   ]
  },
  {
   "cell_type": "code",
   "execution_count": 6,
   "id": "7dc5a6e4",
   "metadata": {},
   "outputs": [],
   "source": [
    "### 경력을 수치로 변환\n",
    "\n",
    "def f1(x):\n",
    "    numbers = re.findall(r'\\d+', x)\n",
    "    return int(numbers[0])*12 if len(numbers) == 1 else int(numbers[0])*12+int(numbers[1])\n",
    "\n",
    "X_train['근무경력'] = X_train['근무경력'].apply(f1)\n",
    "X_test['근무경력'] = X_test['근무경력'].apply(f1)"
   ]
  },
  {
   "cell_type": "markdown",
   "id": "0aa51a57",
   "metadata": {},
   "source": [
    "#### 유형별 피처 분리"
   ]
  },
  {
   "cell_type": "code",
   "execution_count": 7,
   "id": "3365a105",
   "metadata": {},
   "outputs": [],
   "source": [
    "numeric_features = ['근무경력','대학성적']\n",
    "categorical_features = ['직종','세부직종','출신대학','대학전공','어학시험','자격증']\n",
    "binary_features = ['직무태그','근무지역','근무형태']\n",
    "\n",
    "X_train = X_train[numeric_features+categorical_features+binary_features] \n",
    "X_test = X_test[numeric_features+categorical_features+binary_features]"
   ]
  },
  {
   "cell_type": "markdown",
   "id": "7fd51b54",
   "metadata": {},
   "source": [
    "####  전처리 파이프라인 구축"
   ]
  },
  {
   "cell_type": "markdown",
   "id": "426bdec4",
   "metadata": {},
   "source": [
    "- sklearn에 없는 새로운 전처리기 정의"
   ]
  },
  {
   "cell_type": "code",
   "execution_count": 8,
   "id": "3ef8d7d3",
   "metadata": {},
   "outputs": [],
   "source": [
    "# 상하한값 제한을 통한 결측값 처리 함수: FunctionTransformer를 통해 호출\n",
    "def remove_outlier(X, q=0.05):  \n",
    "    df = pd.DataFrame(X)\n",
    "    return df.apply(lambda x: x.clip(x.quantile(q), x.quantile(1-q)), axis=0).values\n",
    "\n",
    "# Shap을 이용한 피처선택 전처리기 클래스\n",
    "class ShapFeatureSelector(TransformerMixin, BaseEstimator):\n",
    "    # 전처리기 생성 즉, ShapFeatureSelector() 호출시 실행\n",
    "    def __init__(self, model):\n",
    "        self.model = model\n",
    "\n",
    "    # 전처리기의 fit() 호출시 실행\n",
    "    def fit(self, X, y):\n",
    "        X = np.array(X)\n",
    "        model = self.model.fit(X, y)\n",
    "        explainer = shap.TreeExplainer(model)\n",
    "        shap_values = explainer.shap_values(X)\n",
    "        self.shap_sum = np.abs(shap_values).mean(axis=0)\n",
    "        return self\n",
    "    \n",
    "    # 전처리기의 transform() 호출시 실행\n",
    "    def transform(self, X):\n",
    "        return X[:,self.shap_sum > 0]        \n",
    "\n",
    "# 군집분석을 활용한 피처생성 전처리기 클래스\n",
    "class KMeansFeaturizer(TransformerMixin, BaseEstimator):\n",
    "    \"\"\"Transforms numeric data into k-means cluster memberships.\n",
    "    This transformer runs k-means on the input data and converts each data point\n",
    "    into the id of the closest cluster.\n",
    "\n",
    "    Parameters\n",
    "    ----------\n",
    "    k: integer, optional, default 10\n",
    "        The number of clusters to group data into.\n",
    "\n",
    "    random_state : integer, optional\n",
    "        This is passed to k-means as the generator used to initialize the \n",
    "        kmeans centers. If an integer is given, it fixes the seed. Defaults to \n",
    "        the global numpy random number generator.\n",
    "    \"\"\"\n",
    "\n",
    "    def __init__(self, k=10, random_state=None):\n",
    "        self.k = k\n",
    "        self.random_state = random_state\n",
    "        self.cluster_encoder = OneHotEncoder().fit(np.array(range(k)).reshape(-1,1))\n",
    "        \n",
    "    def fit(self, X, y=None):\n",
    "        km_model = KMeans(n_clusters=self.k, n_init=20, random_state=self.random_state)\n",
    "        km_model.fit(X)\n",
    "        self.km_model = km_model\n",
    "        return self\n",
    "        \n",
    "    def transform(self, X, y=None):\n",
    "        clusters = self.km_model.predict(X)\n",
    "        new_features = self.cluster_encoder.transform(clusters.reshape(-1,1)).astype(int).todense()\n",
    "        return np.concatenate([X, new_features], axis=1)"
   ]
  },
  {
   "cell_type": "markdown",
   "id": "35f12ae2",
   "metadata": {},
   "source": [
    "- 파이프라인 구성"
   ]
  },
  {
   "cell_type": "code",
   "execution_count": 9,
   "id": "ecc5da49",
   "metadata": {},
   "outputs": [
    {
     "data": {
      "text/html": [
       "<style>#sk-ab822e94-aa31-48b7-bd24-27ff9782b2da {color: black;background-color: white;}#sk-ab822e94-aa31-48b7-bd24-27ff9782b2da pre{padding: 0;}#sk-ab822e94-aa31-48b7-bd24-27ff9782b2da div.sk-toggleable {background-color: white;}#sk-ab822e94-aa31-48b7-bd24-27ff9782b2da label.sk-toggleable__label {cursor: pointer;display: block;width: 100%;margin-bottom: 0;padding: 0.3em;box-sizing: border-box;text-align: center;}#sk-ab822e94-aa31-48b7-bd24-27ff9782b2da label.sk-toggleable__label-arrow:before {content: \"▸\";float: left;margin-right: 0.25em;color: #696969;}#sk-ab822e94-aa31-48b7-bd24-27ff9782b2da label.sk-toggleable__label-arrow:hover:before {color: black;}#sk-ab822e94-aa31-48b7-bd24-27ff9782b2da div.sk-estimator:hover label.sk-toggleable__label-arrow:before {color: black;}#sk-ab822e94-aa31-48b7-bd24-27ff9782b2da div.sk-toggleable__content {max-height: 0;max-width: 0;overflow: hidden;text-align: left;background-color: #f0f8ff;}#sk-ab822e94-aa31-48b7-bd24-27ff9782b2da div.sk-toggleable__content pre {margin: 0.2em;color: black;border-radius: 0.25em;background-color: #f0f8ff;}#sk-ab822e94-aa31-48b7-bd24-27ff9782b2da input.sk-toggleable__control:checked~div.sk-toggleable__content {max-height: 200px;max-width: 100%;overflow: auto;}#sk-ab822e94-aa31-48b7-bd24-27ff9782b2da input.sk-toggleable__control:checked~label.sk-toggleable__label-arrow:before {content: \"▾\";}#sk-ab822e94-aa31-48b7-bd24-27ff9782b2da div.sk-estimator input.sk-toggleable__control:checked~label.sk-toggleable__label {background-color: #d4ebff;}#sk-ab822e94-aa31-48b7-bd24-27ff9782b2da div.sk-label input.sk-toggleable__control:checked~label.sk-toggleable__label {background-color: #d4ebff;}#sk-ab822e94-aa31-48b7-bd24-27ff9782b2da input.sk-hidden--visually {border: 0;clip: rect(1px 1px 1px 1px);clip: rect(1px, 1px, 1px, 1px);height: 1px;margin: -1px;overflow: hidden;padding: 0;position: absolute;width: 1px;}#sk-ab822e94-aa31-48b7-bd24-27ff9782b2da div.sk-estimator {font-family: monospace;background-color: #f0f8ff;border: 1px dotted black;border-radius: 0.25em;box-sizing: border-box;margin-bottom: 0.5em;}#sk-ab822e94-aa31-48b7-bd24-27ff9782b2da div.sk-estimator:hover {background-color: #d4ebff;}#sk-ab822e94-aa31-48b7-bd24-27ff9782b2da div.sk-parallel-item::after {content: \"\";width: 100%;border-bottom: 1px solid gray;flex-grow: 1;}#sk-ab822e94-aa31-48b7-bd24-27ff9782b2da div.sk-label:hover label.sk-toggleable__label {background-color: #d4ebff;}#sk-ab822e94-aa31-48b7-bd24-27ff9782b2da div.sk-serial::before {content: \"\";position: absolute;border-left: 1px solid gray;box-sizing: border-box;top: 2em;bottom: 0;left: 50%;}#sk-ab822e94-aa31-48b7-bd24-27ff9782b2da div.sk-serial {display: flex;flex-direction: column;align-items: center;background-color: white;padding-right: 0.2em;padding-left: 0.2em;}#sk-ab822e94-aa31-48b7-bd24-27ff9782b2da div.sk-item {z-index: 1;}#sk-ab822e94-aa31-48b7-bd24-27ff9782b2da div.sk-parallel {display: flex;align-items: stretch;justify-content: center;background-color: white;}#sk-ab822e94-aa31-48b7-bd24-27ff9782b2da div.sk-parallel::before {content: \"\";position: absolute;border-left: 1px solid gray;box-sizing: border-box;top: 2em;bottom: 0;left: 50%;}#sk-ab822e94-aa31-48b7-bd24-27ff9782b2da div.sk-parallel-item {display: flex;flex-direction: column;position: relative;background-color: white;}#sk-ab822e94-aa31-48b7-bd24-27ff9782b2da div.sk-parallel-item:first-child::after {align-self: flex-end;width: 50%;}#sk-ab822e94-aa31-48b7-bd24-27ff9782b2da div.sk-parallel-item:last-child::after {align-self: flex-start;width: 50%;}#sk-ab822e94-aa31-48b7-bd24-27ff9782b2da div.sk-parallel-item:only-child::after {width: 0;}#sk-ab822e94-aa31-48b7-bd24-27ff9782b2da div.sk-dashed-wrapped {border: 1px dashed gray;margin: 0 0.4em 0.5em 0.4em;box-sizing: border-box;padding-bottom: 0.4em;background-color: white;position: relative;}#sk-ab822e94-aa31-48b7-bd24-27ff9782b2da div.sk-label label {font-family: monospace;font-weight: bold;background-color: white;display: inline-block;line-height: 1.2em;}#sk-ab822e94-aa31-48b7-bd24-27ff9782b2da div.sk-label-container {position: relative;z-index: 2;text-align: center;}#sk-ab822e94-aa31-48b7-bd24-27ff9782b2da div.sk-container {/* jupyter's `normalize.less` sets `[hidden] { display: none; }` but bootstrap.min.css set `[hidden] { display: none !important; }` so we also need the `!important` here to be able to override the default hidden behavior on the sphinx rendered scikit-learn.org. See: https://github.com/scikit-learn/scikit-learn/issues/21755 */display: inline-block !important;position: relative;}#sk-ab822e94-aa31-48b7-bd24-27ff9782b2da div.sk-text-repr-fallback {display: none;}</style><div id=\"sk-ab822e94-aa31-48b7-bd24-27ff9782b2da\" class=\"sk-top-container\"><div class=\"sk-text-repr-fallback\"><pre>Pipeline(steps=[(&#x27;column&#x27;,\n",
       "                 ColumnTransformer(transformers=[(&#x27;num&#x27;,\n",
       "                                                  Pipeline(steps=[(&#x27;imputer&#x27;,\n",
       "                                                                   SimpleImputer()),\n",
       "                                                                  (&#x27;outlier&#x27;,\n",
       "                                                                   FunctionTransformer(func=&lt;function remove_outlier at 0x000001F2A9FFC160&gt;,\n",
       "                                                                                       kw_args={&#x27;q&#x27;: 0.05})),\n",
       "                                                                  (&#x27;scaler&#x27;,\n",
       "                                                                   PowerTransformer())]),\n",
       "                                                  [&#x27;근무경력&#x27;, &#x27;대학성적&#x27;]),\n",
       "                                                 (&#x27;cat&#x27;,\n",
       "                                                  Pipeline(steps=[(&#x27;imputer&#x27;,\n",
       "                                                                   SimpleImputer(strategy=&#x27;most_frequent&#x27;)),\n",
       "                                                                  (&#x27;encoder&#x27;,\n",
       "                                                                   OneH...\n",
       "                                                                   FunctionTransformer(func=&lt;function &lt;lambda&gt; at 0x000001F2A9FFCAF0&gt;)),\n",
       "                                                                  (&#x27;corpus&#x27;,\n",
       "                                                                   FunctionTransformer(func=&lt;function &lt;lambda&gt; at 0x000001F2A9FFCE50&gt;)),\n",
       "                                                                  (&#x27;BoW&#x27;,\n",
       "                                                                   CountVectorizer()),\n",
       "                                                                  (&#x27;dense&#x27;,\n",
       "                                                                   FunctionTransformer(accept_sparse=True,\n",
       "                                                                                       func=&lt;function &lt;lambda&gt; at 0x000001F2A9FFCEE0&gt;))]),\n",
       "                                                  &#x27;근무형태&#x27;)])),\n",
       "                (&#x27;kmf&#x27;, KMeansFeaturizer(random_state=0)),\n",
       "                (&#x27;select&#x27;,\n",
       "                 ShapFeatureSelector(model=LGBMRegressor(random_state=0)))])</pre><b>Please rerun this cell to show the HTML repr or trust the notebook.</b></div><div class=\"sk-container\" hidden><div class=\"sk-item sk-dashed-wrapped\"><div class=\"sk-label-container\"><div class=\"sk-label sk-toggleable\"><input class=\"sk-toggleable__control sk-hidden--visually\" id=\"c9aa7f5c-2b4f-4557-a00d-4754212882ee\" type=\"checkbox\" ><label for=\"c9aa7f5c-2b4f-4557-a00d-4754212882ee\" class=\"sk-toggleable__label sk-toggleable__label-arrow\">Pipeline</label><div class=\"sk-toggleable__content\"><pre>Pipeline(steps=[(&#x27;column&#x27;,\n",
       "                 ColumnTransformer(transformers=[(&#x27;num&#x27;,\n",
       "                                                  Pipeline(steps=[(&#x27;imputer&#x27;,\n",
       "                                                                   SimpleImputer()),\n",
       "                                                                  (&#x27;outlier&#x27;,\n",
       "                                                                   FunctionTransformer(func=&lt;function remove_outlier at 0x000001F2A9FFC160&gt;,\n",
       "                                                                                       kw_args={&#x27;q&#x27;: 0.05})),\n",
       "                                                                  (&#x27;scaler&#x27;,\n",
       "                                                                   PowerTransformer())]),\n",
       "                                                  [&#x27;근무경력&#x27;, &#x27;대학성적&#x27;]),\n",
       "                                                 (&#x27;cat&#x27;,\n",
       "                                                  Pipeline(steps=[(&#x27;imputer&#x27;,\n",
       "                                                                   SimpleImputer(strategy=&#x27;most_frequent&#x27;)),\n",
       "                                                                  (&#x27;encoder&#x27;,\n",
       "                                                                   OneH...\n",
       "                                                                   FunctionTransformer(func=&lt;function &lt;lambda&gt; at 0x000001F2A9FFCAF0&gt;)),\n",
       "                                                                  (&#x27;corpus&#x27;,\n",
       "                                                                   FunctionTransformer(func=&lt;function &lt;lambda&gt; at 0x000001F2A9FFCE50&gt;)),\n",
       "                                                                  (&#x27;BoW&#x27;,\n",
       "                                                                   CountVectorizer()),\n",
       "                                                                  (&#x27;dense&#x27;,\n",
       "                                                                   FunctionTransformer(accept_sparse=True,\n",
       "                                                                                       func=&lt;function &lt;lambda&gt; at 0x000001F2A9FFCEE0&gt;))]),\n",
       "                                                  &#x27;근무형태&#x27;)])),\n",
       "                (&#x27;kmf&#x27;, KMeansFeaturizer(random_state=0)),\n",
       "                (&#x27;select&#x27;,\n",
       "                 ShapFeatureSelector(model=LGBMRegressor(random_state=0)))])</pre></div></div></div><div class=\"sk-serial\"><div class=\"sk-item sk-dashed-wrapped\"><div class=\"sk-label-container\"><div class=\"sk-label sk-toggleable\"><input class=\"sk-toggleable__control sk-hidden--visually\" id=\"4983c573-598c-4fc0-9860-1bb51cd7949d\" type=\"checkbox\" ><label for=\"4983c573-598c-4fc0-9860-1bb51cd7949d\" class=\"sk-toggleable__label sk-toggleable__label-arrow\">column: ColumnTransformer</label><div class=\"sk-toggleable__content\"><pre>ColumnTransformer(transformers=[(&#x27;num&#x27;,\n",
       "                                 Pipeline(steps=[(&#x27;imputer&#x27;, SimpleImputer()),\n",
       "                                                 (&#x27;outlier&#x27;,\n",
       "                                                  FunctionTransformer(func=&lt;function remove_outlier at 0x000001F2A9FFC160&gt;,\n",
       "                                                                      kw_args={&#x27;q&#x27;: 0.05})),\n",
       "                                                 (&#x27;scaler&#x27;,\n",
       "                                                  PowerTransformer())]),\n",
       "                                 [&#x27;근무경력&#x27;, &#x27;대학성적&#x27;]),\n",
       "                                (&#x27;cat&#x27;,\n",
       "                                 Pipeline(steps=[(&#x27;imputer&#x27;,\n",
       "                                                  SimpleImputer(strategy=&#x27;most_frequent&#x27;)),\n",
       "                                                 (&#x27;encoder&#x27;,\n",
       "                                                  OneHotEncoder(handle_unknown=&#x27;...\n",
       "                                                                      func=&lt;function &lt;lambda&gt; at 0x000001F2A9FFCEE0&gt;))]),\n",
       "                                 &#x27;근무지역&#x27;),\n",
       "                                (&#x27;bin3&#x27;,\n",
       "                                 Pipeline(steps=[(&#x27;impuer&#x27;,\n",
       "                                                  FunctionTransformer(func=&lt;function &lt;lambda&gt; at 0x000001F2A9FFCAF0&gt;)),\n",
       "                                                 (&#x27;corpus&#x27;,\n",
       "                                                  FunctionTransformer(func=&lt;function &lt;lambda&gt; at 0x000001F2A9FFCE50&gt;)),\n",
       "                                                 (&#x27;BoW&#x27;, CountVectorizer()),\n",
       "                                                 (&#x27;dense&#x27;,\n",
       "                                                  FunctionTransformer(accept_sparse=True,\n",
       "                                                                      func=&lt;function &lt;lambda&gt; at 0x000001F2A9FFCEE0&gt;))]),\n",
       "                                 &#x27;근무형태&#x27;)])</pre></div></div></div><div class=\"sk-parallel\"><div class=\"sk-parallel-item\"><div class=\"sk-item\"><div class=\"sk-label-container\"><div class=\"sk-label sk-toggleable\"><input class=\"sk-toggleable__control sk-hidden--visually\" id=\"5bdc93ca-0b4f-4bf6-a356-e6ecf1479f03\" type=\"checkbox\" ><label for=\"5bdc93ca-0b4f-4bf6-a356-e6ecf1479f03\" class=\"sk-toggleable__label sk-toggleable__label-arrow\">num</label><div class=\"sk-toggleable__content\"><pre>[&#x27;근무경력&#x27;, &#x27;대학성적&#x27;]</pre></div></div></div><div class=\"sk-serial\"><div class=\"sk-item\"><div class=\"sk-serial\"><div class=\"sk-item\"><div class=\"sk-estimator sk-toggleable\"><input class=\"sk-toggleable__control sk-hidden--visually\" id=\"f47af0ab-ac9e-4976-8fd0-3870591cd7b7\" type=\"checkbox\" ><label for=\"f47af0ab-ac9e-4976-8fd0-3870591cd7b7\" class=\"sk-toggleable__label sk-toggleable__label-arrow\">SimpleImputer</label><div class=\"sk-toggleable__content\"><pre>SimpleImputer()</pre></div></div></div><div class=\"sk-item\"><div class=\"sk-estimator sk-toggleable\"><input class=\"sk-toggleable__control sk-hidden--visually\" id=\"e7a7088b-186c-4e0a-95c5-88a8ceee8bdb\" type=\"checkbox\" ><label for=\"e7a7088b-186c-4e0a-95c5-88a8ceee8bdb\" class=\"sk-toggleable__label sk-toggleable__label-arrow\">FunctionTransformer</label><div class=\"sk-toggleable__content\"><pre>FunctionTransformer(func=&lt;function remove_outlier at 0x000001F2A9FFC160&gt;,\n",
       "                    kw_args={&#x27;q&#x27;: 0.05})</pre></div></div></div><div class=\"sk-item\"><div class=\"sk-estimator sk-toggleable\"><input class=\"sk-toggleable__control sk-hidden--visually\" id=\"4fa8c4e2-fcb0-4e8a-94ab-5f39535ca6c8\" type=\"checkbox\" ><label for=\"4fa8c4e2-fcb0-4e8a-94ab-5f39535ca6c8\" class=\"sk-toggleable__label sk-toggleable__label-arrow\">PowerTransformer</label><div class=\"sk-toggleable__content\"><pre>PowerTransformer()</pre></div></div></div></div></div></div></div></div><div class=\"sk-parallel-item\"><div class=\"sk-item\"><div class=\"sk-label-container\"><div class=\"sk-label sk-toggleable\"><input class=\"sk-toggleable__control sk-hidden--visually\" id=\"d657f13f-a4d4-4b4f-b1b0-897db4abe06f\" type=\"checkbox\" ><label for=\"d657f13f-a4d4-4b4f-b1b0-897db4abe06f\" class=\"sk-toggleable__label sk-toggleable__label-arrow\">cat</label><div class=\"sk-toggleable__content\"><pre>[&#x27;직종&#x27;, &#x27;세부직종&#x27;, &#x27;출신대학&#x27;, &#x27;대학전공&#x27;, &#x27;어학시험&#x27;, &#x27;자격증&#x27;]</pre></div></div></div><div class=\"sk-serial\"><div class=\"sk-item\"><div class=\"sk-serial\"><div class=\"sk-item\"><div class=\"sk-estimator sk-toggleable\"><input class=\"sk-toggleable__control sk-hidden--visually\" id=\"43589b3c-f533-47c8-8e53-6fa2cfc639bb\" type=\"checkbox\" ><label for=\"43589b3c-f533-47c8-8e53-6fa2cfc639bb\" class=\"sk-toggleable__label sk-toggleable__label-arrow\">SimpleImputer</label><div class=\"sk-toggleable__content\"><pre>SimpleImputer(strategy=&#x27;most_frequent&#x27;)</pre></div></div></div><div class=\"sk-item\"><div class=\"sk-estimator sk-toggleable\"><input class=\"sk-toggleable__control sk-hidden--visually\" id=\"9d343257-c6bc-4ac6-8cb7-2dae41c26f71\" type=\"checkbox\" ><label for=\"9d343257-c6bc-4ac6-8cb7-2dae41c26f71\" class=\"sk-toggleable__label sk-toggleable__label-arrow\">OneHotEncoder</label><div class=\"sk-toggleable__content\"><pre>OneHotEncoder(handle_unknown=&#x27;ignore&#x27;, sparse=False)</pre></div></div></div></div></div></div></div></div><div class=\"sk-parallel-item\"><div class=\"sk-item\"><div class=\"sk-label-container\"><div class=\"sk-label sk-toggleable\"><input class=\"sk-toggleable__control sk-hidden--visually\" id=\"2c7b903e-34a4-42ef-ac43-26ec1dbc7787\" type=\"checkbox\" ><label for=\"2c7b903e-34a4-42ef-ac43-26ec1dbc7787\" class=\"sk-toggleable__label sk-toggleable__label-arrow\">bin1</label><div class=\"sk-toggleable__content\"><pre>직무태그</pre></div></div></div><div class=\"sk-serial\"><div class=\"sk-item\"><div class=\"sk-serial\"><div class=\"sk-item\"><div class=\"sk-label-container\"><div class=\"sk-label sk-toggleable\"><input class=\"sk-toggleable__control sk-hidden--visually\" id=\"dbd8bf0f-6ebb-45c5-aa63-950383764f17\" type=\"checkbox\" ><label for=\"dbd8bf0f-6ebb-45c5-aa63-950383764f17\" class=\"sk-toggleable__label sk-toggleable__label-arrow\">pipeline: Pipeline</label><div class=\"sk-toggleable__content\"><pre>Pipeline(steps=[(&#x27;impuer&#x27;,\n",
       "                 FunctionTransformer(func=&lt;function &lt;lambda&gt; at 0x000001F2A9FFCAF0&gt;)),\n",
       "                (&#x27;corpus&#x27;,\n",
       "                 FunctionTransformer(func=&lt;function &lt;lambda&gt; at 0x000001F2A9FFCE50&gt;)),\n",
       "                (&#x27;BoW&#x27;, CountVectorizer()),\n",
       "                (&#x27;dense&#x27;,\n",
       "                 FunctionTransformer(accept_sparse=True,\n",
       "                                     func=&lt;function &lt;lambda&gt; at 0x000001F2A9FFCEE0&gt;))])</pre></div></div></div><div class=\"sk-serial\"><div class=\"sk-item\"><div class=\"sk-estimator sk-toggleable\"><input class=\"sk-toggleable__control sk-hidden--visually\" id=\"c97b79c0-58c3-4f4a-b2d2-e39da07b983d\" type=\"checkbox\" ><label for=\"c97b79c0-58c3-4f4a-b2d2-e39da07b983d\" class=\"sk-toggleable__label sk-toggleable__label-arrow\">FunctionTransformer</label><div class=\"sk-toggleable__content\"><pre>FunctionTransformer(func=&lt;function &lt;lambda&gt; at 0x000001F2A9FFCAF0&gt;)</pre></div></div></div><div class=\"sk-item\"><div class=\"sk-estimator sk-toggleable\"><input class=\"sk-toggleable__control sk-hidden--visually\" id=\"7555faa5-19e4-429f-ae42-76eb44acfc9c\" type=\"checkbox\" ><label for=\"7555faa5-19e4-429f-ae42-76eb44acfc9c\" class=\"sk-toggleable__label sk-toggleable__label-arrow\">FunctionTransformer</label><div class=\"sk-toggleable__content\"><pre>FunctionTransformer(func=&lt;function &lt;lambda&gt; at 0x000001F2A9FFCE50&gt;)</pre></div></div></div><div class=\"sk-item\"><div class=\"sk-estimator sk-toggleable\"><input class=\"sk-toggleable__control sk-hidden--visually\" id=\"e699e13d-d3c9-4554-963e-f300c3e3390d\" type=\"checkbox\" ><label for=\"e699e13d-d3c9-4554-963e-f300c3e3390d\" class=\"sk-toggleable__label sk-toggleable__label-arrow\">CountVectorizer</label><div class=\"sk-toggleable__content\"><pre>CountVectorizer()</pre></div></div></div><div class=\"sk-item\"><div class=\"sk-estimator sk-toggleable\"><input class=\"sk-toggleable__control sk-hidden--visually\" id=\"ae13faf1-20e8-4b09-9c2f-bfe3ba6536f5\" type=\"checkbox\" ><label for=\"ae13faf1-20e8-4b09-9c2f-bfe3ba6536f5\" class=\"sk-toggleable__label sk-toggleable__label-arrow\">FunctionTransformer</label><div class=\"sk-toggleable__content\"><pre>FunctionTransformer(accept_sparse=True,\n",
       "                    func=&lt;function &lt;lambda&gt; at 0x000001F2A9FFCEE0&gt;)</pre></div></div></div></div></div><div class=\"sk-item\"><div class=\"sk-estimator sk-toggleable\"><input class=\"sk-toggleable__control sk-hidden--visually\" id=\"3e8299ea-691b-40ad-8b4b-98471ef5af46\" type=\"checkbox\" ><label for=\"3e8299ea-691b-40ad-8b4b-98471ef5af46\" class=\"sk-toggleable__label sk-toggleable__label-arrow\">TruncatedSVD</label><div class=\"sk-toggleable__content\"><pre>TruncatedSVD(n_components=50, random_state=0)</pre></div></div></div></div></div></div></div></div><div class=\"sk-parallel-item\"><div class=\"sk-item\"><div class=\"sk-label-container\"><div class=\"sk-label sk-toggleable\"><input class=\"sk-toggleable__control sk-hidden--visually\" id=\"5600aa68-0250-4b0d-a677-3cca83170e31\" type=\"checkbox\" ><label for=\"5600aa68-0250-4b0d-a677-3cca83170e31\" class=\"sk-toggleable__label sk-toggleable__label-arrow\">bin2</label><div class=\"sk-toggleable__content\"><pre>근무지역</pre></div></div></div><div class=\"sk-serial\"><div class=\"sk-item\"><div class=\"sk-serial\"><div class=\"sk-item\"><div class=\"sk-estimator sk-toggleable\"><input class=\"sk-toggleable__control sk-hidden--visually\" id=\"ed321d9b-371c-456a-beed-81880bbc5012\" type=\"checkbox\" ><label for=\"ed321d9b-371c-456a-beed-81880bbc5012\" class=\"sk-toggleable__label sk-toggleable__label-arrow\">FunctionTransformer</label><div class=\"sk-toggleable__content\"><pre>FunctionTransformer(func=&lt;function &lt;lambda&gt; at 0x000001F2A9FFCAF0&gt;)</pre></div></div></div><div class=\"sk-item\"><div class=\"sk-estimator sk-toggleable\"><input class=\"sk-toggleable__control sk-hidden--visually\" id=\"36999b23-f177-49c4-99df-d04d09f67f87\" type=\"checkbox\" ><label for=\"36999b23-f177-49c4-99df-d04d09f67f87\" class=\"sk-toggleable__label sk-toggleable__label-arrow\">FunctionTransformer</label><div class=\"sk-toggleable__content\"><pre>FunctionTransformer(func=&lt;function &lt;lambda&gt; at 0x000001F2A9FFCE50&gt;)</pre></div></div></div><div class=\"sk-item\"><div class=\"sk-estimator sk-toggleable\"><input class=\"sk-toggleable__control sk-hidden--visually\" id=\"1ce9044d-4909-44c0-b349-9fc93ea8f244\" type=\"checkbox\" ><label for=\"1ce9044d-4909-44c0-b349-9fc93ea8f244\" class=\"sk-toggleable__label sk-toggleable__label-arrow\">CountVectorizer</label><div class=\"sk-toggleable__content\"><pre>CountVectorizer()</pre></div></div></div><div class=\"sk-item\"><div class=\"sk-estimator sk-toggleable\"><input class=\"sk-toggleable__control sk-hidden--visually\" id=\"0a7c45ee-8dd5-49f0-a9c3-c6bc28c1b323\" type=\"checkbox\" ><label for=\"0a7c45ee-8dd5-49f0-a9c3-c6bc28c1b323\" class=\"sk-toggleable__label sk-toggleable__label-arrow\">FunctionTransformer</label><div class=\"sk-toggleable__content\"><pre>FunctionTransformer(accept_sparse=True,\n",
       "                    func=&lt;function &lt;lambda&gt; at 0x000001F2A9FFCEE0&gt;)</pre></div></div></div></div></div></div></div></div><div class=\"sk-parallel-item\"><div class=\"sk-item\"><div class=\"sk-label-container\"><div class=\"sk-label sk-toggleable\"><input class=\"sk-toggleable__control sk-hidden--visually\" id=\"c330fa1d-c754-430b-b769-57f0935108d8\" type=\"checkbox\" ><label for=\"c330fa1d-c754-430b-b769-57f0935108d8\" class=\"sk-toggleable__label sk-toggleable__label-arrow\">bin3</label><div class=\"sk-toggleable__content\"><pre>근무형태</pre></div></div></div><div class=\"sk-serial\"><div class=\"sk-item\"><div class=\"sk-serial\"><div class=\"sk-item\"><div class=\"sk-estimator sk-toggleable\"><input class=\"sk-toggleable__control sk-hidden--visually\" id=\"249e286f-3d9d-45de-a020-631ddfcf6b11\" type=\"checkbox\" ><label for=\"249e286f-3d9d-45de-a020-631ddfcf6b11\" class=\"sk-toggleable__label sk-toggleable__label-arrow\">FunctionTransformer</label><div class=\"sk-toggleable__content\"><pre>FunctionTransformer(func=&lt;function &lt;lambda&gt; at 0x000001F2A9FFCAF0&gt;)</pre></div></div></div><div class=\"sk-item\"><div class=\"sk-estimator sk-toggleable\"><input class=\"sk-toggleable__control sk-hidden--visually\" id=\"98ec2f89-a16e-49a2-b052-f5dbd4d2ccd7\" type=\"checkbox\" ><label for=\"98ec2f89-a16e-49a2-b052-f5dbd4d2ccd7\" class=\"sk-toggleable__label sk-toggleable__label-arrow\">FunctionTransformer</label><div class=\"sk-toggleable__content\"><pre>FunctionTransformer(func=&lt;function &lt;lambda&gt; at 0x000001F2A9FFCE50&gt;)</pre></div></div></div><div class=\"sk-item\"><div class=\"sk-estimator sk-toggleable\"><input class=\"sk-toggleable__control sk-hidden--visually\" id=\"20eb029d-154d-4ee1-b994-e0e29fac3298\" type=\"checkbox\" ><label for=\"20eb029d-154d-4ee1-b994-e0e29fac3298\" class=\"sk-toggleable__label sk-toggleable__label-arrow\">CountVectorizer</label><div class=\"sk-toggleable__content\"><pre>CountVectorizer()</pre></div></div></div><div class=\"sk-item\"><div class=\"sk-estimator sk-toggleable\"><input class=\"sk-toggleable__control sk-hidden--visually\" id=\"b57b7e3d-ec82-47c6-952e-eef1971d341f\" type=\"checkbox\" ><label for=\"b57b7e3d-ec82-47c6-952e-eef1971d341f\" class=\"sk-toggleable__label sk-toggleable__label-arrow\">FunctionTransformer</label><div class=\"sk-toggleable__content\"><pre>FunctionTransformer(accept_sparse=True,\n",
       "                    func=&lt;function &lt;lambda&gt; at 0x000001F2A9FFCEE0&gt;)</pre></div></div></div></div></div></div></div></div></div></div><div class=\"sk-item\"><div class=\"sk-estimator sk-toggleable\"><input class=\"sk-toggleable__control sk-hidden--visually\" id=\"84305cb0-e387-4331-836f-a5ac9fa0833f\" type=\"checkbox\" ><label for=\"84305cb0-e387-4331-836f-a5ac9fa0833f\" class=\"sk-toggleable__label sk-toggleable__label-arrow\">KMeansFeaturizer</label><div class=\"sk-toggleable__content\"><pre>KMeansFeaturizer(random_state=0)</pre></div></div></div><div class=\"sk-item sk-dashed-wrapped\"><div class=\"sk-label-container\"><div class=\"sk-label sk-toggleable\"><input class=\"sk-toggleable__control sk-hidden--visually\" id=\"30d415ee-075c-45d2-9b67-660ba8687635\" type=\"checkbox\" ><label for=\"30d415ee-075c-45d2-9b67-660ba8687635\" class=\"sk-toggleable__label sk-toggleable__label-arrow\">select: ShapFeatureSelector</label><div class=\"sk-toggleable__content\"><pre>ShapFeatureSelector(model=LGBMRegressor(random_state=0))</pre></div></div></div><div class=\"sk-parallel\"><div class=\"sk-parallel-item\"><div class=\"sk-item\"><div class=\"sk-serial\"><div class=\"sk-item\"><div class=\"sk-estimator sk-toggleable\"><input class=\"sk-toggleable__control sk-hidden--visually\" id=\"fa250852-ccf5-4ba0-9a30-cd5c4c79469c\" type=\"checkbox\" ><label for=\"fa250852-ccf5-4ba0-9a30-cd5c4c79469c\" class=\"sk-toggleable__label sk-toggleable__label-arrow\">LGBMRegressor</label><div class=\"sk-toggleable__content\"><pre>LGBMRegressor(random_state=0)</pre></div></div></div></div></div></div></div></div></div></div></div></div>"
      ],
      "text/plain": [
       "Pipeline(steps=[('column',\n",
       "                 ColumnTransformer(transformers=[('num',\n",
       "                                                  Pipeline(steps=[('imputer',\n",
       "                                                                   SimpleImputer()),\n",
       "                                                                  ('outlier',\n",
       "                                                                   FunctionTransformer(func=<function remove_outlier at 0x000001F2A9FFC160>,\n",
       "                                                                                       kw_args={'q': 0.05})),\n",
       "                                                                  ('scaler',\n",
       "                                                                   PowerTransformer())]),\n",
       "                                                  ['근무경력', '대학성적']),\n",
       "                                                 ('cat',\n",
       "                                                  Pipeline(steps=[('imputer',\n",
       "                                                                   SimpleImputer(strategy='most_frequent')),\n",
       "                                                                  ('encoder',\n",
       "                                                                   OneH...\n",
       "                                                                   FunctionTransformer(func=<function <lambda> at 0x000001F2A9FFCAF0>)),\n",
       "                                                                  ('corpus',\n",
       "                                                                   FunctionTransformer(func=<function <lambda> at 0x000001F2A9FFCE50>)),\n",
       "                                                                  ('BoW',\n",
       "                                                                   CountVectorizer()),\n",
       "                                                                  ('dense',\n",
       "                                                                   FunctionTransformer(accept_sparse=True,\n",
       "                                                                                       func=<function <lambda> at 0x000001F2A9FFCEE0>))]),\n",
       "                                                  '근무형태')])),\n",
       "                ('kmf', KMeansFeaturizer(random_state=0)),\n",
       "                ('select',\n",
       "                 ShapFeatureSelector(model=LGBMRegressor(random_state=0)))])"
      ]
     },
     "execution_count": 9,
     "metadata": {},
     "output_type": "execute_result"
    }
   ],
   "source": [
    "numeric_transformer = Pipeline(\n",
    "    steps=[\n",
    "        (\"imputer\", SimpleImputer(strategy=\"mean\")),\n",
    "        (\"outlier\", FunctionTransformer(remove_outlier, kw_args={'q':0.05})),\n",
    "        (\"scaler\", PowerTransformer()),\n",
    "    ]\n",
    ")\n",
    "\n",
    "categorical_transformer = Pipeline(\n",
    "    steps=[\n",
    "        (\"imputer\", SimpleImputer(strategy=\"most_frequent\")), \n",
    "        (\"encoder\", OneHotEncoder(handle_unknown=\"ignore\", sparse=False)),\n",
    "    ]\n",
    ")\n",
    "\n",
    "binary_transformer = Pipeline(\n",
    "    steps=[\n",
    "        (\"impuer\", FunctionTransformer(lambda x: x.fillna('없음'))),      \n",
    "        (\"corpus\", FunctionTransformer(lambda x: x.str.replace('·',',').str.split(',').str.join(\" \"))),\n",
    "        (\"BoW\", CountVectorizer()),\n",
    "        (\"dense\", FunctionTransformer(lambda x: x.toarray().astype(int), accept_sparse=True)),\n",
    "    ]\n",
    ")\n",
    "\n",
    "column_transformer = ColumnTransformer(\n",
    "    transformers=[\n",
    "        (\"num\", numeric_transformer, numeric_features),\n",
    "        (\"cat\", categorical_transformer, categorical_features),\n",
    "        (\"bin1\", make_pipeline(binary_transformer, TruncatedSVD(n_components=NCOMP,random_state=SEED)), binary_features[0]),\n",
    "        (\"bin2\", binary_transformer, binary_features[1]),\n",
    "        (\"bin3\", binary_transformer, binary_features[2]),\n",
    "    ]\n",
    ")\n",
    "\n",
    "preprocessor = Pipeline(\n",
    "    steps=[\n",
    "        (\"column\", column_transformer), \n",
    "        (\"kmf\", KMeansFeaturizer(k=K, random_state=SEED)),\n",
    "        (\"select\", ShapFeatureSelector(model=LGBMRegressor(random_state=SEED))), \n",
    "    ]\n",
    ")\n",
    "\n",
    "set_config(display=\"diagram\")\n",
    "preprocessor"
   ]
  },
  {
   "cell_type": "markdown",
   "id": "44c822e1",
   "metadata": {},
   "source": [
    "####  데이터 전처리 with 파이프라인"
   ]
  },
  {
   "cell_type": "code",
   "execution_count": 10,
   "id": "f064b200",
   "metadata": {},
   "outputs": [
    {
     "name": "stdout",
     "output_type": "stream",
     "text": [
      "(16570, 212)\n"
     ]
    }
   ],
   "source": [
    "X_train = preprocessor.fit_transform(X_train, y_train)\n",
    "X_test = preprocessor.transform(X_test)\n",
    "\n",
    "print(X_train.shape)"
   ]
  },
  {
   "cell_type": "markdown",
   "id": "3806eb8c",
   "metadata": {},
   "source": [
    "<font color=\"blue\"><p>\n",
    "#### DNN 모형 생성"
   ]
  },
  {
   "cell_type": "markdown",
   "id": "e4635c86",
   "metadata": {},
   "source": [
    "<font color=\"blue\"><p>\n",
    "- 1단계: 모형 정의하기 (입력층/은익층/출력층 쌓기)"
   ]
  },
  {
   "cell_type": "code",
   "execution_count": 11,
   "id": "96e6937c",
   "metadata": {},
   "outputs": [],
   "source": [
    "inputs = keras.Input(shape=X_train.shape[1], )          # 입력층\n",
    "x = keras.layers.Dense(128, activation='relu')(inputs)  # 첫번째 은익층\n",
    "x = keras.layers.Dense(64, activation='relu')(x)        # 두번째 은익층\n",
    "output = keras.layers.Dense(1, activation='linear')(x)  # 출력층\n",
    "\n",
    "model = keras.Model(inputs=inputs, outputs=output)      # 입력층과 출력층을 지정함으로써 전체모형 정의"
   ]
  },
  {
   "cell_type": "code",
   "execution_count": 12,
   "id": "c4e13cea",
   "metadata": {},
   "outputs": [
    {
     "name": "stdout",
     "output_type": "stream",
     "text": [
      "Model: \"model\"\n",
      "_________________________________________________________________\n",
      " Layer (type)                Output Shape              Param #   \n",
      "=================================================================\n",
      " input_1 (InputLayer)        [(None, 212)]             0         \n",
      "                                                                 \n",
      " dense (Dense)               (None, 128)               27264     \n",
      "                                                                 \n",
      " dense_1 (Dense)             (None, 64)                8256      \n",
      "                                                                 \n",
      " dense_2 (Dense)             (None, 1)                 65        \n",
      "                                                                 \n",
      "=================================================================\n",
      "Total params: 35,585\n",
      "Trainable params: 35,585\n",
      "Non-trainable params: 0\n",
      "_________________________________________________________________\n"
     ]
    }
   ],
   "source": [
    "# 모형 구조 출력: Total params가 많을수록 복잡한 모델임.\n",
    "model.summary()"
   ]
  },
  {
   "cell_type": "code",
   "execution_count": 13,
   "id": "80d936f7",
   "metadata": {},
   "outputs": [
    {
     "data": {
      "image/png": "[encoded data removed]",
      "text/plain": [
       "<IPython.core.display.Image object>"
      ]
     },
     "execution_count": 13,
     "metadata": {},
     "output_type": "execute_result"
    }
   ],
   "source": [
    "# 연결 그래프 시각화: graphviz와 pydot 설치 필요 (graphviz 다운로드하고 설치한 후 pip install pydot)\n",
    "keras.utils.plot_model(model, show_shapes=True)"
   ]
  },
  {
   "cell_type": "markdown",
   "id": "99835f67",
   "metadata": {},
   "source": [
    "<font color=\"blue\"><p>\n",
    "- 2단계: 학습방식(손실함수/옵티마이저/평가척도) 설정하기"
   ]
  },
  {
   "cell_type": "code",
   "execution_count": 14,
   "id": "21657303",
   "metadata": {},
   "outputs": [],
   "source": [
    "model.compile(\n",
    "    loss='mse',\n",
    "    optimizer=keras.optimizers.RMSprop(),                     \n",
    "    metrics=[keras.metrics.RootMeanSquaredError(name='rmse')]\n",
    ")"
   ]
  },
  {
   "cell_type": "markdown",
   "id": "4fa9175e",
   "metadata": {},
   "source": [
    "<font color=\"blue\"><p>\n",
    "- 3단계: 모형 학습하기 (에포크, 배치사이즈, 조기중단 등 지정) "
   ]
  },
  {
   "cell_type": "code",
   "execution_count": 15,
   "id": "2d6b4dda",
   "metadata": {},
   "outputs": [
    {
     "name": "stdout",
     "output_type": "stream",
     "text": [
      "Epoch 1/200\n",
      "234/234 - 1s - loss: 6809782.0000 - rmse: 2609.5559 - val_loss: 6807271.5000 - val_rmse: 2609.0750 - 712ms/epoch - 3ms/step\n",
      "Epoch 2/200\n",
      "234/234 - 0s - loss: 1487765.7500 - rmse: 1219.7400 - val_loss: 2047602.3750 - val_rmse: 1430.9446 - 323ms/epoch - 1ms/step\n",
      "Epoch 3/200\n",
      "234/234 - 0s - loss: 1057154.5000 - rmse: 1028.1802 - val_loss: 1745893.8750 - val_rmse: 1321.3228 - 320ms/epoch - 1ms/step\n",
      "Epoch 4/200\n",
      "234/234 - 0s - loss: 957054.6250 - rmse: 978.2917 - val_loss: 1637239.1250 - val_rmse: 1279.5465 - 356ms/epoch - 2ms/step\n",
      "Epoch 5/200\n",
      "234/234 - 0s - loss: 914006.5000 - rmse: 956.0369 - val_loss: 1590194.2500 - val_rmse: 1261.0291 - 327ms/epoch - 1ms/step\n",
      "Epoch 6/200\n",
      "234/234 - 0s - loss: 890452.6875 - rmse: 943.6380 - val_loss: 1564929.8750 - val_rmse: 1250.9716 - 346ms/epoch - 1ms/step\n",
      "Epoch 7/200\n",
      "234/234 - 0s - loss: 876024.5000 - rmse: 935.9618 - val_loss: 1549172.3750 - val_rmse: 1244.6576 - 342ms/epoch - 1ms/step\n",
      "Epoch 8/200\n",
      "234/234 - 0s - loss: 866591.7500 - rmse: 930.9091 - val_loss: 1538113.6250 - val_rmse: 1240.2070 - 320ms/epoch - 1ms/step\n",
      "Epoch 9/200\n",
      "234/234 - 0s - loss: 860000.3125 - rmse: 927.3620 - val_loss: 1529474.7500 - val_rmse: 1236.7194 - 326ms/epoch - 1ms/step\n",
      "Epoch 10/200\n",
      "234/234 - 0s - loss: 855014.8125 - rmse: 924.6701 - val_loss: 1522015.3750 - val_rmse: 1233.6998 - 346ms/epoch - 1ms/step\n",
      "Epoch 11/200\n",
      "234/234 - 0s - loss: 850905.6250 - rmse: 922.4454 - val_loss: 1515053.0000 - val_rmse: 1230.8749 - 349ms/epoch - 1ms/step\n",
      "Epoch 12/200\n",
      "234/234 - 0s - loss: 847235.0625 - rmse: 920.4537 - val_loss: 1508098.0000 - val_rmse: 1228.0464 - 324ms/epoch - 1ms/step\n",
      "Epoch 13/200\n",
      "234/234 - 0s - loss: 843877.7500 - rmse: 918.6282 - val_loss: 1501111.3750 - val_rmse: 1225.1985 - 317ms/epoch - 1ms/step\n",
      "Epoch 14/200\n",
      "234/234 - 0s - loss: 840771.3750 - rmse: 916.9359 - val_loss: 1494188.6250 - val_rmse: 1222.3701 - 339ms/epoch - 1ms/step\n",
      "Epoch 15/200\n",
      "234/234 - 0s - loss: 837912.1250 - rmse: 915.3754 - val_loss: 1487661.1250 - val_rmse: 1219.6971 - 361ms/epoch - 2ms/step\n",
      "Epoch 16/200\n",
      "234/234 - 0s - loss: 835201.3750 - rmse: 913.8936 - val_loss: 1481434.5000 - val_rmse: 1217.1420 - 356ms/epoch - 2ms/step\n",
      "Epoch 17/200\n",
      "234/234 - 0s - loss: 832585.6250 - rmse: 912.4613 - val_loss: 1475398.5000 - val_rmse: 1214.6598 - 359ms/epoch - 2ms/step\n",
      "Epoch 18/200\n",
      "234/234 - 0s - loss: 830034.3750 - rmse: 911.0622 - val_loss: 1469370.0000 - val_rmse: 1212.1758 - 321ms/epoch - 1ms/step\n",
      "Epoch 19/200\n",
      "234/234 - 0s - loss: 827535.3750 - rmse: 909.6897 - val_loss: 1463607.1250 - val_rmse: 1209.7963 - 325ms/epoch - 1ms/step\n",
      "Epoch 20/200\n",
      "234/234 - 0s - loss: 825022.9375 - rmse: 908.3077 - val_loss: 1457722.2500 - val_rmse: 1207.3617 - 320ms/epoch - 1ms/step\n",
      "Epoch 21/200\n",
      "234/234 - 0s - loss: 822480.7500 - rmse: 906.9072 - val_loss: 1451794.1250 - val_rmse: 1204.9042 - 323ms/epoch - 1ms/step\n",
      "Epoch 22/200\n",
      "234/234 - 0s - loss: 819890.9375 - rmse: 905.4783 - val_loss: 1445777.2500 - val_rmse: 1202.4048 - 319ms/epoch - 1ms/step\n",
      "Epoch 23/200\n",
      "234/234 - 0s - loss: 817248.5625 - rmse: 904.0180 - val_loss: 1439545.6250 - val_rmse: 1199.8107 - 346ms/epoch - 1ms/step\n",
      "Epoch 24/200\n",
      "234/234 - 0s - loss: 814526.0625 - rmse: 902.5110 - val_loss: 1433334.1250 - val_rmse: 1197.2194 - 347ms/epoch - 1ms/step\n",
      "Epoch 25/200\n",
      "234/234 - 0s - loss: 811755.8750 - rmse: 900.9750 - val_loss: 1426988.7500 - val_rmse: 1194.5663 - 328ms/epoch - 1ms/step\n",
      "Epoch 26/200\n",
      "234/234 - 0s - loss: 808964.1875 - rmse: 899.4244 - val_loss: 1420905.0000 - val_rmse: 1192.0172 - 320ms/epoch - 1ms/step\n",
      "Epoch 27/200\n",
      "234/234 - 0s - loss: 806122.6875 - rmse: 897.8434 - val_loss: 1414550.1250 - val_rmse: 1189.3486 - 322ms/epoch - 1ms/step\n",
      "Epoch 28/200\n",
      "234/234 - 0s - loss: 803225.5000 - rmse: 896.2285 - val_loss: 1408219.5000 - val_rmse: 1186.6842 - 352ms/epoch - 2ms/step\n",
      "Epoch 29/200\n",
      "234/234 - 0s - loss: 800299.7500 - rmse: 894.5947 - val_loss: 1401667.6250 - val_rmse: 1183.9204 - 352ms/epoch - 2ms/step\n",
      "Epoch 30/200\n",
      "234/234 - 0s - loss: 797355.3750 - rmse: 892.9476 - val_loss: 1395344.5000 - val_rmse: 1181.2471 - 352ms/epoch - 2ms/step\n",
      "Epoch 31/200\n",
      "234/234 - 0s - loss: 794436.9375 - rmse: 891.3119 - val_loss: 1389213.2500 - val_rmse: 1178.6489 - 344ms/epoch - 1ms/step\n",
      "Epoch 32/200\n",
      "234/234 - 0s - loss: 791513.5625 - rmse: 889.6705 - val_loss: 1383089.6250 - val_rmse: 1176.0483 - 362ms/epoch - 2ms/step\n",
      "Epoch 33/200\n",
      "234/234 - 0s - loss: 788582.3750 - rmse: 888.0216 - val_loss: 1376937.7500 - val_rmse: 1173.4299 - 338ms/epoch - 1ms/step\n",
      "Epoch 34/200\n",
      "234/234 - 0s - loss: 785627.3750 - rmse: 886.3563 - val_loss: 1370701.0000 - val_rmse: 1170.7694 - 356ms/epoch - 2ms/step\n",
      "Epoch 35/200\n",
      "234/234 - 0s - loss: 782641.6875 - rmse: 884.6704 - val_loss: 1364369.5000 - val_rmse: 1168.0623 - 343ms/epoch - 1ms/step\n",
      "Epoch 36/200\n",
      "234/234 - 0s - loss: 779625.5625 - rmse: 882.9641 - val_loss: 1358107.7500 - val_rmse: 1165.3788 - 358ms/epoch - 2ms/step\n",
      "Epoch 37/200\n",
      "234/234 - 0s - loss: 776625.0000 - rmse: 881.2633 - val_loss: 1351874.3750 - val_rmse: 1162.7013 - 367ms/epoch - 2ms/step\n",
      "Epoch 38/200\n",
      "234/234 - 0s - loss: 773622.5625 - rmse: 879.5582 - val_loss: 1345612.0000 - val_rmse: 1160.0051 - 354ms/epoch - 2ms/step\n",
      "Epoch 39/200\n",
      "234/234 - 0s - loss: 770645.7500 - rmse: 877.8643 - val_loss: 1339487.5000 - val_rmse: 1157.3623 - 330ms/epoch - 1ms/step\n",
      "Epoch 40/200\n",
      "234/234 - 0s - loss: 767689.7500 - rmse: 876.1791 - val_loss: 1333448.1250 - val_rmse: 1154.7502 - 349ms/epoch - 1ms/step\n",
      "Epoch 41/200\n",
      "234/234 - 0s - loss: 764749.5000 - rmse: 874.4996 - val_loss: 1327681.6250 - val_rmse: 1152.2507 - 360ms/epoch - 2ms/step\n",
      "Epoch 42/200\n",
      "234/234 - 0s - loss: 761809.8125 - rmse: 872.8172 - val_loss: 1321991.1250 - val_rmse: 1149.7787 - 358ms/epoch - 2ms/step\n",
      "Epoch 43/200\n",
      "234/234 - 0s - loss: 758856.1875 - rmse: 871.1235 - val_loss: 1316205.7500 - val_rmse: 1147.2601 - 337ms/epoch - 1ms/step\n",
      "Epoch 44/200\n",
      "234/234 - 0s - loss: 755897.8125 - rmse: 869.4238 - val_loss: 1310638.0000 - val_rmse: 1144.8309 - 331ms/epoch - 1ms/step\n",
      "Epoch 45/200\n",
      "234/234 - 0s - loss: 752963.0000 - rmse: 867.7344 - val_loss: 1305085.1250 - val_rmse: 1142.4032 - 327ms/epoch - 1ms/step\n",
      "Epoch 46/200\n",
      "234/234 - 0s - loss: 750021.3125 - rmse: 866.0377 - val_loss: 1299685.6250 - val_rmse: 1140.0376 - 344ms/epoch - 1ms/step\n",
      "Epoch 47/200\n",
      "234/234 - 0s - loss: 747094.8750 - rmse: 864.3465 - val_loss: 1294416.8750 - val_rmse: 1137.7245 - 358ms/epoch - 2ms/step\n",
      "Epoch 48/200\n",
      "234/234 - 0s - loss: 744184.9375 - rmse: 862.6616 - val_loss: 1289205.7500 - val_rmse: 1135.4320 - 351ms/epoch - 1ms/step\n",
      "Epoch 49/200\n",
      "234/234 - 0s - loss: 741277.7500 - rmse: 860.9749 - val_loss: 1284296.2500 - val_rmse: 1133.2679 - 358ms/epoch - 2ms/step\n",
      "Epoch 50/200\n",
      "234/234 - 0s - loss: 738362.1875 - rmse: 859.2800 - val_loss: 1279560.3750 - val_rmse: 1131.1765 - 355ms/epoch - 2ms/step\n",
      "Epoch 51/200\n",
      "234/234 - 0s - loss: 735434.1875 - rmse: 857.5746 - val_loss: 1274577.6250 - val_rmse: 1128.9719 - 363ms/epoch - 2ms/step\n",
      "Epoch 52/200\n",
      "234/234 - 0s - loss: 732487.6875 - rmse: 855.8549 - val_loss: 1269942.8750 - val_rmse: 1126.9175 - 340ms/epoch - 1ms/step\n",
      "Epoch 53/200\n",
      "234/234 - 0s - loss: 729583.5625 - rmse: 854.1566 - val_loss: 1265632.5000 - val_rmse: 1125.0033 - 359ms/epoch - 2ms/step\n",
      "Epoch 54/200\n",
      "234/234 - 0s - loss: 726694.3125 - rmse: 852.4637 - val_loss: 1261436.7500 - val_rmse: 1123.1370 - 318ms/epoch - 1ms/step\n",
      "Epoch 55/200\n",
      "234/234 - 0s - loss: 723829.5625 - rmse: 850.7817 - val_loss: 1257254.5000 - val_rmse: 1121.2736 - 334ms/epoch - 1ms/step\n",
      "Epoch 56/200\n",
      "234/234 - 0s - loss: 720977.5625 - rmse: 849.1040 - val_loss: 1253287.7500 - val_rmse: 1119.5033 - 322ms/epoch - 1ms/step\n",
      "Epoch 57/200\n",
      "234/234 - 0s - loss: 718136.2500 - rmse: 847.4292 - val_loss: 1249349.7500 - val_rmse: 1117.7432 - 315ms/epoch - 1ms/step\n",
      "Epoch 58/200\n",
      "234/234 - 0s - loss: 715320.1250 - rmse: 845.7660 - val_loss: 1245637.0000 - val_rmse: 1116.0811 - 314ms/epoch - 1ms/step\n",
      "Epoch 59/200\n",
      "234/234 - 0s - loss: 712498.6875 - rmse: 844.0964 - val_loss: 1242057.7500 - val_rmse: 1114.4764 - 315ms/epoch - 1ms/step\n",
      "Epoch 60/200\n",
      "234/234 - 0s - loss: 709728.9375 - rmse: 842.4541 - val_loss: 1238745.8750 - val_rmse: 1112.9896 - 314ms/epoch - 1ms/step\n",
      "Epoch 61/200\n",
      "234/234 - 0s - loss: 706983.3750 - rmse: 840.8231 - val_loss: 1235729.1250 - val_rmse: 1111.6335 - 319ms/epoch - 1ms/step\n"
     ]
    },
    {
     "name": "stdout",
     "output_type": "stream",
     "text": [
      "Epoch 62/200\n",
      "234/234 - 0s - loss: 704241.6875 - rmse: 839.1911 - val_loss: 1232867.7500 - val_rmse: 1110.3458 - 327ms/epoch - 1ms/step\n",
      "Epoch 63/200\n",
      "234/234 - 0s - loss: 701539.0625 - rmse: 837.5793 - val_loss: 1230098.6250 - val_rmse: 1109.0981 - 320ms/epoch - 1ms/step\n",
      "Epoch 64/200\n",
      "234/234 - 0s - loss: 698862.2500 - rmse: 835.9798 - val_loss: 1227593.5000 - val_rmse: 1107.9681 - 318ms/epoch - 1ms/step\n",
      "Epoch 65/200\n",
      "234/234 - 0s - loss: 696222.5625 - rmse: 834.3995 - val_loss: 1225310.3750 - val_rmse: 1106.9374 - 321ms/epoch - 1ms/step\n",
      "Epoch 66/200\n",
      "234/234 - 0s - loss: 693610.0000 - rmse: 832.8325 - val_loss: 1222958.0000 - val_rmse: 1105.8743 - 311ms/epoch - 1ms/step\n",
      "Epoch 67/200\n",
      "234/234 - 0s - loss: 691021.5000 - rmse: 831.2770 - val_loss: 1220939.2500 - val_rmse: 1104.9612 - 314ms/epoch - 1ms/step\n",
      "Epoch 68/200\n",
      "234/234 - 0s - loss: 688497.9375 - rmse: 829.7578 - val_loss: 1219207.3750 - val_rmse: 1104.1772 - 324ms/epoch - 1ms/step\n",
      "Epoch 69/200\n",
      "234/234 - 0s - loss: 686007.0625 - rmse: 828.2554 - val_loss: 1217402.2500 - val_rmse: 1103.3595 - 317ms/epoch - 1ms/step\n",
      "Epoch 70/200\n",
      "234/234 - 0s - loss: 683541.1250 - rmse: 826.7654 - val_loss: 1216106.2500 - val_rmse: 1102.7721 - 339ms/epoch - 1ms/step\n",
      "Epoch 71/200\n",
      "234/234 - 0s - loss: 681124.3125 - rmse: 825.3026 - val_loss: 1214664.5000 - val_rmse: 1102.1182 - 353ms/epoch - 2ms/step\n",
      "Epoch 72/200\n",
      "234/234 - 0s - loss: 678750.8125 - rmse: 823.8633 - val_loss: 1213376.6250 - val_rmse: 1101.5338 - 352ms/epoch - 2ms/step\n",
      "Epoch 73/200\n",
      "234/234 - 0s - loss: 676438.7500 - rmse: 822.4590 - val_loss: 1212114.7500 - val_rmse: 1100.9608 - 362ms/epoch - 2ms/step\n",
      "Epoch 74/200\n",
      "234/234 - 0s - loss: 674148.1875 - rmse: 821.0652 - val_loss: 1210266.6250 - val_rmse: 1100.1212 - 369ms/epoch - 2ms/step\n",
      "Epoch 75/200\n",
      "234/234 - 0s - loss: 671899.3750 - rmse: 819.6947 - val_loss: 1208262.5000 - val_rmse: 1099.2100 - 376ms/epoch - 2ms/step\n",
      "Epoch 76/200\n",
      "234/234 - 0s - loss: 669686.1875 - rmse: 818.3436 - val_loss: 1206361.5000 - val_rmse: 1098.3448 - 370ms/epoch - 2ms/step\n",
      "Epoch 77/200\n",
      "234/234 - 0s - loss: 667482.4375 - rmse: 816.9960 - val_loss: 1204247.1250 - val_rmse: 1097.3820 - 370ms/epoch - 2ms/step\n",
      "Epoch 78/200\n",
      "234/234 - 0s - loss: 665332.0000 - rmse: 815.6788 - val_loss: 1202321.7500 - val_rmse: 1096.5043 - 367ms/epoch - 2ms/step\n",
      "Epoch 79/200\n",
      "234/234 - 0s - loss: 663187.0000 - rmse: 814.3629 - val_loss: 1200402.0000 - val_rmse: 1095.6285 - 332ms/epoch - 1ms/step\n",
      "Epoch 80/200\n",
      "234/234 - 0s - loss: 661112.8125 - rmse: 813.0884 - val_loss: 1198642.7500 - val_rmse: 1094.8254 - 330ms/epoch - 1ms/step\n",
      "Epoch 81/200\n",
      "234/234 - 0s - loss: 659002.6875 - rmse: 811.7898 - val_loss: 1196944.2500 - val_rmse: 1094.0494 - 325ms/epoch - 1ms/step\n",
      "Epoch 82/200\n",
      "234/234 - 0s - loss: 656944.5000 - rmse: 810.5211 - val_loss: 1195143.6250 - val_rmse: 1093.2262 - 326ms/epoch - 1ms/step\n",
      "Epoch 83/200\n",
      "234/234 - 0s - loss: 654888.7500 - rmse: 809.2520 - val_loss: 1193389.0000 - val_rmse: 1092.4235 - 328ms/epoch - 1ms/step\n",
      "Epoch 84/200\n",
      "234/234 - 0s - loss: 652861.0000 - rmse: 807.9982 - val_loss: 1191734.6250 - val_rmse: 1091.6660 - 336ms/epoch - 1ms/step\n",
      "Epoch 85/200\n",
      "234/234 - 0s - loss: 650831.0000 - rmse: 806.7410 - val_loss: 1190007.6250 - val_rmse: 1090.8748 - 335ms/epoch - 1ms/step\n",
      "Epoch 86/200\n",
      "234/234 - 0s - loss: 648805.8125 - rmse: 805.4848 - val_loss: 1188349.8750 - val_rmse: 1090.1146 - 330ms/epoch - 1ms/step\n",
      "Epoch 87/200\n",
      "234/234 - 0s - loss: 646778.3750 - rmse: 804.2253 - val_loss: 1186677.6250 - val_rmse: 1089.3473 - 320ms/epoch - 1ms/step\n",
      "Epoch 88/200\n",
      "234/234 - 0s - loss: 644727.3125 - rmse: 802.9492 - val_loss: 1185141.3750 - val_rmse: 1088.6420 - 317ms/epoch - 1ms/step\n",
      "Epoch 89/200\n",
      "234/234 - 0s - loss: 642666.7500 - rmse: 801.6650 - val_loss: 1183613.6250 - val_rmse: 1087.9401 - 322ms/epoch - 1ms/step\n",
      "Epoch 90/200\n",
      "234/234 - 0s - loss: 640598.7500 - rmse: 800.3741 - val_loss: 1182373.2500 - val_rmse: 1087.3699 - 324ms/epoch - 1ms/step\n",
      "Epoch 91/200\n",
      "234/234 - 0s - loss: 638517.5625 - rmse: 799.0729 - val_loss: 1181127.2500 - val_rmse: 1086.7968 - 320ms/epoch - 1ms/step\n",
      "Epoch 92/200\n",
      "234/234 - 0s - loss: 636405.1875 - rmse: 797.7501 - val_loss: 1180374.8750 - val_rmse: 1086.4506 - 332ms/epoch - 1ms/step\n",
      "Epoch 93/200\n",
      "234/234 - 0s - loss: 634270.6250 - rmse: 796.4111 - val_loss: 1179413.1250 - val_rmse: 1086.0079 - 366ms/epoch - 2ms/step\n",
      "Epoch 94/200\n",
      "234/234 - 0s - loss: 632103.1875 - rmse: 795.0492 - val_loss: 1178669.0000 - val_rmse: 1085.6653 - 353ms/epoch - 2ms/step\n",
      "Epoch 95/200\n",
      "234/234 - 0s - loss: 629934.5000 - rmse: 793.6841 - val_loss: 1177996.1250 - val_rmse: 1085.3553 - 366ms/epoch - 2ms/step\n",
      "Epoch 96/200\n",
      "234/234 - 0s - loss: 627750.1875 - rmse: 792.3069 - val_loss: 1177254.5000 - val_rmse: 1085.0135 - 340ms/epoch - 1ms/step\n",
      "Epoch 97/200\n",
      "234/234 - 0s - loss: 625543.5625 - rmse: 790.9131 - val_loss: 1176668.2500 - val_rmse: 1084.7434 - 366ms/epoch - 2ms/step\n",
      "Epoch 98/200\n",
      "234/234 - 0s - loss: 623319.9375 - rmse: 789.5062 - val_loss: 1176243.0000 - val_rmse: 1084.5474 - 376ms/epoch - 2ms/step\n",
      "Epoch 99/200\n",
      "234/234 - 0s - loss: 621090.1875 - rmse: 788.0928 - val_loss: 1176064.1250 - val_rmse: 1084.4648 - 370ms/epoch - 2ms/step\n",
      "Epoch 100/200\n",
      "234/234 - 0s - loss: 618825.4375 - rmse: 786.6546 - val_loss: 1175323.7500 - val_rmse: 1084.1235 - 373ms/epoch - 2ms/step\n",
      "Epoch 101/200\n",
      "234/234 - 0s - loss: 616576.1250 - rmse: 785.2236 - val_loss: 1174926.1250 - val_rmse: 1083.9401 - 349ms/epoch - 1ms/step\n",
      "Epoch 102/200\n",
      "234/234 - 0s - loss: 614325.3750 - rmse: 783.7891 - val_loss: 1174262.8750 - val_rmse: 1083.6342 - 322ms/epoch - 1ms/step\n",
      "Epoch 103/200\n",
      "234/234 - 0s - loss: 612085.9375 - rmse: 782.3592 - val_loss: 1173703.2500 - val_rmse: 1083.3759 - 321ms/epoch - 1ms/step\n",
      "Epoch 104/200\n",
      "234/234 - 0s - loss: 609836.9375 - rmse: 780.9206 - val_loss: 1173277.8750 - val_rmse: 1083.1796 - 323ms/epoch - 1ms/step\n",
      "Epoch 105/200\n",
      "234/234 - 0s - loss: 607588.3750 - rmse: 779.4796 - val_loss: 1173308.1250 - val_rmse: 1083.1935 - 321ms/epoch - 1ms/step\n",
      "Epoch 106/200\n",
      "234/234 - 0s - loss: 605236.1250 - rmse: 777.9692 - val_loss: 1173716.1250 - val_rmse: 1083.3818 - 328ms/epoch - 1ms/step\n",
      "Epoch 107/200\n",
      "234/234 - 0s - loss: 602946.8125 - rmse: 776.4965 - val_loss: 1173711.5000 - val_rmse: 1083.3796 - 326ms/epoch - 1ms/step\n",
      "Epoch 108/200\n",
      "234/234 - 0s - loss: 600615.3750 - rmse: 774.9938 - val_loss: 1173839.6250 - val_rmse: 1083.4388 - 354ms/epoch - 2ms/step\n",
      "Epoch 109/200\n",
      "234/234 - 0s - loss: 598297.7500 - rmse: 773.4971 - val_loss: 1174059.0000 - val_rmse: 1083.5400 - 327ms/epoch - 1ms/step\n"
     ]
    }
   ],
   "source": [
    "hist = model.fit(\n",
    "    x=X_train,\n",
    "    y=y_train,\n",
    "    validation_split=0.1, # DNN 학습시 검증데이터가 필요함. 학습데이터의 10%를 검증데이터로 사용.\n",
    "    batch_size=64, \n",
    "    epochs=200, \n",
    "    callbacks=[keras.callbacks.EarlyStopping(monitor='val_loss', patience=5)], # 검증데이터의 Loss가 5회연속 감소하지 않으면 학습 중단.\n",
    "    shuffle=False,       # 재현을 위해 False로 설정.\n",
    "    verbose=2,\n",
    ")"
   ]
  },
  {
   "cell_type": "code",
   "execution_count": 16,
   "id": "93b4f170",
   "metadata": {},
   "outputs": [
    {
     "data": {
      "image/png": "[encoded data removed]",
      "text/plain": [
       "<Figure size 640x480 with 1 Axes>"
      ]
     },
     "metadata": {},
     "output_type": "display_data"
    }
   ],
   "source": [
    "# 러닝커브 그리기: 학습이 잘되었는지 어느정도 판단할 수 있음.\n",
    "\n",
    "plt.plot(hist.history['rmse'], label=\"train\")\n",
    "plt.plot(hist.history['val_rmse'], label=\"valid\")\n",
    "plt.xlabel('epoch')\n",
    "plt.ylabel('RMSE')\n",
    "plt.legend()\n",
    "plt.show()"
   ]
  },
  {
   "cell_type": "markdown",
   "id": "34f2fbba",
   "metadata": {},
   "source": [
    "<font color=\"blue\"><p>\n",
    "- 4단계: 예측하기"
   ]
  },
  {
   "cell_type": "code",
   "execution_count": 17,
   "id": "9b91a1b1",
   "metadata": {},
   "outputs": [
    {
     "name": "stdout",
     "output_type": "stream",
     "text": [
      "346/346 [==============================] - 0s 835us/step\n",
      "dnn_1.0_1083.54.csv is ready to submit.\n"
     ]
    }
   ],
   "source": [
    "# 예측값 얻기: sklearn 과 달리 2차원 array로 출력 => 1차원으로 변경 필요.\n",
    "pred = model.predict(X_test).flatten()\n",
    "\n",
    "# submission 화일 생성\n",
    "filename = f'dnn_{DNN_VERSION}_{hist.history[\"val_rmse\"][-1]:.2f}.csv'\n",
    "pd.DataFrame({'ID':test_id, 'Salary':pred}).to_csv(filename, index=False)\n",
    "\n",
    "print(f'{filename} is ready to submit.')"
   ]
  },
  {
   "cell_type": "markdown",
   "id": "e79de56d",
   "metadata": {},
   "source": [
    "<font color=\"#CC3D3D\"><p>\n",
    "# End"
   ]
  }
 ],
 "metadata": {
  "kernelspec": {
   "display_name": "Python 3 (ipykernel)",
   "language": "python",
   "name": "python3"
  },
  "language_info": {
   "codemirror_mode": {
    "name": "ipython",
    "version": 3
   },
   "file_extension": ".py",
   "mimetype": "text/x-python",
   "name": "python",
   "nbconvert_exporter": "python",
   "pygments_lexer": "ipython3",
   "version": "3.9.13"
  }
 },
 "nbformat": 4,
 "nbformat_minor": 5
}
