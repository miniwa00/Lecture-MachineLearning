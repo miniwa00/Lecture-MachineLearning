{
 "cells": [
  {
   "cell_type": "markdown",
   "id": "7f894730",
   "metadata": {},
   "source": [
    "<font color=\"#CC3D3D\"><p>\n",
    "# Creating deep neural networks with various structures"
   ]
  },
  {
   "cell_type": "markdown",
   "id": "d51592f3",
   "metadata": {},
   "source": [
    "<font color=\"blue\"><p>\n",
    "아래와 같은 구조를 갖는 DNN을 만들어보자.   \n",
    "<img align='left' src='http://drive.google.com/uc?export=view&id=1Yx64HH33yGZW5CZmey1wtBwj4KLqn4kA' /><br>"
   ]
  },
  {
   "cell_type": "markdown",
   "id": "bcdfeca0",
   "metadata": {},
   "source": [
    "####  전역변수 설정"
   ]
  },
  {
   "cell_type": "code",
   "execution_count": 1,
   "id": "fa892b61",
   "metadata": {},
   "outputs": [],
   "source": [
    "DNN_VERSION = 3.0  # submission 화일명에 사용\n",
    "SEED = 0           # random_state 지정"
   ]
  },
  {
   "cell_type": "code",
   "execution_count": 2,
   "id": "008591be",
   "metadata": {},
   "outputs": [
    {
     "name": "stdout",
     "output_type": "stream",
     "text": [
      "Collecting tensorflow\n",
      "  Using cached tensorflow-2.11.0-cp39-cp39-win_amd64.whl (1.9 kB)\n",
      "Collecting tensorflow-intel==2.11.0\n",
      "  Using cached tensorflow_intel-2.11.0-cp39-cp39-win_amd64.whl (266.3 MB)\n",
      "Requirement already satisfied: libclang>=13.0.0 in c:\\users\\user\\anaconda3\\lib\\site-packages (from tensorflow-intel==2.11.0->tensorflow) (14.0.6)\n",
      "Collecting gast<=0.4.0,>=0.2.1\n",
      "  Using cached gast-0.4.0-py3-none-any.whl (9.8 kB)\n",
      "Requirement already satisfied: termcolor>=1.1.0 in c:\\users\\user\\anaconda3\\lib\\site-packages (from tensorflow-intel==2.11.0->tensorflow) (2.1.1)\n",
      "Requirement already satisfied: numpy>=1.20 in c:\\users\\user\\anaconda3\\lib\\site-packages (from tensorflow-intel==2.11.0->tensorflow) (1.21.5)\n",
      "Collecting astunparse>=1.6.0\n",
      "  Using cached astunparse-1.6.3-py2.py3-none-any.whl (12 kB)\n",
      "Requirement already satisfied: keras<2.12,>=2.11.0 in c:\\users\\user\\anaconda3\\lib\\site-packages (from tensorflow-intel==2.11.0->tensorflow) (2.11.0)\n",
      "Requirement already satisfied: typing-extensions>=3.6.6 in c:\\users\\user\\anaconda3\\lib\\site-packages (from tensorflow-intel==2.11.0->tensorflow) (4.1.1)\n",
      "Requirement already satisfied: tensorflow-io-gcs-filesystem>=0.23.1 in c:\\users\\user\\anaconda3\\lib\\site-packages (from tensorflow-intel==2.11.0->tensorflow) (0.28.0)\n",
      "Requirement already satisfied: opt-einsum>=2.3.2 in c:\\users\\user\\anaconda3\\lib\\site-packages (from tensorflow-intel==2.11.0->tensorflow) (3.3.0)\n",
      "Requirement already satisfied: setuptools in c:\\users\\user\\anaconda3\\lib\\site-packages (from tensorflow-intel==2.11.0->tensorflow) (61.2.0)\n",
      "Requirement already satisfied: packaging in c:\\users\\user\\anaconda3\\lib\\site-packages (from tensorflow-intel==2.11.0->tensorflow) (21.3)\n",
      "Requirement already satisfied: h5py>=2.9.0 in c:\\users\\user\\anaconda3\\lib\\site-packages (from tensorflow-intel==2.11.0->tensorflow) (3.6.0)\n",
      "Requirement already satisfied: six>=1.12.0 in c:\\users\\user\\anaconda3\\lib\\site-packages (from tensorflow-intel==2.11.0->tensorflow) (1.16.0)\n",
      "Requirement already satisfied: wrapt>=1.11.0 in c:\\users\\user\\anaconda3\\lib\\site-packages (from tensorflow-intel==2.11.0->tensorflow) (1.12.1)\n",
      "Collecting google-pasta>=0.1.1\n",
      "  Using cached google_pasta-0.2.0-py3-none-any.whl (57 kB)\n",
      "Requirement already satisfied: grpcio<2.0,>=1.24.3 in c:\\users\\user\\anaconda3\\lib\\site-packages (from tensorflow-intel==2.11.0->tensorflow) (1.42.0)\n",
      "Requirement already satisfied: absl-py>=1.0.0 in c:\\users\\user\\anaconda3\\lib\\site-packages (from tensorflow-intel==2.11.0->tensorflow) (1.3.0)\n",
      "Collecting flatbuffers>=2.0\n",
      "  Using cached flatbuffers-22.12.6-py2.py3-none-any.whl (26 kB)\n",
      "Requirement already satisfied: protobuf<3.20,>=3.9.2 in c:\\users\\user\\anaconda3\\lib\\site-packages (from tensorflow-intel==2.11.0->tensorflow) (3.19.1)\n",
      "Requirement already satisfied: tensorboard<2.12,>=2.11 in c:\\users\\user\\anaconda3\\lib\\site-packages (from tensorflow-intel==2.11.0->tensorflow) (2.11.0)\n",
      "Requirement already satisfied: tensorflow-estimator<2.12,>=2.11.0 in c:\\users\\user\\anaconda3\\lib\\site-packages (from tensorflow-intel==2.11.0->tensorflow) (2.11.0)\n",
      "Requirement already satisfied: wheel<1.0,>=0.23.0 in c:\\users\\user\\anaconda3\\lib\\site-packages (from astunparse>=1.6.0->tensorflow-intel==2.11.0->tensorflow) (0.37.1)\n",
      "Requirement already satisfied: tensorboard-data-server<0.7.0,>=0.6.0 in c:\\users\\user\\anaconda3\\lib\\site-packages (from tensorboard<2.12,>=2.11->tensorflow-intel==2.11.0->tensorflow) (0.6.1)\n",
      "Requirement already satisfied: tensorboard-plugin-wit>=1.6.0 in c:\\users\\user\\anaconda3\\lib\\site-packages (from tensorboard<2.12,>=2.11->tensorflow-intel==2.11.0->tensorflow) (1.8.1)\n",
      "Requirement already satisfied: markdown>=2.6.8 in c:\\users\\user\\anaconda3\\lib\\site-packages (from tensorboard<2.12,>=2.11->tensorflow-intel==2.11.0->tensorflow) (3.3.4)\n",
      "Requirement already satisfied: werkzeug>=1.0.1 in c:\\users\\user\\anaconda3\\lib\\site-packages (from tensorboard<2.12,>=2.11->tensorflow-intel==2.11.0->tensorflow) (2.0.3)\n",
      "Requirement already satisfied: google-auth-oauthlib<0.5,>=0.4.1 in c:\\users\\user\\anaconda3\\lib\\site-packages (from tensorboard<2.12,>=2.11->tensorflow-intel==2.11.0->tensorflow) (0.4.6)\n",
      "Requirement already satisfied: requests<3,>=2.21.0 in c:\\users\\user\\anaconda3\\lib\\site-packages (from tensorboard<2.12,>=2.11->tensorflow-intel==2.11.0->tensorflow) (2.27.1)\n",
      "Requirement already satisfied: google-auth<3,>=1.6.3 in c:\\users\\user\\anaconda3\\lib\\site-packages (from tensorboard<2.12,>=2.11->tensorflow-intel==2.11.0->tensorflow) (1.33.0)\n",
      "Requirement already satisfied: rsa<5,>=3.1.4 in c:\\users\\user\\anaconda3\\lib\\site-packages (from google-auth<3,>=1.6.3->tensorboard<2.12,>=2.11->tensorflow-intel==2.11.0->tensorflow) (4.7.2)\n",
      "Requirement already satisfied: pyasn1-modules>=0.2.1 in c:\\users\\user\\anaconda3\\lib\\site-packages (from google-auth<3,>=1.6.3->tensorboard<2.12,>=2.11->tensorflow-intel==2.11.0->tensorflow) (0.2.8)\n",
      "Requirement already satisfied: cachetools<5.0,>=2.0.0 in c:\\users\\user\\anaconda3\\lib\\site-packages (from google-auth<3,>=1.6.3->tensorboard<2.12,>=2.11->tensorflow-intel==2.11.0->tensorflow) (4.2.2)\n",
      "Requirement already satisfied: requests-oauthlib>=0.7.0 in c:\\users\\user\\anaconda3\\lib\\site-packages (from google-auth-oauthlib<0.5,>=0.4.1->tensorboard<2.12,>=2.11->tensorflow-intel==2.11.0->tensorflow) (1.3.1)\n",
      "Requirement already satisfied: pyasn1<0.5.0,>=0.4.6 in c:\\users\\user\\anaconda3\\lib\\site-packages (from pyasn1-modules>=0.2.1->google-auth<3,>=1.6.3->tensorboard<2.12,>=2.11->tensorflow-intel==2.11.0->tensorflow) (0.4.8)\n",
      "Requirement already satisfied: idna<4,>=2.5 in c:\\users\\user\\anaconda3\\lib\\site-packages (from requests<3,>=2.21.0->tensorboard<2.12,>=2.11->tensorflow-intel==2.11.0->tensorflow) (3.3)\n",
      "Requirement already satisfied: charset-normalizer~=2.0.0 in c:\\users\\user\\anaconda3\\lib\\site-packages (from requests<3,>=2.21.0->tensorboard<2.12,>=2.11->tensorflow-intel==2.11.0->tensorflow) (2.0.4)\n",
      "Requirement already satisfied: certifi>=2017.4.17 in c:\\users\\user\\anaconda3\\lib\\site-packages (from requests<3,>=2.21.0->tensorboard<2.12,>=2.11->tensorflow-intel==2.11.0->tensorflow) (2021.10.8)\n",
      "Requirement already satisfied: urllib3<1.27,>=1.21.1 in c:\\users\\user\\anaconda3\\lib\\site-packages (from requests<3,>=2.21.0->tensorboard<2.12,>=2.11->tensorflow-intel==2.11.0->tensorflow) (1.26.9)\n",
      "Requirement already satisfied: oauthlib>=3.0.0 in c:\\users\\user\\anaconda3\\lib\\site-packages (from requests-oauthlib>=0.7.0->google-auth-oauthlib<0.5,>=0.4.1->tensorboard<2.12,>=2.11->tensorflow-intel==2.11.0->tensorflow) (3.2.2)\n",
      "Requirement already satisfied: pyparsing!=3.0.5,>=2.0.2 in c:\\users\\user\\anaconda3\\lib\\site-packages (from packaging->tensorflow-intel==2.11.0->tensorflow) (3.0.4)\n",
      "Installing collected packages: google-pasta, gast, flatbuffers, astunparse, tensorflow-intel, tensorflow\n",
      "Successfully installed astunparse-1.6.3 flatbuffers-22.12.6 gast-0.4.0 google-pasta-0.2.0 tensorflow-2.11.0 tensorflow-intel-2.11.0\n"
     ]
    }
   ],
   "source": [
    "!pip install tensorflow"
   ]
  },
  {
   "cell_type": "code",
   "execution_count": 3,
   "id": "f45d99ec",
   "metadata": {},
   "outputs": [
    {
     "name": "stdout",
     "output_type": "stream",
     "text": [
      "Collecting pydot\n",
      "  Downloading pydot-1.4.2-py2.py3-none-any.whl (21 kB)\n",
      "Requirement already satisfied: pyparsing>=2.1.4 in c:\\users\\user\\anaconda3\\lib\\site-packages (from pydot) (3.0.4)\n",
      "Installing collected packages: pydot\n",
      "Successfully installed pydot-1.4.2\n"
     ]
    }
   ],
   "source": [
    "!pip install pydot"
   ]
  },
  {
   "cell_type": "code",
   "execution_count": 13,
   "id": "2965fdbe",
   "metadata": {},
   "outputs": [
    {
     "name": "stdout",
     "output_type": "stream",
     "text": [
      "2.11.0\n"
     ]
    }
   ],
   "source": [
    "%matplotlib inline\n",
    "import warnings\n",
    "warnings.filterwarnings(\"ignore\")\n",
    "\n",
    "import pandas as pd\n",
    "import numpy as np\n",
    "import matplotlib.pyplot as plt\n",
    "import random\n",
    "import pydot\n",
    "\n",
    "import tensorflow as tf\n",
    "from tensorflow import keras\n",
    "print(tf.__version__)"
   ]
  },
  {
   "cell_type": "code",
   "execution_count": 5,
   "id": "75af8074",
   "metadata": {},
   "outputs": [
    {
     "name": "stdout",
     "output_type": "stream",
     "text": [
      "RANDOM SEEDS RESET\n"
     ]
    }
   ],
   "source": [
    "# 매번 모델링을 할 때마다 동일한 결과를 얻으려면 아래 코드를 실행해야 함.\n",
    "\n",
    "def reset_seeds(reset_graph_with_backend=None):\n",
    "    if reset_graph_with_backend is not None:\n",
    "        K = reset_graph_with_backend\n",
    "        K.clear_session()\n",
    "        tf.compat.v1.reset_default_graph()\n",
    "        print(\"KERAS AND TENSORFLOW GRAPHS RESET\")  # optional\n",
    "\n",
    "    np.random.seed(SEED)\n",
    "    random.seed(SEED)\n",
    "    tf.compat.v1.set_random_seed(SEED)\n",
    "#    os.environ['CUDA_VISIBLE_DEVICES'] = ''  # for GPU\n",
    "    print(\"RANDOM SEEDS RESET\")  # optional\n",
    "   \n",
    "reset_seeds()"
   ]
  },
  {
   "cell_type": "markdown",
   "id": "a5094395",
   "metadata": {},
   "source": [
    "#### 데이터 로딩"
   ]
  },
  {
   "cell_type": "code",
   "execution_count": 6,
   "id": "c0a50ad9",
   "metadata": {},
   "outputs": [],
   "source": [
    "# 학습 데이터\n",
    "X_train = pd.read_csv('X_train_preprocessed.csv').drop(columns='ID')\n",
    "y_train = pd.read_csv('y_train.csv').Salary\n",
    "\n",
    "# 평가 데이터\n",
    "X_test = pd.read_csv('X_test_preprocessed.csv')\n",
    "test_id = X_test.ID\n",
    "X_test = X_test.drop(columns='ID')"
   ]
  },
  {
   "cell_type": "markdown",
   "id": "5fbd80b9",
   "metadata": {},
   "source": [
    "<font color=\"blue\"><p>\n",
    "#### DNN 모형 생성"
   ]
  },
  {
   "cell_type": "markdown",
   "id": "cc83d8af",
   "metadata": {},
   "source": [
    "<font color=\"blue\"><p>\n",
    "- 1단계: 모형 정의하기 (입력층/은익층/출력층 쌓기)"
   ]
  },
  {
   "cell_type": "code",
   "execution_count": 7,
   "id": "67d1bb50",
   "metadata": {},
   "outputs": [],
   "source": [
    "inputs = keras.Input(shape=X_train.shape[1], ) \n",
    "y = keras.layers.Dense(1, activation='elu')(inputs)\n",
    "x = keras.layers.BatchNormalization()(inputs)\n",
    "x = keras.layers.Dense(128, activation='elu')(x)  \n",
    "x = keras.layers.Dense(64, activation='elu')(x)  \n",
    "x = keras.layers.Dense(1, activation='linear')(x)  \n",
    "x = keras.layers.Add()([x,y])  \n",
    "output = keras.layers.Dense(1, activation='linear')(x)  \n",
    "\n",
    "model = keras.Model(inputs=inputs, outputs=output)      "
   ]
  },
  {
   "cell_type": "code",
   "execution_count": 14,
   "id": "bd109c7b",
   "metadata": {},
   "outputs": [
    {
     "name": "stdout",
     "output_type": "stream",
     "text": [
      "Model: \"model\"\n",
      "__________________________________________________________________________________________________\n",
      " Layer (type)                   Output Shape         Param #     Connected to                     \n",
      "==================================================================================================\n",
      " input_1 (InputLayer)           [(None, 687)]        0           []                               \n",
      "                                                                                                  \n",
      " batch_normalization (BatchNorm  (None, 687)         2748        ['input_1[0][0]']                \n",
      " alization)                                                                                       \n",
      "                                                                                                  \n",
      " dense_1 (Dense)                (None, 128)          88064       ['batch_normalization[0][0]']    \n",
      "                                                                                                  \n",
      " dense_2 (Dense)                (None, 64)           8256        ['dense_1[0][0]']                \n",
      "                                                                                                  \n",
      " dense_3 (Dense)                (None, 1)            65          ['dense_2[0][0]']                \n",
      "                                                                                                  \n",
      " dense (Dense)                  (None, 1)            688         ['input_1[0][0]']                \n",
      "                                                                                                  \n",
      " add (Add)                      (None, 1)            0           ['dense_3[0][0]',                \n",
      "                                                                  'dense[0][0]']                  \n",
      "                                                                                                  \n",
      " dense_4 (Dense)                (None, 1)            2           ['add[0][0]']                    \n",
      "                                                                                                  \n",
      "==================================================================================================\n",
      "Total params: 99,823\n",
      "Trainable params: 98,449\n",
      "Non-trainable params: 1,374\n",
      "__________________________________________________________________________________________________\n",
      "None\n",
      "You must install pydot (`pip install pydot`) and install graphviz (see instructions at https://graphviz.gitlab.io/download/) for plot_model to work.\n"
     ]
    }
   ],
   "source": [
    "# 모형 구조 출력: Total params가 많을수록 복잡한 모델임.\n",
    "print(model.summary())\n",
    "\n",
    "# 연결 그래프 시각화: graphviz와 pydot 설치 필요 (graphviz 다운로드하고 설치한 후 pip install pydot)\n",
    "keras.utils.plot_model(model, show_shapes=True, show_layer_names=False, show_layer_activations=True, dpi=70)"
   ]
  },
  {
   "cell_type": "markdown",
   "id": "7cfed5d3",
   "metadata": {},
   "source": [
    "<font color=\"blue\"><p>\n",
    "- 2단계: 학습방식(손실함수/옵티마이저/평가척도) 설정하기"
   ]
  },
  {
   "cell_type": "code",
   "execution_count": 9,
   "id": "c6cdb9fb",
   "metadata": {},
   "outputs": [],
   "source": [
    "model.compile(\n",
    "    loss='mse',\n",
    "    optimizer=keras.optimizers.Adam(),         # 옵티마이저 정하기            \n",
    "    metrics=[keras.metrics.RootMeanSquaredError(name='rmse')]\n",
    ")"
   ]
  },
  {
   "cell_type": "markdown",
   "id": "48f64a80",
   "metadata": {},
   "source": [
    "<font color=\"blue\"><p>\n",
    "- 3단계: 모형 학습하기 (에포크, 배치사이즈, 조기중단 등 지정) "
   ]
  },
  {
   "cell_type": "code",
   "execution_count": 10,
   "id": "e48253f8",
   "metadata": {
    "scrolled": false
   },
   "outputs": [
    {
     "name": "stdout",
     "output_type": "stream",
     "text": [
      "Epoch 1/200\n",
      "234/234 - 1s - loss: 4064047.0000 - rmse: 2015.9481 - val_loss: 1376680.1250 - val_rmse: 1173.3201 - 1s/epoch - 5ms/step\n",
      "Epoch 2/200\n",
      "234/234 - 0s - loss: 864613.7500 - rmse: 929.8461 - val_loss: 1173266.2500 - val_rmse: 1083.1742 - 328ms/epoch - 1ms/step\n",
      "Epoch 3/200\n",
      "234/234 - 0s - loss: 787329.2500 - rmse: 887.3157 - val_loss: 1126535.1250 - val_rmse: 1061.3835 - 309ms/epoch - 1ms/step\n",
      "Epoch 4/200\n",
      "234/234 - 0s - loss: 755303.3125 - rmse: 869.0819 - val_loss: 1107691.7500 - val_rmse: 1052.4694 - 302ms/epoch - 1ms/step\n",
      "Epoch 5/200\n",
      "234/234 - 0s - loss: 738606.6250 - rmse: 859.4222 - val_loss: 1096020.5000 - val_rmse: 1046.9100 - 315ms/epoch - 1ms/step\n",
      "Epoch 6/200\n",
      "234/234 - 0s - loss: 728362.5000 - rmse: 853.4416 - val_loss: 1090708.1250 - val_rmse: 1044.3698 - 329ms/epoch - 1ms/step\n",
      "Epoch 7/200\n",
      "234/234 - 0s - loss: 721302.1250 - rmse: 849.2951 - val_loss: 1088927.7500 - val_rmse: 1043.5170 - 309ms/epoch - 1ms/step\n",
      "Epoch 8/200\n",
      "234/234 - 0s - loss: 716011.5625 - rmse: 846.1747 - val_loss: 1088881.5000 - val_rmse: 1043.4949 - 303ms/epoch - 1ms/step\n",
      "Epoch 9/200\n",
      "234/234 - 0s - loss: 711792.0000 - rmse: 843.6777 - val_loss: 1089645.6250 - val_rmse: 1043.8610 - 309ms/epoch - 1ms/step\n",
      "Epoch 10/200\n",
      "234/234 - 0s - loss: 708246.6250 - rmse: 841.5739 - val_loss: 1090791.2500 - val_rmse: 1044.4095 - 348ms/epoch - 1ms/step\n",
      "Epoch 11/200\n",
      "234/234 - 1s - loss: 705141.1875 - rmse: 839.7269 - val_loss: 1092245.3750 - val_rmse: 1045.1055 - 527ms/epoch - 2ms/step\n",
      "Epoch 12/200\n",
      "234/234 - 0s - loss: 702303.1875 - rmse: 838.0353 - val_loss: 1093958.6250 - val_rmse: 1045.9248 - 356ms/epoch - 2ms/step\n",
      "Epoch 13/200\n",
      "234/234 - 0s - loss: 699653.9375 - rmse: 836.4532 - val_loss: 1095978.5000 - val_rmse: 1046.8899 - 331ms/epoch - 1ms/step\n"
     ]
    }
   ],
   "source": [
    "hist = model.fit(\n",
    "    x=X_train,\n",
    "    y=y_train,\n",
    "    validation_split=0.1,\n",
    "    batch_size=64, \n",
    "    epochs=200, \n",
    "    callbacks=[keras.callbacks.EarlyStopping(monitor='val_loss', patience=5)], #얼리스타핑\n",
    "    shuffle=False,\n",
    "    verbose=2,\n",
    ")"
   ]
  },
  {
   "cell_type": "code",
   "execution_count": 11,
   "id": "75c36e8e",
   "metadata": {},
   "outputs": [
    {
     "data": {
      "image/png": "[encoded data removed]",
      "text/plain": [
       "<Figure size 432x288 with 1 Axes>"
      ]
     },
     "metadata": {
      "needs_background": "light"
     },
     "output_type": "display_data"
    }
   ],
   "source": [
    "# 러닝커브 그리기: 학습이 잘되었는지 어느정도 판단할 수 있음.\n",
    "\n",
    "plt.plot(hist.history['rmse'], label=\"train\")\n",
    "plt.plot(hist.history['val_rmse'], label=\"valid\")\n",
    "plt.xlabel('epoch')\n",
    "plt.ylabel('RMSE')\n",
    "plt.legend()\n",
    "plt.show()"
   ]
  },
  {
   "cell_type": "markdown",
   "id": "c19d32cb",
   "metadata": {},
   "source": [
    "<font color=\"blue\"><p>\n",
    "- 4단계: 예측하기"
   ]
  },
  {
   "cell_type": "code",
   "execution_count": 12,
   "id": "0dcbc444",
   "metadata": {},
   "outputs": [
    {
     "name": "stdout",
     "output_type": "stream",
     "text": [
      "346/346 [==============================] - 0s 633us/step\n",
      "dnn_3.0_1046.89.csv is ready to submit.\n"
     ]
    }
   ],
   "source": [
    "# 예측값 얻기: sklearn 과 달리 2차원 array로 출력 => 1차원으로 변경 필요.\n",
    "pred = model.predict(X_test).flatten()\n",
    "\n",
    "# submission 화일 생성\n",
    "filename = f'dnn_{DNN_VERSION}_{hist.history[\"val_rmse\"][-1]:.2f}.csv'\n",
    "pd.DataFrame({'ID':test_id, 'Salary':pred}).to_csv(filename, index=False)\n",
    "\n",
    "print(f'{filename} is ready to submit.')"
   ]
  },
  {
   "cell_type": "markdown",
   "id": "c712c837",
   "metadata": {},
   "source": [
    "<font color=\"#CC3D3D\"><p>\n",
    "# End"
   ]
  }
 ],
 "metadata": {
  "kernelspec": {
   "display_name": "Python 3 (ipykernel)",
   "language": "python",
   "name": "python3"
  },
  "language_info": {
   "codemirror_mode": {
    "name": "ipython",
    "version": 3
   },
   "file_extension": ".py",
   "mimetype": "text/x-python",
   "name": "python",
   "nbconvert_exporter": "python",
   "pygments_lexer": "ipython3",
   "version": "3.9.12"
  }
 },
 "nbformat": 4,
 "nbformat_minor": 5
}
