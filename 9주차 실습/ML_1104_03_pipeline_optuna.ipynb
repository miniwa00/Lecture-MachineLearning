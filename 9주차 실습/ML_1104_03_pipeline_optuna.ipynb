{
 "cells": [
  {
   "cell_type": "markdown",
   "metadata": {},
   "source": [
    "<font color=\"#CC3D3D\"><p>\n",
    "# ML Pipeline: Hyperparameter Tuning using Pipeline+Optuna"
   ]
  },
  {
   "cell_type": "markdown",
   "metadata": {},
   "source": [
    "<font color=\"blue\"><p>\n",
    "#### 모형개발 절차\n",
    "1. 수치형 피처\n",
    " - 결측값처리: SimpleImputer(strategy=`???`)\n",
    " - 이상값처리: FunctionTransformer()\n",
    " - 스케일링: StandardScaler()\n",
    "2. 범주형 피처\n",
    " - 결측값처리: SimpleImputer(strategy=\"most_frequent\")\n",
    " - 인코딩: OneHotEncoder(handle_unknown=\"ignore\")\n",
    " - 차원축소: `MyPCATransformer()` # Custom PCA    \n",
    "3. 공통\n",
    " - Feature Selection: SelectPercentile(percentile=`???`)\n",
    " - Modeling: Logistic Regression(C=`???`)\n",
    " - Hyperparametor Optimization: `OptunaSearchCV`"
   ]
  },
  {
   "cell_type": "code",
   "execution_count": 1,
   "metadata": {},
   "outputs": [],
   "source": [
    "%matplotlib inline\n",
    "import warnings\n",
    "warnings.filterwarnings(\"ignore\")\n",
    "\n",
    "import pandas as pd\n",
    "import numpy as np\n",
    "from sklearn.pipeline import Pipeline\n",
    "from sklearn.compose import ColumnTransformer\n",
    "from sklearn.preprocessing import FunctionTransformer\n",
    "from sklearn.base import BaseEstimator, TransformerMixin\n",
    "from sklearn.impute import SimpleImputer\n",
    "from sklearn.experimental import enable_iterative_imputer  # still experimental \n",
    "from sklearn.impute import IterativeImputer\n",
    "from sklearn.preprocessing import StandardScaler, PowerTransformer \n",
    "from sklearn.preprocessing import OrdinalEncoder, OneHotEncoder\n",
    "from category_encoders import TargetEncoder  # scikit-learn과 호환됨\n",
    "from sklearn.decomposition import PCA\n",
    "from sklearn.feature_selection import SelectKBest, SelectPercentile\n",
    "from sklearn.linear_model import LogisticRegression\n",
    "from sklearn.model_selection import train_test_split, GridSearchCV\n",
    "from sklearn.metrics import roc_auc_score\n",
    "from sklearn import set_config\n",
    "\n",
    "import optuna"
   ]
  },
  {
   "cell_type": "markdown",
   "metadata": {},
   "source": [
    "#### Load data"
   ]
  },
  {
   "cell_type": "code",
   "execution_count": 2,
   "metadata": {},
   "outputs": [
    {
     "data": {
      "text/html": [
       "<div>\n",
       "<style scoped>\n",
       "    .dataframe tbody tr th:only-of-type {\n",
       "        vertical-align: middle;\n",
       "    }\n",
       "\n",
       "    .dataframe tbody tr th {\n",
       "        vertical-align: top;\n",
       "    }\n",
       "\n",
       "    .dataframe thead th {\n",
       "        text-align: right;\n",
       "    }\n",
       "</style>\n",
       "<table border=\"1\" class=\"dataframe\">\n",
       "  <thead>\n",
       "    <tr style=\"text-align: right;\">\n",
       "      <th></th>\n",
       "      <th>customer_ID</th>\n",
       "      <th>shopping_pt</th>\n",
       "      <th>record_type</th>\n",
       "      <th>day</th>\n",
       "      <th>time</th>\n",
       "      <th>state</th>\n",
       "      <th>location</th>\n",
       "      <th>group_size</th>\n",
       "      <th>homeowner</th>\n",
       "      <th>car_age</th>\n",
       "      <th>...</th>\n",
       "      <th>C_previous</th>\n",
       "      <th>duration_previous</th>\n",
       "      <th>A</th>\n",
       "      <th>B</th>\n",
       "      <th>C</th>\n",
       "      <th>D</th>\n",
       "      <th>E</th>\n",
       "      <th>F</th>\n",
       "      <th>G</th>\n",
       "      <th>cost</th>\n",
       "    </tr>\n",
       "  </thead>\n",
       "  <tbody>\n",
       "    <tr>\n",
       "      <th>0</th>\n",
       "      <td>10000000</td>\n",
       "      <td>1</td>\n",
       "      <td>0</td>\n",
       "      <td>0</td>\n",
       "      <td>08:35</td>\n",
       "      <td>IN</td>\n",
       "      <td>10001</td>\n",
       "      <td>2</td>\n",
       "      <td>0</td>\n",
       "      <td>2</td>\n",
       "      <td>...</td>\n",
       "      <td>1.0</td>\n",
       "      <td>2.0</td>\n",
       "      <td>1</td>\n",
       "      <td>0</td>\n",
       "      <td>2</td>\n",
       "      <td>2</td>\n",
       "      <td>1</td>\n",
       "      <td>2</td>\n",
       "      <td>2</td>\n",
       "      <td>633</td>\n",
       "    </tr>\n",
       "    <tr>\n",
       "      <th>1</th>\n",
       "      <td>10000000</td>\n",
       "      <td>2</td>\n",
       "      <td>0</td>\n",
       "      <td>0</td>\n",
       "      <td>08:38</td>\n",
       "      <td>IN</td>\n",
       "      <td>10001</td>\n",
       "      <td>2</td>\n",
       "      <td>0</td>\n",
       "      <td>2</td>\n",
       "      <td>...</td>\n",
       "      <td>1.0</td>\n",
       "      <td>2.0</td>\n",
       "      <td>1</td>\n",
       "      <td>0</td>\n",
       "      <td>2</td>\n",
       "      <td>2</td>\n",
       "      <td>1</td>\n",
       "      <td>2</td>\n",
       "      <td>1</td>\n",
       "      <td>630</td>\n",
       "    </tr>\n",
       "    <tr>\n",
       "      <th>2</th>\n",
       "      <td>10000000</td>\n",
       "      <td>3</td>\n",
       "      <td>0</td>\n",
       "      <td>0</td>\n",
       "      <td>08:38</td>\n",
       "      <td>IN</td>\n",
       "      <td>10001</td>\n",
       "      <td>2</td>\n",
       "      <td>0</td>\n",
       "      <td>2</td>\n",
       "      <td>...</td>\n",
       "      <td>1.0</td>\n",
       "      <td>2.0</td>\n",
       "      <td>1</td>\n",
       "      <td>0</td>\n",
       "      <td>2</td>\n",
       "      <td>2</td>\n",
       "      <td>1</td>\n",
       "      <td>2</td>\n",
       "      <td>1</td>\n",
       "      <td>630</td>\n",
       "    </tr>\n",
       "    <tr>\n",
       "      <th>3</th>\n",
       "      <td>10000000</td>\n",
       "      <td>4</td>\n",
       "      <td>0</td>\n",
       "      <td>0</td>\n",
       "      <td>08:39</td>\n",
       "      <td>IN</td>\n",
       "      <td>10001</td>\n",
       "      <td>2</td>\n",
       "      <td>0</td>\n",
       "      <td>2</td>\n",
       "      <td>...</td>\n",
       "      <td>1.0</td>\n",
       "      <td>2.0</td>\n",
       "      <td>1</td>\n",
       "      <td>0</td>\n",
       "      <td>2</td>\n",
       "      <td>2</td>\n",
       "      <td>1</td>\n",
       "      <td>2</td>\n",
       "      <td>1</td>\n",
       "      <td>630</td>\n",
       "    </tr>\n",
       "    <tr>\n",
       "      <th>4</th>\n",
       "      <td>10000000</td>\n",
       "      <td>5</td>\n",
       "      <td>0</td>\n",
       "      <td>0</td>\n",
       "      <td>11:55</td>\n",
       "      <td>IN</td>\n",
       "      <td>10001</td>\n",
       "      <td>2</td>\n",
       "      <td>0</td>\n",
       "      <td>2</td>\n",
       "      <td>...</td>\n",
       "      <td>1.0</td>\n",
       "      <td>2.0</td>\n",
       "      <td>1</td>\n",
       "      <td>0</td>\n",
       "      <td>2</td>\n",
       "      <td>2</td>\n",
       "      <td>1</td>\n",
       "      <td>2</td>\n",
       "      <td>1</td>\n",
       "      <td>630</td>\n",
       "    </tr>\n",
       "  </tbody>\n",
       "</table>\n",
       "<p>5 rows × 25 columns</p>\n",
       "</div>"
      ],
      "text/plain": [
       "   customer_ID  shopping_pt  record_type  day   time state  location  \\\n",
       "0     10000000            1            0    0  08:35    IN     10001   \n",
       "1     10000000            2            0    0  08:38    IN     10001   \n",
       "2     10000000            3            0    0  08:38    IN     10001   \n",
       "3     10000000            4            0    0  08:39    IN     10001   \n",
       "4     10000000            5            0    0  11:55    IN     10001   \n",
       "\n",
       "   group_size  homeowner  car_age  ... C_previous  duration_previous  A  B  C  \\\n",
       "0           2          0        2  ...        1.0                2.0  1  0  2   \n",
       "1           2          0        2  ...        1.0                2.0  1  0  2   \n",
       "2           2          0        2  ...        1.0                2.0  1  0  2   \n",
       "3           2          0        2  ...        1.0                2.0  1  0  2   \n",
       "4           2          0        2  ...        1.0                2.0  1  0  2   \n",
       "\n",
       "   D  E  F  G  cost  \n",
       "0  2  1  2  2   633  \n",
       "1  2  1  2  1   630  \n",
       "2  2  1  2  1   630  \n",
       "3  2  1  2  1   630  \n",
       "4  2  1  2  1   630  \n",
       "\n",
       "[5 rows x 25 columns]"
      ]
     },
     "execution_count": 2,
     "metadata": {},
     "output_type": "execute_result"
    }
   ],
   "source": [
    "data = pd.read_csv('allstate_train.csv')\n",
    "data.head()"
   ]
  },
  {
   "cell_type": "markdown",
   "metadata": {},
   "source": [
    "#### 수치형/범주형 피처 분리 & 학습/평가 데이터 분할"
   ]
  },
  {
   "cell_type": "code",
   "execution_count": 3,
   "metadata": {},
   "outputs": [],
   "source": [
    "numeric_features = ['group_size','car_age','age_oldest','age_youngest','duration_previous','cost']\n",
    "categorical_features = ['day','homeowner','car_value','risk_factor','married_couple','C_previous','state','shopping_pt']\n",
    "\n",
    "X_train, X_test, y_train, y_test = train_test_split(data[numeric_features+categorical_features], \n",
    "                                                    data['record_type'], test_size=0.9, \n",
    "                                                    stratify=data['record_type'], random_state=0)"
   ]
  },
  {
   "cell_type": "markdown",
   "metadata": {},
   "source": [
    "####  파이프라인 구축: 수치형과 범주형 피처를 다르게 처리할 수 있는 ColumnTransformer를 활용"
   ]
  },
  {
   "cell_type": "code",
   "execution_count": 4,
   "metadata": {},
   "outputs": [],
   "source": [
    "# 이상치 처리 방법 중 가장 단순한 방법:\n",
    "def remove_outlier(X):  \n",
    "    df = pd.DataFrame(X)\n",
    "    return df.apply(lambda x: x.clip(x.quantile(.05), x.quantile(.95)), axis=0).values"
   ]
  },
  {
   "cell_type": "code",
   "execution_count": 22,
   "metadata": {},
   "outputs": [],
   "source": [
    "# PCA 차원을 자동으로 결정하는 Custom PCA 전처리기 클래스\n",
    "class MyPCATransformer(TransformerMixin, BaseEstimator):\n",
    "    # 전처리기 생성 즉, MyPCATransformer() 호출시 실행\n",
    "    def __init__(self, sum_explained_variance=0.99):                     # self : 클래스에 들어간 정보를 저장하는 장소, 클래스 안에서만 쓸 수 있다\n",
    "        self.sum_explained_variance = sum_explained_variance\n",
    "\n",
    "    # 전처리기의 fit() 호출시 실행\n",
    "    def fit(self, X, y=None):\n",
    "        max_d = X.shape[1]\n",
    "        pca = PCA(n_components=max_d).fit(X)\n",
    "        cumsum = np.cumsum(pca.explained_variance_ratio_)                 #분산의 설명량을 누적합\n",
    "        self.num_d = np.argmax(cumsum >= self.sum_explained_variance) + 1 #분산의 설명량이 99%이상 되는 차원의 수\n",
    "        if self.num_d == 1: self.num_d = max_d\n",
    "        self.pca = PCA(n_components=self.num_d)\n",
    "        self.pca.fit(X)\n",
    "        return self\n",
    "    \n",
    "    # 전처리기의 transform() 호출시 실행\n",
    "    def transform(self, X):\n",
    "        return self.pca.transform(X)\n",
    "    \n",
    "# 피처별로 ohe 하고 pca 하는 편이 성능이 좋을 수 있다 -> 파이프라인에서는 그렇게는 못한다"
   ]
  },
  {
   "cell_type": "code",
   "execution_count": 14,
   "metadata": {},
   "outputs": [
    {
     "name": "stdout",
     "output_type": "stream",
     "text": [
      "객체 생성 완료\n"
     ]
    }
   ],
   "source": [
    "pca = MyPCATransformer(sum_explained_variance=0.95)"
   ]
  },
  {
   "cell_type": "code",
   "execution_count": 15,
   "metadata": {},
   "outputs": [
    {
     "data": {
      "text/plain": [
       "0.95"
      ]
     },
     "execution_count": 15,
     "metadata": {},
     "output_type": "execute_result"
    }
   ],
   "source": [
    "pca.sum_explained_variance"
   ]
  },
  {
   "cell_type": "code",
   "execution_count": 17,
   "metadata": {},
   "outputs": [
    {
     "name": "stdout",
     "output_type": "stream",
     "text": [
      "객체 생성 완료\n"
     ]
    }
   ],
   "source": [
    "numeric_transformer = Pipeline(\n",
    "    steps=[\n",
    "        (\"imputer\", SimpleImputer(strategy=\"median\")),\n",
    "        (\"outlier\", FunctionTransformer(remove_outlier)), # 함수를 전처리기로 변환하여 sklearn에 없는 새로운 전처리기를 만듬\n",
    "        (\"scaler\", StandardScaler()),\n",
    "    ]\n",
    ")\n",
    "\n",
    "categorical_transformer = Pipeline(\n",
    "    steps=[\n",
    "        (\"imputer\", SimpleImputer(strategy=\"most_frequent\")), \n",
    "        (\"encoder\", OneHotEncoder(handle_unknown=\"ignore\", sparse=False)),\n",
    "        (\"pca\", MyPCATransformer()),\n",
    "    ]\n",
    ")\n",
    "\n",
    "column_transformer = ColumnTransformer(\n",
    "    transformers=[\n",
    "        (\"num\", numeric_transformer, numeric_features),\n",
    "        (\"cat\", categorical_transformer, categorical_features),\n",
    "    ]\n",
    ")\n",
    "\n",
    "preprocessor = Pipeline(\n",
    "    steps=[\n",
    "        (\"column\", column_transformer), \n",
    "        (\"selector\", SelectPercentile(percentile=50)),\n",
    "    ]\n",
    ")\n",
    "\n",
    "model = Pipeline(\n",
    "    steps=[\n",
    "        (\"preprocessor\", preprocessor), \n",
    "        (\"classifier\", LogisticRegression()),\n",
    "    ]\n",
    ")"
   ]
  },
  {
   "cell_type": "code",
   "execution_count": 18,
   "metadata": {},
   "outputs": [
    {
     "data": {
      "text/html": [
       "<style>#sk-77c38eb8-c6be-46a4-8138-51c96c447deb {color: black;background-color: white;}#sk-77c38eb8-c6be-46a4-8138-51c96c447deb pre{padding: 0;}#sk-77c38eb8-c6be-46a4-8138-51c96c447deb div.sk-toggleable {background-color: white;}#sk-77c38eb8-c6be-46a4-8138-51c96c447deb label.sk-toggleable__label {cursor: pointer;display: block;width: 100%;margin-bottom: 0;padding: 0.3em;box-sizing: border-box;text-align: center;}#sk-77c38eb8-c6be-46a4-8138-51c96c447deb label.sk-toggleable__label-arrow:before {content: \"▸\";float: left;margin-right: 0.25em;color: #696969;}#sk-77c38eb8-c6be-46a4-8138-51c96c447deb label.sk-toggleable__label-arrow:hover:before {color: black;}#sk-77c38eb8-c6be-46a4-8138-51c96c447deb div.sk-estimator:hover label.sk-toggleable__label-arrow:before {color: black;}#sk-77c38eb8-c6be-46a4-8138-51c96c447deb div.sk-toggleable__content {max-height: 0;max-width: 0;overflow: hidden;text-align: left;background-color: #f0f8ff;}#sk-77c38eb8-c6be-46a4-8138-51c96c447deb div.sk-toggleable__content pre {margin: 0.2em;color: black;border-radius: 0.25em;background-color: #f0f8ff;}#sk-77c38eb8-c6be-46a4-8138-51c96c447deb input.sk-toggleable__control:checked~div.sk-toggleable__content {max-height: 200px;max-width: 100%;overflow: auto;}#sk-77c38eb8-c6be-46a4-8138-51c96c447deb input.sk-toggleable__control:checked~label.sk-toggleable__label-arrow:before {content: \"▾\";}#sk-77c38eb8-c6be-46a4-8138-51c96c447deb div.sk-estimator input.sk-toggleable__control:checked~label.sk-toggleable__label {background-color: #d4ebff;}#sk-77c38eb8-c6be-46a4-8138-51c96c447deb div.sk-label input.sk-toggleable__control:checked~label.sk-toggleable__label {background-color: #d4ebff;}#sk-77c38eb8-c6be-46a4-8138-51c96c447deb input.sk-hidden--visually {border: 0;clip: rect(1px 1px 1px 1px);clip: rect(1px, 1px, 1px, 1px);height: 1px;margin: -1px;overflow: hidden;padding: 0;position: absolute;width: 1px;}#sk-77c38eb8-c6be-46a4-8138-51c96c447deb div.sk-estimator {font-family: monospace;background-color: #f0f8ff;border: 1px dotted black;border-radius: 0.25em;box-sizing: border-box;margin-bottom: 0.5em;}#sk-77c38eb8-c6be-46a4-8138-51c96c447deb div.sk-estimator:hover {background-color: #d4ebff;}#sk-77c38eb8-c6be-46a4-8138-51c96c447deb div.sk-parallel-item::after {content: \"\";width: 100%;border-bottom: 1px solid gray;flex-grow: 1;}#sk-77c38eb8-c6be-46a4-8138-51c96c447deb div.sk-label:hover label.sk-toggleable__label {background-color: #d4ebff;}#sk-77c38eb8-c6be-46a4-8138-51c96c447deb div.sk-serial::before {content: \"\";position: absolute;border-left: 1px solid gray;box-sizing: border-box;top: 2em;bottom: 0;left: 50%;}#sk-77c38eb8-c6be-46a4-8138-51c96c447deb div.sk-serial {display: flex;flex-direction: column;align-items: center;background-color: white;padding-right: 0.2em;padding-left: 0.2em;}#sk-77c38eb8-c6be-46a4-8138-51c96c447deb div.sk-item {z-index: 1;}#sk-77c38eb8-c6be-46a4-8138-51c96c447deb div.sk-parallel {display: flex;align-items: stretch;justify-content: center;background-color: white;}#sk-77c38eb8-c6be-46a4-8138-51c96c447deb div.sk-parallel::before {content: \"\";position: absolute;border-left: 1px solid gray;box-sizing: border-box;top: 2em;bottom: 0;left: 50%;}#sk-77c38eb8-c6be-46a4-8138-51c96c447deb div.sk-parallel-item {display: flex;flex-direction: column;position: relative;background-color: white;}#sk-77c38eb8-c6be-46a4-8138-51c96c447deb div.sk-parallel-item:first-child::after {align-self: flex-end;width: 50%;}#sk-77c38eb8-c6be-46a4-8138-51c96c447deb div.sk-parallel-item:last-child::after {align-self: flex-start;width: 50%;}#sk-77c38eb8-c6be-46a4-8138-51c96c447deb div.sk-parallel-item:only-child::after {width: 0;}#sk-77c38eb8-c6be-46a4-8138-51c96c447deb div.sk-dashed-wrapped {border: 1px dashed gray;margin: 0 0.4em 0.5em 0.4em;box-sizing: border-box;padding-bottom: 0.4em;background-color: white;position: relative;}#sk-77c38eb8-c6be-46a4-8138-51c96c447deb div.sk-label label {font-family: monospace;font-weight: bold;background-color: white;display: inline-block;line-height: 1.2em;}#sk-77c38eb8-c6be-46a4-8138-51c96c447deb div.sk-label-container {position: relative;z-index: 2;text-align: center;}#sk-77c38eb8-c6be-46a4-8138-51c96c447deb div.sk-container {/* jupyter's `normalize.less` sets `[hidden] { display: none; }` but bootstrap.min.css set `[hidden] { display: none !important; }` so we also need the `!important` here to be able to override the default hidden behavior on the sphinx rendered scikit-learn.org. See: https://github.com/scikit-learn/scikit-learn/issues/21755 */display: inline-block !important;position: relative;}#sk-77c38eb8-c6be-46a4-8138-51c96c447deb div.sk-text-repr-fallback {display: none;}</style><div id=\"sk-77c38eb8-c6be-46a4-8138-51c96c447deb\" class=\"sk-top-container\"><div class=\"sk-text-repr-fallback\"><pre>Pipeline(steps=[(&#x27;preprocessor&#x27;,\n",
       "                 Pipeline(steps=[(&#x27;column&#x27;,\n",
       "                                  ColumnTransformer(transformers=[(&#x27;num&#x27;,\n",
       "                                                                   Pipeline(steps=[(&#x27;imputer&#x27;,\n",
       "                                                                                    SimpleImputer(strategy=&#x27;median&#x27;)),\n",
       "                                                                                   (&#x27;outlier&#x27;,\n",
       "                                                                                    FunctionTransformer(func=&lt;function remove_outlier at 0x000001C9182E8EE0&gt;)),\n",
       "                                                                                   (&#x27;scaler&#x27;,\n",
       "                                                                                    StandardScaler())]),\n",
       "                                                                   [&#x27;group_size&#x27;,\n",
       "                                                                    &#x27;car_age&#x27;,\n",
       "                                                                    &#x27;age_oldest&#x27;,\n",
       "                                                                    &#x27;age_youngest&#x27;,\n",
       "                                                                    &#x27;duration_previous&#x27;,\n",
       "                                                                    &#x27;cost&#x27;]),\n",
       "                                                                  (&#x27;cat&#x27;,\n",
       "                                                                   Pipeline(steps=[(&#x27;imputer&#x27;,\n",
       "                                                                                    SimpleImputer(strategy=&#x27;most_frequent&#x27;)),\n",
       "                                                                                   (&#x27;encoder&#x27;,\n",
       "                                                                                    OneHotEncoder(handle_unknown=&#x27;ignore&#x27;,\n",
       "                                                                                                  sparse=False)),\n",
       "                                                                                   (&#x27;pca&#x27;,\n",
       "                                                                                    MyPCATransformer())]),\n",
       "                                                                   [&#x27;day&#x27;,\n",
       "                                                                    &#x27;homeowner&#x27;,\n",
       "                                                                    &#x27;car_value&#x27;,\n",
       "                                                                    &#x27;risk_factor&#x27;,\n",
       "                                                                    &#x27;married_couple&#x27;,\n",
       "                                                                    &#x27;C_previous&#x27;,\n",
       "                                                                    &#x27;state&#x27;,\n",
       "                                                                    &#x27;shopping_pt&#x27;])])),\n",
       "                                 (&#x27;selector&#x27;,\n",
       "                                  SelectPercentile(percentile=50))])),\n",
       "                (&#x27;classifier&#x27;, LogisticRegression())])</pre><b>Please rerun this cell to show the HTML repr or trust the notebook.</b></div><div class=\"sk-container\" hidden><div class=\"sk-item sk-dashed-wrapped\"><div class=\"sk-label-container\"><div class=\"sk-label sk-toggleable\"><input class=\"sk-toggleable__control sk-hidden--visually\" id=\"09398615-6c2f-4b1f-89d6-1f118478eef7\" type=\"checkbox\" ><label for=\"09398615-6c2f-4b1f-89d6-1f118478eef7\" class=\"sk-toggleable__label sk-toggleable__label-arrow\">Pipeline</label><div class=\"sk-toggleable__content\"><pre>Pipeline(steps=[(&#x27;preprocessor&#x27;,\n",
       "                 Pipeline(steps=[(&#x27;column&#x27;,\n",
       "                                  ColumnTransformer(transformers=[(&#x27;num&#x27;,\n",
       "                                                                   Pipeline(steps=[(&#x27;imputer&#x27;,\n",
       "                                                                                    SimpleImputer(strategy=&#x27;median&#x27;)),\n",
       "                                                                                   (&#x27;outlier&#x27;,\n",
       "                                                                                    FunctionTransformer(func=&lt;function remove_outlier at 0x000001C9182E8EE0&gt;)),\n",
       "                                                                                   (&#x27;scaler&#x27;,\n",
       "                                                                                    StandardScaler())]),\n",
       "                                                                   [&#x27;group_size&#x27;,\n",
       "                                                                    &#x27;car_age&#x27;,\n",
       "                                                                    &#x27;age_oldest&#x27;,\n",
       "                                                                    &#x27;age_youngest&#x27;,\n",
       "                                                                    &#x27;duration_previous&#x27;,\n",
       "                                                                    &#x27;cost&#x27;]),\n",
       "                                                                  (&#x27;cat&#x27;,\n",
       "                                                                   Pipeline(steps=[(&#x27;imputer&#x27;,\n",
       "                                                                                    SimpleImputer(strategy=&#x27;most_frequent&#x27;)),\n",
       "                                                                                   (&#x27;encoder&#x27;,\n",
       "                                                                                    OneHotEncoder(handle_unknown=&#x27;ignore&#x27;,\n",
       "                                                                                                  sparse=False)),\n",
       "                                                                                   (&#x27;pca&#x27;,\n",
       "                                                                                    MyPCATransformer())]),\n",
       "                                                                   [&#x27;day&#x27;,\n",
       "                                                                    &#x27;homeowner&#x27;,\n",
       "                                                                    &#x27;car_value&#x27;,\n",
       "                                                                    &#x27;risk_factor&#x27;,\n",
       "                                                                    &#x27;married_couple&#x27;,\n",
       "                                                                    &#x27;C_previous&#x27;,\n",
       "                                                                    &#x27;state&#x27;,\n",
       "                                                                    &#x27;shopping_pt&#x27;])])),\n",
       "                                 (&#x27;selector&#x27;,\n",
       "                                  SelectPercentile(percentile=50))])),\n",
       "                (&#x27;classifier&#x27;, LogisticRegression())])</pre></div></div></div><div class=\"sk-serial\"><div class=\"sk-item\"><div class=\"sk-label-container\"><div class=\"sk-label sk-toggleable\"><input class=\"sk-toggleable__control sk-hidden--visually\" id=\"202059c8-8e43-4405-940e-3c7ca1626d65\" type=\"checkbox\" ><label for=\"202059c8-8e43-4405-940e-3c7ca1626d65\" class=\"sk-toggleable__label sk-toggleable__label-arrow\">preprocessor: Pipeline</label><div class=\"sk-toggleable__content\"><pre>Pipeline(steps=[(&#x27;column&#x27;,\n",
       "                 ColumnTransformer(transformers=[(&#x27;num&#x27;,\n",
       "                                                  Pipeline(steps=[(&#x27;imputer&#x27;,\n",
       "                                                                   SimpleImputer(strategy=&#x27;median&#x27;)),\n",
       "                                                                  (&#x27;outlier&#x27;,\n",
       "                                                                   FunctionTransformer(func=&lt;function remove_outlier at 0x000001C9182E8EE0&gt;)),\n",
       "                                                                  (&#x27;scaler&#x27;,\n",
       "                                                                   StandardScaler())]),\n",
       "                                                  [&#x27;group_size&#x27;, &#x27;car_age&#x27;,\n",
       "                                                   &#x27;age_oldest&#x27;, &#x27;age_youngest&#x27;,\n",
       "                                                   &#x27;duration_previous&#x27;,\n",
       "                                                   &#x27;cost&#x27;]),\n",
       "                                                 (&#x27;cat&#x27;,\n",
       "                                                  Pipeline(steps=[(&#x27;imputer&#x27;,\n",
       "                                                                   SimpleImputer(strategy=&#x27;most_frequent&#x27;)),\n",
       "                                                                  (&#x27;encoder&#x27;,\n",
       "                                                                   OneHotEncoder(handle_unknown=&#x27;ignore&#x27;,\n",
       "                                                                                 sparse=False)),\n",
       "                                                                  (&#x27;pca&#x27;,\n",
       "                                                                   MyPCATransformer())]),\n",
       "                                                  [&#x27;day&#x27;, &#x27;homeowner&#x27;,\n",
       "                                                   &#x27;car_value&#x27;, &#x27;risk_factor&#x27;,\n",
       "                                                   &#x27;married_couple&#x27;,\n",
       "                                                   &#x27;C_previous&#x27;, &#x27;state&#x27;,\n",
       "                                                   &#x27;shopping_pt&#x27;])])),\n",
       "                (&#x27;selector&#x27;, SelectPercentile(percentile=50))])</pre></div></div></div><div class=\"sk-serial\"><div class=\"sk-item sk-dashed-wrapped\"><div class=\"sk-label-container\"><div class=\"sk-label sk-toggleable\"><input class=\"sk-toggleable__control sk-hidden--visually\" id=\"f810f63a-1f99-45f5-948c-839ecd3827e6\" type=\"checkbox\" ><label for=\"f810f63a-1f99-45f5-948c-839ecd3827e6\" class=\"sk-toggleable__label sk-toggleable__label-arrow\">column: ColumnTransformer</label><div class=\"sk-toggleable__content\"><pre>ColumnTransformer(transformers=[(&#x27;num&#x27;,\n",
       "                                 Pipeline(steps=[(&#x27;imputer&#x27;,\n",
       "                                                  SimpleImputer(strategy=&#x27;median&#x27;)),\n",
       "                                                 (&#x27;outlier&#x27;,\n",
       "                                                  FunctionTransformer(func=&lt;function remove_outlier at 0x000001C9182E8EE0&gt;)),\n",
       "                                                 (&#x27;scaler&#x27;, StandardScaler())]),\n",
       "                                 [&#x27;group_size&#x27;, &#x27;car_age&#x27;, &#x27;age_oldest&#x27;,\n",
       "                                  &#x27;age_youngest&#x27;, &#x27;duration_previous&#x27;,\n",
       "                                  &#x27;cost&#x27;]),\n",
       "                                (&#x27;cat&#x27;,\n",
       "                                 Pipeline(steps=[(&#x27;imputer&#x27;,\n",
       "                                                  SimpleImputer(strategy=&#x27;most_frequent&#x27;)),\n",
       "                                                 (&#x27;encoder&#x27;,\n",
       "                                                  OneHotEncoder(handle_unknown=&#x27;ignore&#x27;,\n",
       "                                                                sparse=False)),\n",
       "                                                 (&#x27;pca&#x27;, MyPCATransformer())]),\n",
       "                                 [&#x27;day&#x27;, &#x27;homeowner&#x27;, &#x27;car_value&#x27;,\n",
       "                                  &#x27;risk_factor&#x27;, &#x27;married_couple&#x27;, &#x27;C_previous&#x27;,\n",
       "                                  &#x27;state&#x27;, &#x27;shopping_pt&#x27;])])</pre></div></div></div><div class=\"sk-parallel\"><div class=\"sk-parallel-item\"><div class=\"sk-item\"><div class=\"sk-label-container\"><div class=\"sk-label sk-toggleable\"><input class=\"sk-toggleable__control sk-hidden--visually\" id=\"491b2602-abf1-4e96-89c6-b81629da6481\" type=\"checkbox\" ><label for=\"491b2602-abf1-4e96-89c6-b81629da6481\" class=\"sk-toggleable__label sk-toggleable__label-arrow\">num</label><div class=\"sk-toggleable__content\"><pre>[&#x27;group_size&#x27;, &#x27;car_age&#x27;, &#x27;age_oldest&#x27;, &#x27;age_youngest&#x27;, &#x27;duration_previous&#x27;, &#x27;cost&#x27;]</pre></div></div></div><div class=\"sk-serial\"><div class=\"sk-item\"><div class=\"sk-serial\"><div class=\"sk-item\"><div class=\"sk-estimator sk-toggleable\"><input class=\"sk-toggleable__control sk-hidden--visually\" id=\"0b687e1e-cc18-4cbe-9830-161c619c3e8e\" type=\"checkbox\" ><label for=\"0b687e1e-cc18-4cbe-9830-161c619c3e8e\" class=\"sk-toggleable__label sk-toggleable__label-arrow\">SimpleImputer</label><div class=\"sk-toggleable__content\"><pre>SimpleImputer(strategy=&#x27;median&#x27;)</pre></div></div></div><div class=\"sk-item\"><div class=\"sk-estimator sk-toggleable\"><input class=\"sk-toggleable__control sk-hidden--visually\" id=\"65eb0247-cb60-403b-9c28-e5b00c2735a3\" type=\"checkbox\" ><label for=\"65eb0247-cb60-403b-9c28-e5b00c2735a3\" class=\"sk-toggleable__label sk-toggleable__label-arrow\">FunctionTransformer</label><div class=\"sk-toggleable__content\"><pre>FunctionTransformer(func=&lt;function remove_outlier at 0x000001C9182E8EE0&gt;)</pre></div></div></div><div class=\"sk-item\"><div class=\"sk-estimator sk-toggleable\"><input class=\"sk-toggleable__control sk-hidden--visually\" id=\"4c4a65e8-15fa-4f62-8216-7272852066b8\" type=\"checkbox\" ><label for=\"4c4a65e8-15fa-4f62-8216-7272852066b8\" class=\"sk-toggleable__label sk-toggleable__label-arrow\">StandardScaler</label><div class=\"sk-toggleable__content\"><pre>StandardScaler()</pre></div></div></div></div></div></div></div></div><div class=\"sk-parallel-item\"><div class=\"sk-item\"><div class=\"sk-label-container\"><div class=\"sk-label sk-toggleable\"><input class=\"sk-toggleable__control sk-hidden--visually\" id=\"224e5d2d-6c25-412f-968b-eca5ef47ef35\" type=\"checkbox\" ><label for=\"224e5d2d-6c25-412f-968b-eca5ef47ef35\" class=\"sk-toggleable__label sk-toggleable__label-arrow\">cat</label><div class=\"sk-toggleable__content\"><pre>[&#x27;day&#x27;, &#x27;homeowner&#x27;, &#x27;car_value&#x27;, &#x27;risk_factor&#x27;, &#x27;married_couple&#x27;, &#x27;C_previous&#x27;, &#x27;state&#x27;, &#x27;shopping_pt&#x27;]</pre></div></div></div><div class=\"sk-serial\"><div class=\"sk-item\"><div class=\"sk-serial\"><div class=\"sk-item\"><div class=\"sk-estimator sk-toggleable\"><input class=\"sk-toggleable__control sk-hidden--visually\" id=\"1328b4b0-b8bd-40ff-916c-688ddb2a968b\" type=\"checkbox\" ><label for=\"1328b4b0-b8bd-40ff-916c-688ddb2a968b\" class=\"sk-toggleable__label sk-toggleable__label-arrow\">SimpleImputer</label><div class=\"sk-toggleable__content\"><pre>SimpleImputer(strategy=&#x27;most_frequent&#x27;)</pre></div></div></div><div class=\"sk-item\"><div class=\"sk-estimator sk-toggleable\"><input class=\"sk-toggleable__control sk-hidden--visually\" id=\"264b9e2d-f477-479f-9196-70dc39530dc9\" type=\"checkbox\" ><label for=\"264b9e2d-f477-479f-9196-70dc39530dc9\" class=\"sk-toggleable__label sk-toggleable__label-arrow\">OneHotEncoder</label><div class=\"sk-toggleable__content\"><pre>OneHotEncoder(handle_unknown=&#x27;ignore&#x27;, sparse=False)</pre></div></div></div><div class=\"sk-item\"><div class=\"sk-estimator sk-toggleable\"><input class=\"sk-toggleable__control sk-hidden--visually\" id=\"a9ea512c-fd4f-417a-9523-02d765720190\" type=\"checkbox\" ><label for=\"a9ea512c-fd4f-417a-9523-02d765720190\" class=\"sk-toggleable__label sk-toggleable__label-arrow\">MyPCATransformer</label><div class=\"sk-toggleable__content\"><pre>MyPCATransformer()</pre></div></div></div></div></div></div></div></div></div></div><div class=\"sk-item\"><div class=\"sk-estimator sk-toggleable\"><input class=\"sk-toggleable__control sk-hidden--visually\" id=\"c9fa594e-6dd9-43aa-86c2-8c8b6baa1831\" type=\"checkbox\" ><label for=\"c9fa594e-6dd9-43aa-86c2-8c8b6baa1831\" class=\"sk-toggleable__label sk-toggleable__label-arrow\">SelectPercentile</label><div class=\"sk-toggleable__content\"><pre>SelectPercentile(percentile=50)</pre></div></div></div></div></div><div class=\"sk-item\"><div class=\"sk-estimator sk-toggleable\"><input class=\"sk-toggleable__control sk-hidden--visually\" id=\"24eb9aaa-e3a0-4616-abf4-1d2c1329ea50\" type=\"checkbox\" ><label for=\"24eb9aaa-e3a0-4616-abf4-1d2c1329ea50\" class=\"sk-toggleable__label sk-toggleable__label-arrow\">LogisticRegression</label><div class=\"sk-toggleable__content\"><pre>LogisticRegression()</pre></div></div></div></div></div></div></div>"
      ],
      "text/plain": [
       "Pipeline(steps=[('preprocessor',\n",
       "                 Pipeline(steps=[('column',\n",
       "                                  ColumnTransformer(transformers=[('num',\n",
       "                                                                   Pipeline(steps=[('imputer',\n",
       "                                                                                    SimpleImputer(strategy='median')),\n",
       "                                                                                   ('outlier',\n",
       "                                                                                    FunctionTransformer(func=<function remove_outlier at 0x000001C9182E8EE0>)),\n",
       "                                                                                   ('scaler',\n",
       "                                                                                    StandardScaler())]),\n",
       "                                                                   ['group_size',\n",
       "                                                                    'car_age',\n",
       "                                                                    'age_oldest',\n",
       "                                                                    'age_youngest',\n",
       "                                                                    'duration_previous',\n",
       "                                                                    'cost']),\n",
       "                                                                  ('cat',\n",
       "                                                                   Pipeline(steps=[('imputer',\n",
       "                                                                                    SimpleImputer(strategy='most_frequent')),\n",
       "                                                                                   ('encoder',\n",
       "                                                                                    OneHotEncoder(handle_unknown='ignore',\n",
       "                                                                                                  sparse=False)),\n",
       "                                                                                   ('pca',\n",
       "                                                                                    MyPCATransformer())]),\n",
       "                                                                   ['day',\n",
       "                                                                    'homeowner',\n",
       "                                                                    'car_value',\n",
       "                                                                    'risk_factor',\n",
       "                                                                    'married_couple',\n",
       "                                                                    'C_previous',\n",
       "                                                                    'state',\n",
       "                                                                    'shopping_pt'])])),\n",
       "                                 ('selector',\n",
       "                                  SelectPercentile(percentile=50))])),\n",
       "                ('classifier', LogisticRegression())])"
      ]
     },
     "execution_count": 18,
     "metadata": {},
     "output_type": "execute_result"
    }
   ],
   "source": [
    "set_config(display=\"diagram\")  # To view the text pipeline, change to display='text'.\n",
    "model"
   ]
  },
  {
   "cell_type": "markdown",
   "metadata": {},
   "source": [
    "#### 파이프라인을 통한 모형 학습"
   ]
  },
  {
   "cell_type": "code",
   "execution_count": 19,
   "metadata": {},
   "outputs": [
    {
     "name": "stdout",
     "output_type": "stream",
     "text": [
      "객체 생성 완료\n",
      "fitting\n",
      "transform\n",
      "transform\n",
      "model score: 0.841\n"
     ]
    }
   ],
   "source": [
    "model.fit(X_train, y_train)\n",
    "print(\"model score: %.3f\" % roc_auc_score(y_test, model.predict_proba(X_test)[:,1]))"
   ]
  },
  {
   "cell_type": "markdown",
   "metadata": {},
   "source": [
    "#### `파이프라인+Optuna`를 통한 하이퍼파라미터 최적화"
   ]
  },
  {
   "cell_type": "code",
   "execution_count": 20,
   "metadata": {
    "scrolled": true
   },
   "outputs": [
    {
     "name": "stderr",
     "output_type": "stream",
     "text": [
      "\u001b[32m[I 2022-11-04 15:25:00,458]\u001b[0m A new study created in memory with name: no-name-ad896b65-530a-49e5-8e55-e81cffb946ff\u001b[0m\n"
     ]
    },
    {
     "name": "stdout",
     "output_type": "stream",
     "text": [
      "객체 생성 완료\n",
      "객체 생성 완료\n",
      "객체 생성 완료\n",
      "fitting\n",
      "transform\n",
      "transform\n",
      "객체 생성 완료\n",
      "객체 생성 완료\n",
      "fitting\n",
      "transform\n",
      "transform\n",
      "객체 생성 완료\n",
      "객체 생성 완료\n",
      "fitting\n",
      "transform\n",
      "transform\n",
      "객체 생성 완료\n",
      "객체 생성 완료\n",
      "fitting\n",
      "transform\n",
      "transform\n",
      "객체 생성 완료\n",
      "객체 생성 완료\n",
      "fitting\n",
      "transform\n"
     ]
    },
    {
     "name": "stderr",
     "output_type": "stream",
     "text": [
      "\u001b[32m[I 2022-11-04 15:25:15,392]\u001b[0m Trial 0 finished with value: 0.8427228117486727 and parameters: {'preprocessor__column__num__imputer__strategy': 'mean', 'preprocessor__selector__percentile': 70, 'classifier__C': 84.47916547066717}. Best is trial 0 with value: 0.8427228117486727.\u001b[0m\n"
     ]
    },
    {
     "name": "stdout",
     "output_type": "stream",
     "text": [
      "transform\n",
      "객체 생성 완료\n",
      "객체 생성 완료\n",
      "객체 생성 완료\n",
      "fitting\n",
      "transform\n",
      "transform\n",
      "객체 생성 완료\n",
      "객체 생성 완료\n",
      "fitting\n",
      "transform\n",
      "transform\n",
      "객체 생성 완료\n",
      "객체 생성 완료\n",
      "fitting\n",
      "transform\n",
      "transform\n",
      "객체 생성 완료\n",
      "객체 생성 완료\n",
      "fitting\n",
      "transform\n",
      "transform\n",
      "객체 생성 완료\n",
      "객체 생성 완료\n",
      "fitting\n",
      "transform\n"
     ]
    },
    {
     "name": "stderr",
     "output_type": "stream",
     "text": [
      "\u001b[32m[I 2022-11-04 15:25:31,347]\u001b[0m Trial 1 finished with value: 0.8426591422139122 and parameters: {'preprocessor__column__num__imputer__strategy': 'median', 'preprocessor__selector__percentile': 90, 'classifier__C': 82.58701698295371}. Best is trial 0 with value: 0.8427228117486727.\u001b[0m\n"
     ]
    },
    {
     "name": "stdout",
     "output_type": "stream",
     "text": [
      "transform\n",
      "객체 생성 완료\n",
      "객체 생성 완료\n",
      "객체 생성 완료\n",
      "fitting\n",
      "transform\n",
      "transform\n",
      "객체 생성 완료\n",
      "객체 생성 완료\n",
      "fitting\n",
      "transform\n",
      "transform\n",
      "객체 생성 완료\n",
      "객체 생성 완료\n",
      "fitting\n",
      "transform\n",
      "transform\n",
      "객체 생성 완료\n",
      "객체 생성 완료\n",
      "fitting\n",
      "transform\n",
      "transform\n",
      "객체 생성 완료\n",
      "객체 생성 완료\n",
      "fitting\n",
      "transform\n"
     ]
    },
    {
     "name": "stderr",
     "output_type": "stream",
     "text": [
      "\u001b[32m[I 2022-11-04 15:25:47,581]\u001b[0m Trial 2 finished with value: 0.8427546940089862 and parameters: {'preprocessor__column__num__imputer__strategy': 'median', 'preprocessor__selector__percentile': 100, 'classifier__C': 20.928120190497786}. Best is trial 2 with value: 0.8427546940089862.\u001b[0m\n"
     ]
    },
    {
     "name": "stdout",
     "output_type": "stream",
     "text": [
      "transform\n",
      "객체 생성 완료\n",
      "객체 생성 완료\n",
      "객체 생성 완료\n",
      "fitting\n",
      "transform\n",
      "transform\n",
      "객체 생성 완료\n",
      "객체 생성 완료\n",
      "fitting\n",
      "transform\n",
      "transform\n",
      "객체 생성 완료\n",
      "객체 생성 완료\n",
      "fitting\n",
      "transform\n",
      "transform\n",
      "객체 생성 완료\n",
      "객체 생성 완료\n",
      "fitting\n",
      "transform\n",
      "transform\n",
      "객체 생성 완료\n",
      "객체 생성 완료\n",
      "fitting\n",
      "transform\n"
     ]
    },
    {
     "name": "stderr",
     "output_type": "stream",
     "text": [
      "\u001b[32m[I 2022-11-04 15:26:02,220]\u001b[0m Trial 3 finished with value: 0.8426879325879109 and parameters: {'preprocessor__column__num__imputer__strategy': 'mean', 'preprocessor__selector__percentile': 60, 'classifier__C': 97.8625922328899}. Best is trial 2 with value: 0.8427546940089862.\u001b[0m\n"
     ]
    },
    {
     "name": "stdout",
     "output_type": "stream",
     "text": [
      "transform\n",
      "객체 생성 완료\n",
      "객체 생성 완료\n",
      "객체 생성 완료\n",
      "fitting\n",
      "transform\n",
      "transform\n",
      "객체 생성 완료\n",
      "객체 생성 완료\n",
      "fitting\n",
      "transform\n",
      "transform\n",
      "객체 생성 완료\n",
      "객체 생성 완료\n",
      "fitting\n",
      "transform\n",
      "transform\n",
      "객체 생성 완료\n",
      "객체 생성 완료\n",
      "fitting\n",
      "transform\n",
      "transform\n",
      "객체 생성 완료\n",
      "객체 생성 완료\n",
      "fitting\n",
      "transform\n"
     ]
    },
    {
     "name": "stderr",
     "output_type": "stream",
     "text": [
      "\u001b[32m[I 2022-11-04 15:26:17,557]\u001b[0m Trial 4 finished with value: 0.8426529941957505 and parameters: {'preprocessor__column__num__imputer__strategy': 'mean', 'preprocessor__selector__percentile': 90, 'classifier__C': 27.4146339666995}. Best is trial 2 with value: 0.8427546940089862.\u001b[0m\n"
     ]
    },
    {
     "name": "stdout",
     "output_type": "stream",
     "text": [
      "transform\n",
      "객체 생성 완료\n",
      "객체 생성 완료\n",
      "객체 생성 완료\n",
      "fitting\n",
      "transform\n",
      "transform\n",
      "객체 생성 완료\n",
      "객체 생성 완료\n",
      "fitting\n",
      "transform\n",
      "transform\n",
      "객체 생성 완료\n",
      "객체 생성 완료\n",
      "fitting\n",
      "transform\n",
      "transform\n",
      "객체 생성 완료\n",
      "객체 생성 완료\n",
      "fitting\n",
      "transform\n",
      "transform\n",
      "객체 생성 완료\n",
      "객체 생성 완료\n",
      "fitting\n",
      "transform\n"
     ]
    },
    {
     "name": "stderr",
     "output_type": "stream",
     "text": [
      "\u001b[32m[I 2022-11-04 15:26:33,232]\u001b[0m Trial 5 finished with value: 0.8426640677771099 and parameters: {'preprocessor__column__num__imputer__strategy': 'median', 'preprocessor__selector__percentile': 90, 'classifier__C': 33.617833892588656}. Best is trial 2 with value: 0.8427546940089862.\u001b[0m\n"
     ]
    },
    {
     "name": "stdout",
     "output_type": "stream",
     "text": [
      "transform\n",
      "객체 생성 완료\n",
      "객체 생성 완료\n",
      "객체 생성 완료\n",
      "fitting\n",
      "transform\n",
      "transform\n",
      "객체 생성 완료\n",
      "객체 생성 완료\n",
      "fitting\n",
      "transform\n",
      "transform\n",
      "객체 생성 완료\n",
      "객체 생성 완료\n",
      "fitting\n",
      "transform\n",
      "transform\n",
      "객체 생성 완료\n",
      "객체 생성 완료\n",
      "fitting\n",
      "transform\n",
      "transform\n",
      "객체 생성 완료\n",
      "객체 생성 완료\n",
      "fitting\n",
      "transform\n"
     ]
    },
    {
     "name": "stderr",
     "output_type": "stream",
     "text": [
      "\u001b[32m[I 2022-11-04 15:26:47,880]\u001b[0m Trial 6 finished with value: 0.8422824869846315 and parameters: {'preprocessor__column__num__imputer__strategy': 'median', 'preprocessor__selector__percentile': 50, 'classifier__C': 25.250111080949594}. Best is trial 2 with value: 0.8427546940089862.\u001b[0m\n"
     ]
    },
    {
     "name": "stdout",
     "output_type": "stream",
     "text": [
      "transform\n",
      "객체 생성 완료\n",
      "객체 생성 완료\n",
      "객체 생성 완료\n",
      "fitting\n",
      "transform\n",
      "transform\n",
      "객체 생성 완료\n",
      "객체 생성 완료\n",
      "fitting\n",
      "transform\n",
      "transform\n",
      "객체 생성 완료\n",
      "객체 생성 완료\n",
      "fitting\n",
      "transform\n",
      "transform\n",
      "객체 생성 완료\n",
      "객체 생성 완료\n",
      "fitting\n",
      "transform\n",
      "transform\n",
      "객체 생성 완료\n",
      "객체 생성 완료\n",
      "fitting\n",
      "transform\n"
     ]
    },
    {
     "name": "stderr",
     "output_type": "stream",
     "text": [
      "\u001b[32m[I 2022-11-04 15:27:03,249]\u001b[0m Trial 7 finished with value: 0.8426228114642397 and parameters: {'preprocessor__column__num__imputer__strategy': 'mean', 'preprocessor__selector__percentile': 80, 'classifier__C': 60.384415858894926}. Best is trial 2 with value: 0.8427546940089862.\u001b[0m\n"
     ]
    },
    {
     "name": "stdout",
     "output_type": "stream",
     "text": [
      "transform\n",
      "객체 생성 완료\n",
      "객체 생성 완료\n",
      "객체 생성 완료\n",
      "fitting\n",
      "transform\n",
      "transform\n",
      "객체 생성 완료\n",
      "객체 생성 완료\n",
      "fitting\n",
      "transform\n",
      "transform\n",
      "객체 생성 완료\n",
      "객체 생성 완료\n",
      "fitting\n",
      "transform\n",
      "transform\n",
      "객체 생성 완료\n",
      "객체 생성 완료\n",
      "fitting\n",
      "transform\n",
      "transform\n",
      "객체 생성 완료\n",
      "객체 생성 완료\n",
      "fitting\n",
      "transform\n"
     ]
    },
    {
     "name": "stderr",
     "output_type": "stream",
     "text": [
      "\u001b[32m[I 2022-11-04 15:27:17,352]\u001b[0m Trial 8 finished with value: 0.8422755477209989 and parameters: {'preprocessor__column__num__imputer__strategy': 'median', 'preprocessor__selector__percentile': 50, 'classifier__C': 89.04225222857315}. Best is trial 2 with value: 0.8427546940089862.\u001b[0m\n"
     ]
    },
    {
     "name": "stdout",
     "output_type": "stream",
     "text": [
      "transform\n",
      "객체 생성 완료\n",
      "객체 생성 완료\n",
      "객체 생성 완료\n",
      "fitting\n",
      "transform\n",
      "transform\n",
      "객체 생성 완료\n",
      "객체 생성 완료\n",
      "fitting\n",
      "transform\n",
      "transform\n",
      "객체 생성 완료\n",
      "객체 생성 완료\n",
      "fitting\n",
      "transform\n",
      "transform\n",
      "객체 생성 완료\n",
      "객체 생성 완료\n",
      "fitting\n",
      "transform\n",
      "transform\n",
      "객체 생성 완료\n",
      "객체 생성 완료\n",
      "fitting\n",
      "transform\n"
     ]
    },
    {
     "name": "stderr",
     "output_type": "stream",
     "text": [
      "\u001b[32m[I 2022-11-04 15:27:33,051]\u001b[0m Trial 9 finished with value: 0.8427293245482715 and parameters: {'preprocessor__column__num__imputer__strategy': 'mean', 'preprocessor__selector__percentile': 100, 'classifier__C': 57.694380925009284}. Best is trial 2 with value: 0.8427546940089862.\u001b[0m\n"
     ]
    },
    {
     "name": "stdout",
     "output_type": "stream",
     "text": [
      "transform\n",
      "객체 생성 완료\n",
      "객체 생성 완료\n",
      "객체 생성 완료\n",
      "fitting\n",
      "transform\n",
      "transform\n",
      "객체 생성 완료\n",
      "객체 생성 완료\n",
      "fitting\n",
      "transform\n",
      "transform\n",
      "객체 생성 완료\n",
      "객체 생성 완료\n",
      "fitting\n",
      "transform\n",
      "transform\n",
      "객체 생성 완료\n",
      "객체 생성 완료\n",
      "fitting\n",
      "transform\n",
      "transform\n",
      "객체 생성 완료\n",
      "객체 생성 완료\n",
      "fitting\n",
      "transform\n"
     ]
    },
    {
     "name": "stderr",
     "output_type": "stream",
     "text": [
      "\u001b[32m[I 2022-11-04 15:27:48,840]\u001b[0m Trial 10 finished with value: 0.8436816325698281 and parameters: {'preprocessor__column__num__imputer__strategy': 'median', 'preprocessor__selector__percentile': 100, 'classifier__C': 0.16209216634076995}. Best is trial 10 with value: 0.8436816325698281.\u001b[0m\n"
     ]
    },
    {
     "name": "stdout",
     "output_type": "stream",
     "text": [
      "transform\n",
      "객체 생성 완료\n",
      "객체 생성 완료\n",
      "객체 생성 완료\n",
      "fitting\n",
      "transform\n",
      "transform\n",
      "객체 생성 완료\n",
      "객체 생성 완료\n",
      "fitting\n",
      "transform\n",
      "transform\n",
      "객체 생성 완료\n",
      "객체 생성 완료\n",
      "fitting\n",
      "transform\n",
      "transform\n",
      "객체 생성 완료\n",
      "객체 생성 완료\n",
      "fitting\n",
      "transform\n",
      "transform\n",
      "객체 생성 완료\n",
      "객체 생성 완료\n",
      "fitting\n",
      "transform\n"
     ]
    },
    {
     "name": "stderr",
     "output_type": "stream",
     "text": [
      "\u001b[32m[I 2022-11-04 15:28:04,887]\u001b[0m Trial 11 finished with value: 0.842917782245021 and parameters: {'preprocessor__column__num__imputer__strategy': 'median', 'preprocessor__selector__percentile': 100, 'classifier__C': 1.4752694528297232}. Best is trial 10 with value: 0.8436816325698281.\u001b[0m\n"
     ]
    },
    {
     "name": "stdout",
     "output_type": "stream",
     "text": [
      "transform\n",
      "객체 생성 완료\n",
      "객체 생성 완료\n",
      "객체 생성 완료\n",
      "fitting\n",
      "transform\n",
      "transform\n",
      "객체 생성 완료\n",
      "객체 생성 완료\n",
      "fitting\n",
      "transform\n",
      "transform\n",
      "객체 생성 완료\n",
      "객체 생성 완료\n",
      "fitting\n",
      "transform\n",
      "transform\n",
      "객체 생성 완료\n",
      "객체 생성 완료\n",
      "fitting\n",
      "transform\n",
      "transform\n",
      "객체 생성 완료\n",
      "객체 생성 완료\n",
      "fitting\n",
      "transform\n"
     ]
    },
    {
     "name": "stderr",
     "output_type": "stream",
     "text": [
      "\u001b[32m[I 2022-11-04 15:28:20,800]\u001b[0m Trial 12 finished with value: 0.8430007781128838 and parameters: {'preprocessor__column__num__imputer__strategy': 'median', 'preprocessor__selector__percentile': 100, 'classifier__C': 0.9531599168813898}. Best is trial 10 with value: 0.8436816325698281.\u001b[0m\n"
     ]
    },
    {
     "name": "stdout",
     "output_type": "stream",
     "text": [
      "transform\n",
      "객체 생성 완료\n",
      "객체 생성 완료\n",
      "객체 생성 완료\n",
      "fitting\n",
      "transform\n",
      "transform\n",
      "객체 생성 완료\n",
      "객체 생성 완료\n",
      "fitting\n",
      "transform\n",
      "transform\n",
      "객체 생성 완료\n",
      "객체 생성 완료\n",
      "fitting\n",
      "transform\n",
      "transform\n",
      "객체 생성 완료\n",
      "객체 생성 완료\n",
      "fitting\n",
      "transform\n",
      "transform\n",
      "객체 생성 완료\n",
      "객체 생성 완료\n",
      "fitting\n",
      "transform\n"
     ]
    },
    {
     "name": "stderr",
     "output_type": "stream",
     "text": [
      "\u001b[32m[I 2022-11-04 15:28:35,582]\u001b[0m Trial 13 finished with value: 0.8429894744518137 and parameters: {'preprocessor__column__num__imputer__strategy': 'median', 'preprocessor__selector__percentile': 80, 'classifier__C': 0.6270256636639941}. Best is trial 10 with value: 0.8436816325698281.\u001b[0m\n"
     ]
    },
    {
     "name": "stdout",
     "output_type": "stream",
     "text": [
      "transform\n",
      "객체 생성 완료\n",
      "객체 생성 완료\n",
      "객체 생성 완료\n",
      "fitting\n",
      "transform\n",
      "transform\n",
      "객체 생성 완료\n",
      "객체 생성 완료\n",
      "fitting\n",
      "transform\n",
      "transform\n",
      "객체 생성 완료\n",
      "객체 생성 완료\n",
      "fitting\n",
      "transform\n",
      "transform\n",
      "객체 생성 완료\n",
      "객체 생성 완료\n",
      "fitting\n",
      "transform\n",
      "transform\n",
      "객체 생성 완료\n",
      "객체 생성 완료\n",
      "fitting\n",
      "transform\n"
     ]
    },
    {
     "name": "stderr",
     "output_type": "stream",
     "text": [
      "\u001b[32m[I 2022-11-04 15:28:51,557]\u001b[0m Trial 14 finished with value: 0.8427667306215565 and parameters: {'preprocessor__column__num__imputer__strategy': 'median', 'preprocessor__selector__percentile': 100, 'classifier__C': 11.166801403933569}. Best is trial 10 with value: 0.8436816325698281.\u001b[0m\n"
     ]
    },
    {
     "name": "stdout",
     "output_type": "stream",
     "text": [
      "transform\n",
      "객체 생성 완료\n",
      "객체 생성 완료\n",
      "객체 생성 완료\n",
      "fitting\n",
      "transform\n",
      "transform\n",
      "객체 생성 완료\n",
      "객체 생성 완료\n",
      "fitting\n",
      "transform\n",
      "transform\n",
      "객체 생성 완료\n",
      "객체 생성 완료\n",
      "fitting\n",
      "transform\n",
      "transform\n",
      "객체 생성 완료\n",
      "객체 생성 완료\n",
      "fitting\n",
      "transform\n",
      "transform\n",
      "객체 생성 완료\n",
      "객체 생성 완료\n",
      "fitting\n",
      "transform\n"
     ]
    },
    {
     "name": "stderr",
     "output_type": "stream",
     "text": [
      "\u001b[32m[I 2022-11-04 15:29:07,566]\u001b[0m Trial 15 finished with value: 0.8426634056408568 and parameters: {'preprocessor__column__num__imputer__strategy': 'median', 'preprocessor__selector__percentile': 90, 'classifier__C': 38.36648105668739}. Best is trial 10 with value: 0.8436816325698281.\u001b[0m\n"
     ]
    },
    {
     "name": "stdout",
     "output_type": "stream",
     "text": [
      "transform\n",
      "객체 생성 완료\n",
      "객체 생성 완료\n",
      "객체 생성 완료\n",
      "fitting\n",
      "transform\n",
      "transform\n",
      "객체 생성 완료\n",
      "객체 생성 완료\n",
      "fitting\n",
      "transform\n",
      "transform\n",
      "객체 생성 완료\n",
      "객체 생성 완료\n",
      "fitting\n",
      "transform\n",
      "transform\n",
      "객체 생성 완료\n",
      "객체 생성 완료\n",
      "fitting\n",
      "transform\n",
      "transform\n",
      "객체 생성 완료\n",
      "객체 생성 완료\n",
      "fitting\n",
      "transform\n"
     ]
    },
    {
     "name": "stderr",
     "output_type": "stream",
     "text": [
      "\u001b[32m[I 2022-11-04 15:29:23,335]\u001b[0m Trial 16 finished with value: 0.8427571973613517 and parameters: {'preprocessor__column__num__imputer__strategy': 'median', 'preprocessor__selector__percentile': 70, 'classifier__C': 10.965311656168248}. Best is trial 10 with value: 0.8436816325698281.\u001b[0m\n"
     ]
    },
    {
     "name": "stdout",
     "output_type": "stream",
     "text": [
      "transform\n",
      "객체 생성 완료\n",
      "객체 생성 완료\n",
      "객체 생성 완료\n",
      "fitting\n",
      "transform\n",
      "transform\n",
      "객체 생성 완료\n",
      "객체 생성 완료\n",
      "fitting\n",
      "transform\n",
      "transform\n",
      "객체 생성 완료\n",
      "객체 생성 완료\n",
      "fitting\n",
      "transform\n",
      "transform\n",
      "객체 생성 완료\n",
      "객체 생성 완료\n",
      "fitting\n",
      "transform\n",
      "transform\n",
      "객체 생성 완료\n",
      "객체 생성 완료\n",
      "fitting\n",
      "transform\n"
     ]
    },
    {
     "name": "stderr",
     "output_type": "stream",
     "text": [
      "\u001b[32m[I 2022-11-04 15:29:39,043]\u001b[0m Trial 17 finished with value: 0.8426397082104667 and parameters: {'preprocessor__column__num__imputer__strategy': 'median', 'preprocessor__selector__percentile': 80, 'classifier__C': 45.20993428563923}. Best is trial 10 with value: 0.8436816325698281.\u001b[0m\n"
     ]
    },
    {
     "name": "stdout",
     "output_type": "stream",
     "text": [
      "transform\n",
      "객체 생성 완료\n",
      "객체 생성 완료\n",
      "객체 생성 완료\n",
      "fitting\n",
      "transform\n",
      "transform\n",
      "객체 생성 완료\n",
      "객체 생성 완료\n",
      "fitting\n",
      "transform\n",
      "transform\n",
      "객체 생성 완료\n",
      "객체 생성 완료\n",
      "fitting\n",
      "transform\n",
      "transform\n",
      "객체 생성 완료\n",
      "객체 생성 완료\n",
      "fitting\n",
      "transform\n",
      "transform\n",
      "객체 생성 완료\n",
      "객체 생성 완료\n",
      "fitting\n",
      "transform\n"
     ]
    },
    {
     "name": "stderr",
     "output_type": "stream",
     "text": [
      "\u001b[32m[I 2022-11-04 15:29:54,643]\u001b[0m Trial 18 finished with value: 0.8427617691161341 and parameters: {'preprocessor__column__num__imputer__strategy': 'median', 'preprocessor__selector__percentile': 100, 'classifier__C': 13.127870667622197}. Best is trial 10 with value: 0.8436816325698281.\u001b[0m\n"
     ]
    },
    {
     "name": "stdout",
     "output_type": "stream",
     "text": [
      "transform\n",
      "객체 생성 완료\n",
      "객체 생성 완료\n",
      "객체 생성 완료\n",
      "fitting\n",
      "transform\n",
      "transform\n",
      "객체 생성 완료\n",
      "객체 생성 완료\n",
      "fitting\n",
      "transform\n",
      "transform\n",
      "객체 생성 완료\n",
      "객체 생성 완료\n",
      "fitting\n",
      "transform\n",
      "transform\n",
      "객체 생성 완료\n",
      "객체 생성 완료\n",
      "fitting\n",
      "transform\n",
      "transform\n",
      "객체 생성 완료\n",
      "객체 생성 완료\n",
      "fitting\n",
      "transform\n"
     ]
    },
    {
     "name": "stderr",
     "output_type": "stream",
     "text": [
      "\u001b[32m[I 2022-11-04 15:30:10,332]\u001b[0m Trial 19 finished with value: 0.8426713603541325 and parameters: {'preprocessor__column__num__imputer__strategy': 'median', 'preprocessor__selector__percentile': 90, 'classifier__C': 16.5372229623126}. Best is trial 10 with value: 0.8436816325698281.\u001b[0m\n"
     ]
    },
    {
     "name": "stdout",
     "output_type": "stream",
     "text": [
      "transform\n",
      "객체 생성 완료\n",
      "객체 생성 완료\n",
      "fitting\n",
      "transform\n",
      "CPU times: total: 12min 17s\n",
      "Wall time: 5min 13s\n"
     ]
    },
    {
     "data": {
      "text/html": [
       "<style>#sk-514ba2cc-0cc8-46e7-a6c2-260c0f2dd876 {color: black;background-color: white;}#sk-514ba2cc-0cc8-46e7-a6c2-260c0f2dd876 pre{padding: 0;}#sk-514ba2cc-0cc8-46e7-a6c2-260c0f2dd876 div.sk-toggleable {background-color: white;}#sk-514ba2cc-0cc8-46e7-a6c2-260c0f2dd876 label.sk-toggleable__label {cursor: pointer;display: block;width: 100%;margin-bottom: 0;padding: 0.3em;box-sizing: border-box;text-align: center;}#sk-514ba2cc-0cc8-46e7-a6c2-260c0f2dd876 label.sk-toggleable__label-arrow:before {content: \"▸\";float: left;margin-right: 0.25em;color: #696969;}#sk-514ba2cc-0cc8-46e7-a6c2-260c0f2dd876 label.sk-toggleable__label-arrow:hover:before {color: black;}#sk-514ba2cc-0cc8-46e7-a6c2-260c0f2dd876 div.sk-estimator:hover label.sk-toggleable__label-arrow:before {color: black;}#sk-514ba2cc-0cc8-46e7-a6c2-260c0f2dd876 div.sk-toggleable__content {max-height: 0;max-width: 0;overflow: hidden;text-align: left;background-color: #f0f8ff;}#sk-514ba2cc-0cc8-46e7-a6c2-260c0f2dd876 div.sk-toggleable__content pre {margin: 0.2em;color: black;border-radius: 0.25em;background-color: #f0f8ff;}#sk-514ba2cc-0cc8-46e7-a6c2-260c0f2dd876 input.sk-toggleable__control:checked~div.sk-toggleable__content {max-height: 200px;max-width: 100%;overflow: auto;}#sk-514ba2cc-0cc8-46e7-a6c2-260c0f2dd876 input.sk-toggleable__control:checked~label.sk-toggleable__label-arrow:before {content: \"▾\";}#sk-514ba2cc-0cc8-46e7-a6c2-260c0f2dd876 div.sk-estimator input.sk-toggleable__control:checked~label.sk-toggleable__label {background-color: #d4ebff;}#sk-514ba2cc-0cc8-46e7-a6c2-260c0f2dd876 div.sk-label input.sk-toggleable__control:checked~label.sk-toggleable__label {background-color: #d4ebff;}#sk-514ba2cc-0cc8-46e7-a6c2-260c0f2dd876 input.sk-hidden--visually {border: 0;clip: rect(1px 1px 1px 1px);clip: rect(1px, 1px, 1px, 1px);height: 1px;margin: -1px;overflow: hidden;padding: 0;position: absolute;width: 1px;}#sk-514ba2cc-0cc8-46e7-a6c2-260c0f2dd876 div.sk-estimator {font-family: monospace;background-color: #f0f8ff;border: 1px dotted black;border-radius: 0.25em;box-sizing: border-box;margin-bottom: 0.5em;}#sk-514ba2cc-0cc8-46e7-a6c2-260c0f2dd876 div.sk-estimator:hover {background-color: #d4ebff;}#sk-514ba2cc-0cc8-46e7-a6c2-260c0f2dd876 div.sk-parallel-item::after {content: \"\";width: 100%;border-bottom: 1px solid gray;flex-grow: 1;}#sk-514ba2cc-0cc8-46e7-a6c2-260c0f2dd876 div.sk-label:hover label.sk-toggleable__label {background-color: #d4ebff;}#sk-514ba2cc-0cc8-46e7-a6c2-260c0f2dd876 div.sk-serial::before {content: \"\";position: absolute;border-left: 1px solid gray;box-sizing: border-box;top: 2em;bottom: 0;left: 50%;}#sk-514ba2cc-0cc8-46e7-a6c2-260c0f2dd876 div.sk-serial {display: flex;flex-direction: column;align-items: center;background-color: white;padding-right: 0.2em;padding-left: 0.2em;}#sk-514ba2cc-0cc8-46e7-a6c2-260c0f2dd876 div.sk-item {z-index: 1;}#sk-514ba2cc-0cc8-46e7-a6c2-260c0f2dd876 div.sk-parallel {display: flex;align-items: stretch;justify-content: center;background-color: white;}#sk-514ba2cc-0cc8-46e7-a6c2-260c0f2dd876 div.sk-parallel::before {content: \"\";position: absolute;border-left: 1px solid gray;box-sizing: border-box;top: 2em;bottom: 0;left: 50%;}#sk-514ba2cc-0cc8-46e7-a6c2-260c0f2dd876 div.sk-parallel-item {display: flex;flex-direction: column;position: relative;background-color: white;}#sk-514ba2cc-0cc8-46e7-a6c2-260c0f2dd876 div.sk-parallel-item:first-child::after {align-self: flex-end;width: 50%;}#sk-514ba2cc-0cc8-46e7-a6c2-260c0f2dd876 div.sk-parallel-item:last-child::after {align-self: flex-start;width: 50%;}#sk-514ba2cc-0cc8-46e7-a6c2-260c0f2dd876 div.sk-parallel-item:only-child::after {width: 0;}#sk-514ba2cc-0cc8-46e7-a6c2-260c0f2dd876 div.sk-dashed-wrapped {border: 1px dashed gray;margin: 0 0.4em 0.5em 0.4em;box-sizing: border-box;padding-bottom: 0.4em;background-color: white;position: relative;}#sk-514ba2cc-0cc8-46e7-a6c2-260c0f2dd876 div.sk-label label {font-family: monospace;font-weight: bold;background-color: white;display: inline-block;line-height: 1.2em;}#sk-514ba2cc-0cc8-46e7-a6c2-260c0f2dd876 div.sk-label-container {position: relative;z-index: 2;text-align: center;}#sk-514ba2cc-0cc8-46e7-a6c2-260c0f2dd876 div.sk-container {/* jupyter's `normalize.less` sets `[hidden] { display: none; }` but bootstrap.min.css set `[hidden] { display: none !important; }` so we also need the `!important` here to be able to override the default hidden behavior on the sphinx rendered scikit-learn.org. See: https://github.com/scikit-learn/scikit-learn/issues/21755 */display: inline-block !important;position: relative;}#sk-514ba2cc-0cc8-46e7-a6c2-260c0f2dd876 div.sk-text-repr-fallback {display: none;}</style><div id=\"sk-514ba2cc-0cc8-46e7-a6c2-260c0f2dd876\" class=\"sk-top-container\"><div class=\"sk-text-repr-fallback\"><pre>OptunaSearchCV(estimator=Pipeline(steps=[(&#x27;preprocessor&#x27;,\n",
       "                                          Pipeline(steps=[(&#x27;column&#x27;,\n",
       "                                                           ColumnTransformer(transformers=[(&#x27;num&#x27;,\n",
       "                                                                                            Pipeline(steps=[(&#x27;imputer&#x27;,\n",
       "                                                                                                             SimpleImputer(strategy=&#x27;median&#x27;)),\n",
       "                                                                                                            (&#x27;outlier&#x27;,\n",
       "                                                                                                             FunctionTransformer(func=&lt;function remove_outlier at 0x000001C9182E8EE0&gt;)),\n",
       "                                                                                                            (&#x27;scaler&#x27;,\n",
       "                                                                                                             StandardScaler())]),\n",
       "                                                                                            [&#x27;group_size&#x27;,\n",
       "                                                                                             &#x27;car_age&#x27;,\n",
       "                                                                                             &#x27;age_oldest&#x27;,\n",
       "                                                                                             &#x27;age_youngest&#x27;,\n",
       "                                                                                             &#x27;d...\n",
       "               param_distributions={&#x27;classifier__C&#x27;: FloatDistribution(high=100.0, log=False, low=0.01, step=None),\n",
       "                                    &#x27;preprocessor__column__num__imputer__strategy&#x27;: CategoricalDistribution(choices=(&#x27;mean&#x27;, &#x27;median&#x27;)),\n",
       "                                    &#x27;preprocessor__selector__percentile&#x27;: IntDistribution(high=100, log=False, low=50, step=10)},\n",
       "               scoring=&#x27;roc_auc&#x27;,\n",
       "               study=&lt;optuna.study.study.Study object at 0x000001C926F6B610&gt;)</pre><b>Please rerun this cell to show the HTML repr or trust the notebook.</b></div><div class=\"sk-container\" hidden><div class=\"sk-item sk-dashed-wrapped\"><div class=\"sk-label-container\"><div class=\"sk-label sk-toggleable\"><input class=\"sk-toggleable__control sk-hidden--visually\" id=\"8ffd007e-cc8c-4c47-b06c-29da484455b1\" type=\"checkbox\" ><label for=\"8ffd007e-cc8c-4c47-b06c-29da484455b1\" class=\"sk-toggleable__label sk-toggleable__label-arrow\">OptunaSearchCV</label><div class=\"sk-toggleable__content\"><pre>OptunaSearchCV(estimator=Pipeline(steps=[(&#x27;preprocessor&#x27;,\n",
       "                                          Pipeline(steps=[(&#x27;column&#x27;,\n",
       "                                                           ColumnTransformer(transformers=[(&#x27;num&#x27;,\n",
       "                                                                                            Pipeline(steps=[(&#x27;imputer&#x27;,\n",
       "                                                                                                             SimpleImputer(strategy=&#x27;median&#x27;)),\n",
       "                                                                                                            (&#x27;outlier&#x27;,\n",
       "                                                                                                             FunctionTransformer(func=&lt;function remove_outlier at 0x000001C9182E8EE0&gt;)),\n",
       "                                                                                                            (&#x27;scaler&#x27;,\n",
       "                                                                                                             StandardScaler())]),\n",
       "                                                                                            [&#x27;group_size&#x27;,\n",
       "                                                                                             &#x27;car_age&#x27;,\n",
       "                                                                                             &#x27;age_oldest&#x27;,\n",
       "                                                                                             &#x27;age_youngest&#x27;,\n",
       "                                                                                             &#x27;d...\n",
       "               param_distributions={&#x27;classifier__C&#x27;: FloatDistribution(high=100.0, log=False, low=0.01, step=None),\n",
       "                                    &#x27;preprocessor__column__num__imputer__strategy&#x27;: CategoricalDistribution(choices=(&#x27;mean&#x27;, &#x27;median&#x27;)),\n",
       "                                    &#x27;preprocessor__selector__percentile&#x27;: IntDistribution(high=100, log=False, low=50, step=10)},\n",
       "               scoring=&#x27;roc_auc&#x27;,\n",
       "               study=&lt;optuna.study.study.Study object at 0x000001C926F6B610&gt;)</pre></div></div></div><div class=\"sk-parallel\"><div class=\"sk-parallel-item\"><div class=\"sk-item\"><div class=\"sk-serial\"><div class=\"sk-item\"><div class=\"sk-serial\"><div class=\"sk-item\"><div class=\"sk-label-container\"><div class=\"sk-label sk-toggleable\"><input class=\"sk-toggleable__control sk-hidden--visually\" id=\"291db34c-c51b-47da-8381-357ce59b8f40\" type=\"checkbox\" ><label for=\"291db34c-c51b-47da-8381-357ce59b8f40\" class=\"sk-toggleable__label sk-toggleable__label-arrow\">preprocessor: Pipeline</label><div class=\"sk-toggleable__content\"><pre>Pipeline(steps=[(&#x27;column&#x27;,\n",
       "                 ColumnTransformer(transformers=[(&#x27;num&#x27;,\n",
       "                                                  Pipeline(steps=[(&#x27;imputer&#x27;,\n",
       "                                                                   SimpleImputer(strategy=&#x27;median&#x27;)),\n",
       "                                                                  (&#x27;outlier&#x27;,\n",
       "                                                                   FunctionTransformer(func=&lt;function remove_outlier at 0x000001C9182E8EE0&gt;)),\n",
       "                                                                  (&#x27;scaler&#x27;,\n",
       "                                                                   StandardScaler())]),\n",
       "                                                  [&#x27;group_size&#x27;, &#x27;car_age&#x27;,\n",
       "                                                   &#x27;age_oldest&#x27;, &#x27;age_youngest&#x27;,\n",
       "                                                   &#x27;duration_previous&#x27;,\n",
       "                                                   &#x27;cost&#x27;]),\n",
       "                                                 (&#x27;cat&#x27;,\n",
       "                                                  Pipeline(steps=[(&#x27;imputer&#x27;,\n",
       "                                                                   SimpleImputer(strategy=&#x27;most_frequent&#x27;)),\n",
       "                                                                  (&#x27;encoder&#x27;,\n",
       "                                                                   OneHotEncoder(handle_unknown=&#x27;ignore&#x27;,\n",
       "                                                                                 sparse=False)),\n",
       "                                                                  (&#x27;pca&#x27;,\n",
       "                                                                   MyPCATransformer())]),\n",
       "                                                  [&#x27;day&#x27;, &#x27;homeowner&#x27;,\n",
       "                                                   &#x27;car_value&#x27;, &#x27;risk_factor&#x27;,\n",
       "                                                   &#x27;married_couple&#x27;,\n",
       "                                                   &#x27;C_previous&#x27;, &#x27;state&#x27;,\n",
       "                                                   &#x27;shopping_pt&#x27;])])),\n",
       "                (&#x27;selector&#x27;, SelectPercentile(percentile=50))])</pre></div></div></div><div class=\"sk-serial\"><div class=\"sk-item sk-dashed-wrapped\"><div class=\"sk-label-container\"><div class=\"sk-label sk-toggleable\"><input class=\"sk-toggleable__control sk-hidden--visually\" id=\"3e28190f-f2f6-420c-af0e-980e01b2cdc1\" type=\"checkbox\" ><label for=\"3e28190f-f2f6-420c-af0e-980e01b2cdc1\" class=\"sk-toggleable__label sk-toggleable__label-arrow\">column: ColumnTransformer</label><div class=\"sk-toggleable__content\"><pre>ColumnTransformer(transformers=[(&#x27;num&#x27;,\n",
       "                                 Pipeline(steps=[(&#x27;imputer&#x27;,\n",
       "                                                  SimpleImputer(strategy=&#x27;median&#x27;)),\n",
       "                                                 (&#x27;outlier&#x27;,\n",
       "                                                  FunctionTransformer(func=&lt;function remove_outlier at 0x000001C9182E8EE0&gt;)),\n",
       "                                                 (&#x27;scaler&#x27;, StandardScaler())]),\n",
       "                                 [&#x27;group_size&#x27;, &#x27;car_age&#x27;, &#x27;age_oldest&#x27;,\n",
       "                                  &#x27;age_youngest&#x27;, &#x27;duration_previous&#x27;,\n",
       "                                  &#x27;cost&#x27;]),\n",
       "                                (&#x27;cat&#x27;,\n",
       "                                 Pipeline(steps=[(&#x27;imputer&#x27;,\n",
       "                                                  SimpleImputer(strategy=&#x27;most_frequent&#x27;)),\n",
       "                                                 (&#x27;encoder&#x27;,\n",
       "                                                  OneHotEncoder(handle_unknown=&#x27;ignore&#x27;,\n",
       "                                                                sparse=False)),\n",
       "                                                 (&#x27;pca&#x27;, MyPCATransformer())]),\n",
       "                                 [&#x27;day&#x27;, &#x27;homeowner&#x27;, &#x27;car_value&#x27;,\n",
       "                                  &#x27;risk_factor&#x27;, &#x27;married_couple&#x27;, &#x27;C_previous&#x27;,\n",
       "                                  &#x27;state&#x27;, &#x27;shopping_pt&#x27;])])</pre></div></div></div><div class=\"sk-parallel\"><div class=\"sk-parallel-item\"><div class=\"sk-item\"><div class=\"sk-label-container\"><div class=\"sk-label sk-toggleable\"><input class=\"sk-toggleable__control sk-hidden--visually\" id=\"71be876c-e28f-4c37-95d3-25504395748c\" type=\"checkbox\" ><label for=\"71be876c-e28f-4c37-95d3-25504395748c\" class=\"sk-toggleable__label sk-toggleable__label-arrow\">num</label><div class=\"sk-toggleable__content\"><pre>[&#x27;group_size&#x27;, &#x27;car_age&#x27;, &#x27;age_oldest&#x27;, &#x27;age_youngest&#x27;, &#x27;duration_previous&#x27;, &#x27;cost&#x27;]</pre></div></div></div><div class=\"sk-serial\"><div class=\"sk-item\"><div class=\"sk-serial\"><div class=\"sk-item\"><div class=\"sk-estimator sk-toggleable\"><input class=\"sk-toggleable__control sk-hidden--visually\" id=\"e3ec25bc-1a45-4b80-9dbb-e1d084145bc9\" type=\"checkbox\" ><label for=\"e3ec25bc-1a45-4b80-9dbb-e1d084145bc9\" class=\"sk-toggleable__label sk-toggleable__label-arrow\">SimpleImputer</label><div class=\"sk-toggleable__content\"><pre>SimpleImputer(strategy=&#x27;median&#x27;)</pre></div></div></div><div class=\"sk-item\"><div class=\"sk-estimator sk-toggleable\"><input class=\"sk-toggleable__control sk-hidden--visually\" id=\"f346e483-1a55-42af-b6d8-2667e341bf9a\" type=\"checkbox\" ><label for=\"f346e483-1a55-42af-b6d8-2667e341bf9a\" class=\"sk-toggleable__label sk-toggleable__label-arrow\">FunctionTransformer</label><div class=\"sk-toggleable__content\"><pre>FunctionTransformer(func=&lt;function remove_outlier at 0x000001C9182E8EE0&gt;)</pre></div></div></div><div class=\"sk-item\"><div class=\"sk-estimator sk-toggleable\"><input class=\"sk-toggleable__control sk-hidden--visually\" id=\"da7c8e6c-ffa6-4dfa-803c-92dc9a83cc9c\" type=\"checkbox\" ><label for=\"da7c8e6c-ffa6-4dfa-803c-92dc9a83cc9c\" class=\"sk-toggleable__label sk-toggleable__label-arrow\">StandardScaler</label><div class=\"sk-toggleable__content\"><pre>StandardScaler()</pre></div></div></div></div></div></div></div></div><div class=\"sk-parallel-item\"><div class=\"sk-item\"><div class=\"sk-label-container\"><div class=\"sk-label sk-toggleable\"><input class=\"sk-toggleable__control sk-hidden--visually\" id=\"2689ffbf-e3d6-4573-a477-daea59436e30\" type=\"checkbox\" ><label for=\"2689ffbf-e3d6-4573-a477-daea59436e30\" class=\"sk-toggleable__label sk-toggleable__label-arrow\">cat</label><div class=\"sk-toggleable__content\"><pre>[&#x27;day&#x27;, &#x27;homeowner&#x27;, &#x27;car_value&#x27;, &#x27;risk_factor&#x27;, &#x27;married_couple&#x27;, &#x27;C_previous&#x27;, &#x27;state&#x27;, &#x27;shopping_pt&#x27;]</pre></div></div></div><div class=\"sk-serial\"><div class=\"sk-item\"><div class=\"sk-serial\"><div class=\"sk-item\"><div class=\"sk-estimator sk-toggleable\"><input class=\"sk-toggleable__control sk-hidden--visually\" id=\"8c7e9bd8-4cde-4b88-9517-6b0b3c782ad8\" type=\"checkbox\" ><label for=\"8c7e9bd8-4cde-4b88-9517-6b0b3c782ad8\" class=\"sk-toggleable__label sk-toggleable__label-arrow\">SimpleImputer</label><div class=\"sk-toggleable__content\"><pre>SimpleImputer(strategy=&#x27;most_frequent&#x27;)</pre></div></div></div><div class=\"sk-item\"><div class=\"sk-estimator sk-toggleable\"><input class=\"sk-toggleable__control sk-hidden--visually\" id=\"1697bc98-061d-4855-b574-f158af9333cf\" type=\"checkbox\" ><label for=\"1697bc98-061d-4855-b574-f158af9333cf\" class=\"sk-toggleable__label sk-toggleable__label-arrow\">OneHotEncoder</label><div class=\"sk-toggleable__content\"><pre>OneHotEncoder(handle_unknown=&#x27;ignore&#x27;, sparse=False)</pre></div></div></div><div class=\"sk-item\"><div class=\"sk-estimator sk-toggleable\"><input class=\"sk-toggleable__control sk-hidden--visually\" id=\"e6624f49-2cb5-46d5-9bd7-4a45721323c1\" type=\"checkbox\" ><label for=\"e6624f49-2cb5-46d5-9bd7-4a45721323c1\" class=\"sk-toggleable__label sk-toggleable__label-arrow\">MyPCATransformer</label><div class=\"sk-toggleable__content\"><pre>MyPCATransformer()</pre></div></div></div></div></div></div></div></div></div></div><div class=\"sk-item\"><div class=\"sk-estimator sk-toggleable\"><input class=\"sk-toggleable__control sk-hidden--visually\" id=\"124dd4cb-6fc9-4351-b8fc-5822d3245d4b\" type=\"checkbox\" ><label for=\"124dd4cb-6fc9-4351-b8fc-5822d3245d4b\" class=\"sk-toggleable__label sk-toggleable__label-arrow\">SelectPercentile</label><div class=\"sk-toggleable__content\"><pre>SelectPercentile(percentile=50)</pre></div></div></div></div></div><div class=\"sk-item\"><div class=\"sk-estimator sk-toggleable\"><input class=\"sk-toggleable__control sk-hidden--visually\" id=\"809227eb-1fb6-45c8-a6bb-5cff5f326f89\" type=\"checkbox\" ><label for=\"809227eb-1fb6-45c8-a6bb-5cff5f326f89\" class=\"sk-toggleable__label sk-toggleable__label-arrow\">LogisticRegression</label><div class=\"sk-toggleable__content\"><pre>LogisticRegression()</pre></div></div></div></div></div></div></div></div></div></div></div></div>"
      ],
      "text/plain": [
       "OptunaSearchCV(estimator=Pipeline(steps=[('preprocessor',\n",
       "                                          Pipeline(steps=[('column',\n",
       "                                                           ColumnTransformer(transformers=[('num',\n",
       "                                                                                            Pipeline(steps=[('imputer',\n",
       "                                                                                                             SimpleImputer(strategy='median')),\n",
       "                                                                                                            ('outlier',\n",
       "                                                                                                             FunctionTransformer(func=<function remove_outlier at 0x000001C9182E8EE0>)),\n",
       "                                                                                                            ('scaler',\n",
       "                                                                                                             StandardScaler())]),\n",
       "                                                                                            ['group_size',\n",
       "                                                                                             'car_age',\n",
       "                                                                                             'age_oldest',\n",
       "                                                                                             'age_youngest',\n",
       "                                                                                             'd...\n",
       "               param_distributions={'classifier__C': FloatDistribution(high=100.0, log=False, low=0.01, step=None),\n",
       "                                    'preprocessor__column__num__imputer__strategy': CategoricalDistribution(choices=('mean', 'median')),\n",
       "                                    'preprocessor__selector__percentile': IntDistribution(high=100, log=False, low=50, step=10)},\n",
       "               scoring='roc_auc',\n",
       "               study=<optuna.study.study.Study object at 0x000001C926F6B610>)"
      ]
     },
     "execution_count": 20,
     "metadata": {},
     "output_type": "execute_result"
    }
   ],
   "source": [
    "%%time\n",
    "\n",
    "param_distributions = {\n",
    "    \"preprocessor__column__num__imputer__strategy\": optuna.distributions.CategoricalDistribution([\"mean\", \"median\"]), #범주형\n",
    "    \"preprocessor__selector__percentile\": optuna.distributions.IntDistribution(50,100,step=10), #정수형\n",
    "    \"classifier__C\": optuna.distributions.FloatDistribution(0.01, 100), #실수형\n",
    "}\n",
    "\n",
    "optuna_search = optuna.integration.OptunaSearchCV(model, param_distributions, cv=5, scoring='roc_auc', n_trials=20, \n",
    "                                                  study=optuna.create_study(sampler=optuna.samplers.TPESampler(seed=100), direction=\"maximize\"))\n",
    "optuna_search.fit(X_train, y_train)"
   ]
  },
  {
   "cell_type": "code",
   "execution_count": 21,
   "metadata": {},
   "outputs": [
    {
     "name": "stdout",
     "output_type": "stream",
     "text": [
      "Best params: {'preprocessor__column__num__imputer__strategy': 'median', 'preprocessor__selector__percentile': 100, 'classifier__C': 0.16209216634076995}\n",
      "Internal CV score: 0.844\n",
      "transform\n",
      "Test score from grid search: 0.842\n"
     ]
    }
   ],
   "source": [
    "print(f\"Best params: {optuna_search.best_params_}\")\n",
    "print(f\"Internal CV score: {optuna_search.best_score_:.3f}\")\n",
    "print(\"Test score from grid search: %.3f\" % roc_auc_score(y_test, optuna_search.predict_proba(X_test)[:,1]))"
   ]
  },
  {
   "cell_type": "markdown",
   "metadata": {},
   "source": [
    "<font color=\"#CC3D3D\"><p>\n",
    "# End"
   ]
  }
 ],
 "metadata": {
  "kernelspec": {
   "display_name": "Python 3 (ipykernel)",
   "language": "python",
   "name": "python3"
  },
  "language_info": {
   "codemirror_mode": {
    "name": "ipython",
    "version": 3
   },
   "file_extension": ".py",
   "mimetype": "text/x-python",
   "name": "python",
   "nbconvert_exporter": "python",
   "pygments_lexer": "ipython3",
   "version": "3.9.12"
  }
 },
 "nbformat": 4,
 "nbformat_minor": 1
}
